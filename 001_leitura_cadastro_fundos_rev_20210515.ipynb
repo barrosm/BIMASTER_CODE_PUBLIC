{
  "nbformat": 4,
  "nbformat_minor": 0,
  "metadata": {
    "kernelspec": {
      "display_name": "Python 3",
      "language": "python",
      "name": "python3"
    },
    "language_info": {
      "codemirror_mode": {
        "name": "ipython",
        "version": 3
      },
      "file_extension": ".py",
      "mimetype": "text/x-python",
      "name": "python",
      "nbconvert_exporter": "python",
      "pygments_lexer": "ipython3",
      "version": "3.8.6"
    },
    "colab": {
      "name": "001_leitura_cadastro_fundos_rev_20210515.ipynb",
      "provenance": [],
      "collapsed_sections": [],
      "include_colab_link": true
    }
  },
  "cells": [
    {
      "cell_type": "markdown",
      "metadata": {
        "id": "view-in-github",
        "colab_type": "text"
      },
      "source": [
        "<a href=\"https://colab.research.google.com/github/barrosm/BIMASTER_CODE_PUBLIC/blob/main/001_leitura_cadastro_fundos_rev_20210515.ipynb\" target=\"_parent\"><img src=\"https://colab.research.google.com/assets/colab-badge.svg\" alt=\"Open In Colab\"/></a>"
      ]
    },
    {
      "cell_type": "markdown",
      "metadata": {
        "id": "SwXF6EBhIKcI"
      },
      "source": [
        "## Leitura dos arquivos de cadastro de fundos"
      ]
    },
    {
      "cell_type": "markdown",
      "metadata": {
        "id": "P6o5tEhdIKcP"
      },
      "source": [
        "### Date: 06/09/2020"
      ]
    },
    {
      "cell_type": "code",
      "metadata": {
        "id": "kN09rmXCIKcQ"
      },
      "source": [
        "import pandas as pd\n",
        "import numpy as np\n",
        "\n",
        "import os as os\n",
        "import matplotlib.pyplot as plt\n",
        "\n",
        "\n",
        "from datetime import datetime\n",
        "%matplotlib inline\n",
        "\n",
        "import seaborn as sns; \n",
        "sns.set(rc={'figure.figsize':(17,6)})\n",
        "plt.rcParams['axes.labelsize'] = 16\n",
        "plt.rcParams['xtick.labelsize'] = 14\n",
        "plt.rcParams['ytick.labelsize'] = 14\n",
        "\n",
        "from time import perf_counter\n",
        "\n",
        "import pickle"
      ],
      "execution_count": 1,
      "outputs": []
    },
    {
      "cell_type": "code",
      "metadata": {
        "id": "uRWGOvU3IKcR"
      },
      "source": [
        "pd.set_option('max_colwidth', 40)"
      ],
      "execution_count": 2,
      "outputs": []
    },
    {
      "cell_type": "code",
      "metadata": {
        "id": "nZwoXPFZIKcR",
        "colab": {
          "base_uri": "https://localhost:8080/",
          "height": 35
        },
        "outputId": "74005e38-d46f-4517-bcc6-57e88e647352"
      },
      "source": [
        "import os\n",
        "current_dir = os.getcwd()\n",
        "current_dir"
      ],
      "execution_count": 3,
      "outputs": [
        {
          "output_type": "execute_result",
          "data": {
            "application/vnd.google.colaboratory.intrinsic+json": {
              "type": "string"
            },
            "text/plain": [
              "'/content'"
            ]
          },
          "metadata": {
            "tags": []
          },
          "execution_count": 3
        }
      ]
    },
    {
      "cell_type": "code",
      "metadata": {
        "id": "YnF8CbEaIKcS"
      },
      "source": [
        "os.chdir('..')  # vai um nível para cima\n",
        "current_dir = os.getcwd()\n",
        "current_dir = '/home/jovyan/work/@Fund_Eval'\n",
        "current_dir\n",
        "os.makedirs(current_dir, exist_ok = 'TRUE') # Se não existir, cria"
      ],
      "execution_count": 4,
      "outputs": []
    },
    {
      "cell_type": "code",
      "metadata": {
        "id": "tJxiGO9fIKcT",
        "colab": {
          "base_uri": "https://localhost:8080/",
          "height": 35
        },
        "outputId": "15ccbe7b-1fcc-4a42-8289-770a68c1e98c"
      },
      "source": [
        "#path = current_dir + '\\\\CVM\\\\Cadastro\\\\'  #Windows\n",
        "path = current_dir + '/CVM/Cadastro/'     #Linux\n",
        "os.makedirs(path, exist_ok = 'TRUE') # Se não existir, cria\n",
        "path"
      ],
      "execution_count": 5,
      "outputs": [
        {
          "output_type": "execute_result",
          "data": {
            "application/vnd.google.colaboratory.intrinsic+json": {
              "type": "string"
            },
            "text/plain": [
              "'/home/jovyan/work/@Fund_Eval/CVM/Cadastro/'"
            ]
          },
          "metadata": {
            "tags": []
          },
          "execution_count": 5
        }
      ]
    },
    {
      "cell_type": "code",
      "metadata": {
        "id": "x2x2CQgvIKcT"
      },
      "source": [
        "os.chdir(path)"
      ],
      "execution_count": 6,
      "outputs": []
    },
    {
      "cell_type": "code",
      "metadata": {
        "id": "_VYMlZBOIKcT",
        "colab": {
          "base_uri": "https://localhost:8080/",
          "height": 35
        },
        "outputId": "305e693f-ac20-4516-972c-7a283d77c9dd"
      },
      "source": [
        "os.getcwd()"
      ],
      "execution_count": 7,
      "outputs": [
        {
          "output_type": "execute_result",
          "data": {
            "application/vnd.google.colaboratory.intrinsic+json": {
              "type": "string"
            },
            "text/plain": [
              "'/home/jovyan/work/@Fund_Eval/CVM/Cadastro'"
            ]
          },
          "metadata": {
            "tags": []
          },
          "execution_count": 7
        }
      ]
    },
    {
      "cell_type": "code",
      "metadata": {
        "id": "rls1ihxPIKcU"
      },
      "source": [
        "url_address = 'http://dados.cvm.gov.br/dados/FI/CAD/DADOS/inf_cadastral_fi_'"
      ],
      "execution_count": 8,
      "outputs": []
    },
    {
      "cell_type": "code",
      "metadata": {
        "id": "AFRzfiycIKcU"
      },
      "source": [
        "# Select a couple of dates\n",
        "ct = ['20200615', '20200713', '20200803', '20200828']"
      ],
      "execution_count": 9,
      "outputs": []
    },
    {
      "cell_type": "code",
      "metadata": {
        "id": "NXYjc2bPIKcU"
      },
      "source": [
        "file_names = [url_address + i + '.csv' for i in ct]"
      ],
      "execution_count": 10,
      "outputs": []
    },
    {
      "cell_type": "code",
      "metadata": {
        "id": "F_UasL0GIKcU",
        "colab": {
          "base_uri": "https://localhost:8080/"
        },
        "outputId": "bbfa53c7-a368-4413-8608-d90f624c7eb5"
      },
      "source": [
        "file_names"
      ],
      "execution_count": 11,
      "outputs": [
        {
          "output_type": "execute_result",
          "data": {
            "text/plain": [
              "['http://dados.cvm.gov.br/dados/FI/CAD/DADOS/inf_cadastral_fi_20200615.csv',\n",
              " 'http://dados.cvm.gov.br/dados/FI/CAD/DADOS/inf_cadastral_fi_20200713.csv',\n",
              " 'http://dados.cvm.gov.br/dados/FI/CAD/DADOS/inf_cadastral_fi_20200803.csv',\n",
              " 'http://dados.cvm.gov.br/dados/FI/CAD/DADOS/inf_cadastral_fi_20200828.csv']"
            ]
          },
          "metadata": {
            "tags": []
          },
          "execution_count": 11
        }
      ]
    },
    {
      "cell_type": "code",
      "metadata": {
        "id": "B6zf1IwjIKcV"
      },
      "source": [
        "# Cria dataframe vazia\n",
        "df = pd.DataFrame()"
      ],
      "execution_count": 12,
      "outputs": []
    },
    {
      "cell_type": "markdown",
      "metadata": {
        "id": "th2gxRWLIKcV"
      },
      "source": [
        "## Lê arquivos de cadastro selecionados"
      ]
    },
    {
      "cell_type": "code",
      "metadata": {
        "id": "XtdTeF7oIKcV",
        "colab": {
          "base_uri": "https://localhost:8080/"
        },
        "outputId": "178ab661-4810-41cf-a932-24767a0d5ecd"
      },
      "source": [
        "%time\n",
        "time_start = perf_counter()\n",
        "df = pd.concat((pd.read_csv(f, sep = ';', encoding = 'iso8859-1') for f in file_names)) #, index_col=0\n",
        "time_end = perf_counter()\n",
        "elapsed_time = time_end - time_start"
      ],
      "execution_count": 13,
      "outputs": [
        {
          "output_type": "stream",
          "text": [
            "CPU times: user 4 µs, sys: 0 ns, total: 4 µs\n",
            "Wall time: 8.58 µs\n"
          ],
          "name": "stdout"
        }
      ]
    },
    {
      "cell_type": "code",
      "metadata": {
        "id": "arLTWXe-IKcW",
        "colab": {
          "base_uri": "https://localhost:8080/"
        },
        "outputId": "48da8a68-7739-40ce-d22c-256555e7a7eb"
      },
      "source": [
        "print(' **** a leitura dos dados demorou ', round(elapsed_time,2) , ' segundos *****')"
      ],
      "execution_count": 14,
      "outputs": [
        {
          "output_type": "stream",
          "text": [
            " **** a leitura dos dados demorou  14.54  segundos *****\n"
          ],
          "name": "stdout"
        }
      ]
    },
    {
      "cell_type": "code",
      "metadata": {
        "id": "LmlhYQsZIKcW",
        "colab": {
          "base_uri": "https://localhost:8080/"
        },
        "outputId": "8d291505-8736-4dd3-d25f-62dee23c3efa"
      },
      "source": [
        "df.shape"
      ],
      "execution_count": 15,
      "outputs": [
        {
          "output_type": "execute_result",
          "data": {
            "text/plain": [
              "(150373, 36)"
            ]
          },
          "metadata": {
            "tags": []
          },
          "execution_count": 15
        }
      ]
    },
    {
      "cell_type": "markdown",
      "metadata": {
        "id": "9fhf5FNOIKcW"
      },
      "source": [
        "## Número de CNPJs únicos"
      ]
    },
    {
      "cell_type": "code",
      "metadata": {
        "id": "B4S-JXxRIKcW",
        "colab": {
          "base_uri": "https://localhost:8080/"
        },
        "outputId": "a447c67d-2547-44c8-8123-4dac28f0e5b6"
      },
      "source": [
        "df.CNPJ_FUNDO.nunique()"
      ],
      "execution_count": 16,
      "outputs": [
        {
          "output_type": "execute_result",
          "data": {
            "text/plain": [
              "37380"
            ]
          },
          "metadata": {
            "tags": []
          },
          "execution_count": 16
        }
      ]
    },
    {
      "cell_type": "code",
      "metadata": {
        "id": "O45Ih6lyIKcX",
        "colab": {
          "base_uri": "https://localhost:8080/",
          "height": 564
        },
        "outputId": "4b7d9959-0fbc-4c36-c752-62524174cccc"
      },
      "source": [
        "df.head()"
      ],
      "execution_count": 17,
      "outputs": [
        {
          "output_type": "execute_result",
          "data": {
            "text/html": [
              "<div>\n",
              "<style scoped>\n",
              "    .dataframe tbody tr th:only-of-type {\n",
              "        vertical-align: middle;\n",
              "    }\n",
              "\n",
              "    .dataframe tbody tr th {\n",
              "        vertical-align: top;\n",
              "    }\n",
              "\n",
              "    .dataframe thead th {\n",
              "        text-align: right;\n",
              "    }\n",
              "</style>\n",
              "<table border=\"1\" class=\"dataframe\">\n",
              "  <thead>\n",
              "    <tr style=\"text-align: right;\">\n",
              "      <th></th>\n",
              "      <th>CNPJ_FUNDO</th>\n",
              "      <th>DENOM_SOCIAL</th>\n",
              "      <th>DT_REG</th>\n",
              "      <th>DT_CONST</th>\n",
              "      <th>DT_CANCEL</th>\n",
              "      <th>SIT</th>\n",
              "      <th>DT_INI_SIT</th>\n",
              "      <th>DT_INI_ATIV</th>\n",
              "      <th>DT_INI_EXERC</th>\n",
              "      <th>DT_FIM_EXERC</th>\n",
              "      <th>CLASSE</th>\n",
              "      <th>DT_INI_CLASSE</th>\n",
              "      <th>RENTAB_FUNDO</th>\n",
              "      <th>CONDOM</th>\n",
              "      <th>FUNDO_COTAS</th>\n",
              "      <th>FUNDO_EXCLUSIVO</th>\n",
              "      <th>TRIB_LPRAZO</th>\n",
              "      <th>INVEST_QUALIF</th>\n",
              "      <th>TAXA_PERFM</th>\n",
              "      <th>INF_TAXA_PERFM</th>\n",
              "      <th>TAXA_ADM</th>\n",
              "      <th>INF_TAXA_ADM</th>\n",
              "      <th>VL_PATRIM_LIQ</th>\n",
              "      <th>DT_PATRIM_LIQ</th>\n",
              "      <th>DIRETOR</th>\n",
              "      <th>CNPJ_ADMIN</th>\n",
              "      <th>ADMIN</th>\n",
              "      <th>PF_PJ_GESTOR</th>\n",
              "      <th>CPF_CNPJ_GESTOR</th>\n",
              "      <th>GESTOR</th>\n",
              "      <th>CNPJ_AUDITOR</th>\n",
              "      <th>AUDITOR</th>\n",
              "      <th>CNPJ_CUSTODIANTE</th>\n",
              "      <th>CUSTODIANTE</th>\n",
              "      <th>CNPJ_CONTROLADOR</th>\n",
              "      <th>CONTROLADOR</th>\n",
              "    </tr>\n",
              "  </thead>\n",
              "  <tbody>\n",
              "    <tr>\n",
              "      <th>0</th>\n",
              "      <td>36.498.416/0001-29</td>\n",
              "      <td>03 FUNDO DE INVESTIMENTO EM COTAS DE...</td>\n",
              "      <td>2020-04-09</td>\n",
              "      <td>2020-04-09</td>\n",
              "      <td>NaN</td>\n",
              "      <td>EM FUNCIONAMENTO NORMAL</td>\n",
              "      <td>2020-04-27</td>\n",
              "      <td>2020-04-27</td>\n",
              "      <td>2020-04-27</td>\n",
              "      <td>2020-06-30</td>\n",
              "      <td>Fundo Multimercado</td>\n",
              "      <td>2020-04-09</td>\n",
              "      <td>NaN</td>\n",
              "      <td>Aberto</td>\n",
              "      <td>S</td>\n",
              "      <td>N</td>\n",
              "      <td>S</td>\n",
              "      <td>N</td>\n",
              "      <td>15.0</td>\n",
              "      <td>O fundo cobrara 15.00 % do que exced...</td>\n",
              "      <td>1.50</td>\n",
              "      <td>NaN</td>\n",
              "      <td>1.503702e+08</td>\n",
              "      <td>2020-06-10</td>\n",
              "      <td>ALLAN HADID</td>\n",
              "      <td>59.281.253/0001-23</td>\n",
              "      <td>BTG PACTUAL SERVIÇOS FINANCEIROS S/A...</td>\n",
              "      <td>PJ</td>\n",
              "      <td>09.428.261/0001-81</td>\n",
              "      <td>O3 GESTÃO DE RECURSOS LTDA</td>\n",
              "      <td>61.366.936/0001-25</td>\n",
              "      <td>ERNST &amp; YOUNG AUDITORES INDEPENDENTE...</td>\n",
              "      <td>30.306.294/0001-45</td>\n",
              "      <td>BANCO BTG PACTUAL S/A</td>\n",
              "      <td>59.281.253/0001-23</td>\n",
              "      <td>BTG PACTUAL SERVIÇOS FINANCEIROS S/A...</td>\n",
              "    </tr>\n",
              "    <tr>\n",
              "      <th>1</th>\n",
              "      <td>36.729.776/0001-94</td>\n",
              "      <td>03 MASTER FUNDO DE INVESTIMENTO EM A...</td>\n",
              "      <td>2020-04-08</td>\n",
              "      <td>2020-04-08</td>\n",
              "      <td>NaN</td>\n",
              "      <td>FASE PRÉ-OPERACIONAL</td>\n",
              "      <td>2020-04-08</td>\n",
              "      <td>NaN</td>\n",
              "      <td>NaN</td>\n",
              "      <td>NaN</td>\n",
              "      <td>Fundo de Ações</td>\n",
              "      <td>2020-04-08</td>\n",
              "      <td>NaN</td>\n",
              "      <td>Aberto</td>\n",
              "      <td>N</td>\n",
              "      <td>N</td>\n",
              "      <td>NaN</td>\n",
              "      <td>N</td>\n",
              "      <td>0.0</td>\n",
              "      <td>NaN</td>\n",
              "      <td>0.05</td>\n",
              "      <td>NaN</td>\n",
              "      <td>NaN</td>\n",
              "      <td>NaN</td>\n",
              "      <td>ALLAN HADID</td>\n",
              "      <td>59.281.253/0001-23</td>\n",
              "      <td>BTG PACTUAL SERVIÇOS FINANCEIROS S/A...</td>\n",
              "      <td>PJ</td>\n",
              "      <td>09.428.261/0001-81</td>\n",
              "      <td>O3 GESTÃO DE RECURSOS LTDA</td>\n",
              "      <td>61.366.936/0001-25</td>\n",
              "      <td>ERNST &amp; YOUNG AUDITORES INDEPENDENTE...</td>\n",
              "      <td>30.306.294/0001-45</td>\n",
              "      <td>BANCO BTG PACTUAL S/A</td>\n",
              "      <td>59.281.253/0001-23</td>\n",
              "      <td>BTG PACTUAL SERVIÇOS FINANCEIROS S/A...</td>\n",
              "    </tr>\n",
              "    <tr>\n",
              "      <th>2</th>\n",
              "      <td>36.499.643/0001-79</td>\n",
              "      <td>03 MASTER FUNDO DE INVESTIMENTO MULT...</td>\n",
              "      <td>2020-04-09</td>\n",
              "      <td>2020-04-09</td>\n",
              "      <td>NaN</td>\n",
              "      <td>EM FUNCIONAMENTO NORMAL</td>\n",
              "      <td>2020-04-27</td>\n",
              "      <td>2020-04-27</td>\n",
              "      <td>2020-04-27</td>\n",
              "      <td>2020-06-30</td>\n",
              "      <td>Fundo Multimercado</td>\n",
              "      <td>2020-04-09</td>\n",
              "      <td>NaN</td>\n",
              "      <td>Aberto</td>\n",
              "      <td>N</td>\n",
              "      <td>N</td>\n",
              "      <td>S</td>\n",
              "      <td>N</td>\n",
              "      <td>0.0</td>\n",
              "      <td>NaN</td>\n",
              "      <td>0.05</td>\n",
              "      <td>NaN</td>\n",
              "      <td>1.503109e+08</td>\n",
              "      <td>2020-06-10</td>\n",
              "      <td>ALLAN HADID</td>\n",
              "      <td>59.281.253/0001-23</td>\n",
              "      <td>BTG PACTUAL SERVIÇOS FINANCEIROS S/A...</td>\n",
              "      <td>PJ</td>\n",
              "      <td>09.428.261/0001-81</td>\n",
              "      <td>O3 GESTÃO DE RECURSOS LTDA</td>\n",
              "      <td>61.366.936/0001-25</td>\n",
              "      <td>ERNST &amp; YOUNG AUDITORES INDEPENDENTE...</td>\n",
              "      <td>30.306.294/0001-45</td>\n",
              "      <td>BANCO BTG PACTUAL S/A</td>\n",
              "      <td>59.281.253/0001-23</td>\n",
              "      <td>BTG PACTUAL SERVIÇOS FINANCEIROS S/A...</td>\n",
              "    </tr>\n",
              "    <tr>\n",
              "      <th>3</th>\n",
              "      <td>36.017.639/0001-27</td>\n",
              "      <td>051 7010 FUNDO DE INVESTIMENTO EM CO...</td>\n",
              "      <td>2020-06-05</td>\n",
              "      <td>2020-01-06</td>\n",
              "      <td>NaN</td>\n",
              "      <td>FASE PRÉ-OPERACIONAL</td>\n",
              "      <td>2020-01-06</td>\n",
              "      <td>NaN</td>\n",
              "      <td>NaN</td>\n",
              "      <td>NaN</td>\n",
              "      <td>Fundo Multimercado</td>\n",
              "      <td>2020-01-06</td>\n",
              "      <td>DI de um dia</td>\n",
              "      <td>Fechado</td>\n",
              "      <td>S</td>\n",
              "      <td>N</td>\n",
              "      <td>S</td>\n",
              "      <td>S</td>\n",
              "      <td>20.0</td>\n",
              "      <td>NaN</td>\n",
              "      <td>0.40</td>\n",
              "      <td>NaN</td>\n",
              "      <td>NaN</td>\n",
              "      <td>NaN</td>\n",
              "      <td>MARCELO VIEIRA FRANCISCO</td>\n",
              "      <td>62.318.407/0001-19</td>\n",
              "      <td>SANTANDER CACEIS BRASIL DISTRIBUIDOR...</td>\n",
              "      <td>PJ</td>\n",
              "      <td>30.193.705/0001-33</td>\n",
              "      <td>ZERO CINCO UM CAPITAL GESTÃO DE RECU...</td>\n",
              "      <td>61.366.936/0001-25</td>\n",
              "      <td>ERNST &amp; YOUNG AUDITORES INDEPENDENTE...</td>\n",
              "      <td>62.318.407/0001-19</td>\n",
              "      <td>SANTANDER CACEIS BRASIL DISTRIBUIDOR...</td>\n",
              "      <td>62.318.407/0001-19</td>\n",
              "      <td>SANTANDER CACEIS BRASIL DISTRIBUIDOR...</td>\n",
              "    </tr>\n",
              "    <tr>\n",
              "      <th>4</th>\n",
              "      <td>36.016.411/0001-12</td>\n",
              "      <td>051 ALLOCATION FUNDO EM COTAS DE FUN...</td>\n",
              "      <td>2020-04-03</td>\n",
              "      <td>2020-04-02</td>\n",
              "      <td>NaN</td>\n",
              "      <td>FASE PRÉ-OPERACIONAL</td>\n",
              "      <td>2020-04-02</td>\n",
              "      <td>NaN</td>\n",
              "      <td>NaN</td>\n",
              "      <td>NaN</td>\n",
              "      <td>Fundo Multimercado</td>\n",
              "      <td>2020-04-02</td>\n",
              "      <td>NaN</td>\n",
              "      <td>Aberto</td>\n",
              "      <td>S</td>\n",
              "      <td>N</td>\n",
              "      <td>S</td>\n",
              "      <td>S</td>\n",
              "      <td>10.0</td>\n",
              "      <td>O fundo cobrara 10.00 % do que exced...</td>\n",
              "      <td>0.10</td>\n",
              "      <td>NaN</td>\n",
              "      <td>NaN</td>\n",
              "      <td>NaN</td>\n",
              "      <td>ALLAN HADID</td>\n",
              "      <td>59.281.253/0001-23</td>\n",
              "      <td>BTG PACTUAL SERVIÇOS FINANCEIROS S/A...</td>\n",
              "      <td>PJ</td>\n",
              "      <td>30.193.705/0001-33</td>\n",
              "      <td>ZERO CINCO UM CAPITAL GESTÃO DE RECU...</td>\n",
              "      <td>61.366.936/0001-25</td>\n",
              "      <td>ERNST &amp; YOUNG AUDITORES INDEPENDENTE...</td>\n",
              "      <td>30.306.294/0001-45</td>\n",
              "      <td>BANCO BTG PACTUAL S/A</td>\n",
              "      <td>59.281.253/0001-23</td>\n",
              "      <td>BTG PACTUAL SERVIÇOS FINANCEIROS S/A...</td>\n",
              "    </tr>\n",
              "  </tbody>\n",
              "</table>\n",
              "</div>"
            ],
            "text/plain": [
              "           CNPJ_FUNDO  ...                              CONTROLADOR\n",
              "0  36.498.416/0001-29  ...  BTG PACTUAL SERVIÇOS FINANCEIROS S/A...\n",
              "1  36.729.776/0001-94  ...  BTG PACTUAL SERVIÇOS FINANCEIROS S/A...\n",
              "2  36.499.643/0001-79  ...  BTG PACTUAL SERVIÇOS FINANCEIROS S/A...\n",
              "3  36.017.639/0001-27  ...  SANTANDER CACEIS BRASIL DISTRIBUIDOR...\n",
              "4  36.016.411/0001-12  ...  BTG PACTUAL SERVIÇOS FINANCEIROS S/A...\n",
              "\n",
              "[5 rows x 36 columns]"
            ]
          },
          "metadata": {
            "tags": []
          },
          "execution_count": 17
        }
      ]
    },
    {
      "cell_type": "markdown",
      "metadata": {
        "id": "rezVSOuHIKcX"
      },
      "source": [
        "## Jogando fora os duplicados, mantendo o primeiro da lista, que deve ser o mais recente"
      ]
    },
    {
      "cell_type": "code",
      "metadata": {
        "id": "GPSHcHufIKcX"
      },
      "source": [
        "df2 = df.drop_duplicates(subset = 'CNPJ_FUNDO', keep = 'first')"
      ],
      "execution_count": 18,
      "outputs": []
    },
    {
      "cell_type": "code",
      "metadata": {
        "id": "xtzfYIb2IKcX",
        "colab": {
          "base_uri": "https://localhost:8080/"
        },
        "outputId": "111808c2-ea97-4af8-ae12-3262b82c4fbc"
      },
      "source": [
        "df2.shape"
      ],
      "execution_count": 19,
      "outputs": [
        {
          "output_type": "execute_result",
          "data": {
            "text/plain": [
              "(37380, 36)"
            ]
          },
          "metadata": {
            "tags": []
          },
          "execution_count": 19
        }
      ]
    },
    {
      "cell_type": "code",
      "metadata": {
        "id": "Wd3zk2UZIKcY"
      },
      "source": [
        "df2 = df2.sort_values('CNPJ_FUNDO',axis = 0, ascending = True, na_position ='first')"
      ],
      "execution_count": 20,
      "outputs": []
    },
    {
      "cell_type": "code",
      "metadata": {
        "id": "4-BWiJR4IKcY",
        "colab": {
          "base_uri": "https://localhost:8080/",
          "height": 529
        },
        "outputId": "437d1e5a-ab10-4a68-9522-4a404de37177"
      },
      "source": [
        "df2.head()"
      ],
      "execution_count": 21,
      "outputs": [
        {
          "output_type": "execute_result",
          "data": {
            "text/html": [
              "<div>\n",
              "<style scoped>\n",
              "    .dataframe tbody tr th:only-of-type {\n",
              "        vertical-align: middle;\n",
              "    }\n",
              "\n",
              "    .dataframe tbody tr th {\n",
              "        vertical-align: top;\n",
              "    }\n",
              "\n",
              "    .dataframe thead th {\n",
              "        text-align: right;\n",
              "    }\n",
              "</style>\n",
              "<table border=\"1\" class=\"dataframe\">\n",
              "  <thead>\n",
              "    <tr style=\"text-align: right;\">\n",
              "      <th></th>\n",
              "      <th>CNPJ_FUNDO</th>\n",
              "      <th>DENOM_SOCIAL</th>\n",
              "      <th>DT_REG</th>\n",
              "      <th>DT_CONST</th>\n",
              "      <th>DT_CANCEL</th>\n",
              "      <th>SIT</th>\n",
              "      <th>DT_INI_SIT</th>\n",
              "      <th>DT_INI_ATIV</th>\n",
              "      <th>DT_INI_EXERC</th>\n",
              "      <th>DT_FIM_EXERC</th>\n",
              "      <th>CLASSE</th>\n",
              "      <th>DT_INI_CLASSE</th>\n",
              "      <th>RENTAB_FUNDO</th>\n",
              "      <th>CONDOM</th>\n",
              "      <th>FUNDO_COTAS</th>\n",
              "      <th>FUNDO_EXCLUSIVO</th>\n",
              "      <th>TRIB_LPRAZO</th>\n",
              "      <th>INVEST_QUALIF</th>\n",
              "      <th>TAXA_PERFM</th>\n",
              "      <th>INF_TAXA_PERFM</th>\n",
              "      <th>TAXA_ADM</th>\n",
              "      <th>INF_TAXA_ADM</th>\n",
              "      <th>VL_PATRIM_LIQ</th>\n",
              "      <th>DT_PATRIM_LIQ</th>\n",
              "      <th>DIRETOR</th>\n",
              "      <th>CNPJ_ADMIN</th>\n",
              "      <th>ADMIN</th>\n",
              "      <th>PF_PJ_GESTOR</th>\n",
              "      <th>CPF_CNPJ_GESTOR</th>\n",
              "      <th>GESTOR</th>\n",
              "      <th>CNPJ_AUDITOR</th>\n",
              "      <th>AUDITOR</th>\n",
              "      <th>CNPJ_CUSTODIANTE</th>\n",
              "      <th>CUSTODIANTE</th>\n",
              "      <th>CNPJ_CONTROLADOR</th>\n",
              "      <th>CONTROLADOR</th>\n",
              "    </tr>\n",
              "  </thead>\n",
              "  <tbody>\n",
              "    <tr>\n",
              "      <th>9384</th>\n",
              "      <td>00.000.432/0001-00</td>\n",
              "      <td>COPESUL  - FUNDO DE INVESTIMENTO MUL...</td>\n",
              "      <td>2005-03-31</td>\n",
              "      <td>1994-09-26</td>\n",
              "      <td>2008-07-18</td>\n",
              "      <td>CANCELADA</td>\n",
              "      <td>2008-07-18</td>\n",
              "      <td>2001-05-02</td>\n",
              "      <td>2008-01-01</td>\n",
              "      <td>2008-12-31</td>\n",
              "      <td>Fundo Multimercado</td>\n",
              "      <td>2005-03-31</td>\n",
              "      <td>OUTROS</td>\n",
              "      <td>Aberto</td>\n",
              "      <td>N</td>\n",
              "      <td>S</td>\n",
              "      <td>N</td>\n",
              "      <td>S</td>\n",
              "      <td>NaN</td>\n",
              "      <td>NaN</td>\n",
              "      <td>NaN</td>\n",
              "      <td>0,05</td>\n",
              "      <td>0.0</td>\n",
              "      <td>2008-08-06</td>\n",
              "      <td>NaN</td>\n",
              "      <td>NaN</td>\n",
              "      <td>NaN</td>\n",
              "      <td>NaN</td>\n",
              "      <td>NaN</td>\n",
              "      <td>NaN</td>\n",
              "      <td>NaN</td>\n",
              "      <td>NaN</td>\n",
              "      <td>NaN</td>\n",
              "      <td>NaN</td>\n",
              "      <td>NaN</td>\n",
              "      <td>NaN</td>\n",
              "    </tr>\n",
              "    <tr>\n",
              "      <th>29228</th>\n",
              "      <td>00.000.744/0001-06</td>\n",
              "      <td>REAL FUNDO DE INVESTIMENTO CURTO PRA...</td>\n",
              "      <td>2005-01-13</td>\n",
              "      <td>1994-05-23</td>\n",
              "      <td>2006-06-30</td>\n",
              "      <td>CANCELADA</td>\n",
              "      <td>2006-06-30</td>\n",
              "      <td>1994-05-23</td>\n",
              "      <td>2006-01-01</td>\n",
              "      <td>2006-12-31</td>\n",
              "      <td>Fundo de Curto Prazo</td>\n",
              "      <td>2005-01-01</td>\n",
              "      <td>DI de um dia</td>\n",
              "      <td>Aberto</td>\n",
              "      <td>N</td>\n",
              "      <td>N</td>\n",
              "      <td>N</td>\n",
              "      <td>N</td>\n",
              "      <td>NaN</td>\n",
              "      <td>NaN</td>\n",
              "      <td>NaN</td>\n",
              "      <td>NaN</td>\n",
              "      <td>0.0</td>\n",
              "      <td>2006-08-03</td>\n",
              "      <td>NaN</td>\n",
              "      <td>NaN</td>\n",
              "      <td>NaN</td>\n",
              "      <td>NaN</td>\n",
              "      <td>NaN</td>\n",
              "      <td>NaN</td>\n",
              "      <td>NaN</td>\n",
              "      <td>NaN</td>\n",
              "      <td>NaN</td>\n",
              "      <td>NaN</td>\n",
              "      <td>NaN</td>\n",
              "      <td>NaN</td>\n",
              "    </tr>\n",
              "    <tr>\n",
              "      <th>989</th>\n",
              "      <td>00.000.746/0001-03</td>\n",
              "      <td>ALFA DINÂMICO - FUNDO DE INVESTIMENT...</td>\n",
              "      <td>2004-12-09</td>\n",
              "      <td>1994-05-19</td>\n",
              "      <td>2016-09-26</td>\n",
              "      <td>CANCELADA</td>\n",
              "      <td>2016-09-26</td>\n",
              "      <td>1994-05-20</td>\n",
              "      <td>2015-10-01</td>\n",
              "      <td>2016-09-30</td>\n",
              "      <td>Fundo de Ações</td>\n",
              "      <td>2004-11-29</td>\n",
              "      <td>Ibovespa</td>\n",
              "      <td>Aberto</td>\n",
              "      <td>S</td>\n",
              "      <td>N</td>\n",
              "      <td>NaN</td>\n",
              "      <td>N</td>\n",
              "      <td>NaN</td>\n",
              "      <td>NaN</td>\n",
              "      <td>4.5</td>\n",
              "      <td>NaN</td>\n",
              "      <td>0.0</td>\n",
              "      <td>2016-09-26</td>\n",
              "      <td>MARCELO MORATA VIDEIRA</td>\n",
              "      <td>60.770.336/0001-65</td>\n",
              "      <td>BANCO ALFA DE INVESTIMENTO SA</td>\n",
              "      <td>PJ</td>\n",
              "      <td>60.770.336/0001-65</td>\n",
              "      <td>BANCO ALFA DE INVESTIMENTO SA</td>\n",
              "      <td>49.928.567/0001-11</td>\n",
              "      <td>DELOITTE TOUCHE TOHMATSU AUDITORES I...</td>\n",
              "      <td>60.746.948/0001-12</td>\n",
              "      <td>BANCO BRADESCO S.A.</td>\n",
              "      <td>60.746.948/0001-12</td>\n",
              "      <td>BANCO BRADESCO S.A.</td>\n",
              "    </tr>\n",
              "    <tr>\n",
              "      <th>12993</th>\n",
              "      <td>00.000.756/0001-30</td>\n",
              "      <td>FAC ITAÚ RENDA FIXA - FUNDO DE INVES...</td>\n",
              "      <td>2005-03-21</td>\n",
              "      <td>1994-05-04</td>\n",
              "      <td>2007-01-29</td>\n",
              "      <td>CANCELADA</td>\n",
              "      <td>2007-01-29</td>\n",
              "      <td>1994-05-13</td>\n",
              "      <td>2006-05-01</td>\n",
              "      <td>2007-04-30</td>\n",
              "      <td>Fundo de Curto Prazo</td>\n",
              "      <td>2007-01-29</td>\n",
              "      <td>DI de um dia</td>\n",
              "      <td>Aberto</td>\n",
              "      <td>S</td>\n",
              "      <td>N</td>\n",
              "      <td>S</td>\n",
              "      <td>N</td>\n",
              "      <td>NaN</td>\n",
              "      <td>NaN</td>\n",
              "      <td>NaN</td>\n",
              "      <td>NaN</td>\n",
              "      <td>0.0</td>\n",
              "      <td>2007-02-01</td>\n",
              "      <td>PAULO EIKIEVICIUS CORCHAKI</td>\n",
              "      <td>17.192.451/0001-70</td>\n",
              "      <td>BANCO ITAUCARD S.A.</td>\n",
              "      <td>PJ</td>\n",
              "      <td>60.701.190/0001-04</td>\n",
              "      <td>ITAU UNIBANCO S.A.</td>\n",
              "      <td>49.928.567/0001-11</td>\n",
              "      <td>DELOITTE TOUCHE TOHMATSU AUDITORES I...</td>\n",
              "      <td>60.701.190/0001-04</td>\n",
              "      <td>ITAU UNIBANCO S.A.</td>\n",
              "      <td>60.701.190/0001-04</td>\n",
              "      <td>ITAU UNIBANCO S.A.</td>\n",
              "    </tr>\n",
              "    <tr>\n",
              "      <th>31112</th>\n",
              "      <td>00.000.777/0001-56</td>\n",
              "      <td>SANTANDER FUNDO DE INVESTIMENTO EM C...</td>\n",
              "      <td>2005-04-14</td>\n",
              "      <td>1994-06-07</td>\n",
              "      <td>2013-06-21</td>\n",
              "      <td>CANCELADA</td>\n",
              "      <td>2013-06-21</td>\n",
              "      <td>1994-06-07</td>\n",
              "      <td>2012-08-01</td>\n",
              "      <td>2013-07-31</td>\n",
              "      <td>Fundo de Renda Fixa</td>\n",
              "      <td>2005-03-31</td>\n",
              "      <td>DI de um dia</td>\n",
              "      <td>Aberto</td>\n",
              "      <td>S</td>\n",
              "      <td>N</td>\n",
              "      <td>S</td>\n",
              "      <td>N</td>\n",
              "      <td>NaN</td>\n",
              "      <td>NaN</td>\n",
              "      <td>4.0</td>\n",
              "      <td>NaN</td>\n",
              "      <td>0.0</td>\n",
              "      <td>2013-07-04</td>\n",
              "      <td>LUCIANE RIBEIRO</td>\n",
              "      <td>90.400.888/0001-42</td>\n",
              "      <td>BANCO SANTANDER (BRASIL) S.A.</td>\n",
              "      <td>PJ</td>\n",
              "      <td>10.977.742/0001-25</td>\n",
              "      <td>SANTANDER BRASIL ASSET MANAGEMENT DI...</td>\n",
              "      <td>49.928.567/0001-11</td>\n",
              "      <td>DELOITTE TOUCHE TOHMATSU AUDITORES I...</td>\n",
              "      <td>90.400.888/0001-42</td>\n",
              "      <td>BANCO SANTANDER (BRASIL) S.A.</td>\n",
              "      <td>90.400.888/0001-42</td>\n",
              "      <td>BANCO SANTANDER (BRASIL) S.A.</td>\n",
              "    </tr>\n",
              "  </tbody>\n",
              "</table>\n",
              "</div>"
            ],
            "text/plain": [
              "               CNPJ_FUNDO  ...                    CONTROLADOR\n",
              "9384   00.000.432/0001-00  ...                            NaN\n",
              "29228  00.000.744/0001-06  ...                            NaN\n",
              "989    00.000.746/0001-03  ...            BANCO BRADESCO S.A.\n",
              "12993  00.000.756/0001-30  ...             ITAU UNIBANCO S.A.\n",
              "31112  00.000.777/0001-56  ...  BANCO SANTANDER (BRASIL) S.A.\n",
              "\n",
              "[5 rows x 36 columns]"
            ]
          },
          "metadata": {
            "tags": []
          },
          "execution_count": 21
        }
      ]
    },
    {
      "cell_type": "code",
      "metadata": {
        "id": "chGLuZFHIKcY"
      },
      "source": [
        "df2 = df2.reset_index(level=None, drop=True, inplace=False, col_level=0)"
      ],
      "execution_count": 22,
      "outputs": []
    },
    {
      "cell_type": "code",
      "metadata": {
        "id": "DEiocTOXIKcY",
        "colab": {
          "base_uri": "https://localhost:8080/",
          "height": 331
        },
        "outputId": "d6f8e8da-cf41-4377-c113-322a7f08f994"
      },
      "source": [
        "df2.head(3)"
      ],
      "execution_count": 23,
      "outputs": [
        {
          "output_type": "execute_result",
          "data": {
            "text/html": [
              "<div>\n",
              "<style scoped>\n",
              "    .dataframe tbody tr th:only-of-type {\n",
              "        vertical-align: middle;\n",
              "    }\n",
              "\n",
              "    .dataframe tbody tr th {\n",
              "        vertical-align: top;\n",
              "    }\n",
              "\n",
              "    .dataframe thead th {\n",
              "        text-align: right;\n",
              "    }\n",
              "</style>\n",
              "<table border=\"1\" class=\"dataframe\">\n",
              "  <thead>\n",
              "    <tr style=\"text-align: right;\">\n",
              "      <th></th>\n",
              "      <th>CNPJ_FUNDO</th>\n",
              "      <th>DENOM_SOCIAL</th>\n",
              "      <th>DT_REG</th>\n",
              "      <th>DT_CONST</th>\n",
              "      <th>DT_CANCEL</th>\n",
              "      <th>SIT</th>\n",
              "      <th>DT_INI_SIT</th>\n",
              "      <th>DT_INI_ATIV</th>\n",
              "      <th>DT_INI_EXERC</th>\n",
              "      <th>DT_FIM_EXERC</th>\n",
              "      <th>CLASSE</th>\n",
              "      <th>DT_INI_CLASSE</th>\n",
              "      <th>RENTAB_FUNDO</th>\n",
              "      <th>CONDOM</th>\n",
              "      <th>FUNDO_COTAS</th>\n",
              "      <th>FUNDO_EXCLUSIVO</th>\n",
              "      <th>TRIB_LPRAZO</th>\n",
              "      <th>INVEST_QUALIF</th>\n",
              "      <th>TAXA_PERFM</th>\n",
              "      <th>INF_TAXA_PERFM</th>\n",
              "      <th>TAXA_ADM</th>\n",
              "      <th>INF_TAXA_ADM</th>\n",
              "      <th>VL_PATRIM_LIQ</th>\n",
              "      <th>DT_PATRIM_LIQ</th>\n",
              "      <th>DIRETOR</th>\n",
              "      <th>CNPJ_ADMIN</th>\n",
              "      <th>ADMIN</th>\n",
              "      <th>PF_PJ_GESTOR</th>\n",
              "      <th>CPF_CNPJ_GESTOR</th>\n",
              "      <th>GESTOR</th>\n",
              "      <th>CNPJ_AUDITOR</th>\n",
              "      <th>AUDITOR</th>\n",
              "      <th>CNPJ_CUSTODIANTE</th>\n",
              "      <th>CUSTODIANTE</th>\n",
              "      <th>CNPJ_CONTROLADOR</th>\n",
              "      <th>CONTROLADOR</th>\n",
              "    </tr>\n",
              "  </thead>\n",
              "  <tbody>\n",
              "    <tr>\n",
              "      <th>0</th>\n",
              "      <td>00.000.432/0001-00</td>\n",
              "      <td>COPESUL  - FUNDO DE INVESTIMENTO MUL...</td>\n",
              "      <td>2005-03-31</td>\n",
              "      <td>1994-09-26</td>\n",
              "      <td>2008-07-18</td>\n",
              "      <td>CANCELADA</td>\n",
              "      <td>2008-07-18</td>\n",
              "      <td>2001-05-02</td>\n",
              "      <td>2008-01-01</td>\n",
              "      <td>2008-12-31</td>\n",
              "      <td>Fundo Multimercado</td>\n",
              "      <td>2005-03-31</td>\n",
              "      <td>OUTROS</td>\n",
              "      <td>Aberto</td>\n",
              "      <td>N</td>\n",
              "      <td>S</td>\n",
              "      <td>N</td>\n",
              "      <td>S</td>\n",
              "      <td>NaN</td>\n",
              "      <td>NaN</td>\n",
              "      <td>NaN</td>\n",
              "      <td>0,05</td>\n",
              "      <td>0.0</td>\n",
              "      <td>2008-08-06</td>\n",
              "      <td>NaN</td>\n",
              "      <td>NaN</td>\n",
              "      <td>NaN</td>\n",
              "      <td>NaN</td>\n",
              "      <td>NaN</td>\n",
              "      <td>NaN</td>\n",
              "      <td>NaN</td>\n",
              "      <td>NaN</td>\n",
              "      <td>NaN</td>\n",
              "      <td>NaN</td>\n",
              "      <td>NaN</td>\n",
              "      <td>NaN</td>\n",
              "    </tr>\n",
              "    <tr>\n",
              "      <th>1</th>\n",
              "      <td>00.000.744/0001-06</td>\n",
              "      <td>REAL FUNDO DE INVESTIMENTO CURTO PRA...</td>\n",
              "      <td>2005-01-13</td>\n",
              "      <td>1994-05-23</td>\n",
              "      <td>2006-06-30</td>\n",
              "      <td>CANCELADA</td>\n",
              "      <td>2006-06-30</td>\n",
              "      <td>1994-05-23</td>\n",
              "      <td>2006-01-01</td>\n",
              "      <td>2006-12-31</td>\n",
              "      <td>Fundo de Curto Prazo</td>\n",
              "      <td>2005-01-01</td>\n",
              "      <td>DI de um dia</td>\n",
              "      <td>Aberto</td>\n",
              "      <td>N</td>\n",
              "      <td>N</td>\n",
              "      <td>N</td>\n",
              "      <td>N</td>\n",
              "      <td>NaN</td>\n",
              "      <td>NaN</td>\n",
              "      <td>NaN</td>\n",
              "      <td>NaN</td>\n",
              "      <td>0.0</td>\n",
              "      <td>2006-08-03</td>\n",
              "      <td>NaN</td>\n",
              "      <td>NaN</td>\n",
              "      <td>NaN</td>\n",
              "      <td>NaN</td>\n",
              "      <td>NaN</td>\n",
              "      <td>NaN</td>\n",
              "      <td>NaN</td>\n",
              "      <td>NaN</td>\n",
              "      <td>NaN</td>\n",
              "      <td>NaN</td>\n",
              "      <td>NaN</td>\n",
              "      <td>NaN</td>\n",
              "    </tr>\n",
              "    <tr>\n",
              "      <th>2</th>\n",
              "      <td>00.000.746/0001-03</td>\n",
              "      <td>ALFA DINÂMICO - FUNDO DE INVESTIMENT...</td>\n",
              "      <td>2004-12-09</td>\n",
              "      <td>1994-05-19</td>\n",
              "      <td>2016-09-26</td>\n",
              "      <td>CANCELADA</td>\n",
              "      <td>2016-09-26</td>\n",
              "      <td>1994-05-20</td>\n",
              "      <td>2015-10-01</td>\n",
              "      <td>2016-09-30</td>\n",
              "      <td>Fundo de Ações</td>\n",
              "      <td>2004-11-29</td>\n",
              "      <td>Ibovespa</td>\n",
              "      <td>Aberto</td>\n",
              "      <td>S</td>\n",
              "      <td>N</td>\n",
              "      <td>NaN</td>\n",
              "      <td>N</td>\n",
              "      <td>NaN</td>\n",
              "      <td>NaN</td>\n",
              "      <td>4.5</td>\n",
              "      <td>NaN</td>\n",
              "      <td>0.0</td>\n",
              "      <td>2016-09-26</td>\n",
              "      <td>MARCELO MORATA VIDEIRA</td>\n",
              "      <td>60.770.336/0001-65</td>\n",
              "      <td>BANCO ALFA DE INVESTIMENTO SA</td>\n",
              "      <td>PJ</td>\n",
              "      <td>60.770.336/0001-65</td>\n",
              "      <td>BANCO ALFA DE INVESTIMENTO SA</td>\n",
              "      <td>49.928.567/0001-11</td>\n",
              "      <td>DELOITTE TOUCHE TOHMATSU AUDITORES I...</td>\n",
              "      <td>60.746.948/0001-12</td>\n",
              "      <td>BANCO BRADESCO S.A.</td>\n",
              "      <td>60.746.948/0001-12</td>\n",
              "      <td>BANCO BRADESCO S.A.</td>\n",
              "    </tr>\n",
              "  </tbody>\n",
              "</table>\n",
              "</div>"
            ],
            "text/plain": [
              "           CNPJ_FUNDO  ...          CONTROLADOR\n",
              "0  00.000.432/0001-00  ...                  NaN\n",
              "1  00.000.744/0001-06  ...                  NaN\n",
              "2  00.000.746/0001-03  ...  BANCO BRADESCO S.A.\n",
              "\n",
              "[3 rows x 36 columns]"
            ]
          },
          "metadata": {
            "tags": []
          },
          "execution_count": 23
        }
      ]
    },
    {
      "cell_type": "code",
      "metadata": {
        "id": "szSntRstIKcZ",
        "colab": {
          "base_uri": "https://localhost:8080/",
          "height": 383
        },
        "outputId": "6465258e-a581-4e70-e3a1-8e59a939aba5"
      },
      "source": [
        "df2.tail(3)"
      ],
      "execution_count": 24,
      "outputs": [
        {
          "output_type": "execute_result",
          "data": {
            "text/html": [
              "<div>\n",
              "<style scoped>\n",
              "    .dataframe tbody tr th:only-of-type {\n",
              "        vertical-align: middle;\n",
              "    }\n",
              "\n",
              "    .dataframe tbody tr th {\n",
              "        vertical-align: top;\n",
              "    }\n",
              "\n",
              "    .dataframe thead th {\n",
              "        text-align: right;\n",
              "    }\n",
              "</style>\n",
              "<table border=\"1\" class=\"dataframe\">\n",
              "  <thead>\n",
              "    <tr style=\"text-align: right;\">\n",
              "      <th></th>\n",
              "      <th>CNPJ_FUNDO</th>\n",
              "      <th>DENOM_SOCIAL</th>\n",
              "      <th>DT_REG</th>\n",
              "      <th>DT_CONST</th>\n",
              "      <th>DT_CANCEL</th>\n",
              "      <th>SIT</th>\n",
              "      <th>DT_INI_SIT</th>\n",
              "      <th>DT_INI_ATIV</th>\n",
              "      <th>DT_INI_EXERC</th>\n",
              "      <th>DT_FIM_EXERC</th>\n",
              "      <th>CLASSE</th>\n",
              "      <th>DT_INI_CLASSE</th>\n",
              "      <th>RENTAB_FUNDO</th>\n",
              "      <th>CONDOM</th>\n",
              "      <th>FUNDO_COTAS</th>\n",
              "      <th>FUNDO_EXCLUSIVO</th>\n",
              "      <th>TRIB_LPRAZO</th>\n",
              "      <th>INVEST_QUALIF</th>\n",
              "      <th>TAXA_PERFM</th>\n",
              "      <th>INF_TAXA_PERFM</th>\n",
              "      <th>TAXA_ADM</th>\n",
              "      <th>INF_TAXA_ADM</th>\n",
              "      <th>VL_PATRIM_LIQ</th>\n",
              "      <th>DT_PATRIM_LIQ</th>\n",
              "      <th>DIRETOR</th>\n",
              "      <th>CNPJ_ADMIN</th>\n",
              "      <th>ADMIN</th>\n",
              "      <th>PF_PJ_GESTOR</th>\n",
              "      <th>CPF_CNPJ_GESTOR</th>\n",
              "      <th>GESTOR</th>\n",
              "      <th>CNPJ_AUDITOR</th>\n",
              "      <th>AUDITOR</th>\n",
              "      <th>CNPJ_CUSTODIANTE</th>\n",
              "      <th>CUSTODIANTE</th>\n",
              "      <th>CNPJ_CONTROLADOR</th>\n",
              "      <th>CONTROLADOR</th>\n",
              "    </tr>\n",
              "  </thead>\n",
              "  <tbody>\n",
              "    <tr>\n",
              "      <th>37377</th>\n",
              "      <td>97.711.813/0001-21</td>\n",
              "      <td>CSHG ALLOCATION APEX AÇÕES FIC DE FU...</td>\n",
              "      <td>2011-08-31</td>\n",
              "      <td>2011-08-07</td>\n",
              "      <td>2014-06-09</td>\n",
              "      <td>CANCELADA</td>\n",
              "      <td>2014-06-09</td>\n",
              "      <td>2012-01-27</td>\n",
              "      <td>2014-02-01</td>\n",
              "      <td>2015-01-31</td>\n",
              "      <td>Fundo de Ações</td>\n",
              "      <td>2011-12-19</td>\n",
              "      <td>Ibovespa</td>\n",
              "      <td>Aberto</td>\n",
              "      <td>S</td>\n",
              "      <td>N</td>\n",
              "      <td>NaN</td>\n",
              "      <td>N</td>\n",
              "      <td>NaN</td>\n",
              "      <td>NaN</td>\n",
              "      <td>0.00</td>\n",
              "      <td>NaN</td>\n",
              "      <td>0.000000e+00</td>\n",
              "      <td>2014-06-17</td>\n",
              "      <td>ODILON FERNANDES DE PINHO NETO</td>\n",
              "      <td>61.809.182/0001-30</td>\n",
              "      <td>CREDIT SUISSE HEDGING-GRIFFO CORRETO...</td>\n",
              "      <td>PJ</td>\n",
              "      <td>68.328.632/0001-12</td>\n",
              "      <td>CREDIT SUISSE HEDGING-GRIFFO WEALTH ...</td>\n",
              "      <td>61.562.112/0001-20</td>\n",
              "      <td>PRICEWATERHOUSECOOPERS AUDITORES IND...</td>\n",
              "      <td>60.701.190/0001-04</td>\n",
              "      <td>ITAU UNIBANCO S.A.</td>\n",
              "      <td>60.701.190/0001-04</td>\n",
              "      <td>ITAU UNIBANCO S.A.</td>\n",
              "    </tr>\n",
              "    <tr>\n",
              "      <th>37378</th>\n",
              "      <td>97.929.197/0001-80</td>\n",
              "      <td>LECT FUNDO DE INVESTIMENTO EM COTAS ...</td>\n",
              "      <td>2011-08-31</td>\n",
              "      <td>2011-08-07</td>\n",
              "      <td>NaN</td>\n",
              "      <td>EM FUNCIONAMENTO NORMAL</td>\n",
              "      <td>2011-11-04</td>\n",
              "      <td>2011-11-04</td>\n",
              "      <td>2019-11-01</td>\n",
              "      <td>2020-10-31</td>\n",
              "      <td>Fundo de Ações</td>\n",
              "      <td>2011-10-17</td>\n",
              "      <td>NaN</td>\n",
              "      <td>Aberto</td>\n",
              "      <td>S</td>\n",
              "      <td>N</td>\n",
              "      <td>NaN</td>\n",
              "      <td>S</td>\n",
              "      <td>15.0</td>\n",
              "      <td>Para informações adicionais, vide o ...</td>\n",
              "      <td>1.35</td>\n",
              "      <td>NaN</td>\n",
              "      <td>1.433842e+08</td>\n",
              "      <td>2020-06-10</td>\n",
              "      <td>CARLOS ALBERTO SARAIVA</td>\n",
              "      <td>02.201.501/0001-61</td>\n",
              "      <td>BNY MELLON SERVICOS FINANCEIROS DTVM...</td>\n",
              "      <td>PJ</td>\n",
              "      <td>10.957.035/0001-77</td>\n",
              "      <td>ATMOS CAPITAL GESTÃO DE RECURSOS LTDA</td>\n",
              "      <td>49.928.567/0001-11</td>\n",
              "      <td>DELOITTE TOUCHE TOHMATSU AUDITORES I...</td>\n",
              "      <td>42.272.526/0001-70</td>\n",
              "      <td>BNY MELLON BANCO S.A.</td>\n",
              "      <td>02.201.501/0001-61</td>\n",
              "      <td>BNY MELLON SERVICOS FINANCEIROS DTVM...</td>\n",
              "    </tr>\n",
              "    <tr>\n",
              "      <th>37379</th>\n",
              "      <td>97.929.213/0001-34</td>\n",
              "      <td>CSHG SISTEMA II FUNDO DE INVESTIMENT...</td>\n",
              "      <td>2011-08-31</td>\n",
              "      <td>2011-08-07</td>\n",
              "      <td>NaN</td>\n",
              "      <td>EM FUNCIONAMENTO NORMAL</td>\n",
              "      <td>2011-11-18</td>\n",
              "      <td>2011-11-18</td>\n",
              "      <td>2019-11-01</td>\n",
              "      <td>2020-10-31</td>\n",
              "      <td>Fundo Multimercado</td>\n",
              "      <td>2011-08-07</td>\n",
              "      <td>DI de um dia</td>\n",
              "      <td>Fechado</td>\n",
              "      <td>S</td>\n",
              "      <td>N</td>\n",
              "      <td>S</td>\n",
              "      <td>S</td>\n",
              "      <td>NaN</td>\n",
              "      <td>NaN</td>\n",
              "      <td>NaN</td>\n",
              "      <td>mínimo de R$ 20.000,00 por ano: 0,40...</td>\n",
              "      <td>6.526386e+07</td>\n",
              "      <td>2020-06-10</td>\n",
              "      <td>AECTO ANTONIO DE CAMPOS PINTO</td>\n",
              "      <td>61.809.182/0001-30</td>\n",
              "      <td>CREDIT SUISSE HEDGING-GRIFFO CORRETO...</td>\n",
              "      <td>PJ</td>\n",
              "      <td>68.328.632/0001-12</td>\n",
              "      <td>CREDIT SUISSE HEDGING-GRIFFO WEALTH ...</td>\n",
              "      <td>57.755.217/0001-29</td>\n",
              "      <td>KPMG AUDITORES INDEPENDENTES</td>\n",
              "      <td>60.701.190/0001-04</td>\n",
              "      <td>ITAU UNIBANCO S.A.</td>\n",
              "      <td>60.701.190/0001-04</td>\n",
              "      <td>ITAU UNIBANCO S.A.</td>\n",
              "    </tr>\n",
              "  </tbody>\n",
              "</table>\n",
              "</div>"
            ],
            "text/plain": [
              "               CNPJ_FUNDO  ...                              CONTROLADOR\n",
              "37377  97.711.813/0001-21  ...                       ITAU UNIBANCO S.A.\n",
              "37378  97.929.197/0001-80  ...  BNY MELLON SERVICOS FINANCEIROS DTVM...\n",
              "37379  97.929.213/0001-34  ...                       ITAU UNIBANCO S.A.\n",
              "\n",
              "[3 rows x 36 columns]"
            ]
          },
          "metadata": {
            "tags": []
          },
          "execution_count": 24
        }
      ]
    },
    {
      "cell_type": "code",
      "metadata": {
        "id": "9SjHAJR3IKcZ",
        "colab": {
          "base_uri": "https://localhost:8080/"
        },
        "outputId": "4130537c-4498-4d9e-cb58-47624c28d1e6"
      },
      "source": [
        "time_start = perf_counter()\n",
        "###  Insere a data do último cadastro pesquisado no nome do arquivo\n",
        "df2.to_csv('df_cadastro_ate_'+ str(ct[len(ct)-1])+ '.csv',sep = ';' ,encoding='utf-8')#, compression = 'zip')\n",
        "\n",
        "time_end = perf_counter()\n",
        "elapsed_time = time_end - time_start\n",
        "print(' ****salvar df em .csv demorou ', round(elapsed_time,2) , ' segundos *****')"
      ],
      "execution_count": 25,
      "outputs": [
        {
          "output_type": "stream",
          "text": [
            " ****salvar df em .csv demorou  0.81  segundos *****\n"
          ],
          "name": "stdout"
        }
      ]
    },
    {
      "cell_type": "code",
      "metadata": {
        "id": "XshZUCq2IKca",
        "colab": {
          "base_uri": "https://localhost:8080/",
          "height": 35
        },
        "outputId": "782f073a-7d7c-4fd2-e015-5b5ef8ea9b89"
      },
      "source": [
        "os.getcwd()"
      ],
      "execution_count": 26,
      "outputs": [
        {
          "output_type": "execute_result",
          "data": {
            "application/vnd.google.colaboratory.intrinsic+json": {
              "type": "string"
            },
            "text/plain": [
              "'/home/jovyan/work/@Fund_Eval/CVM/Cadastro'"
            ]
          },
          "metadata": {
            "tags": []
          },
          "execution_count": 26
        }
      ]
    },
    {
      "cell_type": "code",
      "metadata": {
        "id": "R0G5W9gVIKca",
        "colab": {
          "base_uri": "https://localhost:8080/"
        },
        "outputId": "09029464-4d92-417c-9a59-56ed47d6d8bc"
      },
      "source": [
        "!ls"
      ],
      "execution_count": 27,
      "outputs": [
        {
          "output_type": "stream",
          "text": [
            "df_cadastro_ate_20200828.csv\n"
          ],
          "name": "stdout"
        }
      ]
    },
    {
      "cell_type": "code",
      "metadata": {
        "id": "AN3QQEoOIKca"
      },
      "source": [
        ""
      ],
      "execution_count": 27,
      "outputs": []
    }
  ]
}