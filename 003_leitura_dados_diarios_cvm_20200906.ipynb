{
  "nbformat": 4,
  "nbformat_minor": 0,
  "metadata": {
    "kernelspec": {
      "display_name": "Python 3",
      "language": "python",
      "name": "python3"
    },
    "language_info": {
      "codemirror_mode": {
        "name": "ipython",
        "version": 3
      },
      "file_extension": ".py",
      "mimetype": "text/x-python",
      "name": "python",
      "nbconvert_exporter": "python",
      "pygments_lexer": "ipython3",
      "version": "3.8.5"
    },
    "colab": {
      "name": "003_leitura_dados_diarios_cvm_20200906.ipynb",
      "provenance": [],
      "include_colab_link": true
    }
  },
  "cells": [
    {
      "cell_type": "markdown",
      "metadata": {
        "id": "view-in-github",
        "colab_type": "text"
      },
      "source": [
        "<a href=\"https://colab.research.google.com/github/barrosm/BIMASTER_CODE_PUBLIC/blob/main/003_leitura_dados_diarios_cvm_20200906.ipynb\" target=\"_parent\"><img src=\"https://colab.research.google.com/assets/colab-badge.svg\" alt=\"Open In Colab\"/></a>"
      ]
    },
    {
      "cell_type": "markdown",
      "metadata": {
        "id": "JKMAugXDNUUg"
      },
      "source": [
        "## Leitura de dados diários de fundos de investimentos"
      ]
    },
    {
      "cell_type": "markdown",
      "metadata": {
        "id": "epNyM64nNUUj"
      },
      "source": [
        "### Data: 06/09/2020"
      ]
    },
    {
      "cell_type": "markdown",
      "metadata": {
        "id": "GILCxoeBNUUk"
      },
      "source": [
        "## Alterei o código - farei apenas o download dos dados. Cálculos serão posteriormente feitos no BigQuery"
      ]
    },
    {
      "cell_type": "markdown",
      "metadata": {
        "id": "UowxYgUFNUUl"
      },
      "source": [
        "### Mês início = 01/2018  Mês final = 08/2020  (antes inicio era 01/2020)"
      ]
    },
    {
      "cell_type": "code",
      "metadata": {
        "id": "3tu9RkedNUUl"
      },
      "source": [
        "import pandas as pd\n",
        "import os as os\n",
        "import matplotlib.pyplot as plt\n",
        "import numpy as np\n",
        "\n",
        "from datetime import datetime\n",
        "%matplotlib inline\n",
        "\n",
        "import seaborn as sns; \n",
        "sns.set(rc={'figure.figsize':(17,6)})\n",
        "plt.rcParams['axes.labelsize'] = 16\n",
        "plt.rcParams['xtick.labelsize'] = 14\n",
        "plt.rcParams['ytick.labelsize'] = 14\n",
        "\n",
        "import os\n",
        "current_dir = os.getcwd()\n",
        "current_dir\n",
        "\n",
        "from time import perf_counter\n",
        "import pickle"
      ],
      "execution_count": null,
      "outputs": []
    },
    {
      "cell_type": "code",
      "metadata": {
        "id": "8WVqh9J0NUUm"
      },
      "source": [
        "os.chdir('..')  # vai um nível para cima\n",
        "current_dir = os.getcwd()\n",
        "current_dir\n",
        "\n",
        "path = '/home/jovyan/work/@Fund_Eval/CVM/Diario/' #Linux\n",
        "#path = current_dir + '\\\\CVM\\\\Diario\\\\'  #Windows"
      ],
      "execution_count": null,
      "outputs": []
    },
    {
      "cell_type": "code",
      "metadata": {
        "id": "Whwx5HnENUUn"
      },
      "source": [
        "# REMOTE PATH\n",
        "remote_path = '/home/jupyter/Notebooks/monica/@Fund_Eval/CVM/Diario/'"
      ],
      "execution_count": null,
      "outputs": []
    },
    {
      "cell_type": "code",
      "metadata": {
        "id": "24ioG14wNUUn",
        "outputId": "91235f3b-53a0-495a-d2f3-f0ca75757313"
      },
      "source": [
        "current_dir"
      ],
      "execution_count": null,
      "outputs": [
        {
          "output_type": "execute_result",
          "data": {
            "text/plain": [
              "'/home/jovyan/work'"
            ]
          },
          "metadata": {
            "tags": []
          },
          "execution_count": 37
        }
      ]
    },
    {
      "cell_type": "code",
      "metadata": {
        "id": "5pKtWeFxNUUn",
        "outputId": "7bd3366a-acbd-4911-a97e-a748f25bf333"
      },
      "source": [
        "path = '/home/jovyan/work/@Fund_Eval/CVM/Diario/' \n",
        "path"
      ],
      "execution_count": null,
      "outputs": [
        {
          "output_type": "execute_result",
          "data": {
            "text/plain": [
              "'/home/jovyan/work/@Fund_Eval/CVM/Diario/'"
            ]
          },
          "metadata": {
            "tags": []
          },
          "execution_count": 38
        }
      ]
    },
    {
      "cell_type": "code",
      "metadata": {
        "id": "jZAoXkiyNUUo"
      },
      "source": [
        "url_address = 'http://dados.cvm.gov.br/dados/FI/DOC/INF_DIARIO/DADOS/inf_diario_fi_'"
      ],
      "execution_count": null,
      "outputs": []
    },
    {
      "cell_type": "code",
      "metadata": {
        "id": "0ohfpYjfNUUo"
      },
      "source": [
        "## Ano 2018\n",
        "ct = ['201801','201802', '201803', '201804', '201805', '201806', '201807', '201808', '201809', '201810', '201811', '201812']"
      ],
      "execution_count": null,
      "outputs": []
    },
    {
      "cell_type": "code",
      "metadata": {
        "id": "uq9dTvk2NUUo"
      },
      "source": [
        "# Ano 2020\n",
        "#ct = ['202001', '202002', '202003', '202004', '202005', '202006', '202007', '202008']"
      ],
      "execution_count": null,
      "outputs": []
    },
    {
      "cell_type": "code",
      "metadata": {
        "id": "GacWynYKNUUo"
      },
      "source": [
        "start_month = ct[0]\n",
        "end_month = ct[-1]"
      ],
      "execution_count": null,
      "outputs": []
    },
    {
      "cell_type": "code",
      "metadata": {
        "id": "q7j0_LUMNUUp"
      },
      "source": [
        "filename = 'df_diario_'+start_month+'_'+end_month+'.pkl'"
      ],
      "execution_count": null,
      "outputs": []
    },
    {
      "cell_type": "code",
      "metadata": {
        "id": "xZ0GzJj8NUUp"
      },
      "source": [
        "filename_csv = 'df_diario_'+start_month+'_'+end_month+'.csv'"
      ],
      "execution_count": null,
      "outputs": []
    },
    {
      "cell_type": "code",
      "metadata": {
        "id": "JfcgbcnPNUUp"
      },
      "source": [
        "arq_names = [url_address + i + '.csv' for i in ct]"
      ],
      "execution_count": null,
      "outputs": []
    },
    {
      "cell_type": "code",
      "metadata": {
        "id": "TGGxdjKGNUUp",
        "outputId": "82a8bbfc-d956-435c-a5d4-89995ad1f277"
      },
      "source": [
        "arq_names[-5:]"
      ],
      "execution_count": null,
      "outputs": [
        {
          "output_type": "execute_result",
          "data": {
            "text/plain": [
              "['http://dados.cvm.gov.br/dados/FI/DOC/INF_DIARIO/DADOS/inf_diario_fi_201808.csv',\n",
              " 'http://dados.cvm.gov.br/dados/FI/DOC/INF_DIARIO/DADOS/inf_diario_fi_201809.csv',\n",
              " 'http://dados.cvm.gov.br/dados/FI/DOC/INF_DIARIO/DADOS/inf_diario_fi_201810.csv',\n",
              " 'http://dados.cvm.gov.br/dados/FI/DOC/INF_DIARIO/DADOS/inf_diario_fi_201811.csv',\n",
              " 'http://dados.cvm.gov.br/dados/FI/DOC/INF_DIARIO/DADOS/inf_diario_fi_201812.csv']"
            ]
          },
          "metadata": {
            "tags": []
          },
          "execution_count": 46
        }
      ]
    },
    {
      "cell_type": "code",
      "metadata": {
        "id": "KXJv5SOlNUUq",
        "outputId": "fc9aeeeb-8dc9-4789-934e-c0b2dc9ddbfa"
      },
      "source": [
        "# Número de arquivos (meses) lidos \n",
        "len(arq_names)"
      ],
      "execution_count": null,
      "outputs": [
        {
          "output_type": "execute_result",
          "data": {
            "text/plain": [
              "12"
            ]
          },
          "metadata": {
            "tags": []
          },
          "execution_count": 47
        }
      ]
    },
    {
      "cell_type": "code",
      "metadata": {
        "id": "kw37l-tzNUUq"
      },
      "source": [
        "# Cria dataframe vazia\n",
        "df = pd.DataFrame()"
      ],
      "execution_count": null,
      "outputs": []
    },
    {
      "cell_type": "markdown",
      "metadata": {
        "id": "m_68c3E2NUUq"
      },
      "source": [
        "## Leitura dos arquivos de um ano e concatenação num único dataframe - o índice é o CNPJ"
      ]
    },
    {
      "cell_type": "code",
      "metadata": {
        "id": "zX6cIPIONUUq",
        "outputId": "c0f736bf-7252-47e4-e83b-82207d3896ac"
      },
      "source": [
        "%time\n",
        "time_start = perf_counter()\n",
        "df = pd.concat((pd.read_csv(f, sep = ';', index_col=0) for f in arq_names))\n",
        "time_end = perf_counter()\n",
        "elapsed_time = time_end - time_start\n",
        "\n",
        "print(' **** a leitura dos dados demorou ', round(elapsed_time,2) , ' segundos *****')"
      ],
      "execution_count": null,
      "outputs": [
        {
          "output_type": "stream",
          "text": [
            "CPU times: user 3 µs, sys: 0 ns, total: 3 µs\n",
            "Wall time: 6.68 µs\n",
            " **** a leitura dos dados demorou  23.67  segundos *****\n"
          ],
          "name": "stdout"
        }
      ]
    },
    {
      "cell_type": "code",
      "metadata": {
        "id": "c0O-WzQINUUr"
      },
      "source": [
        "#df.head(3)\n",
        "#df.tail(3)"
      ],
      "execution_count": null,
      "outputs": []
    },
    {
      "cell_type": "code",
      "metadata": {
        "id": "UWCe5vUoNUUr",
        "outputId": "876a4b4f-3365-4f2f-f5c4-292f6351e49a"
      },
      "source": [
        "df = df.reset_index() # Do not do it until you want to group by cnpj\n",
        "df.head(3)"
      ],
      "execution_count": null,
      "outputs": [
        {
          "output_type": "execute_result",
          "data": {
            "text/html": [
              "<div>\n",
              "<style scoped>\n",
              "    .dataframe tbody tr th:only-of-type {\n",
              "        vertical-align: middle;\n",
              "    }\n",
              "\n",
              "    .dataframe tbody tr th {\n",
              "        vertical-align: top;\n",
              "    }\n",
              "\n",
              "    .dataframe thead th {\n",
              "        text-align: right;\n",
              "    }\n",
              "</style>\n",
              "<table border=\"1\" class=\"dataframe\">\n",
              "  <thead>\n",
              "    <tr style=\"text-align: right;\">\n",
              "      <th></th>\n",
              "      <th>CNPJ_FUNDO</th>\n",
              "      <th>DT_COMPTC</th>\n",
              "      <th>VL_TOTAL</th>\n",
              "      <th>VL_QUOTA</th>\n",
              "      <th>VL_PATRIM_LIQ</th>\n",
              "      <th>CAPTC_DIA</th>\n",
              "      <th>RESG_DIA</th>\n",
              "      <th>NR_COTST</th>\n",
              "    </tr>\n",
              "  </thead>\n",
              "  <tbody>\n",
              "    <tr>\n",
              "      <th>0</th>\n",
              "      <td>00.017.024/0001-53</td>\n",
              "      <td>2018-01-02</td>\n",
              "      <td>1130197.89</td>\n",
              "      <td>25.968274</td>\n",
              "      <td>1130221.60</td>\n",
              "      <td>0.0</td>\n",
              "      <td>0.0</td>\n",
              "      <td>1</td>\n",
              "    </tr>\n",
              "    <tr>\n",
              "      <th>1</th>\n",
              "      <td>00.017.024/0001-53</td>\n",
              "      <td>2018-01-03</td>\n",
              "      <td>1130497.24</td>\n",
              "      <td>25.972772</td>\n",
              "      <td>1130417.38</td>\n",
              "      <td>0.0</td>\n",
              "      <td>0.0</td>\n",
              "      <td>1</td>\n",
              "    </tr>\n",
              "    <tr>\n",
              "      <th>2</th>\n",
              "      <td>00.017.024/0001-53</td>\n",
              "      <td>2018-01-04</td>\n",
              "      <td>1130796.56</td>\n",
              "      <td>25.977238</td>\n",
              "      <td>1130611.74</td>\n",
              "      <td>0.0</td>\n",
              "      <td>0.0</td>\n",
              "      <td>1</td>\n",
              "    </tr>\n",
              "  </tbody>\n",
              "</table>\n",
              "</div>"
            ],
            "text/plain": [
              "           CNPJ_FUNDO   DT_COMPTC    VL_TOTAL   VL_QUOTA  VL_PATRIM_LIQ  \\\n",
              "0  00.017.024/0001-53  2018-01-02  1130197.89  25.968274     1130221.60   \n",
              "1  00.017.024/0001-53  2018-01-03  1130497.24  25.972772     1130417.38   \n",
              "2  00.017.024/0001-53  2018-01-04  1130796.56  25.977238     1130611.74   \n",
              "\n",
              "   CAPTC_DIA  RESG_DIA  NR_COTST  \n",
              "0        0.0       0.0         1  \n",
              "1        0.0       0.0         1  \n",
              "2        0.0       0.0         1  "
            ]
          },
          "metadata": {
            "tags": []
          },
          "execution_count": 50
        }
      ]
    },
    {
      "cell_type": "markdown",
      "metadata": {
        "id": "Q7PEmxEgNUUr"
      },
      "source": [
        "## Salva dataframe com todos os dados diários em arquivo pkl"
      ]
    },
    {
      "cell_type": "code",
      "metadata": {
        "id": "zKPMUevNNUUr",
        "outputId": "dc136e28-ac97-4046-f5b2-3c577bad44dc"
      },
      "source": [
        "df.info()"
      ],
      "execution_count": null,
      "outputs": [
        {
          "output_type": "stream",
          "text": [
            "<class 'pandas.core.frame.DataFrame'>\n",
            "RangeIndex: 3589065 entries, 0 to 3589064\n",
            "Data columns (total 8 columns):\n",
            " #   Column         Dtype  \n",
            "---  ------         -----  \n",
            " 0   CNPJ_FUNDO     object \n",
            " 1   DT_COMPTC      object \n",
            " 2   VL_TOTAL       float64\n",
            " 3   VL_QUOTA       float64\n",
            " 4   VL_PATRIM_LIQ  float64\n",
            " 5   CAPTC_DIA      float64\n",
            " 6   RESG_DIA       float64\n",
            " 7   NR_COTST       int64  \n",
            "dtypes: float64(5), int64(1), object(2)\n",
            "memory usage: 219.1+ MB\n"
          ],
          "name": "stdout"
        }
      ]
    },
    {
      "cell_type": "code",
      "metadata": {
        "id": "pgqMsYaPNUUs",
        "outputId": "aa22b9ee-1ce7-4782-b61f-65d4d42cb4bb"
      },
      "source": [
        "filename_csv"
      ],
      "execution_count": null,
      "outputs": [
        {
          "output_type": "execute_result",
          "data": {
            "text/plain": [
              "'df_diario_201801_201812.csv'"
            ]
          },
          "metadata": {
            "tags": []
          },
          "execution_count": 56
        }
      ]
    },
    {
      "cell_type": "code",
      "metadata": {
        "id": "kalzD1mBNUUs",
        "outputId": "5cf56b16-0edb-476c-d386-f573869e6b0d"
      },
      "source": [
        "path"
      ],
      "execution_count": null,
      "outputs": [
        {
          "output_type": "execute_result",
          "data": {
            "text/plain": [
              "'/home/jovyan/work/@Fund_Eval/CVM/Diario/'"
            ]
          },
          "metadata": {
            "tags": []
          },
          "execution_count": 53
        }
      ]
    },
    {
      "cell_type": "code",
      "metadata": {
        "id": "C1TFyUviNUUs",
        "outputId": "a0c2cdbe-54c9-40e6-e292-e8431a6f6c66"
      },
      "source": [
        "time_start = perf_counter()\n",
        "\n",
        "#df.to_pickle(remote_path+filename) # changed to remote path\n",
        "df.to_pickle(path+filename) \n",
        "\n",
        "time_end = perf_counter()\n",
        "elapsed_time = time_end - time_start\n",
        "print(' ****salvar df em .pkl demorou ', round(elapsed_time,2) , ' segundos *****')"
      ],
      "execution_count": null,
      "outputs": [
        {
          "output_type": "stream",
          "text": [
            " ****salvar df em .pkl demorou  4.08  segundos *****\n"
          ],
          "name": "stdout"
        }
      ]
    },
    {
      "cell_type": "markdown",
      "metadata": {
        "id": "dBACwiVMNUUs"
      },
      "source": [
        "## Salva como csv"
      ]
    },
    {
      "cell_type": "code",
      "metadata": {
        "id": "sYYkLWoZNUUt"
      },
      "source": [
        "df.to_csv(path+filename_csv, sep = ',', index = False) "
      ],
      "execution_count": null,
      "outputs": []
    },
    {
      "cell_type": "markdown",
      "metadata": {
        "id": "ut9NOJ3oNUUt"
      },
      "source": [
        "# Refaz para os anos 2019 e 2020"
      ]
    },
    {
      "cell_type": "code",
      "metadata": {
        "id": "_icZ6bqzNUUt",
        "outputId": "6157a9a3-7046-408b-a2b4-6223359e1aae"
      },
      "source": [
        "## Ano 2019\n",
        "ct = ['201901','201902', '201903', '201904', '201905', '201906', '201907', '201908', '201909', '201910', '201911', '201912']\n",
        "\n",
        "start_month = ct[0]\n",
        "end_month = ct[-1]\n",
        "filename = 'df_diario_'+start_month+'_'+end_month+'.pkl'\n",
        "filename_csv = 'df_diario_'+start_month+'_'+end_month+'.csv'\n",
        "\n",
        "arq_names = [url_address + i + '.csv' for i in ct]\n",
        "\n",
        "# Cria dataframe vazia\n",
        "df = pd.DataFrame()\n",
        "\n",
        "## Leitura dos arquivos e concatenação num único dataframe - o índice é o CNPJ\n",
        "%time\n",
        "time_start = perf_counter()\n",
        "df = pd.concat((pd.read_csv(f, sep = ';', index_col=0) for f in arq_names))\n",
        "time_end = perf_counter()\n",
        "elapsed_time = time_end - time_start\n",
        "\n",
        "print(' **** a leitura dos dados demorou ', round(elapsed_time,2) , ' segundos *****')"
      ],
      "execution_count": null,
      "outputs": [
        {
          "output_type": "stream",
          "text": [
            "CPU times: user 3 µs, sys: 0 ns, total: 3 µs\n",
            "Wall time: 7.39 µs\n",
            " **** a leitura dos dados demorou  30.04  segundos *****\n"
          ],
          "name": "stdout"
        }
      ]
    },
    {
      "cell_type": "code",
      "metadata": {
        "id": "QBmP-V2MNUUt",
        "outputId": "e7bb972f-ca5a-4f42-df65-d7b9e70a0f56"
      },
      "source": [
        "df = df.reset_index() # Do not do it until you want to group by cnpj\n",
        "df.head(3)"
      ],
      "execution_count": null,
      "outputs": [
        {
          "output_type": "execute_result",
          "data": {
            "text/html": [
              "<div>\n",
              "<style scoped>\n",
              "    .dataframe tbody tr th:only-of-type {\n",
              "        vertical-align: middle;\n",
              "    }\n",
              "\n",
              "    .dataframe tbody tr th {\n",
              "        vertical-align: top;\n",
              "    }\n",
              "\n",
              "    .dataframe thead th {\n",
              "        text-align: right;\n",
              "    }\n",
              "</style>\n",
              "<table border=\"1\" class=\"dataframe\">\n",
              "  <thead>\n",
              "    <tr style=\"text-align: right;\">\n",
              "      <th></th>\n",
              "      <th>CNPJ_FUNDO</th>\n",
              "      <th>DT_COMPTC</th>\n",
              "      <th>VL_TOTAL</th>\n",
              "      <th>VL_QUOTA</th>\n",
              "      <th>VL_PATRIM_LIQ</th>\n",
              "      <th>CAPTC_DIA</th>\n",
              "      <th>RESG_DIA</th>\n",
              "      <th>NR_COTST</th>\n",
              "    </tr>\n",
              "  </thead>\n",
              "  <tbody>\n",
              "    <tr>\n",
              "      <th>0</th>\n",
              "      <td>00.017.024/0001-53</td>\n",
              "      <td>2019-01-02</td>\n",
              "      <td>1134502.30</td>\n",
              "      <td>26.653280</td>\n",
              "      <td>1130684.21</td>\n",
              "      <td>0.0</td>\n",
              "      <td>0.0</td>\n",
              "      <td>1</td>\n",
              "    </tr>\n",
              "    <tr>\n",
              "      <th>1</th>\n",
              "      <td>00.017.024/0001-53</td>\n",
              "      <td>2019-01-03</td>\n",
              "      <td>1134781.90</td>\n",
              "      <td>26.655665</td>\n",
              "      <td>1130785.41</td>\n",
              "      <td>0.0</td>\n",
              "      <td>0.0</td>\n",
              "      <td>1</td>\n",
              "    </tr>\n",
              "    <tr>\n",
              "      <th>2</th>\n",
              "      <td>00.017.024/0001-53</td>\n",
              "      <td>2019-01-04</td>\n",
              "      <td>1135061.25</td>\n",
              "      <td>26.658060</td>\n",
              "      <td>1130887.00</td>\n",
              "      <td>0.0</td>\n",
              "      <td>0.0</td>\n",
              "      <td>1</td>\n",
              "    </tr>\n",
              "  </tbody>\n",
              "</table>\n",
              "</div>"
            ],
            "text/plain": [
              "           CNPJ_FUNDO   DT_COMPTC    VL_TOTAL   VL_QUOTA  VL_PATRIM_LIQ  \\\n",
              "0  00.017.024/0001-53  2019-01-02  1134502.30  26.653280     1130684.21   \n",
              "1  00.017.024/0001-53  2019-01-03  1134781.90  26.655665     1130785.41   \n",
              "2  00.017.024/0001-53  2019-01-04  1135061.25  26.658060     1130887.00   \n",
              "\n",
              "   CAPTC_DIA  RESG_DIA  NR_COTST  \n",
              "0        0.0       0.0         1  \n",
              "1        0.0       0.0         1  \n",
              "2        0.0       0.0         1  "
            ]
          },
          "metadata": {
            "tags": []
          },
          "execution_count": 60
        }
      ]
    },
    {
      "cell_type": "code",
      "metadata": {
        "id": "XWUYTP0FNUUu",
        "outputId": "ceaf5985-8b6e-42d1-e827-030b3ae0fa8e"
      },
      "source": [
        "df.info()"
      ],
      "execution_count": null,
      "outputs": [
        {
          "output_type": "stream",
          "text": [
            "<class 'pandas.core.frame.DataFrame'>\n",
            "RangeIndex: 3936018 entries, 0 to 3936017\n",
            "Data columns (total 8 columns):\n",
            " #   Column         Dtype  \n",
            "---  ------         -----  \n",
            " 0   CNPJ_FUNDO     object \n",
            " 1   DT_COMPTC      object \n",
            " 2   VL_TOTAL       float64\n",
            " 3   VL_QUOTA       float64\n",
            " 4   VL_PATRIM_LIQ  float64\n",
            " 5   CAPTC_DIA      float64\n",
            " 6   RESG_DIA       float64\n",
            " 7   NR_COTST       int64  \n",
            "dtypes: float64(5), int64(1), object(2)\n",
            "memory usage: 240.2+ MB\n"
          ],
          "name": "stdout"
        }
      ]
    },
    {
      "cell_type": "code",
      "metadata": {
        "id": "D4jNwuQFNUUu",
        "outputId": "d3d2f047-fd68-4c9c-d294-6c287377682b"
      },
      "source": [
        "filename_csv"
      ],
      "execution_count": null,
      "outputs": [
        {
          "output_type": "execute_result",
          "data": {
            "text/plain": [
              "'df_diario_201901_201912.csv'"
            ]
          },
          "metadata": {
            "tags": []
          },
          "execution_count": 62
        }
      ]
    },
    {
      "cell_type": "code",
      "metadata": {
        "id": "X80gJQe0NUUv",
        "outputId": "4b741f97-c3cb-4b24-cb98-bd8a9bcbc4f5"
      },
      "source": [
        "# Salva como pkl\n",
        "time_start = perf_counter()\n",
        "\n",
        "#df.to_pickle(remote_path+filename) # changed to remote path\n",
        "df.to_pickle(path+filename) \n",
        "\n",
        "time_end = perf_counter()\n",
        "elapsed_time = time_end - time_start\n",
        "print(' ****salvar df em .pkl demorou ', round(elapsed_time,2) , ' segundos *****')"
      ],
      "execution_count": null,
      "outputs": [
        {
          "output_type": "stream",
          "text": [
            " ****salvar df em .pkl demorou  4.15  segundos *****\n"
          ],
          "name": "stdout"
        }
      ]
    },
    {
      "cell_type": "code",
      "metadata": {
        "id": "9OJ2ksiFNUUv",
        "outputId": "9fa8a61b-0172-4c19-c97e-c0b8865fddb5"
      },
      "source": [
        "# Salva como csv\n",
        "time_start = perf_counter()\n",
        "\n",
        "df.to_csv(path+filename_csv, sep = ',', index = False) \n",
        "\n",
        "time_end = perf_counter()\n",
        "elapsed_time = time_end - time_start\n",
        "print(' ****salvar df em .csv demorou ', round(elapsed_time,2) , ' segundos *****')"
      ],
      "execution_count": null,
      "outputs": [
        {
          "output_type": "stream",
          "text": [
            " ****salvar df em .csv demorou  119.81  segundos *****\n"
          ],
          "name": "stdout"
        }
      ]
    },
    {
      "cell_type": "code",
      "metadata": {
        "id": "uOGHjQV7NUUv",
        "outputId": "369b00b9-9c95-40f2-cfef-639e92cbb23c"
      },
      "source": [
        "## Ano 2017\n",
        "ct = ['201701','201702', '201703', '201704', '201705', '201706', '201707', '201708', '201709', '201710', '201711', '201712']\n",
        "\n",
        "start_month = ct[0]\n",
        "end_month = ct[-1]\n",
        "filename = 'df_diario_'+start_month+'_'+end_month+'.pkl'\n",
        "filename_csv = 'df_diario_'+start_month+'_'+end_month+'.csv'\n",
        "\n",
        "arq_names = [url_address + i + '.csv' for i in ct]\n",
        "\n",
        "# Cria dataframe vazia\n",
        "df = pd.DataFrame()\n",
        "\n",
        "## Leitura dos arquivos e concatenação num único dataframe - o índice é o CNPJ\n",
        "%time\n",
        "time_start = perf_counter()\n",
        "df = pd.concat((pd.read_csv(f, sep = ';', index_col=0) for f in arq_names))\n",
        "time_end = perf_counter()\n",
        "elapsed_time = time_end - time_start\n",
        "\n",
        "print(' **** a leitura dos dados demorou ', round(elapsed_time,2) , ' segundos *****')"
      ],
      "execution_count": null,
      "outputs": [
        {
          "output_type": "stream",
          "text": [
            "CPU times: user 2 µs, sys: 1e+03 ns, total: 3 µs\n",
            "Wall time: 4.05 µs\n",
            " **** a leitura dos dados demorou  22.81  segundos *****\n"
          ],
          "name": "stdout"
        }
      ]
    },
    {
      "cell_type": "code",
      "metadata": {
        "id": "g36tXsUZNUUw",
        "outputId": "b374be6b-8e20-47ad-f8b5-93c36d661678"
      },
      "source": [
        "# Salva como pkl\n",
        "time_start = perf_counter()\n",
        "\n",
        "#df.to_pickle(remote_path+filename) # changed to remote path\n",
        "df.to_pickle(path+filename) \n",
        "\n",
        "time_end = perf_counter()\n",
        "elapsed_time = time_end - time_start\n",
        "print(' ****salvar df em .pkl demorou ', round(elapsed_time,2) , ' segundos *****')"
      ],
      "execution_count": null,
      "outputs": [
        {
          "output_type": "stream",
          "text": [
            " ****salvar df em .pkl demorou  3.33  segundos *****\n"
          ],
          "name": "stdout"
        }
      ]
    },
    {
      "cell_type": "code",
      "metadata": {
        "id": "BnXkbT61NUUw",
        "outputId": "ae716944-54f0-496a-de5e-88f4a451601a"
      },
      "source": [
        "# Salva como csv\n",
        "time_start = perf_counter()\n",
        "\n",
        "df.to_csv(path+filename_csv, sep = ',', index = False) \n",
        "\n",
        "time_end = perf_counter()\n",
        "elapsed_time = time_end - time_start\n",
        "print(' ****salvar df em .csv demorou ', round(elapsed_time,2) , ' segundos *****')"
      ],
      "execution_count": null,
      "outputs": [
        {
          "output_type": "stream",
          "text": [
            " ****salvar df em .csv demorou  61.03  segundos *****\n"
          ],
          "name": "stdout"
        }
      ]
    },
    {
      "cell_type": "code",
      "metadata": {
        "id": "dLk01bm6NUUw"
      },
      "source": [
        ""
      ],
      "execution_count": null,
      "outputs": []
    },
    {
      "cell_type": "code",
      "metadata": {
        "id": "y-xcxsgGNUUx"
      },
      "source": [
        ""
      ],
      "execution_count": null,
      "outputs": []
    },
    {
      "cell_type": "code",
      "metadata": {
        "id": "ChUecJfTNUUx"
      },
      "source": [
        ""
      ],
      "execution_count": null,
      "outputs": []
    },
    {
      "cell_type": "markdown",
      "metadata": {
        "id": "U8el1vLGNUUx"
      },
      "source": [
        "## se deu encrenca e o kernel morreu, reler df = pd.read_pickle(path+filename)"
      ]
    },
    {
      "cell_type": "code",
      "metadata": {
        "id": "PXwF4gDmNUUx",
        "outputId": "861de3f3-931a-4462-cdec-8cbb0ab2bf40"
      },
      "source": [
        "time_start = perf_counter()\n",
        "\n",
        "#df2.to_pickle(filename)\n",
        "#df.to_pickle(remote_path+filename) # changed to remote path\n",
        "df2.to_pickle(path+filename) \n",
        "\n",
        "time_end = perf_counter()\n",
        "elapsed_time = time_end - time_start\n",
        "print(' ****salvar df em .pkl demorou ', round(elapsed_time,2) , ' segundos *****')"
      ],
      "execution_count": null,
      "outputs": [
        {
          "output_type": "stream",
          "text": [
            " ****salvar df em .pkl demorou  2.64  segundos *****\n"
          ],
          "name": "stdout"
        }
      ]
    },
    {
      "cell_type": "code",
      "metadata": {
        "id": "08KCQMUuNUUx"
      },
      "source": [
        "#df[['DT_COMPTC', 'VL_QUOTA', 'Return']][df['CNPJ_FUNDO']=='97.929.213/0001-34']"
      ],
      "execution_count": null,
      "outputs": []
    },
    {
      "cell_type": "code",
      "metadata": {
        "id": "l-r7SGuoNUUx",
        "outputId": "e5696c08-87f7-475e-fa42-6ddbffbcb6c5"
      },
      "source": [
        "# Example - return of a randomly chosen fund\n",
        "\n",
        "#numpy.random.randint(low, high=None, size=None, dtype='l')\n",
        "random_row = np.random.randint(0,len(df2))\n",
        "random_cnpj = df2['CNPJ_FUNDO'].iloc[random_row,]\n",
        "random_cnpj"
      ],
      "execution_count": null,
      "outputs": [
        {
          "output_type": "execute_result",
          "data": {
            "text/plain": [
              "'26.374.820/0001-37'"
            ]
          },
          "metadata": {
            "tags": []
          },
          "execution_count": 24
        }
      ]
    },
    {
      "cell_type": "code",
      "metadata": {
        "id": "33TOeFdoNUUy",
        "outputId": "028070ef-f79d-42f4-bd65-eff4f0f06859"
      },
      "source": [
        "df2.info()"
      ],
      "execution_count": null,
      "outputs": [
        {
          "output_type": "stream",
          "text": [
            "<class 'pandas.core.frame.DataFrame'>\n",
            "RangeIndex: 2914525 entries, 0 to 2914524\n",
            "Data columns (total 9 columns):\n",
            " #   Column         Dtype  \n",
            "---  ------         -----  \n",
            " 0   CNPJ_FUNDO     object \n",
            " 1   DT_COMPTC      object \n",
            " 2   VL_TOTAL       float64\n",
            " 3   VL_QUOTA       float64\n",
            " 4   VL_PATRIM_LIQ  float64\n",
            " 5   CAPTC_DIA      float64\n",
            " 6   RESG_DIA       float64\n",
            " 7   NR_COTST       int64  \n",
            " 8   Return         float64\n",
            "dtypes: float64(6), int64(1), object(2)\n",
            "memory usage: 200.1+ MB\n"
          ],
          "name": "stdout"
        }
      ]
    },
    {
      "cell_type": "code",
      "metadata": {
        "id": "_Y9F4lMmNUUy"
      },
      "source": [
        "df_to_plot = df2[['CNPJ_FUNDO','DT_COMPTC','Return']].copy()"
      ],
      "execution_count": null,
      "outputs": []
    },
    {
      "cell_type": "code",
      "metadata": {
        "id": "f7UyVMp2NUUz",
        "outputId": "3c828618-4897-461b-def6-c2b237afc85e"
      },
      "source": [
        "df_to_plot.info()"
      ],
      "execution_count": null,
      "outputs": [
        {
          "output_type": "stream",
          "text": [
            "<class 'pandas.core.frame.DataFrame'>\n",
            "RangeIndex: 2914525 entries, 0 to 2914524\n",
            "Data columns (total 3 columns):\n",
            " #   Column      Dtype  \n",
            "---  ------      -----  \n",
            " 0   CNPJ_FUNDO  object \n",
            " 1   DT_COMPTC   object \n",
            " 2   Return      float64\n",
            "dtypes: float64(1), object(2)\n",
            "memory usage: 66.7+ MB\n"
          ],
          "name": "stdout"
        }
      ]
    },
    {
      "cell_type": "code",
      "metadata": {
        "id": "9oVPjVsVNUUz",
        "outputId": "cb55115e-8a3d-4cf7-8aea-058a17590c03"
      },
      "source": [
        "sns.set(rc={'figure.figsize':(17,6)})\n",
        "df_to_plot[['DT_COMPTC','Return']][df_to_plot['CNPJ_FUNDO']==random_cnpj].set_index('DT_COMPTC').plot(title = 'Retorno Diário do fundo com CNPJ: '+random_cnpj,\n",
        "                                                                                                     fontsize = 16, linewidth = 2.0, color = '#073763');"
      ],
      "execution_count": null,
      "outputs": [
        {
          "output_type": "display_data",
          "data": {
            "image/png": "[encoded data removed]",
            "text/plain": [
              "<Figure size 1224x432 with 1 Axes>"
            ]
          },
          "metadata": {
            "tags": []
          }
        }
      ]
    },
    {
      "cell_type": "code",
      "metadata": {
        "id": "2G0iyBBaNUU0",
        "outputId": "54a8d4c7-4654-4c17-ec6d-099934550232"
      },
      "source": [
        "sns.set(rc={'figure.figsize':(17,6)})\n",
        "df2[['Return']][df2['CNPJ_FUNDO']==random_cnpj].plot.hist(bins = 30, title = 'Retorno Diário do fundo com CNPJ: '+random_cnpj,\n",
        "                                                        fontsize = 16, linewidth = 2.0, color = '#134f5c')"
      ],
      "execution_count": null,
      "outputs": [
        {
          "output_type": "execute_result",
          "data": {
            "text/plain": [
              "<matplotlib.axes._subplots.AxesSubplot at 0x7f3320a3c0d0>"
            ]
          },
          "metadata": {
            "tags": []
          },
          "execution_count": 29
        },
        {
          "output_type": "display_data",
          "data": {
            "image/png": "[encoded data removed]",
            "text/plain": [
              "<Figure size 1224x432 with 1 Axes>"
            ]
          },
          "metadata": {
            "tags": []
          }
        }
      ]
    },
    {
      "cell_type": "code",
      "metadata": {
        "id": "EBnsoi3BNUU0",
        "outputId": "8213fade-07e7-4479-9661-2255057b7406"
      },
      "source": [
        "# Show days where return below 1% for randomly selected fund\n",
        "\n",
        "df2[['DT_COMPTC','Return']][(df2['CNPJ_FUNDO']==random_cnpj )& (df2['Return'] < -1)].set_index('DT_COMPTC')"
      ],
      "execution_count": null,
      "outputs": [
        {
          "output_type": "execute_result",
          "data": {
            "text/html": [
              "<div>\n",
              "<style scoped>\n",
              "    .dataframe tbody tr th:only-of-type {\n",
              "        vertical-align: middle;\n",
              "    }\n",
              "\n",
              "    .dataframe tbody tr th {\n",
              "        vertical-align: top;\n",
              "    }\n",
              "\n",
              "    .dataframe thead th {\n",
              "        text-align: right;\n",
              "    }\n",
              "</style>\n",
              "<table border=\"1\" class=\"dataframe\">\n",
              "  <thead>\n",
              "    <tr style=\"text-align: right;\">\n",
              "      <th></th>\n",
              "      <th>Return</th>\n",
              "    </tr>\n",
              "    <tr>\n",
              "      <th>DT_COMPTC</th>\n",
              "      <th></th>\n",
              "    </tr>\n",
              "  </thead>\n",
              "  <tbody>\n",
              "    <tr>\n",
              "      <th>2020-01-21</th>\n",
              "      <td>-1.353030</td>\n",
              "    </tr>\n",
              "    <tr>\n",
              "      <th>2020-01-27</th>\n",
              "      <td>-2.223459</td>\n",
              "    </tr>\n",
              "    <tr>\n",
              "      <th>2020-01-31</th>\n",
              "      <td>-1.450969</td>\n",
              "    </tr>\n",
              "    <tr>\n",
              "      <th>2020-02-06</th>\n",
              "      <td>-1.276622</td>\n",
              "    </tr>\n",
              "    <tr>\n",
              "      <th>2020-02-07</th>\n",
              "      <td>-1.560422</td>\n",
              "    </tr>\n",
              "    <tr>\n",
              "      <th>2020-02-26</th>\n",
              "      <td>-6.401179</td>\n",
              "    </tr>\n",
              "    <tr>\n",
              "      <th>2020-02-27</th>\n",
              "      <td>-2.978926</td>\n",
              "    </tr>\n",
              "    <tr>\n",
              "      <th>2020-03-03</th>\n",
              "      <td>-1.050497</td>\n",
              "    </tr>\n",
              "    <tr>\n",
              "      <th>2020-03-05</th>\n",
              "      <td>-5.709245</td>\n",
              "    </tr>\n",
              "    <tr>\n",
              "      <th>2020-03-06</th>\n",
              "      <td>-3.521123</td>\n",
              "    </tr>\n",
              "    <tr>\n",
              "      <th>2020-03-09</th>\n",
              "      <td>-12.010758</td>\n",
              "    </tr>\n",
              "    <tr>\n",
              "      <th>2020-03-11</th>\n",
              "      <td>-7.650090</td>\n",
              "    </tr>\n",
              "    <tr>\n",
              "      <th>2020-03-12</th>\n",
              "      <td>-14.982681</td>\n",
              "    </tr>\n",
              "    <tr>\n",
              "      <th>2020-03-16</th>\n",
              "      <td>-15.055397</td>\n",
              "    </tr>\n",
              "    <tr>\n",
              "      <th>2020-03-18</th>\n",
              "      <td>-14.803882</td>\n",
              "    </tr>\n",
              "    <tr>\n",
              "      <th>2020-03-23</th>\n",
              "      <td>-6.103359</td>\n",
              "    </tr>\n",
              "    <tr>\n",
              "      <th>2020-03-27</th>\n",
              "      <td>-5.121210</td>\n",
              "    </tr>\n",
              "    <tr>\n",
              "      <th>2020-03-31</th>\n",
              "      <td>-3.243035</td>\n",
              "    </tr>\n",
              "    <tr>\n",
              "      <th>2020-04-01</th>\n",
              "      <td>-5.067985</td>\n",
              "    </tr>\n",
              "    <tr>\n",
              "      <th>2020-04-03</th>\n",
              "      <td>-3.962035</td>\n",
              "    </tr>\n",
              "    <tr>\n",
              "      <th>2020-04-24</th>\n",
              "      <td>-4.693869</td>\n",
              "    </tr>\n",
              "    <tr>\n",
              "      <th>2020-04-30</th>\n",
              "      <td>-2.487818</td>\n",
              "    </tr>\n",
              "    <tr>\n",
              "      <th>2020-05-04</th>\n",
              "      <td>-2.007479</td>\n",
              "    </tr>\n",
              "    <tr>\n",
              "      <th>2020-05-07</th>\n",
              "      <td>-1.171781</td>\n",
              "    </tr>\n",
              "    <tr>\n",
              "      <th>2020-05-11</th>\n",
              "      <td>-1.325800</td>\n",
              "    </tr>\n",
              "    <tr>\n",
              "      <th>2020-05-12</th>\n",
              "      <td>-1.873084</td>\n",
              "    </tr>\n",
              "    <tr>\n",
              "      <th>2020-05-13</th>\n",
              "      <td>-1.182148</td>\n",
              "    </tr>\n",
              "    <tr>\n",
              "      <th>2020-05-15</th>\n",
              "      <td>-1.145463</td>\n",
              "    </tr>\n",
              "    <tr>\n",
              "      <th>2020-05-28</th>\n",
              "      <td>-2.096437</td>\n",
              "    </tr>\n",
              "    <tr>\n",
              "      <th>2020-06-10</th>\n",
              "      <td>-1.814670</td>\n",
              "    </tr>\n",
              "    <tr>\n",
              "      <th>2020-06-12</th>\n",
              "      <td>-1.625133</td>\n",
              "    </tr>\n",
              "    <tr>\n",
              "      <th>2020-06-24</th>\n",
              "      <td>-1.447329</td>\n",
              "    </tr>\n",
              "    <tr>\n",
              "      <th>2020-06-26</th>\n",
              "      <td>-2.652708</td>\n",
              "    </tr>\n",
              "    <tr>\n",
              "      <th>2020-07-13</th>\n",
              "      <td>-1.925741</td>\n",
              "    </tr>\n",
              "    <tr>\n",
              "      <th>2020-07-23</th>\n",
              "      <td>-1.518952</td>\n",
              "    </tr>\n",
              "    <tr>\n",
              "      <th>2020-08-07</th>\n",
              "      <td>-1.078315</td>\n",
              "    </tr>\n",
              "    <tr>\n",
              "      <th>2020-08-17</th>\n",
              "      <td>-2.187028</td>\n",
              "    </tr>\n",
              "    <tr>\n",
              "      <th>2020-08-19</th>\n",
              "      <td>-1.149211</td>\n",
              "    </tr>\n",
              "    <tr>\n",
              "      <th>2020-08-31</th>\n",
              "      <td>-1.481560</td>\n",
              "    </tr>\n",
              "  </tbody>\n",
              "</table>\n",
              "</div>"
            ],
            "text/plain": [
              "               Return\n",
              "DT_COMPTC            \n",
              "2020-01-21  -1.353030\n",
              "2020-01-27  -2.223459\n",
              "2020-01-31  -1.450969\n",
              "2020-02-06  -1.276622\n",
              "2020-02-07  -1.560422\n",
              "2020-02-26  -6.401179\n",
              "2020-02-27  -2.978926\n",
              "2020-03-03  -1.050497\n",
              "2020-03-05  -5.709245\n",
              "2020-03-06  -3.521123\n",
              "2020-03-09 -12.010758\n",
              "2020-03-11  -7.650090\n",
              "2020-03-12 -14.982681\n",
              "2020-03-16 -15.055397\n",
              "2020-03-18 -14.803882\n",
              "2020-03-23  -6.103359\n",
              "2020-03-27  -5.121210\n",
              "2020-03-31  -3.243035\n",
              "2020-04-01  -5.067985\n",
              "2020-04-03  -3.962035\n",
              "2020-04-24  -4.693869\n",
              "2020-04-30  -2.487818\n",
              "2020-05-04  -2.007479\n",
              "2020-05-07  -1.171781\n",
              "2020-05-11  -1.325800\n",
              "2020-05-12  -1.873084\n",
              "2020-05-13  -1.182148\n",
              "2020-05-15  -1.145463\n",
              "2020-05-28  -2.096437\n",
              "2020-06-10  -1.814670\n",
              "2020-06-12  -1.625133\n",
              "2020-06-24  -1.447329\n",
              "2020-06-26  -2.652708\n",
              "2020-07-13  -1.925741\n",
              "2020-07-23  -1.518952\n",
              "2020-08-07  -1.078315\n",
              "2020-08-17  -2.187028\n",
              "2020-08-19  -1.149211\n",
              "2020-08-31  -1.481560"
            ]
          },
          "metadata": {
            "tags": []
          },
          "execution_count": 30
        }
      ]
    },
    {
      "cell_type": "code",
      "metadata": {
        "id": "nVo1ZacgNUU0",
        "outputId": "d980e848-550b-480f-847f-8ebaa7f1330d"
      },
      "source": [
        "path"
      ],
      "execution_count": null,
      "outputs": [
        {
          "output_type": "execute_result",
          "data": {
            "text/plain": [
              "'/home/jovyan/work/@Fund_Eval/CVM/Diario/'"
            ]
          },
          "metadata": {
            "tags": []
          },
          "execution_count": 31
        }
      ]
    },
    {
      "cell_type": "markdown",
      "metadata": {
        "id": "tA3wdv0yNUU1"
      },
      "source": [
        "## Salva dataframe incluindo retornos diários em arquivo csv"
      ]
    },
    {
      "cell_type": "code",
      "metadata": {
        "id": "2o84pVM_NUU1",
        "outputId": "69aabf77-75d7-4554-c302-ccfae28f4909"
      },
      "source": [
        "time_start = perf_counter()\n",
        "df2.to_csv(path+'df_diario_'+str(ct[0])+'_'+str(ct[-1])+'.csv',sep = ';' ,encoding='utf-8')#, compression = 'zip')\n",
        "#df2.to_csv('df_diario_'+str(ct[0])+'_'+str(ct[-1])+'.csv',sep = ';' ,encoding='utf-8')#, compression = 'zip')\n",
        "\n",
        "time_end = perf_counter()\n",
        "elapsed_time = time_end - time_start\n",
        "print(' ****salvar df em .csv demorou ', round(elapsed_time,2) , ' segundos *****')"
      ],
      "execution_count": null,
      "outputs": [
        {
          "output_type": "stream",
          "text": [
            " ****salvar df em .csv demorou  122.97  segundos *****\n"
          ],
          "name": "stdout"
        }
      ]
    },
    {
      "cell_type": "code",
      "metadata": {
        "id": "13JBEihzNUU1"
      },
      "source": [
        ""
      ],
      "execution_count": null,
      "outputs": []
    }
  ]
}