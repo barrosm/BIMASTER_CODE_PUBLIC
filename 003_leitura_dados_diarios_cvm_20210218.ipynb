{
  "nbformat": 4,
  "nbformat_minor": 0,
  "metadata": {
    "kernelspec": {
      "display_name": "Python 3",
      "language": "python",
      "name": "python3"
    },
    "language_info": {
      "codemirror_mode": {
        "name": "ipython",
        "version": 3
      },
      "file_extension": ".py",
      "mimetype": "text/x-python",
      "name": "python",
      "nbconvert_exporter": "python",
      "pygments_lexer": "ipython3",
      "version": "3.8.6"
    },
    "colab": {
      "name": "003_leitura_dados_diarios_cvm_20210218.ipynb",
      "provenance": [],
      "include_colab_link": true
    }
  },
  "cells": [
    {
      "cell_type": "markdown",
      "metadata": {
        "id": "view-in-github",
        "colab_type": "text"
      },
      "source": [
        "<a href=\"https://colab.research.google.com/github/barrosm/BIMASTER_CODE_PUBLIC/blob/main/003_leitura_dados_diarios_cvm_20210218.ipynb\" target=\"_parent\"><img src=\"https://colab.research.google.com/assets/colab-badge.svg\" alt=\"Open In Colab\"/></a>"
      ]
    },
    {
      "cell_type": "markdown",
      "metadata": {
        "id": "ZxSOs7g0LmDV"
      },
      "source": [
        "## Leitura de dados diários de fundos de investimentos"
      ]
    },
    {
      "cell_type": "markdown",
      "metadata": {
        "id": "sndLEV1nLmDe"
      },
      "source": [
        "### Data: 11/02/2021\n"
      ]
    },
    {
      "cell_type": "markdown",
      "metadata": {
        "id": "_UKuoX2hLmDf"
      },
      "source": [
        "Mês início = 09/2020\n",
        "Mês final = 02/2021 (parcial)"
      ]
    },
    {
      "cell_type": "code",
      "metadata": {
        "id": "SGYa6Yo_LmDf"
      },
      "source": [
        "import pandas as pd\n",
        "import os as os\n",
        "import matplotlib.pyplot as plt\n",
        "import numpy as np\n",
        "\n",
        "from datetime import datetime\n",
        "%matplotlib inline\n",
        "\n",
        "import seaborn as sns; \n",
        "sns.set(rc={'figure.figsize':(17,6)})\n",
        "plt.rcParams['axes.labelsize'] = 16\n",
        "plt.rcParams['xtick.labelsize'] = 14\n",
        "plt.rcParams['ytick.labelsize'] = 14\n",
        "\n",
        "import os\n",
        "current_dir = os.getcwd()\n",
        "current_dir\n",
        "\n",
        "from time import perf_counter\n",
        "import pickle"
      ],
      "execution_count": null,
      "outputs": []
    },
    {
      "cell_type": "code",
      "metadata": {
        "id": "OT9j44QFLmDg"
      },
      "source": [
        "os.chdir('..')  # vai um nível para cima\n",
        "current_dir = os.getcwd()\n",
        "current_dir\n",
        "\n",
        "path = '/home/jovyan/work/@Fund_Eval/CVM/Diario/' #Linux\n",
        "#path = current_dir + '\\\\CVM\\\\Diario\\\\'  #Windows\n",
        "os.makedirs(path, exist_ok = 'TRUE')\n",
        "\n",
        "path_result = '/home/jovyan/work/@Fund_Eval/PROGRAMAS/'\n",
        "os.makedirs(path_result, exist_ok = 'TRUE')\n",
        "\n",
        "#path_result = '/home/jovyan/work/@Fund_Eval/CVM/Diario/'\n",
        "#os.makedirs(path_result, exist_ok = 'TRUE')\n",
        "\n",
        "path_data = '/home/jovyan/work/@Fund_Eval/@dados_acoes/'\n",
        "os.makedirs(path_data, exist_ok = 'TRUE')\n",
        "\n",
        "path_code = '/home/jovyan/work/@Fund_Eval/PROGRAMAS/'\n",
        "os.makedirs(path_code, exist_ok = 'TRUE')"
      ],
      "execution_count": null,
      "outputs": []
    },
    {
      "cell_type": "code",
      "metadata": {
        "id": "sIQFcdznLmDg"
      },
      "source": [
        "# REMOTE PATH\n",
        "remote_path = '/home/jupyter/Notebooks/monica/@Fund_Eval/CVM/Diario/'"
      ],
      "execution_count": null,
      "outputs": []
    },
    {
      "cell_type": "code",
      "metadata": {
        "id": "9PMHwfZFLmDg",
        "outputId": "190033c6-2e9a-4ecb-b949-d9cdd91691e8"
      },
      "source": [
        "current_dir"
      ],
      "execution_count": null,
      "outputs": [
        {
          "output_type": "execute_result",
          "data": {
            "text/plain": [
              "'/home/jovyan/work'"
            ]
          },
          "metadata": {
            "tags": []
          },
          "execution_count": 17
        }
      ]
    },
    {
      "cell_type": "code",
      "metadata": {
        "id": "kb3_--ibLmDh"
      },
      "source": [
        "url_address = 'http://dados.cvm.gov.br/dados/FI/DOC/INF_DIARIO/DADOS/inf_diario_fi_'"
      ],
      "execution_count": null,
      "outputs": []
    },
    {
      "cell_type": "code",
      "metadata": {
        "id": "CQQSECrrLmDi"
      },
      "source": [
        "ct = [ '202009', '202010', '202011', '202012', '202101', '202102']"
      ],
      "execution_count": null,
      "outputs": []
    },
    {
      "cell_type": "code",
      "metadata": {
        "id": "zi5eQR8TLmDi"
      },
      "source": [
        "start_month = ct[0]\n",
        "end_month = ct[-1]"
      ],
      "execution_count": null,
      "outputs": []
    },
    {
      "cell_type": "code",
      "metadata": {
        "id": "Q37OYHycLmDi"
      },
      "source": [
        "filename = 'df_diario_'+start_month+'_'+end_month+'.pkl'"
      ],
      "execution_count": null,
      "outputs": []
    },
    {
      "cell_type": "code",
      "metadata": {
        "id": "kVVDfXd4LmDi"
      },
      "source": [
        "arq_names = [url_address + i + '.csv' for i in ct]"
      ],
      "execution_count": null,
      "outputs": []
    },
    {
      "cell_type": "code",
      "metadata": {
        "id": "AQvo3zMPLmDj",
        "outputId": "f8b1c8df-ae8c-461e-f5b5-a1020dbef042"
      },
      "source": [
        "arq_names[-5:]"
      ],
      "execution_count": null,
      "outputs": [
        {
          "output_type": "execute_result",
          "data": {
            "text/plain": [
              "['http://dados.cvm.gov.br/dados/FI/DOC/INF_DIARIO/DADOS/inf_diario_fi_202010.csv',\n",
              " 'http://dados.cvm.gov.br/dados/FI/DOC/INF_DIARIO/DADOS/inf_diario_fi_202011.csv',\n",
              " 'http://dados.cvm.gov.br/dados/FI/DOC/INF_DIARIO/DADOS/inf_diario_fi_202012.csv',\n",
              " 'http://dados.cvm.gov.br/dados/FI/DOC/INF_DIARIO/DADOS/inf_diario_fi_202101.csv',\n",
              " 'http://dados.cvm.gov.br/dados/FI/DOC/INF_DIARIO/DADOS/inf_diario_fi_202102.csv']"
            ]
          },
          "metadata": {
            "tags": []
          },
          "execution_count": 23
        }
      ]
    },
    {
      "cell_type": "code",
      "metadata": {
        "id": "IqIZIi7VLmDj",
        "outputId": "b2bb527b-7bcf-4286-b60d-c4c5ac425e07"
      },
      "source": [
        "# Número de arquivos (meses) lidos \n",
        "len(arq_names)"
      ],
      "execution_count": null,
      "outputs": [
        {
          "output_type": "execute_result",
          "data": {
            "text/plain": [
              "6"
            ]
          },
          "metadata": {
            "tags": []
          },
          "execution_count": 24
        }
      ]
    },
    {
      "cell_type": "code",
      "metadata": {
        "id": "XPs-gA4pLmDj"
      },
      "source": [
        "# Cria dataframe vazia\n",
        "df = pd.DataFrame()"
      ],
      "execution_count": null,
      "outputs": []
    },
    {
      "cell_type": "markdown",
      "metadata": {
        "id": "6SHCWN9fLmDk"
      },
      "source": [
        "## Leitura dos arquivos e concatenação num único dataframe - o índice é o CNPJ"
      ]
    },
    {
      "cell_type": "code",
      "metadata": {
        "id": "rNKQiNHOLmDk",
        "outputId": "4f5cf68e-d9b8-432c-ef0f-20b2a3de4556"
      },
      "source": [
        "%time\n",
        "time_start = perf_counter()\n",
        "df = pd.concat((pd.read_csv(f, sep = ';', index_col=0) for f in arq_names))\n",
        "time_end = perf_counter()\n",
        "elapsed_time = time_end - time_start\n",
        "\n",
        "print(' **** a leitura dos dados demorou ', round(elapsed_time,2) , ' segundos *****')"
      ],
      "execution_count": null,
      "outputs": [
        {
          "output_type": "stream",
          "text": [
            "CPU times: user 5 µs, sys: 1 µs, total: 6 µs\n",
            "Wall time: 12.2 µs\n",
            " **** a leitura dos dados demorou  36.4  segundos *****\n"
          ],
          "name": "stdout"
        }
      ]
    },
    {
      "cell_type": "code",
      "metadata": {
        "id": "7UmWTsQ6LmDk"
      },
      "source": [
        "#df.head(3)\n",
        "#df.tail(3)"
      ],
      "execution_count": null,
      "outputs": []
    },
    {
      "cell_type": "code",
      "metadata": {
        "id": "Oy77BYlQLmDk",
        "outputId": "890dd575-b6c1-4cfc-878f-f9ba509c143c"
      },
      "source": [
        "df = df.reset_index() # Do not do it until you want to group by cnpj\n",
        "df.head(3)"
      ],
      "execution_count": null,
      "outputs": [
        {
          "output_type": "execute_result",
          "data": {
            "text/html": [
              "<div>\n",
              "<style scoped>\n",
              "    .dataframe tbody tr th:only-of-type {\n",
              "        vertical-align: middle;\n",
              "    }\n",
              "\n",
              "    .dataframe tbody tr th {\n",
              "        vertical-align: top;\n",
              "    }\n",
              "\n",
              "    .dataframe thead th {\n",
              "        text-align: right;\n",
              "    }\n",
              "</style>\n",
              "<table border=\"1\" class=\"dataframe\">\n",
              "  <thead>\n",
              "    <tr style=\"text-align: right;\">\n",
              "      <th></th>\n",
              "      <th>CNPJ_FUNDO</th>\n",
              "      <th>DT_COMPTC</th>\n",
              "      <th>VL_TOTAL</th>\n",
              "      <th>VL_QUOTA</th>\n",
              "      <th>VL_PATRIM_LIQ</th>\n",
              "      <th>CAPTC_DIA</th>\n",
              "      <th>RESG_DIA</th>\n",
              "      <th>NR_COTST</th>\n",
              "    </tr>\n",
              "  </thead>\n",
              "  <tbody>\n",
              "    <tr>\n",
              "      <th>0</th>\n",
              "      <td>00.017.024/0001-53</td>\n",
              "      <td>2020-09-01</td>\n",
              "      <td>1109980.23</td>\n",
              "      <td>27.529846</td>\n",
              "      <td>1110436.09</td>\n",
              "      <td>0.0</td>\n",
              "      <td>0.0</td>\n",
              "      <td>1</td>\n",
              "    </tr>\n",
              "    <tr>\n",
              "      <th>1</th>\n",
              "      <td>00.017.024/0001-53</td>\n",
              "      <td>2020-09-02</td>\n",
              "      <td>1110061.15</td>\n",
              "      <td>27.530474</td>\n",
              "      <td>1110461.43</td>\n",
              "      <td>0.0</td>\n",
              "      <td>0.0</td>\n",
              "      <td>1</td>\n",
              "    </tr>\n",
              "    <tr>\n",
              "      <th>2</th>\n",
              "      <td>00.017.024/0001-53</td>\n",
              "      <td>2020-09-03</td>\n",
              "      <td>1110144.96</td>\n",
              "      <td>27.531079</td>\n",
              "      <td>1110485.83</td>\n",
              "      <td>0.0</td>\n",
              "      <td>0.0</td>\n",
              "      <td>1</td>\n",
              "    </tr>\n",
              "  </tbody>\n",
              "</table>\n",
              "</div>"
            ],
            "text/plain": [
              "           CNPJ_FUNDO   DT_COMPTC    VL_TOTAL   VL_QUOTA  VL_PATRIM_LIQ  \\\n",
              "0  00.017.024/0001-53  2020-09-01  1109980.23  27.529846     1110436.09   \n",
              "1  00.017.024/0001-53  2020-09-02  1110061.15  27.530474     1110461.43   \n",
              "2  00.017.024/0001-53  2020-09-03  1110144.96  27.531079     1110485.83   \n",
              "\n",
              "   CAPTC_DIA  RESG_DIA  NR_COTST  \n",
              "0        0.0       0.0         1  \n",
              "1        0.0       0.0         1  \n",
              "2        0.0       0.0         1  "
            ]
          },
          "metadata": {
            "tags": []
          },
          "execution_count": 28
        }
      ]
    },
    {
      "cell_type": "markdown",
      "metadata": {
        "id": "84kZUemLLmDl"
      },
      "source": [
        "## Salva dataframe com todos os dados diários em arquivo pkl"
      ]
    },
    {
      "cell_type": "code",
      "metadata": {
        "id": "Ny4BpE5RLmDl",
        "outputId": "ece17d6e-8e94-42c7-d455-2b542cf86039"
      },
      "source": [
        "df.info()"
      ],
      "execution_count": null,
      "outputs": [
        {
          "output_type": "stream",
          "text": [
            "<class 'pandas.core.frame.DataFrame'>\n",
            "RangeIndex: 2160655 entries, 0 to 2160654\n",
            "Data columns (total 8 columns):\n",
            " #   Column         Dtype  \n",
            "---  ------         -----  \n",
            " 0   CNPJ_FUNDO     object \n",
            " 1   DT_COMPTC      object \n",
            " 2   VL_TOTAL       float64\n",
            " 3   VL_QUOTA       float64\n",
            " 4   VL_PATRIM_LIQ  float64\n",
            " 5   CAPTC_DIA      float64\n",
            " 6   RESG_DIA       float64\n",
            " 7   NR_COTST       int64  \n",
            "dtypes: float64(5), int64(1), object(2)\n",
            "memory usage: 131.9+ MB\n"
          ],
          "name": "stdout"
        }
      ]
    },
    {
      "cell_type": "code",
      "metadata": {
        "id": "PBdgLGD5LmDl",
        "outputId": "ccd29e91-666c-4b68-c80d-08d1ada3d12d"
      },
      "source": [
        "path"
      ],
      "execution_count": null,
      "outputs": [
        {
          "output_type": "execute_result",
          "data": {
            "text/plain": [
              "'/home/jovyan/work/@Fund_Eval/CVM/Diario/'"
            ]
          },
          "metadata": {
            "tags": []
          },
          "execution_count": 30
        }
      ]
    },
    {
      "cell_type": "code",
      "metadata": {
        "id": "ISgV-yZwLmDm",
        "outputId": "cf1530f2-a3ed-45f1-bd57-d3ba8626b4dc"
      },
      "source": [
        "filename"
      ],
      "execution_count": null,
      "outputs": [
        {
          "output_type": "execute_result",
          "data": {
            "text/plain": [
              "'df_diario_202009_202102.pkl'"
            ]
          },
          "metadata": {
            "tags": []
          },
          "execution_count": 31
        }
      ]
    },
    {
      "cell_type": "code",
      "metadata": {
        "id": "X-qyJv18LmDm",
        "outputId": "b4a0953c-31ff-492e-c9ab-d37d58f86a08"
      },
      "source": [
        "time_start = perf_counter()\n",
        "\n",
        "#df.to_pickle(remote_path+filename) # changed to remote path\n",
        "df.to_pickle(path+filename) \n",
        "\n",
        "time_end = perf_counter()\n",
        "elapsed_time = time_end - time_start\n",
        "print(' ****salvar df em .pkl demorou ', round(elapsed_time,2) , ' segundos *****')"
      ],
      "execution_count": null,
      "outputs": [
        {
          "output_type": "stream",
          "text": [
            " ****salvar df em .pkl demorou  5.74  segundos *****\n"
          ],
          "name": "stdout"
        }
      ]
    },
    {
      "cell_type": "markdown",
      "metadata": {
        "id": "hI5hEVdbLmDm"
      },
      "source": [
        "## Cálculo do Retorno diário"
      ]
    },
    {
      "cell_type": "code",
      "metadata": {
        "id": "BoWIF5ItLmDm"
      },
      "source": [
        "df2 = df.copy()\n",
        "df2[\"Return\"] = df2.groupby(\"CNPJ_FUNDO\")[\"VL_QUOTA\"].pct_change(1)*100.0"
      ],
      "execution_count": null,
      "outputs": []
    },
    {
      "cell_type": "code",
      "metadata": {
        "id": "dNiAbqdcLmDn",
        "outputId": "557097c6-0272-4a32-8616-888f2eb0958e"
      },
      "source": [
        "df2.info()"
      ],
      "execution_count": null,
      "outputs": [
        {
          "output_type": "stream",
          "text": [
            "<class 'pandas.core.frame.DataFrame'>\n",
            "RangeIndex: 2160655 entries, 0 to 2160654\n",
            "Data columns (total 9 columns):\n",
            " #   Column         Dtype  \n",
            "---  ------         -----  \n",
            " 0   CNPJ_FUNDO     object \n",
            " 1   DT_COMPTC      object \n",
            " 2   VL_TOTAL       float64\n",
            " 3   VL_QUOTA       float64\n",
            " 4   VL_PATRIM_LIQ  float64\n",
            " 5   CAPTC_DIA      float64\n",
            " 6   RESG_DIA       float64\n",
            " 7   NR_COTST       int64  \n",
            " 8   Return         float64\n",
            "dtypes: float64(6), int64(1), object(2)\n",
            "memory usage: 148.4+ MB\n"
          ],
          "name": "stdout"
        }
      ]
    },
    {
      "cell_type": "code",
      "metadata": {
        "id": "M7CvogYpLmDn"
      },
      "source": [
        "# se deu encrenca e o kernel morreu, reler df = pd.read_pickle(path+filename)"
      ],
      "execution_count": null,
      "outputs": []
    },
    {
      "cell_type": "code",
      "metadata": {
        "id": "Fg2PZg-NLmDn",
        "outputId": "fa5c4f58-c57f-46f1-bdd8-f920858b94aa"
      },
      "source": [
        "time_start = perf_counter()\n",
        "\n",
        "#df2.to_pickle(filename)\n",
        "#df.to_pickle(remote_path+filename) # changed to remote path\n",
        "df2.to_pickle(path+filename) \n",
        "\n",
        "time_end = perf_counter()\n",
        "elapsed_time = time_end - time_start\n",
        "print(' ****salvar df em .pkl demorou ', round(elapsed_time,2) , ' segundos *****')"
      ],
      "execution_count": null,
      "outputs": [
        {
          "output_type": "stream",
          "text": [
            " ****salvar df em .pkl demorou  6.07  segundos *****\n"
          ],
          "name": "stdout"
        }
      ]
    },
    {
      "cell_type": "code",
      "metadata": {
        "id": "_n9XJJ4QLmDn"
      },
      "source": [
        "#df[['DT_COMPTC', 'VL_QUOTA', 'Return']][df['CNPJ_FUNDO']=='97.929.213/0001-34']"
      ],
      "execution_count": null,
      "outputs": []
    },
    {
      "cell_type": "code",
      "metadata": {
        "id": "Aia3d1wDLmDo",
        "outputId": "5b91ff51-8102-4dae-8e64-3ce1ced4eaa8"
      },
      "source": [
        "# Example - return of a randomly chosen fund\n",
        "\n",
        "#numpy.random.randint(low, high=None, size=None, dtype='l')\n",
        "random_row = np.random.randint(0,len(df2))\n",
        "random_cnpj = df2['CNPJ_FUNDO'].iloc[random_row,]\n",
        "random_cnpj"
      ],
      "execution_count": null,
      "outputs": [
        {
          "output_type": "execute_result",
          "data": {
            "text/plain": [
              "'36.015.243/0001-40'"
            ]
          },
          "metadata": {
            "tags": []
          },
          "execution_count": 38
        }
      ]
    },
    {
      "cell_type": "code",
      "metadata": {
        "id": "hWnTg_74LmDo",
        "outputId": "661403b3-127e-428a-e5fc-6d07c1b954da"
      },
      "source": [
        "df2.info()"
      ],
      "execution_count": null,
      "outputs": [
        {
          "output_type": "stream",
          "text": [
            "<class 'pandas.core.frame.DataFrame'>\n",
            "RangeIndex: 2160655 entries, 0 to 2160654\n",
            "Data columns (total 9 columns):\n",
            " #   Column         Dtype  \n",
            "---  ------         -----  \n",
            " 0   CNPJ_FUNDO     object \n",
            " 1   DT_COMPTC      object \n",
            " 2   VL_TOTAL       float64\n",
            " 3   VL_QUOTA       float64\n",
            " 4   VL_PATRIM_LIQ  float64\n",
            " 5   CAPTC_DIA      float64\n",
            " 6   RESG_DIA       float64\n",
            " 7   NR_COTST       int64  \n",
            " 8   Return         float64\n",
            "dtypes: float64(6), int64(1), object(2)\n",
            "memory usage: 148.4+ MB\n"
          ],
          "name": "stdout"
        }
      ]
    },
    {
      "cell_type": "code",
      "metadata": {
        "id": "4s9CjThNLmDo"
      },
      "source": [
        "df_to_plot = df2[['CNPJ_FUNDO','DT_COMPTC','Return']].copy()"
      ],
      "execution_count": null,
      "outputs": []
    },
    {
      "cell_type": "code",
      "metadata": {
        "id": "n5q5fZKlLmDo",
        "outputId": "3ddb1cec-1b89-479c-ac6b-adfa6cbd8bfa"
      },
      "source": [
        "df_to_plot.info()"
      ],
      "execution_count": null,
      "outputs": [
        {
          "output_type": "stream",
          "text": [
            "<class 'pandas.core.frame.DataFrame'>\n",
            "RangeIndex: 2160655 entries, 0 to 2160654\n",
            "Data columns (total 3 columns):\n",
            " #   Column      Dtype  \n",
            "---  ------      -----  \n",
            " 0   CNPJ_FUNDO  object \n",
            " 1   DT_COMPTC   object \n",
            " 2   Return      float64\n",
            "dtypes: float64(1), object(2)\n",
            "memory usage: 49.5+ MB\n"
          ],
          "name": "stdout"
        }
      ]
    },
    {
      "cell_type": "code",
      "metadata": {
        "id": "T7I1dyJCLmDp",
        "outputId": "9155d667-e9e5-404e-cabd-63c8c9c1c126"
      },
      "source": [
        "sns.set(rc={'figure.figsize':(17,6)})\n",
        "df_to_plot[['DT_COMPTC','Return']][df_to_plot['CNPJ_FUNDO']==random_cnpj].set_index('DT_COMPTC').plot(title = 'Retorno Diário do fundo com CNPJ: '+random_cnpj,\n",
        "                                                                                                     fontsize = 16, linewidth = 2.0, color = '#073763');"
      ],
      "execution_count": null,
      "outputs": [
        {
          "output_type": "display_data",
          "data": {
            "image/png": "[encoded data removed]",
            "text/plain": [
              "<Figure size 1224x432 with 1 Axes>"
            ]
          },
          "metadata": {
            "tags": []
          }
        }
      ]
    },
    {
      "cell_type": "code",
      "metadata": {
        "id": "N_m_-WQyLmDq",
        "outputId": "a097a2f0-a456-4823-9ddf-e37ee3e1c067"
      },
      "source": [
        "sns.set(rc={'figure.figsize':(17,6)})\n",
        "df2[['Return']][df2['CNPJ_FUNDO']==random_cnpj].plot.hist(bins = 30, title = 'Retorno Diário do fundo com CNPJ: '+random_cnpj,\n",
        "                                                        fontsize = 16, linewidth = 2.0, color = '#134f5c');"
      ],
      "execution_count": null,
      "outputs": [
        {
          "output_type": "display_data",
          "data": {
            "image/png": "[encoded data removed]",
            "text/plain": [
              "<Figure size 1224x432 with 1 Axes>"
            ]
          },
          "metadata": {
            "tags": []
          }
        }
      ]
    },
    {
      "cell_type": "code",
      "metadata": {
        "id": "yMZpiq-4LmDq",
        "outputId": "f8d11248-f13b-464c-8c95-dc00fa19af79"
      },
      "source": [
        "# Show days where return below 1% for randomly selected fund\n",
        "\n",
        "df2[['DT_COMPTC','Return']][(df2['CNPJ_FUNDO']==random_cnpj )& (df2['Return'] < -1)].set_index('DT_COMPTC')"
      ],
      "execution_count": null,
      "outputs": [
        {
          "output_type": "execute_result",
          "data": {
            "text/html": [
              "<div>\n",
              "<style scoped>\n",
              "    .dataframe tbody tr th:only-of-type {\n",
              "        vertical-align: middle;\n",
              "    }\n",
              "\n",
              "    .dataframe tbody tr th {\n",
              "        vertical-align: top;\n",
              "    }\n",
              "\n",
              "    .dataframe thead th {\n",
              "        text-align: right;\n",
              "    }\n",
              "</style>\n",
              "<table border=\"1\" class=\"dataframe\">\n",
              "  <thead>\n",
              "    <tr style=\"text-align: right;\">\n",
              "      <th></th>\n",
              "      <th>Return</th>\n",
              "    </tr>\n",
              "    <tr>\n",
              "      <th>DT_COMPTC</th>\n",
              "      <th></th>\n",
              "    </tr>\n",
              "  </thead>\n",
              "  <tbody>\n",
              "  </tbody>\n",
              "</table>\n",
              "</div>"
            ],
            "text/plain": [
              "Empty DataFrame\n",
              "Columns: [Return]\n",
              "Index: []"
            ]
          },
          "metadata": {
            "tags": []
          },
          "execution_count": 44
        }
      ]
    },
    {
      "cell_type": "markdown",
      "metadata": {
        "id": "oNGkkNGDLmDr"
      },
      "source": [
        "## Salva dataframe incluindo retornos diários em arquivo csv"
      ]
    },
    {
      "cell_type": "code",
      "metadata": {
        "id": "ERf4eqj2LmDr",
        "outputId": "66390a74-76c7-4d72-e5f8-8e1945f077c0"
      },
      "source": [
        "time_start = perf_counter()\n",
        "df2.to_csv(path+'df_diario_'+str(ct[0])+'_'+str(ct[-1])+'.csv',sep = ';' ,encoding='utf-8')#, compression = 'zip')\n",
        "#df2.to_csv('df_diario_'+str(ct[0])+'_'+str(ct[-1])+'.csv',sep = ';' ,encoding='utf-8')#, compression = 'zip')\n",
        "\n",
        "time_end = perf_counter()\n",
        "elapsed_time = time_end - time_start\n",
        "print(' ****salvar df em .csv demorou ', round(elapsed_time,2) , ' segundos *****')"
      ],
      "execution_count": null,
      "outputs": [
        {
          "output_type": "stream",
          "text": [
            " ****salvar df em .csv demorou  190.99  segundos *****\n"
          ],
          "name": "stdout"
        }
      ]
    },
    {
      "cell_type": "code",
      "metadata": {
        "id": "opDgsBHfLmDs"
      },
      "source": [
        ""
      ],
      "execution_count": null,
      "outputs": []
    }
  ]
}