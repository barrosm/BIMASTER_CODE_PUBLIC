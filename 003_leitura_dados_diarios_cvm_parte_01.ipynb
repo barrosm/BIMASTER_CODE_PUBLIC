{
  "nbformat": 4,
  "nbformat_minor": 0,
  "metadata": {
    "kernelspec": {
      "display_name": "Python 3",
      "language": "python",
      "name": "python3"
    },
    "language_info": {
      "codemirror_mode": {
        "name": "ipython",
        "version": 3
      },
      "file_extension": ".py",
      "mimetype": "text/x-python",
      "name": "python",
      "nbconvert_exporter": "python",
      "pygments_lexer": "ipython3",
      "version": "3.8.3"
    },
    "colab": {
      "name": "003_leitura_dados_diarios_cvm_parte_01.ipynb",
      "provenance": [],
      "collapsed_sections": [],
      "include_colab_link": true
    }
  },
  "cells": [
    {
      "cell_type": "markdown",
      "metadata": {
        "id": "view-in-github",
        "colab_type": "text"
      },
      "source": [
        "<a href=\"https://colab.research.google.com/github/barrosm/BIMASTER_CODE_PUBLIC/blob/main/003_leitura_dados_diarios_cvm_parte_01.ipynb\" target=\"_parent\"><img src=\"https://colab.research.google.com/assets/colab-badge.svg\" alt=\"Open In Colab\"/></a>"
      ]
    },
    {
      "cell_type": "markdown",
      "metadata": {
        "id": "OXSfrmDdM1lE"
      },
      "source": [
        "## Leitura de dados diários de fundos de investimentos"
      ]
    },
    {
      "cell_type": "markdown",
      "metadata": {
        "id": "p5P3PHd5M1lM"
      },
      "source": [
        "### Data: 13/02/2020"
      ]
    },
    {
      "cell_type": "markdown",
      "metadata": {
        "id": "rjDKP5YGM1lN"
      },
      "source": [
        "Mês início = 01/2017\n",
        "Mês final = 02/2020 (ainda incompleto)"
      ]
    },
    {
      "cell_type": "code",
      "metadata": {
        "id": "myWgHMewM1lN"
      },
      "source": [
        "import pandas as pd\n",
        "import os as os\n",
        "import matplotlib.pyplot as plt\n",
        "import numpy as np\n",
        "\n",
        "from datetime import datetime\n",
        "%matplotlib inline\n",
        "\n",
        "import seaborn as sns; \n",
        "sns.set(rc={'figure.figsize':(17,6)})\n",
        "plt.rcParams['axes.labelsize'] = 16\n",
        "plt.rcParams['xtick.labelsize'] = 14\n",
        "plt.rcParams['ytick.labelsize'] = 14\n",
        "\n",
        "import os\n",
        "current_dir = os.getcwd()\n",
        "current_dir\n",
        "\n",
        "from time import perf_counter\n",
        "import pickle"
      ],
      "execution_count": 6,
      "outputs": []
    },
    {
      "cell_type": "code",
      "metadata": {
        "id": "4CPovC9jM1lO"
      },
      "source": [
        "os.chdir('..')  # vai um nível para cima\n",
        "current_dir = os.getcwd()\n",
        "current_dir\n",
        "\n",
        "path = current_dir + '/CVM/Diario/' #Linux\n",
        "#path = current_dir + '\\\\CVM\\\\Diario\\\\'  #Windows\n",
        "os.makedirs(path, exist_ok = 'TRUE')"
      ],
      "execution_count": 7,
      "outputs": []
    },
    {
      "cell_type": "code",
      "metadata": {
        "id": "X69D9sFlM1lO"
      },
      "source": [
        "# REMOTE PATH\n",
        "remote_path = '/home/jupyter/Notebooks/monica/@Fund_Eval/CVM/Diario/'\n",
        "os.makedirs(remote_path, exist_ok = 'TRUE')"
      ],
      "execution_count": 8,
      "outputs": []
    },
    {
      "cell_type": "code",
      "metadata": {
        "colab": {
          "base_uri": "https://localhost:8080/",
          "height": 35
        },
        "id": "KwfTdfGsM1lO",
        "outputId": "3cef6bc2-14ec-47bb-a3f7-6af7bcb205d9"
      },
      "source": [
        "path"
      ],
      "execution_count": 9,
      "outputs": [
        {
          "output_type": "execute_result",
          "data": {
            "application/vnd.google.colaboratory.intrinsic+json": {
              "type": "string"
            },
            "text/plain": [
              "'//CVM/Diario/'"
            ]
          },
          "metadata": {
            "tags": []
          },
          "execution_count": 9
        }
      ]
    },
    {
      "cell_type": "code",
      "metadata": {
        "id": "jdB28nvHM1lP"
      },
      "source": [
        "url_address = 'http://dados.cvm.gov.br/dados/FI/DOC/INF_DIARIO/DADOS/inf_diario_fi_'"
      ],
      "execution_count": 10,
      "outputs": []
    },
    {
      "cell_type": "code",
      "metadata": {
        "id": "vLi0Exf1M1lP"
      },
      "source": [
        "ct = ['201701', '201702', '201703', '201704', '201705', '201706', '201707', '201708', '201709', '201710', '201711', '201712',\n",
        "     '201801', '201802', '201803', '201804', '201805', '201806', '201807', '201808', '201809', '201810', '201811', '201812',\n",
        "      '201901', '201902', '201903', '201904', '201905', '201906', '201907', '201908', '201909', '201910', '201911', '201912',\n",
        "      '202001', '202002']"
      ],
      "execution_count": 11,
      "outputs": []
    },
    {
      "cell_type": "code",
      "metadata": {
        "id": "nefPQvC9M1lQ"
      },
      "source": [
        "start_month = ct[0]\n",
        "end_month = ct[-1]"
      ],
      "execution_count": 12,
      "outputs": []
    },
    {
      "cell_type": "code",
      "metadata": {
        "id": "DI_4K08pM1lQ"
      },
      "source": [
        "filename = 'df_diario_'+start_month+'_'+end_month+'.pkl'"
      ],
      "execution_count": 13,
      "outputs": []
    },
    {
      "cell_type": "code",
      "metadata": {
        "id": "ywOwjqbjM1lQ"
      },
      "source": [
        "arq_names = [url_address + i + '.csv' for i in ct]"
      ],
      "execution_count": 14,
      "outputs": []
    },
    {
      "cell_type": "code",
      "metadata": {
        "colab": {
          "base_uri": "https://localhost:8080/"
        },
        "id": "LOAzoBg7M1lR",
        "outputId": "d2528ec1-1e3c-487c-d49f-5a89ff20177d"
      },
      "source": [
        "arq_names[-5:]"
      ],
      "execution_count": 15,
      "outputs": [
        {
          "output_type": "execute_result",
          "data": {
            "text/plain": [
              "['http://dados.cvm.gov.br/dados/FI/DOC/INF_DIARIO/DADOS/inf_diario_fi_201910.csv',\n",
              " 'http://dados.cvm.gov.br/dados/FI/DOC/INF_DIARIO/DADOS/inf_diario_fi_201911.csv',\n",
              " 'http://dados.cvm.gov.br/dados/FI/DOC/INF_DIARIO/DADOS/inf_diario_fi_201912.csv',\n",
              " 'http://dados.cvm.gov.br/dados/FI/DOC/INF_DIARIO/DADOS/inf_diario_fi_202001.csv',\n",
              " 'http://dados.cvm.gov.br/dados/FI/DOC/INF_DIARIO/DADOS/inf_diario_fi_202002.csv']"
            ]
          },
          "metadata": {
            "tags": []
          },
          "execution_count": 15
        }
      ]
    },
    {
      "cell_type": "code",
      "metadata": {
        "colab": {
          "base_uri": "https://localhost:8080/"
        },
        "id": "CEYlDBmsM1lR",
        "outputId": "16257909-3140-4b04-e48e-55799751cd97"
      },
      "source": [
        "# Número de arquivos (meses) lidos \n",
        "len(arq_names)"
      ],
      "execution_count": 16,
      "outputs": [
        {
          "output_type": "execute_result",
          "data": {
            "text/plain": [
              "38"
            ]
          },
          "metadata": {
            "tags": []
          },
          "execution_count": 16
        }
      ]
    },
    {
      "cell_type": "code",
      "metadata": {
        "id": "PXJ8zBRpM1lR"
      },
      "source": [
        "# Cria dataframe vazia\n",
        "df = pd.DataFrame()"
      ],
      "execution_count": 17,
      "outputs": []
    },
    {
      "cell_type": "markdown",
      "metadata": {
        "id": "uLhl8QE6M1lR"
      },
      "source": [
        "## Leitura dos arquivos e concatenação num único dataframe - o índice é o CNPJ"
      ]
    },
    {
      "cell_type": "code",
      "metadata": {
        "colab": {
          "base_uri": "https://localhost:8080/"
        },
        "id": "g1TXlVgUM1lS",
        "outputId": "c0c1a49c-41b7-4014-c3a0-4897f1840d46"
      },
      "source": [
        "%time\n",
        "time_start = perf_counter()\n",
        "df = pd.concat((pd.read_csv(f, sep = ';', index_col=0) for f in arq_names))\n",
        "time_end = perf_counter()\n",
        "elapsed_time = time_end - time_start\n",
        "\n",
        "print(' **** a leitura dos dados demorou ', round(elapsed_time,2) , ' segundos *****')"
      ],
      "execution_count": 18,
      "outputs": [
        {
          "output_type": "stream",
          "text": [
            "CPU times: user 1 µs, sys: 0 ns, total: 1 µs\n",
            "Wall time: 5.01 µs\n",
            " **** a leitura dos dados demorou  289.36  segundos *****\n"
          ],
          "name": "stdout"
        }
      ]
    },
    {
      "cell_type": "code",
      "metadata": {
        "id": "Xppuh0WXM1lS"
      },
      "source": [
        "#df.head(3)\n",
        "#df.tail(3)"
      ],
      "execution_count": 19,
      "outputs": []
    },
    {
      "cell_type": "code",
      "metadata": {
        "colab": {
          "base_uri": "https://localhost:8080/",
          "height": 138
        },
        "id": "P5IqOvM3M1lS",
        "outputId": "1b32b121-8d10-431e-e674-a7875a732848"
      },
      "source": [
        "df = df.reset_index() # Do not do it until you want to group by cnpj\n",
        "df.head(3)"
      ],
      "execution_count": 20,
      "outputs": [
        {
          "output_type": "execute_result",
          "data": {
            "text/html": [
              "<div>\n",
              "<style scoped>\n",
              "    .dataframe tbody tr th:only-of-type {\n",
              "        vertical-align: middle;\n",
              "    }\n",
              "\n",
              "    .dataframe tbody tr th {\n",
              "        vertical-align: top;\n",
              "    }\n",
              "\n",
              "    .dataframe thead th {\n",
              "        text-align: right;\n",
              "    }\n",
              "</style>\n",
              "<table border=\"1\" class=\"dataframe\">\n",
              "  <thead>\n",
              "    <tr style=\"text-align: right;\">\n",
              "      <th></th>\n",
              "      <th>CNPJ_FUNDO</th>\n",
              "      <th>DT_COMPTC</th>\n",
              "      <th>VL_TOTAL</th>\n",
              "      <th>VL_QUOTA</th>\n",
              "      <th>VL_PATRIM_LIQ</th>\n",
              "      <th>CAPTC_DIA</th>\n",
              "      <th>RESG_DIA</th>\n",
              "      <th>NR_COTST</th>\n",
              "    </tr>\n",
              "  </thead>\n",
              "  <tbody>\n",
              "    <tr>\n",
              "      <th>0</th>\n",
              "      <td>00.017.024/0001-53</td>\n",
              "      <td>2017-01-02</td>\n",
              "      <td>1082310.35</td>\n",
              "      <td>24.264751</td>\n",
              "      <td>1080998.58</td>\n",
              "      <td>0.0</td>\n",
              "      <td>0.0</td>\n",
              "      <td>1</td>\n",
              "    </tr>\n",
              "    <tr>\n",
              "      <th>1</th>\n",
              "      <td>00.017.024/0001-53</td>\n",
              "      <td>2017-01-03</td>\n",
              "      <td>1082843.72</td>\n",
              "      <td>24.274863</td>\n",
              "      <td>1081449.09</td>\n",
              "      <td>0.0</td>\n",
              "      <td>0.0</td>\n",
              "      <td>1</td>\n",
              "    </tr>\n",
              "    <tr>\n",
              "      <th>2</th>\n",
              "      <td>00.017.024/0001-53</td>\n",
              "      <td>2017-01-04</td>\n",
              "      <td>1083398.28</td>\n",
              "      <td>24.284681</td>\n",
              "      <td>1081886.49</td>\n",
              "      <td>0.0</td>\n",
              "      <td>0.0</td>\n",
              "      <td>1</td>\n",
              "    </tr>\n",
              "  </tbody>\n",
              "</table>\n",
              "</div>"
            ],
            "text/plain": [
              "           CNPJ_FUNDO   DT_COMPTC    VL_TOTAL  ...  CAPTC_DIA  RESG_DIA  NR_COTST\n",
              "0  00.017.024/0001-53  2017-01-02  1082310.35  ...        0.0       0.0         1\n",
              "1  00.017.024/0001-53  2017-01-03  1082843.72  ...        0.0       0.0         1\n",
              "2  00.017.024/0001-53  2017-01-04  1083398.28  ...        0.0       0.0         1\n",
              "\n",
              "[3 rows x 8 columns]"
            ]
          },
          "metadata": {
            "tags": []
          },
          "execution_count": 20
        }
      ]
    },
    {
      "cell_type": "markdown",
      "metadata": {
        "id": "EpURW4tKM1lT"
      },
      "source": [
        "## Salva dataframe com todos os dados diários em arquivo pkl"
      ]
    },
    {
      "cell_type": "code",
      "metadata": {
        "colab": {
          "base_uri": "https://localhost:8080/"
        },
        "id": "x0MYUXI8M1lT",
        "outputId": "23869450-2387-4aa3-fde5-a3331922a783"
      },
      "source": [
        "df.info()"
      ],
      "execution_count": 21,
      "outputs": [
        {
          "output_type": "stream",
          "text": [
            "<class 'pandas.core.frame.DataFrame'>\n",
            "RangeIndex: 11583037 entries, 0 to 11583036\n",
            "Data columns (total 8 columns):\n",
            " #   Column         Dtype  \n",
            "---  ------         -----  \n",
            " 0   CNPJ_FUNDO     object \n",
            " 1   DT_COMPTC      object \n",
            " 2   VL_TOTAL       float64\n",
            " 3   VL_QUOTA       float64\n",
            " 4   VL_PATRIM_LIQ  float64\n",
            " 5   CAPTC_DIA      float64\n",
            " 6   RESG_DIA       float64\n",
            " 7   NR_COTST       int64  \n",
            "dtypes: float64(5), int64(1), object(2)\n",
            "memory usage: 707.0+ MB\n"
          ],
          "name": "stdout"
        }
      ]
    },
    {
      "cell_type": "code",
      "metadata": {
        "colab": {
          "base_uri": "https://localhost:8080/"
        },
        "id": "8VPj4gGxM1lT",
        "outputId": "99be3f6a-65df-45e4-f95f-5f30b8b6e3c7"
      },
      "source": [
        "time_start = perf_counter()\n",
        "\n",
        "df.to_pickle(remote_path+filename) # changed to remote path\n",
        "#df.to_pickle(path+filename) \n",
        "\n",
        "time_end = perf_counter()\n",
        "elapsed_time = time_end - time_start\n",
        "print(' ****salvar df em .pkl demorou ', round(elapsed_time,2) , ' segundos *****')"
      ],
      "execution_count": 22,
      "outputs": [
        {
          "output_type": "stream",
          "text": [
            " ****salvar df em .pkl demorou  3.83  segundos *****\n"
          ],
          "name": "stdout"
        }
      ]
    },
    {
      "cell_type": "markdown",
      "metadata": {
        "id": "rzNpoD8YM1lT"
      },
      "source": [
        "## Cálculo do Retorno diário"
      ]
    },
    {
      "cell_type": "code",
      "metadata": {
        "id": "Zn91HYINM1lU"
      },
      "source": [
        "df[\"Return\"] = df.groupby(\"CNPJ_FUNDO\")[\"VL_QUOTA\"].pct_change(1)*100.0"
      ],
      "execution_count": 23,
      "outputs": []
    },
    {
      "cell_type": "code",
      "metadata": {
        "colab": {
          "base_uri": "https://localhost:8080/"
        },
        "id": "zL_JioJlM1lU",
        "outputId": "b83a4748-3f83-4e63-e2aa-eecbcfe220dc"
      },
      "source": [
        "df.info()"
      ],
      "execution_count": 24,
      "outputs": [
        {
          "output_type": "stream",
          "text": [
            "<class 'pandas.core.frame.DataFrame'>\n",
            "RangeIndex: 11583037 entries, 0 to 11583036\n",
            "Data columns (total 9 columns):\n",
            " #   Column         Dtype  \n",
            "---  ------         -----  \n",
            " 0   CNPJ_FUNDO     object \n",
            " 1   DT_COMPTC      object \n",
            " 2   VL_TOTAL       float64\n",
            " 3   VL_QUOTA       float64\n",
            " 4   VL_PATRIM_LIQ  float64\n",
            " 5   CAPTC_DIA      float64\n",
            " 6   RESG_DIA       float64\n",
            " 7   NR_COTST       int64  \n",
            " 8   Return         float64\n",
            "dtypes: float64(6), int64(1), object(2)\n",
            "memory usage: 795.3+ MB\n"
          ],
          "name": "stdout"
        }
      ]
    },
    {
      "cell_type": "code",
      "metadata": {
        "id": "l_zD7w1wM1lV"
      },
      "source": [
        "# se deu encrenca e o kernel morreu, reler df = pd.read_pickle(path+filename)"
      ],
      "execution_count": 25,
      "outputs": []
    },
    {
      "cell_type": "code",
      "metadata": {
        "colab": {
          "base_uri": "https://localhost:8080/"
        },
        "id": "nRztzQn7M1lV",
        "outputId": "18110787-aea0-40f7-b70d-50b31dd3b5d4"
      },
      "source": [
        "time_start = perf_counter()\n",
        "\n",
        "df.to_pickle(remote_path+filename) # changed to remote path\n",
        "#df.to_pickle(path+filename) \n",
        "\n",
        "time_end = perf_counter()\n",
        "elapsed_time = time_end - time_start\n",
        "print(' ****salvar df em .pkl demorou ', round(elapsed_time,2) , ' segundos *****')"
      ],
      "execution_count": 26,
      "outputs": [
        {
          "output_type": "stream",
          "text": [
            " ****salvar df em .pkl demorou  3.83  segundos *****\n"
          ],
          "name": "stdout"
        }
      ]
    },
    {
      "cell_type": "code",
      "metadata": {
        "colab": {
          "base_uri": "https://localhost:8080/",
          "height": 407
        },
        "id": "E-qLzlDQM1lV",
        "outputId": "67fb3ef4-1da9-464c-cb97-488124b00873"
      },
      "source": [
        "df[['DT_COMPTC', 'VL_QUOTA', 'Return']][df['CNPJ_FUNDO']=='97.929.213/0001-34']"
      ],
      "execution_count": 27,
      "outputs": [
        {
          "output_type": "execute_result",
          "data": {
            "text/html": [
              "<div>\n",
              "<style scoped>\n",
              "    .dataframe tbody tr th:only-of-type {\n",
              "        vertical-align: middle;\n",
              "    }\n",
              "\n",
              "    .dataframe tbody tr th {\n",
              "        vertical-align: top;\n",
              "    }\n",
              "\n",
              "    .dataframe thead th {\n",
              "        text-align: right;\n",
              "    }\n",
              "</style>\n",
              "<table border=\"1\" class=\"dataframe\">\n",
              "  <thead>\n",
              "    <tr style=\"text-align: right;\">\n",
              "      <th></th>\n",
              "      <th>DT_COMPTC</th>\n",
              "      <th>VL_QUOTA</th>\n",
              "      <th>Return</th>\n",
              "    </tr>\n",
              "  </thead>\n",
              "  <tbody>\n",
              "    <tr>\n",
              "      <th>290109</th>\n",
              "      <td>2017-01-02</td>\n",
              "      <td>7.396478</td>\n",
              "      <td>NaN</td>\n",
              "    </tr>\n",
              "    <tr>\n",
              "      <th>290110</th>\n",
              "      <td>2017-01-03</td>\n",
              "      <td>7.403134</td>\n",
              "      <td>0.089997</td>\n",
              "    </tr>\n",
              "    <tr>\n",
              "      <th>290111</th>\n",
              "      <td>2017-01-04</td>\n",
              "      <td>7.384956</td>\n",
              "      <td>-0.245546</td>\n",
              "    </tr>\n",
              "    <tr>\n",
              "      <th>290112</th>\n",
              "      <td>2017-01-05</td>\n",
              "      <td>7.374894</td>\n",
              "      <td>-0.136255</td>\n",
              "    </tr>\n",
              "    <tr>\n",
              "      <th>290113</th>\n",
              "      <td>2017-01-06</td>\n",
              "      <td>7.376661</td>\n",
              "      <td>0.023969</td>\n",
              "    </tr>\n",
              "    <tr>\n",
              "      <th>...</th>\n",
              "      <td>...</td>\n",
              "      <td>...</td>\n",
              "      <td>...</td>\n",
              "    </tr>\n",
              "    <tr>\n",
              "      <th>11583032</th>\n",
              "      <td>2020-02-20</td>\n",
              "      <td>8.761928</td>\n",
              "      <td>-0.303703</td>\n",
              "    </tr>\n",
              "    <tr>\n",
              "      <th>11583033</th>\n",
              "      <td>2020-02-21</td>\n",
              "      <td>8.743980</td>\n",
              "      <td>-0.204833</td>\n",
              "    </tr>\n",
              "    <tr>\n",
              "      <th>11583034</th>\n",
              "      <td>2020-02-26</td>\n",
              "      <td>8.600821</td>\n",
              "      <td>-1.637233</td>\n",
              "    </tr>\n",
              "    <tr>\n",
              "      <th>11583035</th>\n",
              "      <td>2020-02-27</td>\n",
              "      <td>8.544137</td>\n",
              "      <td>-0.659056</td>\n",
              "    </tr>\n",
              "    <tr>\n",
              "      <th>11583036</th>\n",
              "      <td>2020-02-28</td>\n",
              "      <td>8.554162</td>\n",
              "      <td>0.117340</td>\n",
              "    </tr>\n",
              "  </tbody>\n",
              "</table>\n",
              "<p>792 rows × 3 columns</p>\n",
              "</div>"
            ],
            "text/plain": [
              "           DT_COMPTC  VL_QUOTA    Return\n",
              "290109    2017-01-02  7.396478       NaN\n",
              "290110    2017-01-03  7.403134  0.089997\n",
              "290111    2017-01-04  7.384956 -0.245546\n",
              "290112    2017-01-05  7.374894 -0.136255\n",
              "290113    2017-01-06  7.376661  0.023969\n",
              "...              ...       ...       ...\n",
              "11583032  2020-02-20  8.761928 -0.303703\n",
              "11583033  2020-02-21  8.743980 -0.204833\n",
              "11583034  2020-02-26  8.600821 -1.637233\n",
              "11583035  2020-02-27  8.544137 -0.659056\n",
              "11583036  2020-02-28  8.554162  0.117340\n",
              "\n",
              "[792 rows x 3 columns]"
            ]
          },
          "metadata": {
            "tags": []
          },
          "execution_count": 27
        }
      ]
    },
    {
      "cell_type": "code",
      "metadata": {
        "colab": {
          "base_uri": "https://localhost:8080/",
          "height": 35
        },
        "id": "25pd94BQM1lW",
        "outputId": "3f3ac32f-f145-41ff-e44b-9985fd8d4c51"
      },
      "source": [
        "# Example - return of a randomly chosen fund\n",
        "\n",
        "#numpy.random.randint(low, high=None, size=None, dtype='l')\n",
        "random_row = np.random.randint(0,len(df))\n",
        "random_cnpj = df['CNPJ_FUNDO'].iloc[random_row,]\n",
        "random_cnpj"
      ],
      "execution_count": 28,
      "outputs": [
        {
          "output_type": "execute_result",
          "data": {
            "application/vnd.google.colaboratory.intrinsic+json": {
              "type": "string"
            },
            "text/plain": [
              "'28.075.153/0001-17'"
            ]
          },
          "metadata": {
            "tags": []
          },
          "execution_count": 28
        }
      ]
    },
    {
      "cell_type": "code",
      "metadata": {
        "id": "abYra5n8M1lW"
      },
      "source": [
        "df_to_plot = df[['CNPJ_FUNDO','DT_COMPTC','Return']].copy()\n"
      ],
      "execution_count": 29,
      "outputs": []
    },
    {
      "cell_type": "code",
      "metadata": {
        "colab": {
          "base_uri": "https://localhost:8080/"
        },
        "id": "-BG_HCH9M1lW",
        "outputId": "d7ab1672-e317-428b-a746-32f14f5268ea"
      },
      "source": [
        "df_to_plot.info()"
      ],
      "execution_count": 30,
      "outputs": [
        {
          "output_type": "stream",
          "text": [
            "<class 'pandas.core.frame.DataFrame'>\n",
            "RangeIndex: 11583037 entries, 0 to 11583036\n",
            "Data columns (total 3 columns):\n",
            " #   Column      Dtype  \n",
            "---  ------      -----  \n",
            " 0   CNPJ_FUNDO  object \n",
            " 1   DT_COMPTC   object \n",
            " 2   Return      float64\n",
            "dtypes: float64(1), object(2)\n",
            "memory usage: 265.1+ MB\n"
          ],
          "name": "stdout"
        }
      ]
    },
    {
      "cell_type": "code",
      "metadata": {
        "colab": {
          "base_uri": "https://localhost:8080/",
          "height": 415
        },
        "id": "AQqyE0XgM1lX",
        "outputId": "c727bf84-07fe-4cf0-9188-49a3970e2772"
      },
      "source": [
        "sns.set(rc={'figure.figsize':(17,6)})\n",
        "df_to_plot[['DT_COMPTC','Return']][df_to_plot['CNPJ_FUNDO']==random_cnpj].set_index('DT_COMPTC').plot(title = 'Retorno Diário do fundo com CNPJ: '+random_cnpj,\n",
        "                                                                                                     fontsize = 16, linewidth = 2.0, color = '#073763');"
      ],
      "execution_count": 31,
      "outputs": [
        {
          "output_type": "display_data",
          "data": {
            "image/png": "[encoded data removed]",
            "text/plain": [
              "<Figure size 1224x432 with 1 Axes>"
            ]
          },
          "metadata": {
            "tags": []
          }
        }
      ]
    },
    {
      "cell_type": "code",
      "metadata": {
        "colab": {
          "base_uri": "https://localhost:8080/",
          "height": 416
        },
        "id": "dDKGP0VdM1lX",
        "outputId": "afef18e0-8458-43b0-ad81-a7fc9b6d96bd"
      },
      "source": [
        "sns.set(rc={'figure.figsize':(17,6)})\n",
        "df[['Return']][df['CNPJ_FUNDO']==random_cnpj].plot.hist(bins = 30, title = 'Retorno Diário do fundo com CNPJ: '+random_cnpj,\n",
        "                                                        fontsize = 16, linewidth = 2.0, color = '#134f5c')"
      ],
      "execution_count": 32,
      "outputs": [
        {
          "output_type": "execute_result",
          "data": {
            "text/plain": [
              "<matplotlib.axes._subplots.AxesSubplot at 0x7f2136970090>"
            ]
          },
          "metadata": {
            "tags": []
          },
          "execution_count": 32
        },
        {
          "output_type": "display_data",
          "data": {
            "image/png": "[encoded data removed]",
            "text/plain": [
              "<Figure size 1224x432 with 1 Axes>"
            ]
          },
          "metadata": {
            "tags": []
          }
        }
      ]
    },
    {
      "cell_type": "code",
      "metadata": {
        "colab": {
          "base_uri": "https://localhost:8080/"
        },
        "id": "Fve986yuM1lY",
        "outputId": "ac498dab-233c-4f80-8dde-2eaaad4111f9"
      },
      "source": [
        "df.info()"
      ],
      "execution_count": 33,
      "outputs": [
        {
          "output_type": "stream",
          "text": [
            "<class 'pandas.core.frame.DataFrame'>\n",
            "RangeIndex: 11583037 entries, 0 to 11583036\n",
            "Data columns (total 9 columns):\n",
            " #   Column         Dtype  \n",
            "---  ------         -----  \n",
            " 0   CNPJ_FUNDO     object \n",
            " 1   DT_COMPTC      object \n",
            " 2   VL_TOTAL       float64\n",
            " 3   VL_QUOTA       float64\n",
            " 4   VL_PATRIM_LIQ  float64\n",
            " 5   CAPTC_DIA      float64\n",
            " 6   RESG_DIA       float64\n",
            " 7   NR_COTST       int64  \n",
            " 8   Return         float64\n",
            "dtypes: float64(6), int64(1), object(2)\n",
            "memory usage: 795.3+ MB\n"
          ],
          "name": "stdout"
        }
      ]
    },
    {
      "cell_type": "code",
      "metadata": {
        "colab": {
          "base_uri": "https://localhost:8080/",
          "height": 138
        },
        "id": "i6e7cFIHM1lY",
        "outputId": "5ac06cbb-d7f8-40fd-ab7e-b7ac71bd2954"
      },
      "source": [
        "# Show days where return below 1% for randomly selected fund\n",
        "\n",
        "df[['DT_COMPTC','Return']][(df['CNPJ_FUNDO']==random_cnpj )& (df['Return'] < -1)].set_index('DT_COMPTC')"
      ],
      "execution_count": 34,
      "outputs": [
        {
          "output_type": "execute_result",
          "data": {
            "text/html": [
              "<div>\n",
              "<style scoped>\n",
              "    .dataframe tbody tr th:only-of-type {\n",
              "        vertical-align: middle;\n",
              "    }\n",
              "\n",
              "    .dataframe tbody tr th {\n",
              "        vertical-align: top;\n",
              "    }\n",
              "\n",
              "    .dataframe thead th {\n",
              "        text-align: right;\n",
              "    }\n",
              "</style>\n",
              "<table border=\"1\" class=\"dataframe\">\n",
              "  <thead>\n",
              "    <tr style=\"text-align: right;\">\n",
              "      <th></th>\n",
              "      <th>Return</th>\n",
              "    </tr>\n",
              "    <tr>\n",
              "      <th>DT_COMPTC</th>\n",
              "      <th></th>\n",
              "    </tr>\n",
              "  </thead>\n",
              "  <tbody>\n",
              "    <tr>\n",
              "      <th>2019-03-27</th>\n",
              "      <td>-1.160428</td>\n",
              "    </tr>\n",
              "    <tr>\n",
              "      <th>2020-02-26</th>\n",
              "      <td>-1.870741</td>\n",
              "    </tr>\n",
              "  </tbody>\n",
              "</table>\n",
              "</div>"
            ],
            "text/plain": [
              "              Return\n",
              "DT_COMPTC           \n",
              "2019-03-27 -1.160428\n",
              "2020-02-26 -1.870741"
            ]
          },
          "metadata": {
            "tags": []
          },
          "execution_count": 34
        }
      ]
    },
    {
      "cell_type": "code",
      "metadata": {
        "id": "922kyuq7M1lY"
      },
      "source": [
        ""
      ],
      "execution_count": 34,
      "outputs": []
    },
    {
      "cell_type": "markdown",
      "metadata": {
        "id": "puWDp6naM1lZ"
      },
      "source": [
        "## Salva dataframe incluindo retornos diários em arquivo csv"
      ]
    },
    {
      "cell_type": "code",
      "metadata": {
        "colab": {
          "base_uri": "https://localhost:8080/"
        },
        "id": "jM4pCSBGM1lZ",
        "outputId": "4ec639e6-2b15-4f6f-fbf6-1238cdce36b2"
      },
      "source": [
        "time_start = perf_counter()\n",
        "df.to_csv('df_diario_'+str(ct[0])+'_'+str(ct[-1])+'.csv',sep = ';' ,encoding='utf-8')#, compression = 'zip')\n",
        "\n",
        "time_end = perf_counter()\n",
        "elapsed_time = time_end - time_start\n",
        "print(' ****salvar df em .csv demorou ', round(elapsed_time,2) , ' segundos *****')"
      ],
      "execution_count": 36,
      "outputs": [
        {
          "output_type": "stream",
          "text": [
            " ****salvar df em .csv demorou  106.69  segundos *****\n"
          ],
          "name": "stdout"
        }
      ]
    },
    {
      "cell_type": "code",
      "metadata": {
        "colab": {
          "base_uri": "https://localhost:8080/"
        },
        "id": "dd-JmlwvM1lZ",
        "outputId": "dd882a1b-4a32-45c2-e58a-7b3e47d749ee"
      },
      "source": [
        "!ls -Salh      # Cria arquivo csv de 1.2G"
      ],
      "execution_count": 42,
      "outputs": [
        {
          "output_type": "stream",
          "text": [
            "total 1.2G\n",
            "-rw-r--r--   1 root root 1.2G May 15 23:14 df_diario_201701_202002.csv\n",
            "drwxr-xr-x   1 root root 4.0K May 15 23:12 .\n",
            "drwxr-xr-x   1 root root 4.0K May 15 23:12 ..\n",
            "drwxr-xr-x   1 root root 4.0K May  6 13:31 bin\n",
            "drwxr-xr-x   2 root root 4.0K Apr 24  2018 boot\n",
            "drwxr-xr-x   1 root root 4.0K May  6 13:44 content\n",
            "drwxr-xr-x   3 root root 4.0K May 15 23:03 CVM\n",
            "drwxr-xr-x   1 root root 4.0K May 13 13:53 datalab\n",
            "drwxr-xr-x   1 root root 4.0K May 15 23:01 etc\n",
            "drwxr-xr-x   1 root root 4.0K May 15 23:03 home\n",
            "drwxr-xr-x   1 root root 4.0K May  6 13:33 lib\n",
            "drwxr-xr-x   2 root root 4.0K May  6 13:22 lib32\n",
            "drwxr-xr-x   1 root root 4.0K May  6 13:22 lib64\n",
            "drwxr-xr-x   2 root root 4.0K Sep 21  2020 media\n",
            "drwxr-xr-x   2 root root 4.0K Sep 21  2020 mnt\n",
            "drwxr-xr-x   1 root root 4.0K May  6 13:38 opt\n",
            "drwx------   1 root root 4.0K May 15 23:01 root\n",
            "drwxr-xr-x   1 root root 4.0K May  6 13:25 run\n",
            "drwxr-xr-x   1 root root 4.0K May  6 13:31 sbin\n",
            "drwxr-xr-x   2 root root 4.0K Sep 21  2020 srv\n",
            "drwxr-xr-x   4 root root 4.0K May 13 13:48 tensorflow-1.15.2\n",
            "drwxrwxrwt   1 root root 4.0K May 15 23:01 tmp\n",
            "drwxr-xr-x   1 root root 4.0K May 13 13:53 tools\n",
            "drwxr-xr-x   1 root root 4.0K May  6 13:38 usr\n",
            "drwxr-xr-x   1 root root 4.0K May 15 23:01 var\n",
            "drwxr-xr-x   5 root root  360 May 15 23:01 dev\n",
            "-rwxr-xr-x   1 root root    0 May 15 23:01 .dockerenv\n",
            "dr-xr-xr-x 165 root root    0 May 15 23:01 proc\n",
            "dr-xr-xr-x  12 root root    0 May 15 23:01 sys\n"
          ],
          "name": "stdout"
        }
      ]
    },
    {
      "cell_type": "code",
      "metadata": {
        "id": "WC8QdT4hUZVX"
      },
      "source": [
        ""
      ],
      "execution_count": null,
      "outputs": []
    }
  ]
}