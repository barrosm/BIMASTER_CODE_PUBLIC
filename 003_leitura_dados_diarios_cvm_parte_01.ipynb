{
  "nbformat": 4,
  "nbformat_minor": 0,
  "metadata": {
    "kernelspec": {
      "display_name": "Python 3",
      "language": "python",
      "name": "python3"
    },
    "language_info": {
      "codemirror_mode": {
        "name": "ipython",
        "version": 3
      },
      "file_extension": ".py",
      "mimetype": "text/x-python",
      "name": "python",
      "nbconvert_exporter": "python",
      "pygments_lexer": "ipython3",
      "version": "3.8.3"
    },
    "colab": {
      "name": "003_leitura_dados_diarios_cvm_parte_01.ipynb",
      "provenance": [],
      "include_colab_link": true
    }
  },
  "cells": [
    {
      "cell_type": "markdown",
      "metadata": {
        "id": "view-in-github",
        "colab_type": "text"
      },
      "source": [
        "<a href=\"https://colab.research.google.com/github/barrosm/BIMASTER_CODE_PUBLIC/blob/main/003_leitura_dados_diarios_cvm_parte_01.ipynb\" target=\"_parent\"><img src=\"https://colab.research.google.com/assets/colab-badge.svg\" alt=\"Open In Colab\"/></a>"
      ]
    },
    {
      "cell_type": "markdown",
      "metadata": {
        "id": "OXSfrmDdM1lE"
      },
      "source": [
        "## Leitura de dados diários de fundos de investimentos"
      ]
    },
    {
      "cell_type": "markdown",
      "metadata": {
        "id": "p5P3PHd5M1lM"
      },
      "source": [
        "### Data: 13/02/2020"
      ]
    },
    {
      "cell_type": "markdown",
      "metadata": {
        "id": "rjDKP5YGM1lN"
      },
      "source": [
        "Mês início = 01/2017\n",
        "Mês final = 02/2020 (ainda incompleto)"
      ]
    },
    {
      "cell_type": "code",
      "metadata": {
        "id": "myWgHMewM1lN"
      },
      "source": [
        "import pandas as pd\n",
        "import os as os\n",
        "import matplotlib.pyplot as plt\n",
        "import numpy as np\n",
        "\n",
        "from datetime import datetime\n",
        "%matplotlib inline\n",
        "\n",
        "import seaborn as sns; \n",
        "sns.set(rc={'figure.figsize':(17,6)})\n",
        "plt.rcParams['axes.labelsize'] = 16\n",
        "plt.rcParams['xtick.labelsize'] = 14\n",
        "plt.rcParams['ytick.labelsize'] = 14\n",
        "\n",
        "import os\n",
        "current_dir = os.getcwd()\n",
        "current_dir\n",
        "\n",
        "from time import perf_counter\n",
        "import pickle"
      ],
      "execution_count": null,
      "outputs": []
    },
    {
      "cell_type": "code",
      "metadata": {
        "id": "4CPovC9jM1lO"
      },
      "source": [
        "os.chdir('..')  # vai um nível para cima\n",
        "current_dir = os.getcwd()\n",
        "current_dir\n",
        "\n",
        "path = current_dir + '/CVM/Diario/' #Linux\n",
        "#path = current_dir + '\\\\CVM\\\\Diario\\\\'  #Windows"
      ],
      "execution_count": null,
      "outputs": []
    },
    {
      "cell_type": "code",
      "metadata": {
        "id": "X69D9sFlM1lO"
      },
      "source": [
        "# REMOTE PATH\n",
        "remote_path = '/home/jupyter/Notebooks/monica/@Fund_Eval/CVM/Diario/'"
      ],
      "execution_count": null,
      "outputs": []
    },
    {
      "cell_type": "code",
      "metadata": {
        "id": "KwfTdfGsM1lO",
        "outputId": "bd358151-a7a8-429a-8fad-f49c73bb70d5"
      },
      "source": [
        "path"
      ],
      "execution_count": null,
      "outputs": [
        {
          "output_type": "execute_result",
          "data": {
            "text/plain": [
              "'/home/jupyter/Notebooks/CVM/Diario/'"
            ]
          },
          "metadata": {
            "tags": []
          },
          "execution_count": 6
        }
      ]
    },
    {
      "cell_type": "code",
      "metadata": {
        "id": "jdB28nvHM1lP"
      },
      "source": [
        "url_address = 'http://dados.cvm.gov.br/dados/FI/DOC/INF_DIARIO/DADOS/inf_diario_fi_'"
      ],
      "execution_count": null,
      "outputs": []
    },
    {
      "cell_type": "code",
      "metadata": {
        "id": "vLi0Exf1M1lP"
      },
      "source": [
        "ct = ['201701', '201702', '201703', '201704', '201705', '201706', '201707', '201708', '201709', '201710', '201711', '201712',\n",
        "     '201801', '201802', '201803', '201804', '201805', '201806', '201807', '201808', '201809', '201810', '201811', '201812',\n",
        "      '201901', '201902', '201903', '201904', '201905', '201906', '201907', '201908', '201909', '201910', '201911', '201912',\n",
        "      '202001', '202002']"
      ],
      "execution_count": null,
      "outputs": []
    },
    {
      "cell_type": "code",
      "metadata": {
        "id": "nefPQvC9M1lQ"
      },
      "source": [
        "start_month = ct[0]\n",
        "end_month = ct[-1]"
      ],
      "execution_count": null,
      "outputs": []
    },
    {
      "cell_type": "code",
      "metadata": {
        "id": "DI_4K08pM1lQ"
      },
      "source": [
        "filename = 'df_diario_'+start_month+'_'+end_month+'.pkl'"
      ],
      "execution_count": null,
      "outputs": []
    },
    {
      "cell_type": "code",
      "metadata": {
        "id": "ywOwjqbjM1lQ"
      },
      "source": [
        "arq_names = [url_address + i + '.csv' for i in ct]"
      ],
      "execution_count": null,
      "outputs": []
    },
    {
      "cell_type": "code",
      "metadata": {
        "id": "LOAzoBg7M1lR",
        "outputId": "b466c464-9e87-4006-a22a-32628b425339"
      },
      "source": [
        "arq_names[-5:]"
      ],
      "execution_count": null,
      "outputs": [
        {
          "output_type": "execute_result",
          "data": {
            "text/plain": [
              "['http://dados.cvm.gov.br/dados/FI/DOC/INF_DIARIO/DADOS/inf_diario_fi_201910.csv',\n",
              " 'http://dados.cvm.gov.br/dados/FI/DOC/INF_DIARIO/DADOS/inf_diario_fi_201911.csv',\n",
              " 'http://dados.cvm.gov.br/dados/FI/DOC/INF_DIARIO/DADOS/inf_diario_fi_201912.csv',\n",
              " 'http://dados.cvm.gov.br/dados/FI/DOC/INF_DIARIO/DADOS/inf_diario_fi_202001.csv',\n",
              " 'http://dados.cvm.gov.br/dados/FI/DOC/INF_DIARIO/DADOS/inf_diario_fi_202002.csv']"
            ]
          },
          "metadata": {
            "tags": []
          },
          "execution_count": 15
        }
      ]
    },
    {
      "cell_type": "code",
      "metadata": {
        "id": "CEYlDBmsM1lR",
        "outputId": "be907269-0ffa-4438-92e6-c5a6d53178b4"
      },
      "source": [
        "# Número de arquivos (meses) lidos \n",
        "len(arq_names)"
      ],
      "execution_count": null,
      "outputs": [
        {
          "output_type": "execute_result",
          "data": {
            "text/plain": [
              "38"
            ]
          },
          "metadata": {
            "tags": []
          },
          "execution_count": 16
        }
      ]
    },
    {
      "cell_type": "code",
      "metadata": {
        "id": "PXJ8zBRpM1lR"
      },
      "source": [
        "# Cria dataframe vazia\n",
        "df = pd.DataFrame()"
      ],
      "execution_count": null,
      "outputs": []
    },
    {
      "cell_type": "markdown",
      "metadata": {
        "id": "uLhl8QE6M1lR"
      },
      "source": [
        "## Leitura dos arquivos e concatenação num único dataframe - o índice é o CNPJ"
      ]
    },
    {
      "cell_type": "code",
      "metadata": {
        "id": "g1TXlVgUM1lS",
        "outputId": "40f2be8f-4eb2-4501-ba34-5a4aeed2f520"
      },
      "source": [
        "%time\n",
        "time_start = perf_counter()\n",
        "df = pd.concat((pd.read_csv(f, sep = ';', index_col=0) for f in arq_names))\n",
        "time_end = perf_counter()\n",
        "elapsed_time = time_end - time_start\n",
        "\n",
        "print(' **** a leitura dos dados demorou ', round(elapsed_time,2) , ' segundos *****')"
      ],
      "execution_count": null,
      "outputs": [
        {
          "output_type": "stream",
          "text": [
            "CPU times: user 2 µs, sys: 1e+03 ns, total: 3 µs\n",
            "Wall time: 4.53 µs\n",
            " **** a leitura dos dados demorou  271.18  segundos *****\n"
          ],
          "name": "stdout"
        }
      ]
    },
    {
      "cell_type": "code",
      "metadata": {
        "id": "Xppuh0WXM1lS"
      },
      "source": [
        "#df.head(3)\n",
        "#df.tail(3)"
      ],
      "execution_count": null,
      "outputs": []
    },
    {
      "cell_type": "code",
      "metadata": {
        "id": "P5IqOvM3M1lS"
      },
      "source": [
        "df = df.reset_index() # Do not do it until you want to group by cnpj\n",
        "df.head(3)"
      ],
      "execution_count": null,
      "outputs": []
    },
    {
      "cell_type": "markdown",
      "metadata": {
        "id": "EpURW4tKM1lT"
      },
      "source": [
        "## Salva dataframe com todos os dados diários em arquivo pkl"
      ]
    },
    {
      "cell_type": "code",
      "metadata": {
        "id": "x0MYUXI8M1lT",
        "outputId": "7705030c-f08d-47ed-dac9-a3e2fa4b5270"
      },
      "source": [
        "df.info()"
      ],
      "execution_count": null,
      "outputs": [
        {
          "output_type": "stream",
          "text": [
            "<class 'pandas.core.frame.DataFrame'>\n",
            "RangeIndex: 11393322 entries, 0 to 11393321\n",
            "Data columns (total 9 columns):\n",
            "index            int64\n",
            "CNPJ_FUNDO       object\n",
            "DT_COMPTC        object\n",
            "VL_TOTAL         float64\n",
            "VL_QUOTA         float64\n",
            "VL_PATRIM_LIQ    float64\n",
            "CAPTC_DIA        float64\n",
            "RESG_DIA         float64\n",
            "NR_COTST         int64\n",
            "dtypes: float64(5), int64(2), object(2)\n",
            "memory usage: 782.3+ MB\n"
          ],
          "name": "stdout"
        }
      ]
    },
    {
      "cell_type": "code",
      "metadata": {
        "id": "8VPj4gGxM1lT",
        "outputId": "7f48ae7d-bcb4-4148-b1ab-f0ff1c9da035"
      },
      "source": [
        "time_start = perf_counter()\n",
        "\n",
        "df.to_pickle(remote_path+filename) # changed to remote path\n",
        "#df.to_pickle(path+filename) \n",
        "\n",
        "time_end = perf_counter()\n",
        "elapsed_time = time_end - time_start\n",
        "print(' ****salvar df em .pkl demorou ', round(elapsed_time,2) , ' segundos *****')"
      ],
      "execution_count": null,
      "outputs": [
        {
          "output_type": "stream",
          "text": [
            " ****salvar df em .pkl demorou  2.18  segundos *****\n"
          ],
          "name": "stdout"
        }
      ]
    },
    {
      "cell_type": "markdown",
      "metadata": {
        "id": "rzNpoD8YM1lT"
      },
      "source": [
        "## Cálculo do Retorno diário"
      ]
    },
    {
      "cell_type": "code",
      "metadata": {
        "id": "Zn91HYINM1lU"
      },
      "source": [
        "df[\"Return\"] = df.groupby(\"CNPJ_FUNDO\")[\"VL_QUOTA\"].pct_change(1)*100.0"
      ],
      "execution_count": null,
      "outputs": []
    },
    {
      "cell_type": "code",
      "metadata": {
        "id": "zL_JioJlM1lU",
        "outputId": "0bd39bac-f458-4e15-e57d-1ad623fd023a"
      },
      "source": [
        "df.info()"
      ],
      "execution_count": null,
      "outputs": [
        {
          "output_type": "stream",
          "text": [
            "<class 'pandas.core.frame.DataFrame'>\n",
            "RangeIndex: 11393322 entries, 0 to 11393321\n",
            "Data columns (total 10 columns):\n",
            "index            int64\n",
            "CNPJ_FUNDO       object\n",
            "DT_COMPTC        object\n",
            "VL_TOTAL         float64\n",
            "VL_QUOTA         float64\n",
            "VL_PATRIM_LIQ    float64\n",
            "CAPTC_DIA        float64\n",
            "RESG_DIA         float64\n",
            "NR_COTST         int64\n",
            "Return           float64\n",
            "dtypes: float64(6), int64(2), object(2)\n",
            "memory usage: 869.2+ MB\n"
          ],
          "name": "stdout"
        }
      ]
    },
    {
      "cell_type": "code",
      "metadata": {
        "id": "l_zD7w1wM1lV"
      },
      "source": [
        "# se deu encrenca e o kernel morreu, reler df = pd.read_pickle(path+filename)"
      ],
      "execution_count": null,
      "outputs": []
    },
    {
      "cell_type": "code",
      "metadata": {
        "id": "nRztzQn7M1lV",
        "outputId": "9cd74329-0529-49fa-8cb8-15e2ab727847"
      },
      "source": [
        "time_start = perf_counter()\n",
        "\n",
        "df.to_pickle(remote_path+filename) # changed to remote path\n",
        "#df.to_pickle(path+filename) \n",
        "\n",
        "time_end = perf_counter()\n",
        "elapsed_time = time_end - time_start\n",
        "print(' ****salvar df em .pkl demorou ', round(elapsed_time,2) , ' segundos *****')"
      ],
      "execution_count": null,
      "outputs": [
        {
          "output_type": "stream",
          "text": [
            " ****salvar df em .pkl demorou  7.77  segundos *****\n"
          ],
          "name": "stdout"
        }
      ]
    },
    {
      "cell_type": "code",
      "metadata": {
        "id": "E-qLzlDQM1lV",
        "outputId": "e61f40d3-b4b8-452b-bab5-df7a08893615"
      },
      "source": [
        "df[['DT_COMPTC', 'VL_QUOTA', 'Return']][df['CNPJ_FUNDO']=='97.929.213/0001-34']"
      ],
      "execution_count": null,
      "outputs": [
        {
          "output_type": "execute_result",
          "data": {
            "text/html": [
              "<div>\n",
              "<style scoped>\n",
              "    .dataframe tbody tr th:only-of-type {\n",
              "        vertical-align: middle;\n",
              "    }\n",
              "\n",
              "    .dataframe tbody tr th {\n",
              "        vertical-align: top;\n",
              "    }\n",
              "\n",
              "    .dataframe thead th {\n",
              "        text-align: right;\n",
              "    }\n",
              "</style>\n",
              "<table border=\"1\" class=\"dataframe\">\n",
              "  <thead>\n",
              "    <tr style=\"text-align: right;\">\n",
              "      <th></th>\n",
              "      <th>DT_COMPTC</th>\n",
              "      <th>VL_QUOTA</th>\n",
              "      <th>Return</th>\n",
              "    </tr>\n",
              "  </thead>\n",
              "  <tbody>\n",
              "    <tr>\n",
              "      <th>290109</th>\n",
              "      <td>2017-01-02</td>\n",
              "      <td>7.396478</td>\n",
              "      <td>NaN</td>\n",
              "    </tr>\n",
              "    <tr>\n",
              "      <th>290110</th>\n",
              "      <td>2017-01-03</td>\n",
              "      <td>7.403134</td>\n",
              "      <td>0.089997</td>\n",
              "    </tr>\n",
              "    <tr>\n",
              "      <th>290111</th>\n",
              "      <td>2017-01-04</td>\n",
              "      <td>7.384956</td>\n",
              "      <td>-0.245546</td>\n",
              "    </tr>\n",
              "    <tr>\n",
              "      <th>290112</th>\n",
              "      <td>2017-01-05</td>\n",
              "      <td>7.374894</td>\n",
              "      <td>-0.136255</td>\n",
              "    </tr>\n",
              "    <tr>\n",
              "      <th>290113</th>\n",
              "      <td>2017-01-06</td>\n",
              "      <td>7.376661</td>\n",
              "      <td>0.023969</td>\n",
              "    </tr>\n",
              "    <tr>\n",
              "      <th>...</th>\n",
              "      <td>...</td>\n",
              "      <td>...</td>\n",
              "      <td>...</td>\n",
              "    </tr>\n",
              "    <tr>\n",
              "      <th>11393317</th>\n",
              "      <td>2020-02-05</td>\n",
              "      <td>8.728722</td>\n",
              "      <td>0.165302</td>\n",
              "    </tr>\n",
              "    <tr>\n",
              "      <th>11393318</th>\n",
              "      <td>2020-02-06</td>\n",
              "      <td>8.710002</td>\n",
              "      <td>-0.214458</td>\n",
              "    </tr>\n",
              "    <tr>\n",
              "      <th>11393319</th>\n",
              "      <td>2020-02-07</td>\n",
              "      <td>8.682111</td>\n",
              "      <td>-0.320225</td>\n",
              "    </tr>\n",
              "    <tr>\n",
              "      <th>11393320</th>\n",
              "      <td>2020-02-10</td>\n",
              "      <td>8.667109</td>\n",
              "      <td>-0.172786</td>\n",
              "    </tr>\n",
              "    <tr>\n",
              "      <th>11393321</th>\n",
              "      <td>2020-02-11</td>\n",
              "      <td>8.716956</td>\n",
              "      <td>0.575128</td>\n",
              "    </tr>\n",
              "  </tbody>\n",
              "</table>\n",
              "<p>781 rows × 3 columns</p>\n",
              "</div>"
            ],
            "text/plain": [
              "           DT_COMPTC  VL_QUOTA    Return\n",
              "290109    2017-01-02  7.396478       NaN\n",
              "290110    2017-01-03  7.403134  0.089997\n",
              "290111    2017-01-04  7.384956 -0.245546\n",
              "290112    2017-01-05  7.374894 -0.136255\n",
              "290113    2017-01-06  7.376661  0.023969\n",
              "...              ...       ...       ...\n",
              "11393317  2020-02-05  8.728722  0.165302\n",
              "11393318  2020-02-06  8.710002 -0.214458\n",
              "11393319  2020-02-07  8.682111 -0.320225\n",
              "11393320  2020-02-10  8.667109 -0.172786\n",
              "11393321  2020-02-11  8.716956  0.575128\n",
              "\n",
              "[781 rows x 3 columns]"
            ]
          },
          "metadata": {
            "tags": []
          },
          "execution_count": 33
        }
      ]
    },
    {
      "cell_type": "code",
      "metadata": {
        "id": "25pd94BQM1lW",
        "outputId": "d5d0c52d-e1ba-460f-8c1d-1cc5920d992e"
      },
      "source": [
        "# Example - return of a randomly chosen fund\n",
        "\n",
        "#numpy.random.randint(low, high=None, size=None, dtype='l')\n",
        "random_row = np.random.randint(0,len(df))\n",
        "random_cnpj = df['CNPJ_FUNDO'].iloc[random_row,]\n",
        "random_cnpj"
      ],
      "execution_count": null,
      "outputs": [
        {
          "output_type": "execute_result",
          "data": {
            "text/plain": [
              "'17.373.839/0001-78'"
            ]
          },
          "metadata": {
            "tags": []
          },
          "execution_count": 38
        }
      ]
    },
    {
      "cell_type": "code",
      "metadata": {
        "id": "abYra5n8M1lW"
      },
      "source": [
        "df_to_plot = df[['CNPJ_FUNDO','DT_COMPTC','Return']].copy()\n"
      ],
      "execution_count": null,
      "outputs": []
    },
    {
      "cell_type": "code",
      "metadata": {
        "id": "-BG_HCH9M1lW",
        "outputId": "09c16bd5-042b-4c3c-b7b5-7812a344b07a"
      },
      "source": [
        "df_to_plot.info()"
      ],
      "execution_count": null,
      "outputs": [
        {
          "output_type": "stream",
          "text": [
            "<class 'pandas.core.frame.DataFrame'>\n",
            "RangeIndex: 11393322 entries, 0 to 11393321\n",
            "Data columns (total 3 columns):\n",
            "CNPJ_FUNDO    object\n",
            "DT_COMPTC     object\n",
            "Return        float64\n",
            "dtypes: float64(1), object(2)\n",
            "memory usage: 260.8+ MB\n"
          ],
          "name": "stdout"
        }
      ]
    },
    {
      "cell_type": "code",
      "metadata": {
        "id": "AQqyE0XgM1lX",
        "outputId": "06fd2c8d-540d-41c1-e831-e02575c6bace"
      },
      "source": [
        "sns.set(rc={'figure.figsize':(17,6)})\n",
        "df_to_plot[['DT_COMPTC','Return']][df_to_plot['CNPJ_FUNDO']==random_cnpj].set_index('DT_COMPTC').plot(title = 'Retorno Diário do fundo com CNPJ: '+random_cnpj,\n",
        "                                                                                                     fontsize = 16, linewidth = 2.0, color = '#073763');"
      ],
      "execution_count": null,
      "outputs": [
        {
          "output_type": "display_data",
          "data": {
            "image/png": "[encoded data removed]",
            "text/plain": [
              "<Figure size 1224x432 with 1 Axes>"
            ]
          },
          "metadata": {
            "tags": []
          }
        }
      ]
    },
    {
      "cell_type": "code",
      "metadata": {
        "id": "dDKGP0VdM1lX",
        "outputId": "3a6f22af-8eb1-4abd-8a8f-eb319c17b3c1"
      },
      "source": [
        "sns.set(rc={'figure.figsize':(17,6)})\n",
        "df[['Return']][df['CNPJ_FUNDO']==random_cnpj].plot.hist(bins = 30, title = 'Retorno Diário do fundo com CNPJ: '+random_cnpj,\n",
        "                                                        fontsize = 16, linewidth = 2.0, color = '#134f5c')"
      ],
      "execution_count": null,
      "outputs": [
        {
          "output_type": "execute_result",
          "data": {
            "text/plain": [
              "<matplotlib.axes._subplots.AxesSubplot at 0x7f07809c72b0>"
            ]
          },
          "metadata": {
            "tags": []
          },
          "execution_count": 68
        },
        {
          "output_type": "display_data",
          "data": {
            "image/png": "[encoded data removed]",
            "text/plain": [
              "<Figure size 1224x432 with 1 Axes>"
            ]
          },
          "metadata": {
            "tags": []
          }
        }
      ]
    },
    {
      "cell_type": "code",
      "metadata": {
        "id": "Fve986yuM1lY",
        "outputId": "69ebc388-707b-449e-cc80-a5356d43af18"
      },
      "source": [
        "df.info()"
      ],
      "execution_count": null,
      "outputs": [
        {
          "output_type": "stream",
          "text": [
            "<class 'pandas.core.frame.DataFrame'>\n",
            "RangeIndex: 11393322 entries, 0 to 11393321\n",
            "Data columns (total 10 columns):\n",
            "index            int64\n",
            "CNPJ_FUNDO       object\n",
            "DT_COMPTC        object\n",
            "VL_TOTAL         float64\n",
            "VL_QUOTA         float64\n",
            "VL_PATRIM_LIQ    float64\n",
            "CAPTC_DIA        float64\n",
            "RESG_DIA         float64\n",
            "NR_COTST         int64\n",
            "Return           float64\n",
            "dtypes: float64(6), int64(2), object(2)\n",
            "memory usage: 869.2+ MB\n"
          ],
          "name": "stdout"
        }
      ]
    },
    {
      "cell_type": "code",
      "metadata": {
        "id": "i6e7cFIHM1lY",
        "outputId": "86f2649b-368f-4251-fd8b-15f56b9129f2"
      },
      "source": [
        "# Show days where return below 1% for randomly selected fund\n",
        "\n",
        "df[['DT_COMPTC','Return']][(df['CNPJ_FUNDO']==random_cnpj )& (df['Return'] < -1)].set_index('DT_COMPTC')"
      ],
      "execution_count": null,
      "outputs": [
        {
          "output_type": "execute_result",
          "data": {
            "text/html": [
              "<div>\n",
              "<style scoped>\n",
              "    .dataframe tbody tr th:only-of-type {\n",
              "        vertical-align: middle;\n",
              "    }\n",
              "\n",
              "    .dataframe tbody tr th {\n",
              "        vertical-align: top;\n",
              "    }\n",
              "\n",
              "    .dataframe thead th {\n",
              "        text-align: right;\n",
              "    }\n",
              "</style>\n",
              "<table border=\"1\" class=\"dataframe\">\n",
              "  <thead>\n",
              "    <tr style=\"text-align: right;\">\n",
              "      <th></th>\n",
              "      <th>Return</th>\n",
              "    </tr>\n",
              "    <tr>\n",
              "      <th>DT_COMPTC</th>\n",
              "      <th></th>\n",
              "    </tr>\n",
              "  </thead>\n",
              "  <tbody>\n",
              "    <tr>\n",
              "      <th>2017-05-12</th>\n",
              "      <td>-1.177259</td>\n",
              "    </tr>\n",
              "    <tr>\n",
              "      <th>2017-05-23</th>\n",
              "      <td>-1.771749</td>\n",
              "    </tr>\n",
              "    <tr>\n",
              "      <th>2017-05-24</th>\n",
              "      <td>-1.040613</td>\n",
              "    </tr>\n",
              "    <tr>\n",
              "      <th>2017-05-30</th>\n",
              "      <td>-1.190908</td>\n",
              "    </tr>\n",
              "    <tr>\n",
              "      <th>2017-09-08</th>\n",
              "      <td>-1.055669</td>\n",
              "    </tr>\n",
              "    <tr>\n",
              "      <th>2017-11-03</th>\n",
              "      <td>-1.537210</td>\n",
              "    </tr>\n",
              "    <tr>\n",
              "      <th>2018-06-05</th>\n",
              "      <td>-1.899915</td>\n",
              "    </tr>\n",
              "    <tr>\n",
              "      <th>2018-06-07</th>\n",
              "      <td>-1.712249</td>\n",
              "    </tr>\n",
              "    <tr>\n",
              "      <th>2018-06-14</th>\n",
              "      <td>-1.143568</td>\n",
              "    </tr>\n",
              "    <tr>\n",
              "      <th>2018-09-04</th>\n",
              "      <td>-1.154110</td>\n",
              "    </tr>\n",
              "    <tr>\n",
              "      <th>2019-03-19</th>\n",
              "      <td>-1.236775</td>\n",
              "    </tr>\n",
              "    <tr>\n",
              "      <th>2019-08-15</th>\n",
              "      <td>-1.201460</td>\n",
              "    </tr>\n",
              "    <tr>\n",
              "      <th>2019-08-19</th>\n",
              "      <td>-1.066119</td>\n",
              "    </tr>\n",
              "    <tr>\n",
              "      <th>2019-08-23</th>\n",
              "      <td>-1.254367</td>\n",
              "    </tr>\n",
              "    <tr>\n",
              "      <th>2020-02-07</th>\n",
              "      <td>-1.032694</td>\n",
              "    </tr>\n",
              "  </tbody>\n",
              "</table>\n",
              "</div>"
            ],
            "text/plain": [
              "              Return\n",
              "DT_COMPTC           \n",
              "2017-05-12 -1.177259\n",
              "2017-05-23 -1.771749\n",
              "2017-05-24 -1.040613\n",
              "2017-05-30 -1.190908\n",
              "2017-09-08 -1.055669\n",
              "2017-11-03 -1.537210\n",
              "2018-06-05 -1.899915\n",
              "2018-06-07 -1.712249\n",
              "2018-06-14 -1.143568\n",
              "2018-09-04 -1.154110\n",
              "2019-03-19 -1.236775\n",
              "2019-08-15 -1.201460\n",
              "2019-08-19 -1.066119\n",
              "2019-08-23 -1.254367\n",
              "2020-02-07 -1.032694"
            ]
          },
          "metadata": {
            "tags": []
          },
          "execution_count": 84
        }
      ]
    },
    {
      "cell_type": "code",
      "metadata": {
        "id": "922kyuq7M1lY"
      },
      "source": [
        ""
      ],
      "execution_count": null,
      "outputs": []
    },
    {
      "cell_type": "markdown",
      "metadata": {
        "id": "puWDp6naM1lZ"
      },
      "source": [
        "## Salva dataframe incluindo retornos diários em arquivo csv"
      ]
    },
    {
      "cell_type": "code",
      "metadata": {
        "id": "jM4pCSBGM1lZ"
      },
      "source": [
        "time_start = perf_counter()\n",
        "df2.to_csv('df_diario_'+str(ct[0])+'_'+str(ct[-1])+'.csv',sep = ';' ,encoding='utf-8')#, compression = 'zip')\n",
        "\n",
        "time_end = perf_counter()\n",
        "elapsed_time = time_end - time_start\n",
        "print(' ****salvar df em .csv demorou ', round(elapsed_time,2) , ' segundos *****')"
      ],
      "execution_count": null,
      "outputs": []
    },
    {
      "cell_type": "code",
      "metadata": {
        "id": "dd-JmlwvM1lZ"
      },
      "source": [
        ""
      ],
      "execution_count": null,
      "outputs": []
    }
  ]
}