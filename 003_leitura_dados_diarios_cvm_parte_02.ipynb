{
  "nbformat": 4,
  "nbformat_minor": 0,
  "metadata": {
    "kernelspec": {
      "display_name": "Python 3",
      "language": "python",
      "name": "python3"
    },
    "language_info": {
      "codemirror_mode": {
        "name": "ipython",
        "version": 3
      },
      "file_extension": ".py",
      "mimetype": "text/x-python",
      "name": "python",
      "nbconvert_exporter": "python",
      "pygments_lexer": "ipython3",
      "version": "3.8.3"
    },
    "colab": {
      "name": "003_leitura_dados_diarios_cvm_parte_02.ipynb",
      "provenance": [],
      "collapsed_sections": [],
      "include_colab_link": true
    }
  },
  "cells": [
    {
      "cell_type": "markdown",
      "metadata": {
        "id": "view-in-github",
        "colab_type": "text"
      },
      "source": [
        "<a href=\"https://colab.research.google.com/github/barrosm/BIMASTER_CODE_PUBLIC/blob/main/003_leitura_dados_diarios_cvm_parte_02.ipynb\" target=\"_parent\"><img src=\"https://colab.research.google.com/assets/colab-badge.svg\" alt=\"Open In Colab\"/></a>"
      ]
    },
    {
      "cell_type": "markdown",
      "metadata": {
        "id": "OXSfrmDdM1lE"
      },
      "source": [
        "## Leitura de dados diários de fundos de investimentos"
      ]
    },
    {
      "cell_type": "markdown",
      "metadata": {
        "id": "p5P3PHd5M1lM"
      },
      "source": [
        "### Data: 13/02/2020 - última revisão 15/05/2021"
      ]
    },
    {
      "cell_type": "markdown",
      "metadata": {
        "id": "rjDKP5YGM1lN"
      },
      "source": [
        "Mês início = 03/2020\n",
        "Mês final = 02/2021"
      ]
    },
    {
      "cell_type": "code",
      "metadata": {
        "id": "myWgHMewM1lN"
      },
      "source": [
        "import pandas as pd\n",
        "import os as os\n",
        "import matplotlib.pyplot as plt\n",
        "import numpy as np\n",
        "\n",
        "from datetime import datetime\n",
        "%matplotlib inline\n",
        "\n",
        "import seaborn as sns; \n",
        "sns.set(rc={'figure.figsize':(17,6)})\n",
        "plt.rcParams['axes.labelsize'] = 16\n",
        "plt.rcParams['xtick.labelsize'] = 14\n",
        "plt.rcParams['ytick.labelsize'] = 14\n",
        "\n",
        "import os\n",
        "current_dir = os.getcwd()\n",
        "current_dir\n",
        "\n",
        "from time import perf_counter\n",
        "import pickle"
      ],
      "execution_count": 22,
      "outputs": []
    },
    {
      "cell_type": "code",
      "metadata": {
        "id": "4CPovC9jM1lO"
      },
      "source": [
        "os.chdir('..')  # vai um nível para cima\n",
        "current_dir = os.getcwd()\n",
        "current_dir\n",
        "\n",
        "path = current_dir + 'CVM/Diario/' #Linux\n",
        "#path = current_dir + '\\\\CVM\\\\Diario\\\\'  #Windows\n",
        "os.makedirs(path, exist_ok = 'TRUE')"
      ],
      "execution_count": 23,
      "outputs": []
    },
    {
      "cell_type": "code",
      "metadata": {
        "id": "-eIW2ib2PlS5"
      },
      "source": [
        ""
      ],
      "execution_count": 23,
      "outputs": []
    },
    {
      "cell_type": "code",
      "metadata": {
        "id": "X69D9sFlM1lO"
      },
      "source": [
        "# REMOTE PATH\n",
        "remote_path = '/home/jupyter/Notebooks/monica/@Fund_Eval/CVM/Diario/'\n",
        "os.makedirs(remote_path, exist_ok = 'TRUE')"
      ],
      "execution_count": 24,
      "outputs": []
    },
    {
      "cell_type": "code",
      "metadata": {
        "id": "KwfTdfGsM1lO",
        "colab": {
          "base_uri": "https://localhost:8080/",
          "height": 35
        },
        "outputId": "a8308f8a-7e5b-43d2-b9d1-89ea7737873b"
      },
      "source": [
        "path"
      ],
      "execution_count": 25,
      "outputs": [
        {
          "output_type": "execute_result",
          "data": {
            "application/vnd.google.colaboratory.intrinsic+json": {
              "type": "string"
            },
            "text/plain": [
              "'/CVM/Diario/'"
            ]
          },
          "metadata": {
            "tags": []
          },
          "execution_count": 25
        }
      ]
    },
    {
      "cell_type": "code",
      "metadata": {
        "id": "jdB28nvHM1lP"
      },
      "source": [
        "url_address = 'http://dados.cvm.gov.br/dados/FI/DOC/INF_DIARIO/DADOS/inf_diario_fi_'"
      ],
      "execution_count": 26,
      "outputs": []
    },
    {
      "cell_type": "code",
      "metadata": {
        "id": "vLi0Exf1M1lP"
      },
      "source": [
        "ct = ['202003', '202004', '202005', '202006' , '202007', '202008', '202009', '202010', '202011', '202012', '202101', '202102']"
      ],
      "execution_count": 27,
      "outputs": []
    },
    {
      "cell_type": "code",
      "metadata": {
        "id": "nefPQvC9M1lQ"
      },
      "source": [
        "start_month = ct[0]\n",
        "end_month = ct[-1]"
      ],
      "execution_count": 28,
      "outputs": []
    },
    {
      "cell_type": "code",
      "metadata": {
        "id": "DI_4K08pM1lQ"
      },
      "source": [
        "filename = 'df_diario_'+start_month+'_'+end_month+'.pkl'"
      ],
      "execution_count": 29,
      "outputs": []
    },
    {
      "cell_type": "code",
      "metadata": {
        "id": "ywOwjqbjM1lQ"
      },
      "source": [
        "arq_names = [url_address + i + '.csv' for i in ct]"
      ],
      "execution_count": 30,
      "outputs": []
    },
    {
      "cell_type": "code",
      "metadata": {
        "id": "LOAzoBg7M1lR",
        "colab": {
          "base_uri": "https://localhost:8080/"
        },
        "outputId": "fb301dd6-d647-4a6e-ff25-39a256a99fce"
      },
      "source": [
        "arq_names[-5:]   #Últimos 5 meses"
      ],
      "execution_count": 31,
      "outputs": [
        {
          "output_type": "execute_result",
          "data": {
            "text/plain": [
              "['http://dados.cvm.gov.br/dados/FI/DOC/INF_DIARIO/DADOS/inf_diario_fi_202010.csv',\n",
              " 'http://dados.cvm.gov.br/dados/FI/DOC/INF_DIARIO/DADOS/inf_diario_fi_202011.csv',\n",
              " 'http://dados.cvm.gov.br/dados/FI/DOC/INF_DIARIO/DADOS/inf_diario_fi_202012.csv',\n",
              " 'http://dados.cvm.gov.br/dados/FI/DOC/INF_DIARIO/DADOS/inf_diario_fi_202101.csv',\n",
              " 'http://dados.cvm.gov.br/dados/FI/DOC/INF_DIARIO/DADOS/inf_diario_fi_202102.csv']"
            ]
          },
          "metadata": {
            "tags": []
          },
          "execution_count": 31
        }
      ]
    },
    {
      "cell_type": "code",
      "metadata": {
        "id": "CEYlDBmsM1lR",
        "colab": {
          "base_uri": "https://localhost:8080/"
        },
        "outputId": "b7a1fc02-22dd-458b-a0d4-ff7f5fe4194c"
      },
      "source": [
        "# Número de arquivos (meses) lidos \n",
        "len(arq_names)"
      ],
      "execution_count": 32,
      "outputs": [
        {
          "output_type": "execute_result",
          "data": {
            "text/plain": [
              "12"
            ]
          },
          "metadata": {
            "tags": []
          },
          "execution_count": 32
        }
      ]
    },
    {
      "cell_type": "code",
      "metadata": {
        "id": "PXJ8zBRpM1lR"
      },
      "source": [
        "# Cria dataframe vazia\n",
        "df = pd.DataFrame()"
      ],
      "execution_count": 33,
      "outputs": []
    },
    {
      "cell_type": "markdown",
      "metadata": {
        "id": "uLhl8QE6M1lR"
      },
      "source": [
        "## Leitura dos arquivos e concatenação num único dataframe - o índice é o CNPJ"
      ]
    },
    {
      "cell_type": "code",
      "metadata": {
        "id": "g1TXlVgUM1lS",
        "colab": {
          "base_uri": "https://localhost:8080/"
        },
        "outputId": "4239fef9-5774-4c6a-ef9b-c24b33515da3"
      },
      "source": [
        "%time\n",
        "time_start = perf_counter()\n",
        "df = pd.concat((pd.read_csv(f, sep = ';', index_col=0) for f in arq_names))\n",
        "time_end = perf_counter()\n",
        "elapsed_time = time_end - time_start\n",
        "\n",
        "print(' **** a leitura dos dados demorou ', round(elapsed_time,2) , ' segundos *****')"
      ],
      "execution_count": 34,
      "outputs": [
        {
          "output_type": "stream",
          "text": [
            "CPU times: user 3 µs, sys: 1 µs, total: 4 µs\n",
            "Wall time: 9.78 µs\n",
            " **** a leitura dos dados demorou  131.69  segundos *****\n"
          ],
          "name": "stdout"
        }
      ]
    },
    {
      "cell_type": "code",
      "metadata": {
        "id": "Xppuh0WXM1lS"
      },
      "source": [
        "#df.head(3)\n",
        "#df.tail(3)"
      ],
      "execution_count": 35,
      "outputs": []
    },
    {
      "cell_type": "code",
      "metadata": {
        "id": "P5IqOvM3M1lS",
        "colab": {
          "base_uri": "https://localhost:8080/",
          "height": 138
        },
        "outputId": "9fa6e8b3-90b7-4bd1-b517-f94d26ab9890"
      },
      "source": [
        "df = df.reset_index() # Do not do it until you want to group by cnpj\n",
        "df.head(3)"
      ],
      "execution_count": 36,
      "outputs": [
        {
          "output_type": "execute_result",
          "data": {
            "text/html": [
              "<div>\n",
              "<style scoped>\n",
              "    .dataframe tbody tr th:only-of-type {\n",
              "        vertical-align: middle;\n",
              "    }\n",
              "\n",
              "    .dataframe tbody tr th {\n",
              "        vertical-align: top;\n",
              "    }\n",
              "\n",
              "    .dataframe thead th {\n",
              "        text-align: right;\n",
              "    }\n",
              "</style>\n",
              "<table border=\"1\" class=\"dataframe\">\n",
              "  <thead>\n",
              "    <tr style=\"text-align: right;\">\n",
              "      <th></th>\n",
              "      <th>index</th>\n",
              "      <th>DT_COMPTC</th>\n",
              "      <th>VL_TOTAL</th>\n",
              "      <th>VL_QUOTA</th>\n",
              "      <th>VL_PATRIM_LIQ</th>\n",
              "      <th>CAPTC_DIA</th>\n",
              "      <th>RESG_DIA</th>\n",
              "      <th>NR_COTST</th>\n",
              "      <th>CNPJ_FUNDO</th>\n",
              "    </tr>\n",
              "  </thead>\n",
              "  <tbody>\n",
              "    <tr>\n",
              "      <th>0</th>\n",
              "      <td>00.017.024/0001-53</td>\n",
              "      <td>2020-03-02</td>\n",
              "      <td>1127645.45</td>\n",
              "      <td>27.307906</td>\n",
              "      <td>1121177.36</td>\n",
              "      <td>0.0</td>\n",
              "      <td>0.0</td>\n",
              "      <td>1</td>\n",
              "      <td>NaN</td>\n",
              "    </tr>\n",
              "    <tr>\n",
              "      <th>1</th>\n",
              "      <td>00.017.024/0001-53</td>\n",
              "      <td>2020-03-03</td>\n",
              "      <td>1127821.65</td>\n",
              "      <td>27.311429</td>\n",
              "      <td>1121321.98</td>\n",
              "      <td>0.0</td>\n",
              "      <td>0.0</td>\n",
              "      <td>1</td>\n",
              "      <td>NaN</td>\n",
              "    </tr>\n",
              "    <tr>\n",
              "      <th>2</th>\n",
              "      <td>00.017.024/0001-53</td>\n",
              "      <td>2020-03-04</td>\n",
              "      <td>1128000.73</td>\n",
              "      <td>27.314885</td>\n",
              "      <td>1121463.91</td>\n",
              "      <td>0.0</td>\n",
              "      <td>0.0</td>\n",
              "      <td>1</td>\n",
              "      <td>NaN</td>\n",
              "    </tr>\n",
              "  </tbody>\n",
              "</table>\n",
              "</div>"
            ],
            "text/plain": [
              "                index   DT_COMPTC    VL_TOTAL  ...  RESG_DIA  NR_COTST  CNPJ_FUNDO\n",
              "0  00.017.024/0001-53  2020-03-02  1127645.45  ...       0.0         1         NaN\n",
              "1  00.017.024/0001-53  2020-03-03  1127821.65  ...       0.0         1         NaN\n",
              "2  00.017.024/0001-53  2020-03-04  1128000.73  ...       0.0         1         NaN\n",
              "\n",
              "[3 rows x 9 columns]"
            ]
          },
          "metadata": {
            "tags": []
          },
          "execution_count": 36
        }
      ]
    },
    {
      "cell_type": "markdown",
      "metadata": {
        "id": "EpURW4tKM1lT"
      },
      "source": [
        "## Salva dataframe com todos os dados diários em arquivo pkl"
      ]
    },
    {
      "cell_type": "code",
      "metadata": {
        "id": "x0MYUXI8M1lT",
        "colab": {
          "base_uri": "https://localhost:8080/"
        },
        "outputId": "d2b399f8-6451-4119-df57-60cfd7a8ecd3"
      },
      "source": [
        "df.info()"
      ],
      "execution_count": 37,
      "outputs": [
        {
          "output_type": "stream",
          "text": [
            "<class 'pandas.core.frame.DataFrame'>\n",
            "RangeIndex: 4559970 entries, 0 to 4559969\n",
            "Data columns (total 9 columns):\n",
            " #   Column         Dtype  \n",
            "---  ------         -----  \n",
            " 0   index          object \n",
            " 1   DT_COMPTC      object \n",
            " 2   VL_TOTAL       float64\n",
            " 3   VL_QUOTA       float64\n",
            " 4   VL_PATRIM_LIQ  float64\n",
            " 5   CAPTC_DIA      float64\n",
            " 6   RESG_DIA       float64\n",
            " 7   NR_COTST       int64  \n",
            " 8   CNPJ_FUNDO     object \n",
            "dtypes: float64(5), int64(1), object(3)\n",
            "memory usage: 313.1+ MB\n"
          ],
          "name": "stdout"
        }
      ]
    },
    {
      "cell_type": "code",
      "metadata": {
        "id": "8VPj4gGxM1lT",
        "colab": {
          "base_uri": "https://localhost:8080/"
        },
        "outputId": "bafa1bad-034b-422e-8ecd-514e30192d1a"
      },
      "source": [
        "time_start = perf_counter()\n",
        "\n",
        "df.to_pickle(path+filename) # changed to remote path\n",
        "#df.to_pickle(path+filename) \n",
        "\n",
        "time_end = perf_counter()\n",
        "elapsed_time = time_end - time_start\n",
        "print(' ****salvar df em .pkl demorou ', round(elapsed_time,2) , ' segundos *****')"
      ],
      "execution_count": 38,
      "outputs": [
        {
          "output_type": "stream",
          "text": [
            " ****salvar df em .pkl demorou  1.5  segundos *****\n"
          ],
          "name": "stdout"
        }
      ]
    },
    {
      "cell_type": "markdown",
      "metadata": {
        "id": "rzNpoD8YM1lT"
      },
      "source": [
        "## Cálculo do Retorno diário"
      ]
    },
    {
      "cell_type": "code",
      "metadata": {
        "id": "Zn91HYINM1lU"
      },
      "source": [
        "df[\"Return\"] = df.groupby(\"CNPJ_FUNDO\")[\"VL_QUOTA\"].pct_change(1)*100.0"
      ],
      "execution_count": 39,
      "outputs": []
    },
    {
      "cell_type": "code",
      "metadata": {
        "id": "zL_JioJlM1lU",
        "colab": {
          "base_uri": "https://localhost:8080/"
        },
        "outputId": "f7db7f6a-62f2-4679-ce3b-8c5d4eb9ce73"
      },
      "source": [
        "df.info()"
      ],
      "execution_count": 40,
      "outputs": [
        {
          "output_type": "stream",
          "text": [
            "<class 'pandas.core.frame.DataFrame'>\n",
            "RangeIndex: 4559970 entries, 0 to 4559969\n",
            "Data columns (total 10 columns):\n",
            " #   Column         Dtype  \n",
            "---  ------         -----  \n",
            " 0   index          object \n",
            " 1   DT_COMPTC      object \n",
            " 2   VL_TOTAL       float64\n",
            " 3   VL_QUOTA       float64\n",
            " 4   VL_PATRIM_LIQ  float64\n",
            " 5   CAPTC_DIA      float64\n",
            " 6   RESG_DIA       float64\n",
            " 7   NR_COTST       int64  \n",
            " 8   CNPJ_FUNDO     object \n",
            " 9   Return         float64\n",
            "dtypes: float64(6), int64(1), object(3)\n",
            "memory usage: 347.9+ MB\n"
          ],
          "name": "stdout"
        }
      ]
    },
    {
      "cell_type": "code",
      "metadata": {
        "id": "l_zD7w1wM1lV"
      },
      "source": [
        "# se deu encrenca e o kernel morreu, reler df = pd.read_pickle(path+filename)"
      ],
      "execution_count": 41,
      "outputs": []
    },
    {
      "cell_type": "code",
      "metadata": {
        "id": "nRztzQn7M1lV",
        "colab": {
          "base_uri": "https://localhost:8080/"
        },
        "outputId": "a493f34b-48b5-43bf-8715-92c0344d1fcf"
      },
      "source": [
        "time_start = perf_counter()\n",
        "\n",
        "df.to_pickle(remote_path+filename) # changed to remote path\n",
        "#df.to_pickle(path+filename) \n",
        "\n",
        "time_end = perf_counter()\n",
        "elapsed_time = time_end - time_start\n",
        "print(' ****salvar df em .pkl demorou ', round(elapsed_time,2) , ' segundos *****')"
      ],
      "execution_count": 42,
      "outputs": [
        {
          "output_type": "stream",
          "text": [
            " ****salvar df em .pkl demorou  1.71  segundos *****\n"
          ],
          "name": "stdout"
        }
      ]
    },
    {
      "cell_type": "code",
      "metadata": {
        "id": "E-qLzlDQM1lV",
        "colab": {
          "base_uri": "https://localhost:8080/",
          "height": 407
        },
        "outputId": "f66c0ca1-7eb9-475b-e59a-4f14de308975"
      },
      "source": [
        "df[['DT_COMPTC', 'VL_QUOTA', 'Return']][df['CNPJ_FUNDO']=='97.929.213/0001-34']"
      ],
      "execution_count": 43,
      "outputs": [
        {
          "output_type": "execute_result",
          "data": {
            "text/html": [
              "<div>\n",
              "<style scoped>\n",
              "    .dataframe tbody tr th:only-of-type {\n",
              "        vertical-align: middle;\n",
              "    }\n",
              "\n",
              "    .dataframe tbody tr th {\n",
              "        vertical-align: top;\n",
              "    }\n",
              "\n",
              "    .dataframe thead th {\n",
              "        text-align: right;\n",
              "    }\n",
              "</style>\n",
              "<table border=\"1\" class=\"dataframe\">\n",
              "  <thead>\n",
              "    <tr style=\"text-align: right;\">\n",
              "      <th></th>\n",
              "      <th>DT_COMPTC</th>\n",
              "      <th>VL_QUOTA</th>\n",
              "      <th>Return</th>\n",
              "    </tr>\n",
              "  </thead>\n",
              "  <tbody>\n",
              "    <tr>\n",
              "      <th>725450</th>\n",
              "      <td>2020-04-01</td>\n",
              "      <td>7.851832</td>\n",
              "      <td>NaN</td>\n",
              "    </tr>\n",
              "    <tr>\n",
              "      <th>725451</th>\n",
              "      <td>2020-04-02</td>\n",
              "      <td>7.889501</td>\n",
              "      <td>0.479747</td>\n",
              "    </tr>\n",
              "    <tr>\n",
              "      <th>725452</th>\n",
              "      <td>2020-04-03</td>\n",
              "      <td>7.850798</td>\n",
              "      <td>-0.490561</td>\n",
              "    </tr>\n",
              "    <tr>\n",
              "      <th>725453</th>\n",
              "      <td>2020-04-06</td>\n",
              "      <td>7.979766</td>\n",
              "      <td>1.642734</td>\n",
              "    </tr>\n",
              "    <tr>\n",
              "      <th>725454</th>\n",
              "      <td>2020-04-07</td>\n",
              "      <td>8.009091</td>\n",
              "      <td>0.367491</td>\n",
              "    </tr>\n",
              "    <tr>\n",
              "      <th>...</th>\n",
              "      <td>...</td>\n",
              "      <td>...</td>\n",
              "      <td>...</td>\n",
              "    </tr>\n",
              "    <tr>\n",
              "      <th>4559965</th>\n",
              "      <td>2021-02-22</td>\n",
              "      <td>9.531573</td>\n",
              "      <td>-0.670181</td>\n",
              "    </tr>\n",
              "    <tr>\n",
              "      <th>4559966</th>\n",
              "      <td>2021-02-23</td>\n",
              "      <td>9.515166</td>\n",
              "      <td>-0.172137</td>\n",
              "    </tr>\n",
              "    <tr>\n",
              "      <th>4559967</th>\n",
              "      <td>2021-02-24</td>\n",
              "      <td>9.515177</td>\n",
              "      <td>0.000119</td>\n",
              "    </tr>\n",
              "    <tr>\n",
              "      <th>4559968</th>\n",
              "      <td>2021-02-25</td>\n",
              "      <td>9.440641</td>\n",
              "      <td>-0.783335</td>\n",
              "    </tr>\n",
              "    <tr>\n",
              "      <th>4559969</th>\n",
              "      <td>2021-02-26</td>\n",
              "      <td>9.392347</td>\n",
              "      <td>-0.511555</td>\n",
              "    </tr>\n",
              "  </tbody>\n",
              "</table>\n",
              "<p>227 rows × 3 columns</p>\n",
              "</div>"
            ],
            "text/plain": [
              "          DT_COMPTC  VL_QUOTA    Return\n",
              "725450   2020-04-01  7.851832       NaN\n",
              "725451   2020-04-02  7.889501  0.479747\n",
              "725452   2020-04-03  7.850798 -0.490561\n",
              "725453   2020-04-06  7.979766  1.642734\n",
              "725454   2020-04-07  8.009091  0.367491\n",
              "...             ...       ...       ...\n",
              "4559965  2021-02-22  9.531573 -0.670181\n",
              "4559966  2021-02-23  9.515166 -0.172137\n",
              "4559967  2021-02-24  9.515177  0.000119\n",
              "4559968  2021-02-25  9.440641 -0.783335\n",
              "4559969  2021-02-26  9.392347 -0.511555\n",
              "\n",
              "[227 rows x 3 columns]"
            ]
          },
          "metadata": {
            "tags": []
          },
          "execution_count": 43
        }
      ]
    },
    {
      "cell_type": "code",
      "metadata": {
        "id": "25pd94BQM1lW",
        "colab": {
          "base_uri": "https://localhost:8080/",
          "height": 35
        },
        "outputId": "d0200038-ab5a-4221-9ea1-a262123bfeba"
      },
      "source": [
        "# Example - return of a randomly chosen fund\n",
        "\n",
        "#numpy.random.randint(low, high=None, size=None, dtype='l')\n",
        "random_row = np.random.randint(0,len(df))\n",
        "random_cnpj = df['CNPJ_FUNDO'].iloc[random_row,]\n",
        "random_cnpj"
      ],
      "execution_count": 44,
      "outputs": [
        {
          "output_type": "execute_result",
          "data": {
            "application/vnd.google.colaboratory.intrinsic+json": {
              "type": "string"
            },
            "text/plain": [
              "'22.415.840/0001-58'"
            ]
          },
          "metadata": {
            "tags": []
          },
          "execution_count": 44
        }
      ]
    },
    {
      "cell_type": "code",
      "metadata": {
        "id": "abYra5n8M1lW"
      },
      "source": [
        "df_to_plot = df[['CNPJ_FUNDO','DT_COMPTC','Return']].copy()\n"
      ],
      "execution_count": 45,
      "outputs": []
    },
    {
      "cell_type": "code",
      "metadata": {
        "id": "-BG_HCH9M1lW",
        "colab": {
          "base_uri": "https://localhost:8080/"
        },
        "outputId": "9227d412-9718-4e83-fce2-03041dbb146e"
      },
      "source": [
        "df_to_plot.info()"
      ],
      "execution_count": 46,
      "outputs": [
        {
          "output_type": "stream",
          "text": [
            "<class 'pandas.core.frame.DataFrame'>\n",
            "RangeIndex: 4559970 entries, 0 to 4559969\n",
            "Data columns (total 3 columns):\n",
            " #   Column      Dtype  \n",
            "---  ------      -----  \n",
            " 0   CNPJ_FUNDO  object \n",
            " 1   DT_COMPTC   object \n",
            " 2   Return      float64\n",
            "dtypes: float64(1), object(2)\n",
            "memory usage: 104.4+ MB\n"
          ],
          "name": "stdout"
        }
      ]
    },
    {
      "cell_type": "code",
      "metadata": {
        "id": "AQqyE0XgM1lX",
        "colab": {
          "base_uri": "https://localhost:8080/",
          "height": 415
        },
        "outputId": "f26a92d5-6232-4e8d-9ee6-00239c7a1576"
      },
      "source": [
        "sns.set(rc={'figure.figsize':(17,6)})\n",
        "df_to_plot[['DT_COMPTC','Return']][df_to_plot['CNPJ_FUNDO']==random_cnpj].set_index('DT_COMPTC').plot(title = 'Retorno Diário do fundo com CNPJ: '+random_cnpj,\n",
        "                                                                                                     fontsize = 16, linewidth = 2.0, color = '#073763');"
      ],
      "execution_count": 47,
      "outputs": [
        {
          "output_type": "display_data",
          "data": {
            "image/png": "[encoded data removed]",
            "text/plain": [
              "<Figure size 1224x432 with 1 Axes>"
            ]
          },
          "metadata": {
            "tags": []
          }
        }
      ]
    },
    {
      "cell_type": "code",
      "metadata": {
        "id": "dDKGP0VdM1lX",
        "colab": {
          "base_uri": "https://localhost:8080/",
          "height": 416
        },
        "outputId": "533dc2ec-edf9-4c7d-ef5c-3bd4995e4fcc"
      },
      "source": [
        "sns.set(rc={'figure.figsize':(17,6)})\n",
        "df[['Return']][df['CNPJ_FUNDO']==random_cnpj].plot.hist(bins = 30, title = 'Retorno Diário do fundo com CNPJ: '+random_cnpj,\n",
        "                                                        fontsize = 16, linewidth = 2.0, color = '#134f5c')"
      ],
      "execution_count": 48,
      "outputs": [
        {
          "output_type": "execute_result",
          "data": {
            "text/plain": [
              "<matplotlib.axes._subplots.AxesSubplot at 0x7f11b0e67dd0>"
            ]
          },
          "metadata": {
            "tags": []
          },
          "execution_count": 48
        },
        {
          "output_type": "display_data",
          "data": {
            "image/png": "[encoded data removed]",
            "text/plain": [
              "<Figure size 1224x432 with 1 Axes>"
            ]
          },
          "metadata": {
            "tags": []
          }
        }
      ]
    },
    {
      "cell_type": "code",
      "metadata": {
        "id": "Fve986yuM1lY",
        "colab": {
          "base_uri": "https://localhost:8080/"
        },
        "outputId": "fe7a3c49-03e7-4c70-9aff-a05d6e7d9a59"
      },
      "source": [
        "df.info()"
      ],
      "execution_count": 49,
      "outputs": [
        {
          "output_type": "stream",
          "text": [
            "<class 'pandas.core.frame.DataFrame'>\n",
            "RangeIndex: 4559970 entries, 0 to 4559969\n",
            "Data columns (total 10 columns):\n",
            " #   Column         Dtype  \n",
            "---  ------         -----  \n",
            " 0   index          object \n",
            " 1   DT_COMPTC      object \n",
            " 2   VL_TOTAL       float64\n",
            " 3   VL_QUOTA       float64\n",
            " 4   VL_PATRIM_LIQ  float64\n",
            " 5   CAPTC_DIA      float64\n",
            " 6   RESG_DIA       float64\n",
            " 7   NR_COTST       int64  \n",
            " 8   CNPJ_FUNDO     object \n",
            " 9   Return         float64\n",
            "dtypes: float64(6), int64(1), object(3)\n",
            "memory usage: 347.9+ MB\n"
          ],
          "name": "stdout"
        }
      ]
    },
    {
      "cell_type": "code",
      "metadata": {
        "id": "i6e7cFIHM1lY",
        "colab": {
          "base_uri": "https://localhost:8080/",
          "height": 78
        },
        "outputId": "fdbb27c8-bcf4-488d-edc6-aebba345b164"
      },
      "source": [
        "# Show days where return below 1% for randomly selected fund\n",
        "\n",
        "df[['DT_COMPTC','Return']][(df['CNPJ_FUNDO']==random_cnpj )& (df['Return'] < -1)].set_index('DT_COMPTC')"
      ],
      "execution_count": 50,
      "outputs": [
        {
          "output_type": "execute_result",
          "data": {
            "text/html": [
              "<div>\n",
              "<style scoped>\n",
              "    .dataframe tbody tr th:only-of-type {\n",
              "        vertical-align: middle;\n",
              "    }\n",
              "\n",
              "    .dataframe tbody tr th {\n",
              "        vertical-align: top;\n",
              "    }\n",
              "\n",
              "    .dataframe thead th {\n",
              "        text-align: right;\n",
              "    }\n",
              "</style>\n",
              "<table border=\"1\" class=\"dataframe\">\n",
              "  <thead>\n",
              "    <tr style=\"text-align: right;\">\n",
              "      <th></th>\n",
              "      <th>Return</th>\n",
              "    </tr>\n",
              "    <tr>\n",
              "      <th>DT_COMPTC</th>\n",
              "      <th></th>\n",
              "    </tr>\n",
              "  </thead>\n",
              "  <tbody>\n",
              "  </tbody>\n",
              "</table>\n",
              "</div>"
            ],
            "text/plain": [
              "Empty DataFrame\n",
              "Columns: [Return]\n",
              "Index: []"
            ]
          },
          "metadata": {
            "tags": []
          },
          "execution_count": 50
        }
      ]
    },
    {
      "cell_type": "code",
      "metadata": {
        "id": "922kyuq7M1lY"
      },
      "source": [
        ""
      ],
      "execution_count": 50,
      "outputs": []
    },
    {
      "cell_type": "markdown",
      "metadata": {
        "id": "puWDp6naM1lZ"
      },
      "source": [
        "## Salva dataframe incluindo retornos diários em arquivo csv"
      ]
    },
    {
      "cell_type": "code",
      "metadata": {
        "id": "jM4pCSBGM1lZ",
        "colab": {
          "base_uri": "https://localhost:8080/"
        },
        "outputId": "45e4ef12-225a-4737-872d-a419b9502600"
      },
      "source": [
        "time_start = perf_counter()\n",
        "df.to_csv('df_diario_'+str(ct[0])+'_'+str(ct[-1])+'.csv',sep = ';' ,encoding='utf-8')#, compression = 'zip')\n",
        "\n",
        "time_end = perf_counter()\n",
        "elapsed_time = time_end - time_start\n",
        "print(' ****salvar df em .csv demorou ', round(elapsed_time,2) , ' segundos *****')"
      ],
      "execution_count": 52,
      "outputs": [
        {
          "output_type": "stream",
          "text": [
            " ****salvar df em .csv demorou  44.58  segundos *****\n"
          ],
          "name": "stdout"
        }
      ]
    },
    {
      "cell_type": "code",
      "metadata": {
        "id": "dd-JmlwvM1lZ",
        "colab": {
          "base_uri": "https://localhost:8080/"
        },
        "outputId": "1be5cf40-8690-4b7e-ede3-86bf37551dee"
      },
      "source": [
        "!ls -"
      ],
      "execution_count": 54,
      "outputs": [
        {
          "output_type": "stream",
          "text": [
            "df_diario_202003_202102.csv  CVM      lib64  sbin\t\tvar\n",
            ".\t\t\t     datalab  media  srv\t\tdev\n",
            "..\t\t\t     etc      mnt    tensorflow-1.15.2\t.dockerenv\n",
            "bin\t\t\t     home     opt    tmp\t\tproc\n",
            "boot\t\t\t     lib      root   tools\t\tsys\n",
            "content\t\t\t     lib32    run    usr\n"
          ],
          "name": "stdout"
        }
      ]
    },
    {
      "cell_type": "code",
      "metadata": {
        "id": "jJQsjnd-TpWA"
      },
      "source": [
        ""
      ],
      "execution_count": null,
      "outputs": []
    }
  ]
}