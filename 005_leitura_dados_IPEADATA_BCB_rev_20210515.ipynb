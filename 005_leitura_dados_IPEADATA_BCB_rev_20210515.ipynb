{
  "nbformat": 4,
  "nbformat_minor": 0,
  "metadata": {
    "kernelspec": {
      "display_name": "Python 3",
      "language": "python",
      "name": "python3"
    },
    "language_info": {
      "codemirror_mode": {
        "name": "ipython",
        "version": 3
      },
      "file_extension": ".py",
      "mimetype": "text/x-python",
      "name": "python",
      "nbconvert_exporter": "python",
      "pygments_lexer": "ipython3",
      "version": "3.8.6"
    },
    "colab": {
      "name": "005_leitura_dados_IPEADATA_BCB_rev_20210515.ipynb",
      "provenance": [],
      "include_colab_link": true
    }
  },
  "cells": [
    {
      "cell_type": "markdown",
      "metadata": {
        "id": "view-in-github",
        "colab_type": "text"
      },
      "source": [
        "<a href=\"https://colab.research.google.com/github/barrosm/BIMASTER_CODE_PUBLIC/blob/main/005_leitura_dados_IPEADATA_BCB_rev_20210515.ipynb\" target=\"_parent\"><img src=\"https://colab.research.google.com/assets/colab-badge.svg\" alt=\"Open In Colab\"/></a>"
      ]
    },
    {
      "cell_type": "markdown",
      "metadata": {
        "id": "BqKnIeALZRBQ"
      },
      "source": [
        "# Leitura dados IPEADATA e Banco Central"
      ]
    },
    {
      "cell_type": "markdown",
      "metadata": {
        "id": "kKQsH5YHZRBX"
      },
      "source": [
        "## Monica Barros - 25/02/2021 - atualização em 15/05/2021"
      ]
    },
    {
      "cell_type": "code",
      "metadata": {
        "colab": {
          "base_uri": "https://localhost:8080/"
        },
        "id": "XyTp0xn2ZRBY",
        "outputId": "4e3e7608-6f49-4446-f37f-5069e8f73e47"
      },
      "source": [
        "# para baixar os dados do ipeadata\n",
        "#====================================================\n",
        "!pip install ipeadatapy\n",
        "import ipeadatapy as idpy"
      ],
      "execution_count": 2,
      "outputs": [
        {
          "output_type": "stream",
          "text": [
            "Collecting ipeadatapy\n",
            "  Downloading https://files.pythonhosted.org/packages/90/28/ee4a0afdcae2d7fb62674fcefea78c7097bb94a5e4be472b9fb328586422/ipeadatapy-0.1.7-py3-none-any.whl\n",
            "Installing collected packages: ipeadatapy\n",
            "Successfully installed ipeadatapy-0.1.7\n"
          ],
          "name": "stdout"
        }
      ]
    },
    {
      "cell_type": "markdown",
      "metadata": {
        "id": "9H-qP0IiZRBZ"
      },
      "source": [
        "* ### Tive que usar o Quandl para baixar os dados - o módulo sgs não funcionava por causa do locale\n",
        "* ### Também não funcionou ao tentar fazer a request direto e ler o json (às vezes ia, às vezes não ia)"
      ]
    },
    {
      "cell_type": "code",
      "metadata": {
        "colab": {
          "base_uri": "https://localhost:8080/"
        },
        "id": "EjqYVKfCZRBZ",
        "outputId": "efccc104-b01c-4c15-9daf-f39f1367445b"
      },
      "source": [
        "# Alternativa para baixar os dados do Banco Central\n",
        "#====================================================\n",
        "!pip install quandl\n",
        "import quandl\n",
        "quandl.ApiConfig.api_key = 'Bs-h_k6jgX2cHYaYh2Cc'   # Obtenha sua própria key"
      ],
      "execution_count": 3,
      "outputs": [
        {
          "output_type": "stream",
          "text": [
            "Collecting quandl\n",
            "  Downloading https://files.pythonhosted.org/packages/8b/2b/feefb36015beaecc5c0f9f2533e815b409621d9fa7b50b2aac621796f828/Quandl-3.6.1-py2.py3-none-any.whl\n",
            "Requirement already satisfied: requests>=2.7.0 in /usr/local/lib/python3.7/dist-packages (from quandl) (2.23.0)\n",
            "Collecting inflection>=0.3.1\n",
            "  Downloading https://files.pythonhosted.org/packages/59/91/aa6bde563e0085a02a435aa99b49ef75b0a4b062635e606dab23ce18d720/inflection-0.5.1-py2.py3-none-any.whl\n",
            "Requirement already satisfied: pandas>=0.14 in /usr/local/lib/python3.7/dist-packages (from quandl) (1.1.5)\n",
            "Requirement already satisfied: numpy>=1.8 in /usr/local/lib/python3.7/dist-packages (from quandl) (1.19.5)\n",
            "Requirement already satisfied: more-itertools in /usr/local/lib/python3.7/dist-packages (from quandl) (8.7.0)\n",
            "Requirement already satisfied: python-dateutil in /usr/local/lib/python3.7/dist-packages (from quandl) (2.8.1)\n",
            "Requirement already satisfied: six in /usr/local/lib/python3.7/dist-packages (from quandl) (1.15.0)\n",
            "Requirement already satisfied: urllib3!=1.25.0,!=1.25.1,<1.26,>=1.21.1 in /usr/local/lib/python3.7/dist-packages (from requests>=2.7.0->quandl) (1.24.3)\n",
            "Requirement already satisfied: certifi>=2017.4.17 in /usr/local/lib/python3.7/dist-packages (from requests>=2.7.0->quandl) (2020.12.5)\n",
            "Requirement already satisfied: chardet<4,>=3.0.2 in /usr/local/lib/python3.7/dist-packages (from requests>=2.7.0->quandl) (3.0.4)\n",
            "Requirement already satisfied: idna<3,>=2.5 in /usr/local/lib/python3.7/dist-packages (from requests>=2.7.0->quandl) (2.10)\n",
            "Requirement already satisfied: pytz>=2017.2 in /usr/local/lib/python3.7/dist-packages (from pandas>=0.14->quandl) (2018.9)\n",
            "Installing collected packages: inflection, quandl\n",
            "Successfully installed inflection-0.5.1 quandl-3.6.1\n"
          ],
          "name": "stdout"
        }
      ]
    },
    {
      "cell_type": "code",
      "metadata": {
        "colab": {
          "base_uri": "https://localhost:8080/"
        },
        "id": "O2XLoBosZRBZ",
        "outputId": "1cccd301-d73e-4096-9c59-69b04b1c78a4"
      },
      "source": [
        "# para baixar os dados diretamente do Banco Central\n",
        "#===================================================\n",
        "!pip install sgs\n",
        "import sgs"
      ],
      "execution_count": 4,
      "outputs": [
        {
          "output_type": "stream",
          "text": [
            "Collecting sgs\n",
            "  Downloading https://files.pythonhosted.org/packages/31/af/a40b05f1874a216205981a502090a51f42d64f9cb1a8cc33058d584465d5/sgs-2.1.0-py3-none-any.whl\n",
            "Requirement already satisfied: pandas>=0.24.2 in /usr/local/lib/python3.7/dist-packages (from sgs) (1.1.5)\n",
            "Requirement already satisfied: retrying>=1.3.3 in /usr/local/lib/python3.7/dist-packages (from sgs) (1.3.3)\n",
            "Requirement already satisfied: html5lib>=1.0.1 in /usr/local/lib/python3.7/dist-packages (from sgs) (1.0.1)\n",
            "Collecting beautifulsoup4>=4.7.1\n",
            "\u001b[?25l  Downloading https://files.pythonhosted.org/packages/d1/41/e6495bd7d3781cee623ce23ea6ac73282a373088fcd0ddc809a047b18eae/beautifulsoup4-4.9.3-py3-none-any.whl (115kB)\n",
            "\u001b[K     |████████████████████████████████| 122kB 3.8MB/s \n",
            "\u001b[?25hRequirement already satisfied: requests>=2.22.0 in /usr/local/lib/python3.7/dist-packages (from sgs) (2.23.0)\n",
            "Requirement already satisfied: numpy>=1.15.4 in /usr/local/lib/python3.7/dist-packages (from pandas>=0.24.2->sgs) (1.19.5)\n",
            "Requirement already satisfied: pytz>=2017.2 in /usr/local/lib/python3.7/dist-packages (from pandas>=0.24.2->sgs) (2018.9)\n",
            "Requirement already satisfied: python-dateutil>=2.7.3 in /usr/local/lib/python3.7/dist-packages (from pandas>=0.24.2->sgs) (2.8.1)\n",
            "Requirement already satisfied: six>=1.7.0 in /usr/local/lib/python3.7/dist-packages (from retrying>=1.3.3->sgs) (1.15.0)\n",
            "Requirement already satisfied: webencodings in /usr/local/lib/python3.7/dist-packages (from html5lib>=1.0.1->sgs) (0.5.1)\n",
            "Collecting soupsieve>1.2; python_version >= \"3.0\"\n",
            "  Downloading https://files.pythonhosted.org/packages/36/69/d82d04022f02733bf9a72bc3b96332d360c0c5307096d76f6bb7489f7e57/soupsieve-2.2.1-py3-none-any.whl\n",
            "Requirement already satisfied: chardet<4,>=3.0.2 in /usr/local/lib/python3.7/dist-packages (from requests>=2.22.0->sgs) (3.0.4)\n",
            "Requirement already satisfied: idna<3,>=2.5 in /usr/local/lib/python3.7/dist-packages (from requests>=2.22.0->sgs) (2.10)\n",
            "Requirement already satisfied: certifi>=2017.4.17 in /usr/local/lib/python3.7/dist-packages (from requests>=2.22.0->sgs) (2020.12.5)\n",
            "Requirement already satisfied: urllib3!=1.25.0,!=1.25.1,<1.26,>=1.21.1 in /usr/local/lib/python3.7/dist-packages (from requests>=2.22.0->sgs) (1.24.3)\n",
            "Installing collected packages: soupsieve, beautifulsoup4, sgs\n",
            "  Found existing installation: beautifulsoup4 4.6.3\n",
            "    Uninstalling beautifulsoup4-4.6.3:\n",
            "      Successfully uninstalled beautifulsoup4-4.6.3\n",
            "Successfully installed beautifulsoup4-4.9.3 sgs-2.1.0 soupsieve-2.2.1\n"
          ],
          "name": "stdout"
        }
      ]
    },
    {
      "cell_type": "code",
      "metadata": {
        "id": "zqBLqJLxZRBa"
      },
      "source": [
        "import pandas as pd\n",
        "import matplotlib.pyplot as plt\n",
        "import numpy as np\n",
        "\n",
        "plt.style.use('fivethirtyeight')\n",
        "pd.set_option('max_colwidth', 200)  # Altera largura máxima das colunas\n",
        "pd.set_option('display.max_colwidth', None)\n",
        "\n",
        "import seaborn as sns; \n",
        "sns.set(rc={'figure.figsize':(17,6)})\n",
        "\n",
        "plt.rcParams['axes.labelsize'] = 16\n",
        "plt.rcParams['xtick.labelsize'] = 14\n",
        "plt.rcParams['ytick.labelsize'] = 14\n",
        "\n",
        "import os\n",
        "import datetime\n",
        "from dateutil.relativedelta import relativedelta\n",
        "import time\n",
        "from time import perf_counter\n",
        "\n",
        "import glob\n",
        "import pickle\n",
        "\n",
        "#!pip install openpyxl\n",
        "from openpyxl import Workbook\n",
        "\n",
        "#!pip install pytz\n",
        "import pytz\n",
        "local_tz = pytz.timezone('America/Sao_Paulo')"
      ],
      "execution_count": 5,
      "outputs": []
    },
    {
      "cell_type": "code",
      "metadata": {
        "id": "9sX-nBaGZRBa"
      },
      "source": [
        "import urllib3\n",
        "import json\n",
        "import urllib.request\n",
        "\n",
        "from pandas.io.json import json_normalize"
      ],
      "execution_count": 6,
      "outputs": []
    },
    {
      "cell_type": "code",
      "metadata": {
        "id": "He5_IamWZRBb"
      },
      "source": [
        "path_result = '/home/jovyan/work/@Fund_Eval/@fatores_risco/'\n",
        "os.makedirs(path_result, exist_ok = 'TRUE')\n",
        "\n",
        "path_data = '/home/jovyan/work/@Fund_Eval/@dados_acoes/'\n",
        "os.makedirs(path_data, exist_ok = 'TRUE')\n",
        "\n",
        "path_code = '/home/jovyan/work/@Fund_Eval/PROGRAMAS/'\n",
        "os.makedirs(path_code, exist_ok = 'TRUE')"
      ],
      "execution_count": 7,
      "outputs": []
    },
    {
      "cell_type": "code",
      "metadata": {
        "id": "suXv3ZW_ZRBb"
      },
      "source": [
        "def restringe_periodo(serie, ano_inicio):\n",
        "    result = (idpy.timeseries(serie))\n",
        "    if 'YEAR' in result:\n",
        "        result = result.loc[result['YEAR'] >= ano_inicio]  # em outras séries a coluna é 'ANO'\n",
        "    if 'ANO'  in result:\n",
        "        result = result.loc[result['ANO'] >= ano_inicio] \n",
        "    return result"
      ],
      "execution_count": 8,
      "outputs": []
    },
    {
      "cell_type": "markdown",
      "metadata": {
        "id": "BbPOWywaZRBb"
      },
      "source": [
        "## Selecionando séries diárias no IPEADATA"
      ]
    },
    {
      "cell_type": "markdown",
      "metadata": {
        "id": "zSwpEv90ZRBc"
      },
      "source": [
        "- ANBIMA366_TJTLN são as taxas de juros pré de 1, 3, 6 e 12 meses\n",
        "- BMF_366FUTXDOL = dolar futuro 1 e 3 meses\n",
        "- BMF366_FUT3DOLV366 = volatilidade do dólar futuro, Calculada pelo Ipeadata com base nas taxas diárias de retorno entre as cotações de fechamento observadas nos 21 últimos dias de negociação\n",
        "- GM366_ERC366 = Taxa de câmbio R /𝑈𝑆  comercial (valor de compra)\n",
        "- GM366_ERTUR366 = Taxa de câmbio - R /𝑈𝑆  - turismo - venda - média\n",
        "- GM366_ERV366 = Taxa de câmbio - R /𝑈𝑆  - comercial - venda - média\n",
        "- GM366_ERVV366\t= Taxa de câmbio - R /𝑈𝑆  - comercial - venda - média - volatilidade\n",
        "- GM366_EUROV366 = Zona do Euro - taxa de câmbio - R$ / euro - venda - média\n",
        "- EIA366_PBRENT366\twww.eia.doe.gov\tPreço - pétroleo bruto - Brent (FOB)\n",
        "- EIA366_PWTI366\twww.eia.doe.gov\tPreço - pétroleo bruto - WTI (FOB)\n",
        "- GM366_DOW366\twww.valor.com.br\tÍndice de ações - Dow Jones - fechamento\n",
        "- SGS366_NASDAQ366\twww.nasdaq.com\tÍndice de ações - NASDAQ - fechamento\n",
        "- VALOR366_FEDFUND366\twww.valor.com.br\tTaxa de juros básica - Federal Funds - fixada pelo FOMC\n",
        "- GM366_IBVSP366\twww.bmfbovespa.com.br\tÍndice de ações - Ibovespa - fechamento\n",
        "- GM366_IBVSPV366\twww.ipea.gov.br\tÍndice de ações - Ibovespa - fechamento - volatilidade\n"
      ]
    },
    {
      "cell_type": "code",
      "metadata": {
        "id": "1s8w3Rt1ZRBc"
      },
      "source": [
        "series_eco = ['ANBIMA366_TJTLN1366', 'ANBIMA366_TJTLN3366', 'ANBIMA366_TJTLN6366', 'ANBIMA366_TJTLN12366', \n",
        "             'BMF366_FUT1DOL366', 'BMF366_FUT3DOL366', 'BMF366_FUT3DOLV366', \n",
        "              'GM366_ERTUR366', 'GM366_ERV366', 'GM366_ERVV366', 'GM366_EUROV366', \n",
        "              'EIA366_PBRENT366', 'EIA366_PWTI366', 'GM366_DOW366', 'SGS366_NASDAQ366', 'VALOR366_FEDFUND366',\n",
        "              'GM366_IBVSP366', 'GM366_IBVSPV366']"
      ],
      "execution_count": 9,
      "outputs": []
    },
    {
      "cell_type": "code",
      "metadata": {
        "colab": {
          "base_uri": "https://localhost:8080/"
        },
        "id": "elQEfUNCZRBc",
        "outputId": "6a9577fc-c1f7-470f-a7ee-d2757d3d61ca"
      },
      "source": [
        "len(series_eco)"
      ],
      "execution_count": 10,
      "outputs": [
        {
          "output_type": "execute_result",
          "data": {
            "text/plain": [
              "18"
            ]
          },
          "metadata": {
            "tags": []
          },
          "execution_count": 10
        }
      ]
    },
    {
      "cell_type": "markdown",
      "metadata": {
        "id": "kZ7HMLjXZRBd"
      },
      "source": [
        "### Capturando os dados através do Ipeadata"
      ]
    },
    {
      "cell_type": "code",
      "metadata": {
        "id": "4_Qyam90ZRBd"
      },
      "source": [
        "time_start = time.time()\n",
        "time_start;\n",
        "\n",
        "df1 = [restringe_periodo(serie, 2017) for serie in series_eco] \n",
        "df1\n",
        "\n",
        "for i in range(len(series_eco)): \n",
        "    # print(i)\n",
        "    # print(df1[i].columns)\n",
        "    # Renomeia as colunas\n",
        "    df1[i].columns = ['YEAR', 'DAY', 'MONTH', 'CODE', 'RAW DATE', 'VALUE ((% a.a.))']\n",
        "    df1[i].rename(columns = {'VALUE ((% a.a.))':'VALUE'}, inplace = True)\n",
        "    # Seleciona apenas as colunas que interessam\n",
        "    df1[i] = df1[i][['CODE','YEAR', 'MONTH', 'VALUE']]\n",
        "\n",
        "time_end = time.time();\n",
        "elapsed_time = time_end - time_start;\n",
        "print('')\n",
        "print('*********************************************************************')\n",
        "print('Demorou:',round(elapsed_time,2),' segundos')\n",
        "print('*********************************************************************')"
      ],
      "execution_count": null,
      "outputs": []
    },
    {
      "cell_type": "code",
      "metadata": {
        "id": "Py5VFbeTZRBe"
      },
      "source": [
        "# Cria Dataframe com as colunas concatenadas\n",
        "df_eco = pd.concat([df1[i] for i in range(len(series_eco))], axis =1)\n",
        "df_eco.head(3)"
      ],
      "execution_count": null,
      "outputs": []
    },
    {
      "cell_type": "code",
      "metadata": {
        "id": "uIhCJ7g8ZRBf"
      },
      "source": [
        "df_eco.shape"
      ],
      "execution_count": null,
      "outputs": []
    },
    {
      "cell_type": "code",
      "metadata": {
        "id": "n9utHPXAZRBf"
      },
      "source": [
        "#df_eco.columns.to_list()"
      ],
      "execution_count": null,
      "outputs": []
    },
    {
      "cell_type": "code",
      "metadata": {
        "id": "p_cS_e6tZRBf"
      },
      "source": [
        "df_eco = df_eco.iloc[:,np.r_[1:4, 7, 11, 15, 19, 23, 27, 31, 35, 39, 43, 47, 51, 55, 59, 63, 67, 71]]"
      ],
      "execution_count": null,
      "outputs": []
    },
    {
      "cell_type": "code",
      "metadata": {
        "id": "7xWL-2fpZRBg"
      },
      "source": [
        "cols_dataframe = [str(i) for i in series_eco]\n",
        "df_eco.columns = ['YEAR', 'MONTH'] + cols_dataframe"
      ],
      "execution_count": null,
      "outputs": []
    },
    {
      "cell_type": "code",
      "metadata": {
        "id": "4fbnqGL_ZRBg"
      },
      "source": [
        "## Renomeando o índice de df_eco (dados do Ipeadata) - CUIDADO - substitui o Dataframe original!\n",
        "df_eco_back = df_eco.copy()  # por via das dúvidas\n",
        "df_eco.rename_axis(index={'DATE': 'Date'}, inplace = True)\n",
        "df_eco.head(3)"
      ],
      "execution_count": null,
      "outputs": []
    },
    {
      "cell_type": "code",
      "metadata": {
        "id": "2919ucK9ZRBg"
      },
      "source": [
        "df_eco.tail(3)"
      ],
      "execution_count": null,
      "outputs": []
    },
    {
      "cell_type": "code",
      "metadata": {
        "id": "SmFi0G_qZRBh"
      },
      "source": [
        "# Volatilidades do Futuro 3 meses Dólar e Dólar Spot\n",
        "df_eco[['BMF366_FUT3DOLV366', 'GM366_ERVV366']].plot();"
      ],
      "execution_count": null,
      "outputs": []
    },
    {
      "cell_type": "code",
      "metadata": {
        "id": "SKrHPnTzZRBh"
      },
      "source": [
        "#df_eco[['BMF366_FUT1DOL366', 'BMF366_FUT3DOL366', 'GM366_ERV366']].plot();"
      ],
      "execution_count": null,
      "outputs": []
    },
    {
      "cell_type": "code",
      "metadata": {
        "id": "wviRys4pZRBh"
      },
      "source": [
        "#df_eco[['ANBIMA366_TJTLN1366', 'ANBIMA366_TJTLN12366']].plot();"
      ],
      "execution_count": null,
      "outputs": []
    },
    {
      "cell_type": "code",
      "metadata": {
        "id": "-UvPNQ4fZRBh"
      },
      "source": [
        ""
      ],
      "execution_count": null,
      "outputs": []
    },
    {
      "cell_type": "markdown",
      "metadata": {
        "id": "UIkTdyMwZRBi"
      },
      "source": [
        "## Selecionando séries diárias no Banco Central"
      ]
    },
    {
      "cell_type": "markdown",
      "metadata": {
        "id": "pZvgJmy1ZRBi"
      },
      "source": [
        "- 12461 = IRF-M (ANBIMA Indice Renda Fixa (pré))\n",
        "- 12462 = IMA-S (Selic)\n",
        "- 12463 = IMA-C (IGP-M - será descontinuado em 04/2021)\n",
        "- 12466 = IMA-B (NTN-B, IPCA)\n",
        "- 12467 = IMA-B 5 (NTN-B < 5 anos)\n",
        "- 12468 = IMA-B 5+ \n",
        "- 12469 = IMA-Geral\n",
        "- 17626 = IRF - M1 (pré < 1 ano)\n",
        "- 17627 = IRF - M1+ (pré > 1 ano)\n",
        "- 17628 = IMA Geral ex C\n",
        "Fontes: Abecip e BCB-Depec"
      ]
    },
    {
      "cell_type": "markdown",
      "metadata": {
        "id": "Shh-K7bEZRBi"
      },
      "source": [
        "for i in lista\n",
        "df_bacen = sgs.time_serie(CDI_CODE, start='02/01/2018', end='31/12/2018')"
      ]
    },
    {
      "cell_type": "markdown",
      "metadata": {
        "id": "jMgQ_5v9ZRBi"
      },
      "source": [
        "from datetime import datetime\n",
        "agora = datetime.now(pytz.timezone('America/Sao_Paulo'))\n",
        "agora = agora.date()\n",
        "agora = str(agora)\n",
        "agora"
      ]
    },
    {
      "cell_type": "code",
      "metadata": {
        "id": "6Itd5J_yZRBi"
      },
      "source": [
        "lista_codigos = [12461, 12462, 12463, 12466, 12467, 12468, 12469, 17626, 17627, 17628]"
      ],
      "execution_count": null,
      "outputs": []
    },
    {
      "cell_type": "code",
      "metadata": {
        "id": "abzdfPDiZRBi"
      },
      "source": [
        "def importa_bacen(codigo, start_date = '01/01/2017', end_date = '31/12/2020'):\n",
        "    '''usa o módulo sgs para importar dados do Bacen\n",
        "    input é o código da série no Bacen''' \n",
        "    tt1 = datetime.datetime.strptime(start_date, '%d/%m/%Y')#'%Y-%m-%d')\n",
        "    tt2 = datetime.datetime.strptime(end_date, '%d/%m/%Y')\n",
        "    result = sgs.time_serie(codigo, start= tt1, end= tt2)\n",
        "    return result"
      ],
      "execution_count": null,
      "outputs": []
    },
    {
      "cell_type": "markdown",
      "metadata": {
        "id": "GK43RJxnZRBj"
      },
      "source": [
        "importa_bacen(12462)   ---- Não funciona"
      ]
    },
    {
      "cell_type": "code",
      "metadata": {
        "id": "ffWdlEzwZRBj"
      },
      "source": [
        "start_date = '2017-01-01'\n",
        "end_date = '2021-12-31'"
      ],
      "execution_count": null,
      "outputs": []
    },
    {
      "cell_type": "code",
      "metadata": {
        "id": "1fJmN7T1ZRBj"
      },
      "source": [
        "codigo_bc = 17628"
      ],
      "execution_count": null,
      "outputs": []
    },
    {
      "cell_type": "code",
      "metadata": {
        "id": "JWFatCRDZRBj"
      },
      "source": [
        "def consulta_bc2(codigo_bcb):\n",
        "    #url = 'http://api.bcb.gov.br/dados/serie/bcdata.sgs.{}/dados?formato=json'.format(codigo_bcb)\n",
        "    url = 'http://api.bcb.gov.br/dados/serie/bcdata.sgs.'+str(codigo_bc)+'/dados?formato=json&dataInicial='+\\\n",
        "    str(start_date)+'&dataFinal='+str(end_date)\n",
        "    \n",
        "    df = pd.read_json(url)\n",
        "    df['data'] = pd.to_datetime(df['data'], dayfirst=False) #dayfirst=True\n",
        "    df.set_index('data', inplace=True)\n",
        "    uu1 = datetime.datetime.strptime(start_date, '%Y-%m-%d')\n",
        "    uu2 = datetime.datetime.strptime(end_date, '%Y-%m-%d')\n",
        "    #df = df.loc[uu1:uu2]\n",
        "    print(df.head())\n",
        "    return df"
      ],
      "execution_count": null,
      "outputs": []
    },
    {
      "cell_type": "markdown",
      "metadata": {
        "id": "lMtJNiDFZRBj"
      },
      "source": [
        "consulta_bc2(12463)  #consulta_bc(12461, '2021-01-04', '2021-01-31')"
      ]
    },
    {
      "cell_type": "code",
      "metadata": {
        "id": "MSkfc2MtZRBk"
      },
      "source": [
        "def consulta_bc3(codigo_bc, start_date = '02/01/2017', end_date = '12/02/2021' ):   #'2017-01-02'  '2021-02-12'\n",
        "    import requests\n",
        "    #url = 'http://api.bcb.gov.br/dados/serie/bcdata.sgs.{}/dados?formato=json'.format(codigo_bc)\n",
        "    \n",
        "    #url = ('http://api.bcb.gov.br/dados/serie/bcdata.sgs.{}/dados?formato=json&dataInicial={}&dataFinal={}')\n",
        "    url = 'http://api.bcb.gov.br/dados/serie/bcdata.sgs.'+str(codigo_bc)+'/dados?formato=json&dataInicial='+\\\n",
        "    str(start_date)+'&dataFinal='+str(end_date)\n",
        "\n",
        "    request_url = url.format(codigo_bc, start_date, end_date)\n",
        "    r = requests.get(request_url)\n",
        "    if r.status_code != 200:\n",
        "        print('Request para API deu erro')  \n",
        "    try:\n",
        "        if r.json() != {}:\n",
        "            print(r)\n",
        "            print('')\n",
        "            print(r.json())\n",
        "            df = pd.DataFrame.from_dict(r.json())\n",
        "            \n",
        "            print(df.info())\n",
        "            df['data'] = pd.to_datetime(df['data'], dayfirst = False, format = '%Y-%m-%d')#format = '%d/%m%Y') #dayfirst = True\n",
        "            df.reset_index(drop=True)\n",
        "            df.set_index('data', inplace = True)\n",
        "            ##index = pd.date_range(start = '2015-01-01', end = '2020-09-01', freq = \"M\") \n",
        "            df.index = pd.to_datetime(df.index)\n",
        "            df = df.loc[start_date : end_date]\n",
        "            \n",
        "        else:\n",
        "            df = pd.DataFrame()\n",
        "            print('')\n",
        "            print(\"Resposta Inválida\")\n",
        "            time.sleep(1)\n",
        "    except ValueError:\n",
        "            print(\"Resposta Inválida\")\n",
        "            time.sleep(1)\n",
        "    \n",
        "    return url, r.json, df \n",
        "    "
      ],
      "execution_count": null,
      "outputs": []
    },
    {
      "cell_type": "markdown",
      "metadata": {
        "id": "ZuaxnnCyZRBk"
      },
      "source": [
        "### A consulta a seguir funciona às vezes - API do Bacen não é 100% confiável para mim"
      ]
    },
    {
      "cell_type": "code",
      "metadata": {
        "id": "AScgnaawZRBk"
      },
      "source": [
        "[nome_url, conteudo_json , df_bcb] = consulta_bc3(12461, start_date = '15/01/2021', end_date = '13/02/2021') #'2021-01-04', '2021-01-31')"
      ],
      "execution_count": null,
      "outputs": []
    },
    {
      "cell_type": "code",
      "metadata": {
        "id": "cRI6_0YZZRBl"
      },
      "source": [
        "#df_bcb.set_index('data', inplace = True)\n",
        "#df_bcb.info()\n",
        "#df_bcb.index = pd.to_datetime(df_bcb.index)\n",
        "#df_bcb.head()"
      ],
      "execution_count": null,
      "outputs": []
    },
    {
      "cell_type": "code",
      "metadata": {
        "id": "jcvMNosXZRBl"
      },
      "source": [
        "lista_codigos"
      ],
      "execution_count": null,
      "outputs": []
    },
    {
      "cell_type": "code",
      "metadata": {
        "id": "xKVgQdNRZRBl"
      },
      "source": [
        "url = 'http://api.bcb.gov.br/dados/serie/bcdata.sgs.'+str(codigo_bc)+'/dados?formato=json&dataInicial='+\\\n",
        "str(start_date)+'&dataFinal='+str(end_date)\n",
        "print(url)"
      ],
      "execution_count": null,
      "outputs": []
    },
    {
      "cell_type": "markdown",
      "metadata": {
        "id": "l779jzD8ZRBm"
      },
      "source": [
        "## Usando o Quandl"
      ]
    },
    {
      "cell_type": "markdown",
      "metadata": {
        "id": "xV-AEFIxZRBm"
      },
      "source": [
        "- 12461 = IRF-M (ANBIMA Indice Renda Fixa (pré))\n",
        "- 12462 = IMA-S (Selic)\n",
        "- 12463 = IMA-C (IGP-M - será descontinuado em 04/2021)\n",
        "- 12466 = IMA-B (NTN-B, IPCA)\n",
        "- 12467 = IMA-B 5 (NTN-B < 5 anos)\n",
        "- 12468 = IMA-B 5+ \n",
        "- 12469 = IMA-Geral\n",
        "- 17626 = IRF - M1 (pré < 1 ano)\n",
        "- 17627 = IRF - M1+ (pré > 1 ano)\n",
        "- 17628 = IMA Geral ex C\n",
        "Fontes: Abecip e BCB-Depec"
      ]
    },
    {
      "cell_type": "code",
      "metadata": {
        "id": "0Wq-lHDsZRBm"
      },
      "source": [
        "series_bcb = ['IRF-M', 'IMA-S', 'IMA-C', 'IMA-B', 'IMA-B5', 'IMA-B5plus', 'IMA-Geral','IRF-M1', 'IRF-M1plus', 'IMA-Geral_exC']"
      ],
      "execution_count": null,
      "outputs": []
    },
    {
      "cell_type": "code",
      "metadata": {
        "id": "eG0uEjUkZRBn"
      },
      "source": [
        "time_start = time.time()\n",
        "time_start;\n",
        "\n",
        "inicio = '2017-01-01'\n",
        "fim = '2021-02-11'\n",
        "\n",
        "bcb_out = [quandl.get('BCB/'+str(serie), start_date = inicio, end_date = fim) for serie in lista_codigos] \n",
        "\n",
        "\n",
        "df_bcb = pd.concat(bcb_out, axis = 1)\n",
        "df_bcb.columns = series_bcb\n",
        "\n",
        "time_end = time.time();\n",
        "elapsed_time = time_end - time_start;\n",
        "print('')\n",
        "print('*********************************************************************')\n",
        "print('Demorou:',round(elapsed_time,2),' segundos')\n",
        "print('*********************************************************************')"
      ],
      "execution_count": null,
      "outputs": []
    },
    {
      "cell_type": "code",
      "metadata": {
        "id": "jGKhEKzLZRBn"
      },
      "source": [
        "df_bcb.head(3)"
      ],
      "execution_count": null,
      "outputs": []
    },
    {
      "cell_type": "code",
      "metadata": {
        "id": "z_H0C0WqZRBn"
      },
      "source": [
        "df_bcb.tail(3)"
      ],
      "execution_count": null,
      "outputs": []
    },
    {
      "cell_type": "code",
      "metadata": {
        "id": "l9mIseO0ZRBo"
      },
      "source": [
        "df_eco.info()"
      ],
      "execution_count": null,
      "outputs": []
    },
    {
      "cell_type": "code",
      "metadata": {
        "id": "xYh-FLmaZRBo"
      },
      "source": [
        "df_bcb.info()"
      ],
      "execution_count": null,
      "outputs": []
    },
    {
      "cell_type": "code",
      "metadata": {
        "id": "jzltq326ZRBp"
      },
      "source": [
        "df_all =pd.merge(df_eco,df_bcb, how='outer', left_index=True, right_index=True)"
      ],
      "execution_count": null,
      "outputs": []
    },
    {
      "cell_type": "code",
      "metadata": {
        "id": "UqjarPU2ZRBp"
      },
      "source": [
        "df_all.info()"
      ],
      "execution_count": null,
      "outputs": []
    },
    {
      "cell_type": "code",
      "metadata": {
        "id": "oHXLNPfvZRBp"
      },
      "source": [
        "df_all.tail(30)"
      ],
      "execution_count": null,
      "outputs": []
    },
    {
      "cell_type": "markdown",
      "metadata": {
        "id": "-OMB-2qnZRBq"
      },
      "source": [
        "### Cria indicadores de mês e ano para todas as linhas (mesmo onde havia NaN após o merge)"
      ]
    },
    {
      "cell_type": "code",
      "metadata": {
        "id": "_RMzFrDsZRBq"
      },
      "source": [
        "df_all['MONTH'] = df_all.index.month.astype('int')\n",
        "df_all['YEAR'] = df_all.index.year.astype('int')"
      ],
      "execution_count": null,
      "outputs": []
    },
    {
      "cell_type": "code",
      "metadata": {
        "id": "6Kdu53-4ZRBq"
      },
      "source": [
        "df_all.info()"
      ],
      "execution_count": null,
      "outputs": []
    },
    {
      "cell_type": "code",
      "metadata": {
        "id": "AOqDIM9ZZRBq"
      },
      "source": [
        "# Define data de hoje (para incluir nos arquivos de saida)\n",
        "data_hoje = datetime.datetime.now(tz = local_tz)\n",
        "# Converte para string (incluindo hora e minuto - útil se for rodar várias vezes no mesmo dia para testes)\n",
        "data_hoje = data_hoje.strftime(\"%Y_%m_%d_%H%M\")"
      ],
      "execution_count": null,
      "outputs": []
    },
    {
      "cell_type": "code",
      "metadata": {
        "id": "u_ehX8LMZRBq"
      },
      "source": [
        "time_start = perf_counter()\n",
        "df_all.to_csv(path_result+'fat_risco_'+str(data_hoje)+'.csv',sep = ';' ,encoding='utf-8')\n",
        "\n",
        "time_end = perf_counter()\n",
        "elapsed_time = time_end - time_start\n",
        "print(' ****salvar df em .csv demorou ', round(elapsed_time,2) , ' segundos *****')\n"
      ],
      "execution_count": null,
      "outputs": []
    },
    {
      "cell_type": "code",
      "metadata": {
        "id": "JtmOpLY1ZRBr"
      },
      "source": [
        "time_start = perf_counter()\n",
        "df_all.to_pickle(path_result+'fat_risco_'+str(data_hoje)+'.pkl')\n",
        "\n",
        "time_end = perf_counter()\n",
        "elapsed_time = time_end - time_start\n",
        "print(' ****salvar df em .pkl demorou ', round(elapsed_time,2) , ' segundos *****')"
      ],
      "execution_count": null,
      "outputs": []
    },
    {
      "cell_type": "code",
      "metadata": {
        "id": "6Pdd9FZPZRBr"
      },
      "source": [
        ""
      ],
      "execution_count": null,
      "outputs": []
    },
    {
      "cell_type": "code",
      "metadata": {
        "id": "h4AUp4P7ZRBr"
      },
      "source": [
        ""
      ],
      "execution_count": null,
      "outputs": []
    }
  ]
}