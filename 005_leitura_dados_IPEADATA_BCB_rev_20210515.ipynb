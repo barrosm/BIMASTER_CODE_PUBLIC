{
  "nbformat": 4,
  "nbformat_minor": 0,
  "metadata": {
    "kernelspec": {
      "display_name": "Python 3",
      "language": "python",
      "name": "python3"
    },
    "language_info": {
      "codemirror_mode": {
        "name": "ipython",
        "version": 3
      },
      "file_extension": ".py",
      "mimetype": "text/x-python",
      "name": "python",
      "nbconvert_exporter": "python",
      "pygments_lexer": "ipython3",
      "version": "3.8.6"
    },
    "colab": {
      "name": "005_leitura_dados_IPEADATA_BCB_rev_20210515.ipynb",
      "provenance": [],
      "collapsed_sections": [],
      "include_colab_link": true
    }
  },
  "cells": [
    {
      "cell_type": "markdown",
      "metadata": {
        "id": "view-in-github",
        "colab_type": "text"
      },
      "source": [
        "<a href=\"https://colab.research.google.com/github/barrosm/BIMASTER_CODE_PUBLIC/blob/main/005_leitura_dados_IPEADATA_BCB_rev_20210515.ipynb\" target=\"_parent\"><img src=\"https://colab.research.google.com/assets/colab-badge.svg\" alt=\"Open In Colab\"/></a>"
      ]
    },
    {
      "cell_type": "markdown",
      "metadata": {
        "id": "BqKnIeALZRBQ"
      },
      "source": [
        "# Leitura dados IPEADATA e Banco Central"
      ]
    },
    {
      "cell_type": "markdown",
      "metadata": {
        "id": "kKQsH5YHZRBX"
      },
      "source": [
        "## Monica Barros - 25/02/2021 - atualização em 15/05/2021"
      ]
    },
    {
      "cell_type": "code",
      "metadata": {
        "colab": {
          "base_uri": "https://localhost:8080/"
        },
        "id": "XyTp0xn2ZRBY",
        "outputId": "4e3e7608-6f49-4446-f37f-5069e8f73e47"
      },
      "source": [
        "# para baixar os dados do ipeadata\n",
        "#====================================================\n",
        "!pip install ipeadatapy\n",
        "import ipeadatapy as idpy"
      ],
      "execution_count": 2,
      "outputs": [
        {
          "output_type": "stream",
          "text": [
            "Collecting ipeadatapy\n",
            "  Downloading https://files.pythonhosted.org/packages/90/28/ee4a0afdcae2d7fb62674fcefea78c7097bb94a5e4be472b9fb328586422/ipeadatapy-0.1.7-py3-none-any.whl\n",
            "Installing collected packages: ipeadatapy\n",
            "Successfully installed ipeadatapy-0.1.7\n"
          ],
          "name": "stdout"
        }
      ]
    },
    {
      "cell_type": "markdown",
      "metadata": {
        "id": "9H-qP0IiZRBZ"
      },
      "source": [
        "* ### Tive que usar o Quandl para baixar os dados - o módulo sgs não funcionava por causa do locale\n",
        "* ### Também não funcionou ao tentar fazer a request direto e ler o json (às vezes ia, às vezes não ia)"
      ]
    },
    {
      "cell_type": "code",
      "metadata": {
        "colab": {
          "base_uri": "https://localhost:8080/"
        },
        "id": "EjqYVKfCZRBZ",
        "outputId": "efccc104-b01c-4c15-9daf-f39f1367445b"
      },
      "source": [
        "# Alternativa para baixar os dados do Banco Central\n",
        "#====================================================\n",
        "!pip install quandl\n",
        "import quandl\n",
        "quandl.ApiConfig.api_key = 'Bs-h_k6jgX2cHYaYh2Cc'   # Obtenha sua própria key"
      ],
      "execution_count": 3,
      "outputs": [
        {
          "output_type": "stream",
          "text": [
            "Collecting quandl\n",
            "  Downloading https://files.pythonhosted.org/packages/8b/2b/feefb36015beaecc5c0f9f2533e815b409621d9fa7b50b2aac621796f828/Quandl-3.6.1-py2.py3-none-any.whl\n",
            "Requirement already satisfied: requests>=2.7.0 in /usr/local/lib/python3.7/dist-packages (from quandl) (2.23.0)\n",
            "Collecting inflection>=0.3.1\n",
            "  Downloading https://files.pythonhosted.org/packages/59/91/aa6bde563e0085a02a435aa99b49ef75b0a4b062635e606dab23ce18d720/inflection-0.5.1-py2.py3-none-any.whl\n",
            "Requirement already satisfied: pandas>=0.14 in /usr/local/lib/python3.7/dist-packages (from quandl) (1.1.5)\n",
            "Requirement already satisfied: numpy>=1.8 in /usr/local/lib/python3.7/dist-packages (from quandl) (1.19.5)\n",
            "Requirement already satisfied: more-itertools in /usr/local/lib/python3.7/dist-packages (from quandl) (8.7.0)\n",
            "Requirement already satisfied: python-dateutil in /usr/local/lib/python3.7/dist-packages (from quandl) (2.8.1)\n",
            "Requirement already satisfied: six in /usr/local/lib/python3.7/dist-packages (from quandl) (1.15.0)\n",
            "Requirement already satisfied: urllib3!=1.25.0,!=1.25.1,<1.26,>=1.21.1 in /usr/local/lib/python3.7/dist-packages (from requests>=2.7.0->quandl) (1.24.3)\n",
            "Requirement already satisfied: certifi>=2017.4.17 in /usr/local/lib/python3.7/dist-packages (from requests>=2.7.0->quandl) (2020.12.5)\n",
            "Requirement already satisfied: chardet<4,>=3.0.2 in /usr/local/lib/python3.7/dist-packages (from requests>=2.7.0->quandl) (3.0.4)\n",
            "Requirement already satisfied: idna<3,>=2.5 in /usr/local/lib/python3.7/dist-packages (from requests>=2.7.0->quandl) (2.10)\n",
            "Requirement already satisfied: pytz>=2017.2 in /usr/local/lib/python3.7/dist-packages (from pandas>=0.14->quandl) (2018.9)\n",
            "Installing collected packages: inflection, quandl\n",
            "Successfully installed inflection-0.5.1 quandl-3.6.1\n"
          ],
          "name": "stdout"
        }
      ]
    },
    {
      "cell_type": "code",
      "metadata": {
        "colab": {
          "base_uri": "https://localhost:8080/"
        },
        "id": "O2XLoBosZRBZ",
        "outputId": "1cccd301-d73e-4096-9c59-69b04b1c78a4"
      },
      "source": [
        "# para baixar os dados diretamente do Banco Central\n",
        "#===================================================\n",
        "!pip install sgs\n",
        "import sgs"
      ],
      "execution_count": 4,
      "outputs": [
        {
          "output_type": "stream",
          "text": [
            "Collecting sgs\n",
            "  Downloading https://files.pythonhosted.org/packages/31/af/a40b05f1874a216205981a502090a51f42d64f9cb1a8cc33058d584465d5/sgs-2.1.0-py3-none-any.whl\n",
            "Requirement already satisfied: pandas>=0.24.2 in /usr/local/lib/python3.7/dist-packages (from sgs) (1.1.5)\n",
            "Requirement already satisfied: retrying>=1.3.3 in /usr/local/lib/python3.7/dist-packages (from sgs) (1.3.3)\n",
            "Requirement already satisfied: html5lib>=1.0.1 in /usr/local/lib/python3.7/dist-packages (from sgs) (1.0.1)\n",
            "Collecting beautifulsoup4>=4.7.1\n",
            "\u001b[?25l  Downloading https://files.pythonhosted.org/packages/d1/41/e6495bd7d3781cee623ce23ea6ac73282a373088fcd0ddc809a047b18eae/beautifulsoup4-4.9.3-py3-none-any.whl (115kB)\n",
            "\u001b[K     |████████████████████████████████| 122kB 3.8MB/s \n",
            "\u001b[?25hRequirement already satisfied: requests>=2.22.0 in /usr/local/lib/python3.7/dist-packages (from sgs) (2.23.0)\n",
            "Requirement already satisfied: numpy>=1.15.4 in /usr/local/lib/python3.7/dist-packages (from pandas>=0.24.2->sgs) (1.19.5)\n",
            "Requirement already satisfied: pytz>=2017.2 in /usr/local/lib/python3.7/dist-packages (from pandas>=0.24.2->sgs) (2018.9)\n",
            "Requirement already satisfied: python-dateutil>=2.7.3 in /usr/local/lib/python3.7/dist-packages (from pandas>=0.24.2->sgs) (2.8.1)\n",
            "Requirement already satisfied: six>=1.7.0 in /usr/local/lib/python3.7/dist-packages (from retrying>=1.3.3->sgs) (1.15.0)\n",
            "Requirement already satisfied: webencodings in /usr/local/lib/python3.7/dist-packages (from html5lib>=1.0.1->sgs) (0.5.1)\n",
            "Collecting soupsieve>1.2; python_version >= \"3.0\"\n",
            "  Downloading https://files.pythonhosted.org/packages/36/69/d82d04022f02733bf9a72bc3b96332d360c0c5307096d76f6bb7489f7e57/soupsieve-2.2.1-py3-none-any.whl\n",
            "Requirement already satisfied: chardet<4,>=3.0.2 in /usr/local/lib/python3.7/dist-packages (from requests>=2.22.0->sgs) (3.0.4)\n",
            "Requirement already satisfied: idna<3,>=2.5 in /usr/local/lib/python3.7/dist-packages (from requests>=2.22.0->sgs) (2.10)\n",
            "Requirement already satisfied: certifi>=2017.4.17 in /usr/local/lib/python3.7/dist-packages (from requests>=2.22.0->sgs) (2020.12.5)\n",
            "Requirement already satisfied: urllib3!=1.25.0,!=1.25.1,<1.26,>=1.21.1 in /usr/local/lib/python3.7/dist-packages (from requests>=2.22.0->sgs) (1.24.3)\n",
            "Installing collected packages: soupsieve, beautifulsoup4, sgs\n",
            "  Found existing installation: beautifulsoup4 4.6.3\n",
            "    Uninstalling beautifulsoup4-4.6.3:\n",
            "      Successfully uninstalled beautifulsoup4-4.6.3\n",
            "Successfully installed beautifulsoup4-4.9.3 sgs-2.1.0 soupsieve-2.2.1\n"
          ],
          "name": "stdout"
        }
      ]
    },
    {
      "cell_type": "code",
      "metadata": {
        "id": "zqBLqJLxZRBa"
      },
      "source": [
        "import pandas as pd\n",
        "import matplotlib.pyplot as plt\n",
        "import numpy as np\n",
        "\n",
        "plt.style.use('fivethirtyeight')\n",
        "pd.set_option('max_colwidth', 200)  # Altera largura máxima das colunas\n",
        "pd.set_option('display.max_colwidth', None)\n",
        "\n",
        "import seaborn as sns; \n",
        "sns.set(rc={'figure.figsize':(17,6)})\n",
        "\n",
        "plt.rcParams['axes.labelsize'] = 16\n",
        "plt.rcParams['xtick.labelsize'] = 14\n",
        "plt.rcParams['ytick.labelsize'] = 14\n",
        "\n",
        "import os\n",
        "import datetime\n",
        "from dateutil.relativedelta import relativedelta\n",
        "import time\n",
        "from time import perf_counter\n",
        "\n",
        "import glob\n",
        "import pickle\n",
        "\n",
        "#!pip install openpyxl\n",
        "from openpyxl import Workbook\n",
        "\n",
        "#!pip install pytz\n",
        "import pytz\n",
        "local_tz = pytz.timezone('America/Sao_Paulo')"
      ],
      "execution_count": 5,
      "outputs": []
    },
    {
      "cell_type": "code",
      "metadata": {
        "id": "9sX-nBaGZRBa"
      },
      "source": [
        "import urllib3\n",
        "import json\n",
        "import urllib.request\n",
        "\n",
        "from pandas.io.json import json_normalize"
      ],
      "execution_count": 6,
      "outputs": []
    },
    {
      "cell_type": "code",
      "metadata": {
        "id": "He5_IamWZRBb"
      },
      "source": [
        "path_result = '/home/jovyan/work/@Fund_Eval/@fatores_risco/'\n",
        "os.makedirs(path_result, exist_ok = 'TRUE')\n",
        "\n",
        "path_data = '/home/jovyan/work/@Fund_Eval/@dados_acoes/'\n",
        "os.makedirs(path_data, exist_ok = 'TRUE')\n",
        "\n",
        "path_code = '/home/jovyan/work/@Fund_Eval/PROGRAMAS/'\n",
        "os.makedirs(path_code, exist_ok = 'TRUE')"
      ],
      "execution_count": 7,
      "outputs": []
    },
    {
      "cell_type": "code",
      "metadata": {
        "id": "suXv3ZW_ZRBb"
      },
      "source": [
        "def restringe_periodo(serie, ano_inicio):\n",
        "    import time\n",
        "    result = (idpy.timeseries(serie))\n",
        "    if 'YEAR' in result:\n",
        "        result = result.loc[result['YEAR'] >= ano_inicio]  # em outras séries a coluna é 'ANO'\n",
        "    if 'ANO'  in result:\n",
        "        result = result.loc[result['ANO'] >= ano_inicio]\n",
        "    time.sleep(1)  # insere delay de 1 segundo\n",
        "    return result"
      ],
      "execution_count": 13,
      "outputs": []
    },
    {
      "cell_type": "markdown",
      "metadata": {
        "id": "BbPOWywaZRBb"
      },
      "source": [
        "## Selecionando séries diárias no IPEADATA"
      ]
    },
    {
      "cell_type": "markdown",
      "metadata": {
        "id": "zSwpEv90ZRBc"
      },
      "source": [
        "- ANBIMA366_TJTLN são as taxas de juros pré de 1, 3, 6 e 12 meses\n",
        "- BMF_366FUTXDOL = dolar futuro 1 e 3 meses\n",
        "- BMF366_FUT3DOLV366 = volatilidade do dólar futuro, Calculada pelo Ipeadata com base nas taxas diárias de retorno entre as cotações de fechamento observadas nos 21 últimos dias de negociação\n",
        "- GM366_ERC366 = Taxa de câmbio R /𝑈𝑆  comercial (valor de compra)\n",
        "- GM366_ERTUR366 = Taxa de câmbio - R /𝑈𝑆  - turismo - venda - média\n",
        "- GM366_ERV366 = Taxa de câmbio - R /𝑈𝑆  - comercial - venda - média\n",
        "- GM366_ERVV366\t= Taxa de câmbio - R /𝑈𝑆  - comercial - venda - média - volatilidade\n",
        "- GM366_EUROV366 = Zona do Euro - taxa de câmbio - R$ / euro - venda - média\n",
        "- EIA366_PBRENT366\twww.eia.doe.gov\tPreço - pétroleo bruto - Brent (FOB)\n",
        "- EIA366_PWTI366\twww.eia.doe.gov\tPreço - pétroleo bruto - WTI (FOB)\n",
        "- GM366_DOW366\twww.valor.com.br\tÍndice de ações - Dow Jones - fechamento\n",
        "- SGS366_NASDAQ366\twww.nasdaq.com\tÍndice de ações - NASDAQ - fechamento\n",
        "- VALOR366_FEDFUND366\twww.valor.com.br\tTaxa de juros básica - Federal Funds - fixada pelo FOMC\n",
        "- GM366_IBVSP366\twww.bmfbovespa.com.br\tÍndice de ações - Ibovespa - fechamento\n",
        "- GM366_IBVSPV366\twww.ipea.gov.br\tÍndice de ações - Ibovespa - fechamento - volatilidade\n"
      ]
    },
    {
      "cell_type": "code",
      "metadata": {
        "id": "1s8w3Rt1ZRBc"
      },
      "source": [
        "series_eco = ['ANBIMA366_TJTLN1366', 'ANBIMA366_TJTLN3366', 'ANBIMA366_TJTLN6366', 'ANBIMA366_TJTLN12366', \n",
        "             'BMF366_FUT1DOL366', 'BMF366_FUT3DOL366', 'BMF366_FUT3DOLV366', \n",
        "              'GM366_ERTUR366', 'GM366_ERV366', 'GM366_ERVV366', 'GM366_EUROV366', \n",
        "              'EIA366_PBRENT366', 'EIA366_PWTI366', 'GM366_DOW366', 'SGS366_NASDAQ366', 'VALOR366_FEDFUND366',\n",
        "              'GM366_IBVSP366', 'GM366_IBVSPV366']"
      ],
      "execution_count": 27,
      "outputs": []
    },
    {
      "cell_type": "code",
      "metadata": {
        "colab": {
          "base_uri": "https://localhost:8080/"
        },
        "id": "elQEfUNCZRBc",
        "outputId": "e1d84d0a-cf2d-4aa0-c925-9212c08f0359"
      },
      "source": [
        "len(series_eco)"
      ],
      "execution_count": 28,
      "outputs": [
        {
          "output_type": "execute_result",
          "data": {
            "text/plain": [
              "18"
            ]
          },
          "metadata": {
            "tags": []
          },
          "execution_count": 28
        }
      ]
    },
    {
      "cell_type": "markdown",
      "metadata": {
        "id": "kZ7HMLjXZRBd"
      },
      "source": [
        "### Capturando os dados através do Ipeadata"
      ]
    },
    {
      "cell_type": "code",
      "metadata": {
        "colab": {
          "base_uri": "https://localhost:8080/"
        },
        "id": "2ERNvMe2Bngy",
        "outputId": "f80d54d6-7b4f-421d-d094-a978e38479c7"
      },
      "source": [
        "series_eco[0:4]"
      ],
      "execution_count": 34,
      "outputs": [
        {
          "output_type": "execute_result",
          "data": {
            "text/plain": [
              "['ANBIMA366_TJTLN1366',\n",
              " 'ANBIMA366_TJTLN3366',\n",
              " 'ANBIMA366_TJTLN6366',\n",
              " 'ANBIMA366_TJTLN12366']"
            ]
          },
          "metadata": {
            "tags": []
          },
          "execution_count": 34
        }
      ]
    },
    {
      "cell_type": "code",
      "metadata": {
        "colab": {
          "base_uri": "https://localhost:8080/"
        },
        "id": "pT5ffDSnA65I",
        "outputId": "f03d2202-69af-4d73-944c-4a84af0a7cda"
      },
      "source": [
        "series_eco[4:9]"
      ],
      "execution_count": 33,
      "outputs": [
        {
          "output_type": "execute_result",
          "data": {
            "text/plain": [
              "['BMF366_FUT1DOL366',\n",
              " 'BMF366_FUT3DOL366',\n",
              " 'BMF366_FUT3DOLV366',\n",
              " 'GM366_ERTUR366',\n",
              " 'GM366_ERV366']"
            ]
          },
          "metadata": {
            "tags": []
          },
          "execution_count": 33
        }
      ]
    },
    {
      "cell_type": "code",
      "metadata": {
        "colab": {
          "base_uri": "https://localhost:8080/"
        },
        "id": "s1eIZZuJBwzG",
        "outputId": "6cb91c1b-e56e-48de-dcd7-6a0f5ebf8375"
      },
      "source": [
        "series_eco[9:14]"
      ],
      "execution_count": 35,
      "outputs": [
        {
          "output_type": "execute_result",
          "data": {
            "text/plain": [
              "['GM366_ERVV366',\n",
              " 'GM366_EUROV366',\n",
              " 'EIA366_PBRENT366',\n",
              " 'EIA366_PWTI366',\n",
              " 'GM366_DOW366']"
            ]
          },
          "metadata": {
            "tags": []
          },
          "execution_count": 35
        }
      ]
    },
    {
      "cell_type": "code",
      "metadata": {
        "colab": {
          "base_uri": "https://localhost:8080/",
          "height": 449
        },
        "id": "4_Qyam90ZRBd",
        "outputId": "c6c10953-117b-4505-d89a-02ae3560e43b"
      },
      "source": [
        "time_start = time.time()\n",
        "time_start;\n",
        "\n",
        "#==============================================================================\n",
        "# Dividi em pedaços - estava dando time out ao rodar no colab \n",
        "#==============================================================================\n",
        "df_pt1 = [restringe_periodo(serie, 2017) for serie in series_eco[0:4]] \n",
        "time.sleep(1)\n",
        "time_end = time.time();\n",
        "elapsed_time1 = time_end - time_start;\n",
        "print(elapsed_time1)\n",
        "\n",
        "df_pt2 = [restringe_periodo(serie, 2017) for serie in series_eco[5:9]] \n",
        "time.sleep(1)\n",
        "time_end = time.time();\n",
        "elapsed_time2 = time_end - time_start;\n",
        "print(elapsed_time2)\n",
        "df1 = pd.concat([df_pt1, df_pt2])\n",
        "\n",
        "df_pt3 = [restringe_periodo(serie, 2017) for serie in series_eco[10:14]] \n",
        "time.sleep(1)\n",
        "time_end = time.time();\n",
        "elapsed_time3 = time_end - time_start;\n",
        "print(elapsed_time3)\n",
        "df1 = pd.concat([df1, df_pt3])\n",
        "\n",
        "df_pt4 = [restringe_periodo(serie, 2017) for serie in series_eco[14:len(series_eco) + 1]] \n",
        "time_end = time.time();\n",
        "elapsed_time4 = time_end - time_start;\n",
        "print(elapsed_time4)\n",
        "df1 = pd.concat([df1, df_pt4])\n",
        "\n",
        "#df1 = pd.concat([df_pt1, df_pt2, df_pt3, df_pt4])\n",
        "\n",
        "for i in range(len(series_eco):\n",
        "    # print(i)\n",
        "    # print(df1[i].columns)\n",
        "    # Renomeia as colunas\n",
        "    df1[i].columns = ['YEAR', 'DAY', 'MONTH', 'CODE', 'RAW DATE', 'VALUE ((% a.a.))']\n",
        "    df1[i].rename(columns = {'VALUE ((% a.a.))':'VALUE'}, inplace = True)\n",
        "    # Seleciona apenas as colunas que interessam\n",
        "    df1[i] = df1[i][['CODE','YEAR', 'MONTH', 'VALUE']]\n",
        "\n",
        "time_end = time.time();\n",
        "elapsed_time = time_end - time_start;\n",
        "print('')\n",
        "print('*********************************************************************')\n",
        "print('Demorou:',round(elapsed_time,2),' segundos')\n",
        "print('*********************************************************************')\n"
      ],
      "execution_count": 20,
      "outputs": [
        {
          "output_type": "error",
          "ename": "KeyboardInterrupt",
          "evalue": "ignored",
          "traceback": [
            "\u001b[0;31m---------------------------------------------------------------------------\u001b[0m",
            "\u001b[0;31mTypeError\u001b[0m                                 Traceback (most recent call last)",
            "\u001b[0;32m/usr/local/lib/python3.7/dist-packages/urllib3/connectionpool.py\u001b[0m in \u001b[0;36m_make_request\u001b[0;34m(self, conn, method, url, timeout, chunked, **httplib_request_kw)\u001b[0m\n\u001b[1;32m    376\u001b[0m             \u001b[0;32mtry\u001b[0m\u001b[0;34m:\u001b[0m  \u001b[0;31m# Python 2.7, use buffering of HTTP responses\u001b[0m\u001b[0;34m\u001b[0m\u001b[0;34m\u001b[0m\u001b[0m\n\u001b[0;32m--> 377\u001b[0;31m                 \u001b[0mhttplib_response\u001b[0m \u001b[0;34m=\u001b[0m \u001b[0mconn\u001b[0m\u001b[0;34m.\u001b[0m\u001b[0mgetresponse\u001b[0m\u001b[0;34m(\u001b[0m\u001b[0mbuffering\u001b[0m\u001b[0;34m=\u001b[0m\u001b[0;32mTrue\u001b[0m\u001b[0;34m)\u001b[0m\u001b[0;34m\u001b[0m\u001b[0;34m\u001b[0m\u001b[0m\n\u001b[0m\u001b[1;32m    378\u001b[0m             \u001b[0;32mexcept\u001b[0m \u001b[0mTypeError\u001b[0m\u001b[0;34m:\u001b[0m  \u001b[0;31m# Python 3\u001b[0m\u001b[0;34m\u001b[0m\u001b[0;34m\u001b[0m\u001b[0m\n",
            "\u001b[0;31mTypeError\u001b[0m: getresponse() got an unexpected keyword argument 'buffering'",
            "\nDuring handling of the above exception, another exception occurred:\n",
            "\u001b[0;31mKeyboardInterrupt\u001b[0m                         Traceback (most recent call last)",
            "\u001b[0;32m<ipython-input-20-187e22378b69>\u001b[0m in \u001b[0;36m<module>\u001b[0;34m()\u001b[0m\n\u001b[1;32m      2\u001b[0m \u001b[0mtime_start\u001b[0m\u001b[0;34m;\u001b[0m\u001b[0;34m\u001b[0m\u001b[0;34m\u001b[0m\u001b[0m\n\u001b[1;32m      3\u001b[0m \u001b[0;34m\u001b[0m\u001b[0m\n\u001b[0;32m----> 4\u001b[0;31m \u001b[0mdf1\u001b[0m \u001b[0;34m=\u001b[0m \u001b[0;34m[\u001b[0m\u001b[0mrestringe_periodo\u001b[0m\u001b[0;34m(\u001b[0m\u001b[0mserie\u001b[0m\u001b[0;34m,\u001b[0m \u001b[0;36m2017\u001b[0m\u001b[0;34m)\u001b[0m \u001b[0;32mfor\u001b[0m \u001b[0mserie\u001b[0m \u001b[0;32min\u001b[0m \u001b[0mseries_eco\u001b[0m\u001b[0;34m]\u001b[0m\u001b[0;34m\u001b[0m\u001b[0;34m\u001b[0m\u001b[0m\n\u001b[0m\u001b[1;32m      5\u001b[0m \u001b[0mdf1\u001b[0m\u001b[0;34m\u001b[0m\u001b[0;34m\u001b[0m\u001b[0m\n\u001b[1;32m      6\u001b[0m \u001b[0;34m\u001b[0m\u001b[0m\n",
            "\u001b[0;32m<ipython-input-20-187e22378b69>\u001b[0m in \u001b[0;36m<listcomp>\u001b[0;34m(.0)\u001b[0m\n\u001b[1;32m      2\u001b[0m \u001b[0mtime_start\u001b[0m\u001b[0;34m;\u001b[0m\u001b[0;34m\u001b[0m\u001b[0;34m\u001b[0m\u001b[0m\n\u001b[1;32m      3\u001b[0m \u001b[0;34m\u001b[0m\u001b[0m\n\u001b[0;32m----> 4\u001b[0;31m \u001b[0mdf1\u001b[0m \u001b[0;34m=\u001b[0m \u001b[0;34m[\u001b[0m\u001b[0mrestringe_periodo\u001b[0m\u001b[0;34m(\u001b[0m\u001b[0mserie\u001b[0m\u001b[0;34m,\u001b[0m \u001b[0;36m2017\u001b[0m\u001b[0;34m)\u001b[0m \u001b[0;32mfor\u001b[0m \u001b[0mserie\u001b[0m \u001b[0;32min\u001b[0m \u001b[0mseries_eco\u001b[0m\u001b[0;34m]\u001b[0m\u001b[0;34m\u001b[0m\u001b[0;34m\u001b[0m\u001b[0m\n\u001b[0m\u001b[1;32m      5\u001b[0m \u001b[0mdf1\u001b[0m\u001b[0;34m\u001b[0m\u001b[0;34m\u001b[0m\u001b[0m\n\u001b[1;32m      6\u001b[0m \u001b[0;34m\u001b[0m\u001b[0m\n",
            "\u001b[0;32m<ipython-input-13-bbbfe4bcad40>\u001b[0m in \u001b[0;36mrestringe_periodo\u001b[0;34m(serie, ano_inicio)\u001b[0m\n\u001b[1;32m      1\u001b[0m \u001b[0;32mdef\u001b[0m \u001b[0mrestringe_periodo\u001b[0m\u001b[0;34m(\u001b[0m\u001b[0mserie\u001b[0m\u001b[0;34m,\u001b[0m \u001b[0mano_inicio\u001b[0m\u001b[0;34m)\u001b[0m\u001b[0;34m:\u001b[0m\u001b[0;34m\u001b[0m\u001b[0;34m\u001b[0m\u001b[0m\n\u001b[1;32m      2\u001b[0m     \u001b[0;32mimport\u001b[0m \u001b[0mtime\u001b[0m\u001b[0;34m\u001b[0m\u001b[0;34m\u001b[0m\u001b[0m\n\u001b[0;32m----> 3\u001b[0;31m     \u001b[0mresult\u001b[0m \u001b[0;34m=\u001b[0m \u001b[0;34m(\u001b[0m\u001b[0midpy\u001b[0m\u001b[0;34m.\u001b[0m\u001b[0mtimeseries\u001b[0m\u001b[0;34m(\u001b[0m\u001b[0mserie\u001b[0m\u001b[0;34m)\u001b[0m\u001b[0;34m)\u001b[0m\u001b[0;34m\u001b[0m\u001b[0;34m\u001b[0m\u001b[0m\n\u001b[0m\u001b[1;32m      4\u001b[0m     \u001b[0;32mif\u001b[0m \u001b[0;34m'YEAR'\u001b[0m \u001b[0;32min\u001b[0m \u001b[0mresult\u001b[0m\u001b[0;34m:\u001b[0m\u001b[0;34m\u001b[0m\u001b[0;34m\u001b[0m\u001b[0m\n\u001b[1;32m      5\u001b[0m         \u001b[0mresult\u001b[0m \u001b[0;34m=\u001b[0m \u001b[0mresult\u001b[0m\u001b[0;34m.\u001b[0m\u001b[0mloc\u001b[0m\u001b[0;34m[\u001b[0m\u001b[0mresult\u001b[0m\u001b[0;34m[\u001b[0m\u001b[0;34m'YEAR'\u001b[0m\u001b[0;34m]\u001b[0m \u001b[0;34m>=\u001b[0m \u001b[0mano_inicio\u001b[0m\u001b[0;34m]\u001b[0m  \u001b[0;31m# em outras séries a coluna é 'ANO'\u001b[0m\u001b[0;34m\u001b[0m\u001b[0;34m\u001b[0m\u001b[0m\n",
            "\u001b[0;32m/usr/local/lib/python3.7/dist-packages/ipeadatapy/timeseries.py\u001b[0m in \u001b[0;36mtimeseries\u001b[0;34m(series, groupby, year, yearGreaterThan, yearSmallerThan, day, dayGreaterThan, daySmallerThan, month, monthGreaterThan, monthSmallerThan, code, date)\u001b[0m\n\u001b[1;32m     51\u001b[0m             \u001b[0mts_df\u001b[0m \u001b[0;34m=\u001b[0m \u001b[0mapi_call\u001b[0m\u001b[0;34m(\u001b[0m\u001b[0mapi\u001b[0m\u001b[0;34m)\u001b[0m\u001b[0;34m.\u001b[0m\u001b[0mrename\u001b[0m\u001b[0;34m(\u001b[0m\u001b[0mindex\u001b[0m\u001b[0;34m=\u001b[0m\u001b[0mstr\u001b[0m\u001b[0;34m,\u001b[0m \u001b[0mcolumns\u001b[0m\u001b[0;34m=\u001b[0m\u001b[0;34m{\u001b[0m\u001b[0;34m\"SERCODIGO\"\u001b[0m\u001b[0;34m:\u001b[0m \u001b[0;34m\"CODE\"\u001b[0m\u001b[0;34m,\u001b[0m \u001b[0;34m\"VALDATA\"\u001b[0m\u001b[0;34m:\u001b[0m \u001b[0;34m\"DATE\"\u001b[0m\u001b[0;34m,\u001b[0m \u001b[0;34m\"VALVALOR\"\u001b[0m\u001b[0;34m:\u001b[0m \u001b[0;34m\"VALUE\"\u001b[0m\u001b[0;34m}\u001b[0m\u001b[0;34m)\u001b[0m\u001b[0;34m\u001b[0m\u001b[0;34m\u001b[0m\u001b[0m\n\u001b[1;32m     52\u001b[0m     \u001b[0;32melif\u001b[0m \u001b[0mlist\u001b[0m\u001b[0;34m(\u001b[0m\u001b[0mmetadata_old\u001b[0m\u001b[0;34m(\u001b[0m\u001b[0mseries\u001b[0m\u001b[0;34m)\u001b[0m\u001b[0;34m[\u001b[0m\u001b[0;34m'MEASURE'\u001b[0m\u001b[0;34m]\u001b[0m\u001b[0;34m)\u001b[0m\u001b[0;34m[\u001b[0m\u001b[0;36m0\u001b[0m\u001b[0;34m]\u001b[0m \u001b[0;32mis\u001b[0m \u001b[0;32mnot\u001b[0m \u001b[0;32mNone\u001b[0m\u001b[0;34m:\u001b[0m\u001b[0;34m\u001b[0m\u001b[0;34m\u001b[0m\u001b[0m\n\u001b[0;32m---> 53\u001b[0;31m         \u001b[0mts_df\u001b[0m \u001b[0;34m=\u001b[0m \u001b[0mapi_call\u001b[0m\u001b[0;34m(\u001b[0m\u001b[0mapi\u001b[0m\u001b[0;34m)\u001b[0m\u001b[0;34m[\u001b[0m\u001b[0;34m[\u001b[0m\u001b[0;34m'ANO'\u001b[0m\u001b[0;34m,\u001b[0m\u001b[0;34m'DIA'\u001b[0m\u001b[0;34m,\u001b[0m\u001b[0;34m'MES'\u001b[0m\u001b[0;34m,\u001b[0m\u001b[0;34m'SERCODIGO'\u001b[0m\u001b[0;34m,\u001b[0m\u001b[0;34m'VALDATA'\u001b[0m\u001b[0;34m,\u001b[0m\u001b[0;34m'VALVALOR'\u001b[0m\u001b[0;34m]\u001b[0m\u001b[0;34m]\u001b[0m\u001b[0;34m.\u001b[0m\u001b[0mrename\u001b[0m\u001b[0;34m(\u001b[0m\u001b[0mindex\u001b[0m\u001b[0;34m=\u001b[0m\u001b[0mstr\u001b[0m\u001b[0;34m,\u001b[0m \u001b[0mcolumns\u001b[0m\u001b[0;34m=\u001b[0m\u001b[0;34m{\u001b[0m\u001b[0;34m\"ANO\"\u001b[0m\u001b[0;34m:\u001b[0m \u001b[0;34m\"YEAR\"\u001b[0m\u001b[0;34m,\u001b[0m \u001b[0;34m\"DIA\"\u001b[0m\u001b[0;34m:\u001b[0m \u001b[0;34m\"DAY\"\u001b[0m\u001b[0;34m,\u001b[0m \u001b[0;34m\"MES\"\u001b[0m\u001b[0;34m:\u001b[0m \u001b[0;34m\"MONTH\"\u001b[0m\u001b[0;34m,\u001b[0m \u001b[0;34m\"SERCODIGO\"\u001b[0m\u001b[0;34m:\u001b[0m \u001b[0;34m\"CODE\"\u001b[0m\u001b[0;34m,\u001b[0m \u001b[0;34m\"VALDATA\"\u001b[0m\u001b[0;34m:\u001b[0m \u001b[0;34m\"DATE\"\u001b[0m\u001b[0;34m,\u001b[0m \u001b[0;34m\"VALVALOR\"\u001b[0m\u001b[0;34m:\u001b[0m \u001b[0;34m\"VALUE (\"\u001b[0m\u001b[0;34m+\u001b[0m\u001b[0mlist\u001b[0m\u001b[0;34m(\u001b[0m\u001b[0mmetadata_old\u001b[0m\u001b[0;34m(\u001b[0m\u001b[0mseries\u001b[0m\u001b[0;34m)\u001b[0m\u001b[0;34m[\u001b[0m\u001b[0;34m'MEASURE'\u001b[0m\u001b[0;34m]\u001b[0m\u001b[0;34m)\u001b[0m\u001b[0;34m[\u001b[0m\u001b[0;36m0\u001b[0m\u001b[0;34m]\u001b[0m\u001b[0;34m+\u001b[0m\u001b[0;34m\")\"\u001b[0m\u001b[0;34m}\u001b[0m\u001b[0;34m)\u001b[0m\u001b[0;34m\u001b[0m\u001b[0;34m\u001b[0m\u001b[0m\n\u001b[0m\u001b[1;32m     54\u001b[0m         \u001b[0;31m#api_call(api).rename(index=str, columns={\"SERCODIGO\": \"CODIGO\", \"VALDATA\": \"DATA\", \"VALVALOR\": \"VALOR (\"+list(metadata_old(series)['UNINOME'])[0]+\")\"})\u001b[0m\u001b[0;34m\u001b[0m\u001b[0;34m\u001b[0m\u001b[0;34m\u001b[0m\u001b[0m\n\u001b[1;32m     55\u001b[0m     \u001b[0;32melse\u001b[0m\u001b[0;34m:\u001b[0m\u001b[0;34m\u001b[0m\u001b[0;34m\u001b[0m\u001b[0m\n",
            "\u001b[0;32m/usr/local/lib/python3.7/dist-packages/ipeadatapy/metadata_old.py\u001b[0m in \u001b[0;36mmetadata_old\u001b[0;34m(series)\u001b[0m\n\u001b[1;32m      6\u001b[0m     \u001b[0murl_final\u001b[0m \u001b[0;34m=\u001b[0m \u001b[0;34m\"('%s')\"\u001b[0m \u001b[0;34m%\u001b[0m \u001b[0mseries\u001b[0m \u001b[0;32mif\u001b[0m \u001b[0mseries\u001b[0m \u001b[0;32mis\u001b[0m \u001b[0;32mnot\u001b[0m \u001b[0;32mNone\u001b[0m \u001b[0;32melse\u001b[0m \u001b[0;34m\"\"\u001b[0m\u001b[0;34m\u001b[0m\u001b[0;34m\u001b[0m\u001b[0m\n\u001b[1;32m      7\u001b[0m     \u001b[0mapi\u001b[0m \u001b[0;34m=\u001b[0m \u001b[0;34m\"http://www.ipeadata.gov.br/api/v1/Metadados%s\"\u001b[0m \u001b[0;34m%\u001b[0m \u001b[0murl_final\u001b[0m\u001b[0;34m\u001b[0m\u001b[0;34m\u001b[0m\u001b[0m\n\u001b[0;32m----> 8\u001b[0;31m     \u001b[0;32mreturn\u001b[0m \u001b[0mapi_call\u001b[0m\u001b[0;34m(\u001b[0m\u001b[0mapi\u001b[0m\u001b[0;34m)\u001b[0m\u001b[0;34m.\u001b[0m\u001b[0mrename\u001b[0m\u001b[0;34m(\u001b[0m\u001b[0mindex\u001b[0m\u001b[0;34m=\u001b[0m\u001b[0mstr\u001b[0m\u001b[0;34m,\u001b[0m \u001b[0mcolumns\u001b[0m\u001b[0;34m=\u001b[0m\u001b[0;34m{\u001b[0m\u001b[0;34m\"TEMNOME\"\u001b[0m\u001b[0;34m:\u001b[0m \u001b[0;34m\"THEME\"\u001b[0m\u001b[0;34m,\u001b[0m \u001b[0;34m\"BASNOME\"\u001b[0m\u001b[0;34m:\u001b[0m \u001b[0;34m\"BIG THEME\"\u001b[0m\u001b[0;34m,\u001b[0m \u001b[0;34m\"FNTNOME\"\u001b[0m\u001b[0;34m:\u001b[0m \u001b[0;34m\"SOURCE\"\u001b[0m\u001b[0;34m,\u001b[0m \u001b[0;34m\"FNTSIGLA\"\u001b[0m\u001b[0;34m:\u001b[0m \u001b[0;34m\"SOURCE ACRONYM\"\u001b[0m\u001b[0;34m,\u001b[0m \u001b[0;34m\"FNTURL\"\u001b[0m\u001b[0;34m:\u001b[0m \u001b[0;34m\"SOURCE URL\"\u001b[0m\u001b[0;34m,\u001b[0m \u001b[0;34m\"MULNOME\"\u001b[0m\u001b[0;34m:\u001b[0m \u001b[0;34m\"UNIT\"\u001b[0m\u001b[0;34m,\u001b[0m \u001b[0;34m\"PAICODIGO\"\u001b[0m\u001b[0;34m:\u001b[0m \u001b[0;34m\"COUNTRY\"\u001b[0m\u001b[0;34m,\u001b[0m \u001b[0;34m\"PERNOME\"\u001b[0m\u001b[0;34m:\u001b[0m \u001b[0;34m\"FREQUENCY\"\u001b[0m\u001b[0;34m,\u001b[0m \u001b[0;34m\"SERATUALIZACAO\"\u001b[0m\u001b[0;34m:\u001b[0m \u001b[0;34m\"LAST UPDATE\"\u001b[0m\u001b[0;34m,\u001b[0m \u001b[0;34m\"SERCODIGO\"\u001b[0m\u001b[0;34m:\u001b[0m \u001b[0;34m\"CODE\"\u001b[0m\u001b[0;34m,\u001b[0m \u001b[0;34m\"SERCOMENTARIO\"\u001b[0m\u001b[0;34m:\u001b[0m \u001b[0;34m\"COMMENT\"\u001b[0m\u001b[0;34m,\u001b[0m \u001b[0;34m\"SERNOME\"\u001b[0m\u001b[0;34m:\u001b[0m \u001b[0;34m\"NAME\"\u001b[0m\u001b[0;34m,\u001b[0m \u001b[0;34m\"SERNUMERICA\"\u001b[0m\u001b[0;34m:\u001b[0m \u001b[0;34m\"NUMERICA\"\u001b[0m\u001b[0;34m,\u001b[0m \u001b[0;34m\"SERSTATUS\"\u001b[0m\u001b[0;34m:\u001b[0m \u001b[0;34m\"SERIES STATUS\"\u001b[0m\u001b[0;34m,\u001b[0m \u001b[0;34m\"TEMCODIGO\"\u001b[0m\u001b[0;34m:\u001b[0m \u001b[0;34m\"THEME CODE\"\u001b[0m\u001b[0;34m,\u001b[0m \u001b[0;34m\"UNINOME\"\u001b[0m\u001b[0;34m:\u001b[0m \u001b[0;34m\"MEASURE\"\u001b[0m\u001b[0;34m}\u001b[0m\u001b[0;34m)\u001b[0m\u001b[0;34m\u001b[0m\u001b[0;34m\u001b[0m\u001b[0m\n\u001b[0m",
            "\u001b[0;32m/usr/local/lib/python3.7/dist-packages/ipeadatapy/api_call.py\u001b[0m in \u001b[0;36mapi_call\u001b[0;34m(api)\u001b[0m\n\u001b[1;32m      4\u001b[0m \u001b[0;32mdef\u001b[0m \u001b[0mapi_call\u001b[0m\u001b[0;34m(\u001b[0m\u001b[0mapi\u001b[0m\u001b[0;34m)\u001b[0m\u001b[0;34m:\u001b[0m\u001b[0;34m\u001b[0m\u001b[0;34m\u001b[0m\u001b[0m\n\u001b[1;32m      5\u001b[0m     \u001b[0;34m\"\"\"For advanced users. Returns raw Ipeadata API data in the form of a data frame.\"\"\"\u001b[0m\u001b[0;34m\u001b[0m\u001b[0;34m\u001b[0m\u001b[0m\n\u001b[0;32m----> 6\u001b[0;31m     \u001b[0mresponse\u001b[0m \u001b[0;34m=\u001b[0m \u001b[0mreq\u001b[0m\u001b[0;34m.\u001b[0m\u001b[0mget\u001b[0m\u001b[0;34m(\u001b[0m\u001b[0mapi\u001b[0m\u001b[0;34m)\u001b[0m\u001b[0;34m\u001b[0m\u001b[0;34m\u001b[0m\u001b[0m\n\u001b[0m\u001b[1;32m      7\u001b[0m     \u001b[0;32mif\u001b[0m \u001b[0mresponse\u001b[0m\u001b[0;34m.\u001b[0m\u001b[0mstatus_code\u001b[0m \u001b[0;34m==\u001b[0m \u001b[0mreq\u001b[0m\u001b[0;34m.\u001b[0m\u001b[0mcodes\u001b[0m\u001b[0;34m.\u001b[0m\u001b[0mok\u001b[0m\u001b[0;34m:\u001b[0m\u001b[0;34m\u001b[0m\u001b[0;34m\u001b[0m\u001b[0m\n\u001b[1;32m      8\u001b[0m         \u001b[0mjson_response\u001b[0m \u001b[0;34m=\u001b[0m \u001b[0mresponse\u001b[0m\u001b[0;34m.\u001b[0m\u001b[0mjson\u001b[0m\u001b[0;34m(\u001b[0m\u001b[0;34m)\u001b[0m\u001b[0;34m\u001b[0m\u001b[0;34m\u001b[0m\u001b[0m\n",
            "\u001b[0;32m/usr/local/lib/python3.7/dist-packages/requests/api.py\u001b[0m in \u001b[0;36mget\u001b[0;34m(url, params, **kwargs)\u001b[0m\n\u001b[1;32m     74\u001b[0m \u001b[0;34m\u001b[0m\u001b[0m\n\u001b[1;32m     75\u001b[0m     \u001b[0mkwargs\u001b[0m\u001b[0;34m.\u001b[0m\u001b[0msetdefault\u001b[0m\u001b[0;34m(\u001b[0m\u001b[0;34m'allow_redirects'\u001b[0m\u001b[0;34m,\u001b[0m \u001b[0;32mTrue\u001b[0m\u001b[0;34m)\u001b[0m\u001b[0;34m\u001b[0m\u001b[0;34m\u001b[0m\u001b[0m\n\u001b[0;32m---> 76\u001b[0;31m     \u001b[0;32mreturn\u001b[0m \u001b[0mrequest\u001b[0m\u001b[0;34m(\u001b[0m\u001b[0;34m'get'\u001b[0m\u001b[0;34m,\u001b[0m \u001b[0murl\u001b[0m\u001b[0;34m,\u001b[0m \u001b[0mparams\u001b[0m\u001b[0;34m=\u001b[0m\u001b[0mparams\u001b[0m\u001b[0;34m,\u001b[0m \u001b[0;34m**\u001b[0m\u001b[0mkwargs\u001b[0m\u001b[0;34m)\u001b[0m\u001b[0;34m\u001b[0m\u001b[0;34m\u001b[0m\u001b[0m\n\u001b[0m\u001b[1;32m     77\u001b[0m \u001b[0;34m\u001b[0m\u001b[0m\n\u001b[1;32m     78\u001b[0m \u001b[0;34m\u001b[0m\u001b[0m\n",
            "\u001b[0;32m/usr/local/lib/python3.7/dist-packages/requests/api.py\u001b[0m in \u001b[0;36mrequest\u001b[0;34m(method, url, **kwargs)\u001b[0m\n\u001b[1;32m     59\u001b[0m     \u001b[0;31m# cases, and look like a memory leak in others.\u001b[0m\u001b[0;34m\u001b[0m\u001b[0;34m\u001b[0m\u001b[0;34m\u001b[0m\u001b[0m\n\u001b[1;32m     60\u001b[0m     \u001b[0;32mwith\u001b[0m \u001b[0msessions\u001b[0m\u001b[0;34m.\u001b[0m\u001b[0mSession\u001b[0m\u001b[0;34m(\u001b[0m\u001b[0;34m)\u001b[0m \u001b[0;32mas\u001b[0m \u001b[0msession\u001b[0m\u001b[0;34m:\u001b[0m\u001b[0;34m\u001b[0m\u001b[0;34m\u001b[0m\u001b[0m\n\u001b[0;32m---> 61\u001b[0;31m         \u001b[0;32mreturn\u001b[0m \u001b[0msession\u001b[0m\u001b[0;34m.\u001b[0m\u001b[0mrequest\u001b[0m\u001b[0;34m(\u001b[0m\u001b[0mmethod\u001b[0m\u001b[0;34m=\u001b[0m\u001b[0mmethod\u001b[0m\u001b[0;34m,\u001b[0m \u001b[0murl\u001b[0m\u001b[0;34m=\u001b[0m\u001b[0murl\u001b[0m\u001b[0;34m,\u001b[0m \u001b[0;34m**\u001b[0m\u001b[0mkwargs\u001b[0m\u001b[0;34m)\u001b[0m\u001b[0;34m\u001b[0m\u001b[0;34m\u001b[0m\u001b[0m\n\u001b[0m\u001b[1;32m     62\u001b[0m \u001b[0;34m\u001b[0m\u001b[0m\n\u001b[1;32m     63\u001b[0m \u001b[0;34m\u001b[0m\u001b[0m\n",
            "\u001b[0;32m/usr/local/lib/python3.7/dist-packages/requests/sessions.py\u001b[0m in \u001b[0;36mrequest\u001b[0;34m(self, method, url, params, data, headers, cookies, files, auth, timeout, allow_redirects, proxies, hooks, stream, verify, cert, json)\u001b[0m\n\u001b[1;32m    528\u001b[0m         }\n\u001b[1;32m    529\u001b[0m         \u001b[0msend_kwargs\u001b[0m\u001b[0;34m.\u001b[0m\u001b[0mupdate\u001b[0m\u001b[0;34m(\u001b[0m\u001b[0msettings\u001b[0m\u001b[0;34m)\u001b[0m\u001b[0;34m\u001b[0m\u001b[0;34m\u001b[0m\u001b[0m\n\u001b[0;32m--> 530\u001b[0;31m         \u001b[0mresp\u001b[0m \u001b[0;34m=\u001b[0m \u001b[0mself\u001b[0m\u001b[0;34m.\u001b[0m\u001b[0msend\u001b[0m\u001b[0;34m(\u001b[0m\u001b[0mprep\u001b[0m\u001b[0;34m,\u001b[0m \u001b[0;34m**\u001b[0m\u001b[0msend_kwargs\u001b[0m\u001b[0;34m)\u001b[0m\u001b[0;34m\u001b[0m\u001b[0;34m\u001b[0m\u001b[0m\n\u001b[0m\u001b[1;32m    531\u001b[0m \u001b[0;34m\u001b[0m\u001b[0m\n\u001b[1;32m    532\u001b[0m         \u001b[0;32mreturn\u001b[0m \u001b[0mresp\u001b[0m\u001b[0;34m\u001b[0m\u001b[0;34m\u001b[0m\u001b[0m\n",
            "\u001b[0;32m/usr/local/lib/python3.7/dist-packages/requests/sessions.py\u001b[0m in \u001b[0;36msend\u001b[0;34m(self, request, **kwargs)\u001b[0m\n\u001b[1;32m    641\u001b[0m \u001b[0;34m\u001b[0m\u001b[0m\n\u001b[1;32m    642\u001b[0m         \u001b[0;31m# Send the request\u001b[0m\u001b[0;34m\u001b[0m\u001b[0;34m\u001b[0m\u001b[0;34m\u001b[0m\u001b[0m\n\u001b[0;32m--> 643\u001b[0;31m         \u001b[0mr\u001b[0m \u001b[0;34m=\u001b[0m \u001b[0madapter\u001b[0m\u001b[0;34m.\u001b[0m\u001b[0msend\u001b[0m\u001b[0;34m(\u001b[0m\u001b[0mrequest\u001b[0m\u001b[0;34m,\u001b[0m \u001b[0;34m**\u001b[0m\u001b[0mkwargs\u001b[0m\u001b[0;34m)\u001b[0m\u001b[0;34m\u001b[0m\u001b[0;34m\u001b[0m\u001b[0m\n\u001b[0m\u001b[1;32m    644\u001b[0m \u001b[0;34m\u001b[0m\u001b[0m\n\u001b[1;32m    645\u001b[0m         \u001b[0;31m# Total elapsed time of the request (approximately)\u001b[0m\u001b[0;34m\u001b[0m\u001b[0;34m\u001b[0m\u001b[0;34m\u001b[0m\u001b[0m\n",
            "\u001b[0;32m/usr/local/lib/python3.7/dist-packages/requests/adapters.py\u001b[0m in \u001b[0;36msend\u001b[0;34m(self, request, stream, timeout, verify, cert, proxies)\u001b[0m\n\u001b[1;32m    447\u001b[0m                     \u001b[0mdecode_content\u001b[0m\u001b[0;34m=\u001b[0m\u001b[0;32mFalse\u001b[0m\u001b[0;34m,\u001b[0m\u001b[0;34m\u001b[0m\u001b[0;34m\u001b[0m\u001b[0m\n\u001b[1;32m    448\u001b[0m                     \u001b[0mretries\u001b[0m\u001b[0;34m=\u001b[0m\u001b[0mself\u001b[0m\u001b[0;34m.\u001b[0m\u001b[0mmax_retries\u001b[0m\u001b[0;34m,\u001b[0m\u001b[0;34m\u001b[0m\u001b[0;34m\u001b[0m\u001b[0m\n\u001b[0;32m--> 449\u001b[0;31m                     \u001b[0mtimeout\u001b[0m\u001b[0;34m=\u001b[0m\u001b[0mtimeout\u001b[0m\u001b[0;34m\u001b[0m\u001b[0;34m\u001b[0m\u001b[0m\n\u001b[0m\u001b[1;32m    450\u001b[0m                 )\n\u001b[1;32m    451\u001b[0m \u001b[0;34m\u001b[0m\u001b[0m\n",
            "\u001b[0;32m/usr/local/lib/python3.7/dist-packages/urllib3/connectionpool.py\u001b[0m in \u001b[0;36murlopen\u001b[0;34m(self, method, url, body, headers, retries, redirect, assert_same_host, timeout, pool_timeout, release_conn, chunked, body_pos, **response_kw)\u001b[0m\n\u001b[1;32m    598\u001b[0m                                                   \u001b[0mtimeout\u001b[0m\u001b[0;34m=\u001b[0m\u001b[0mtimeout_obj\u001b[0m\u001b[0;34m,\u001b[0m\u001b[0;34m\u001b[0m\u001b[0;34m\u001b[0m\u001b[0m\n\u001b[1;32m    599\u001b[0m                                                   \u001b[0mbody\u001b[0m\u001b[0;34m=\u001b[0m\u001b[0mbody\u001b[0m\u001b[0;34m,\u001b[0m \u001b[0mheaders\u001b[0m\u001b[0;34m=\u001b[0m\u001b[0mheaders\u001b[0m\u001b[0;34m,\u001b[0m\u001b[0;34m\u001b[0m\u001b[0;34m\u001b[0m\u001b[0m\n\u001b[0;32m--> 600\u001b[0;31m                                                   chunked=chunked)\n\u001b[0m\u001b[1;32m    601\u001b[0m \u001b[0;34m\u001b[0m\u001b[0m\n\u001b[1;32m    602\u001b[0m             \u001b[0;31m# If we're going to release the connection in ``finally:``, then\u001b[0m\u001b[0;34m\u001b[0m\u001b[0;34m\u001b[0m\u001b[0;34m\u001b[0m\u001b[0m\n",
            "\u001b[0;32m/usr/local/lib/python3.7/dist-packages/urllib3/connectionpool.py\u001b[0m in \u001b[0;36m_make_request\u001b[0;34m(self, conn, method, url, timeout, chunked, **httplib_request_kw)\u001b[0m\n\u001b[1;32m    378\u001b[0m             \u001b[0;32mexcept\u001b[0m \u001b[0mTypeError\u001b[0m\u001b[0;34m:\u001b[0m  \u001b[0;31m# Python 3\u001b[0m\u001b[0;34m\u001b[0m\u001b[0;34m\u001b[0m\u001b[0m\n\u001b[1;32m    379\u001b[0m                 \u001b[0;32mtry\u001b[0m\u001b[0;34m:\u001b[0m\u001b[0;34m\u001b[0m\u001b[0;34m\u001b[0m\u001b[0m\n\u001b[0;32m--> 380\u001b[0;31m                     \u001b[0mhttplib_response\u001b[0m \u001b[0;34m=\u001b[0m \u001b[0mconn\u001b[0m\u001b[0;34m.\u001b[0m\u001b[0mgetresponse\u001b[0m\u001b[0;34m(\u001b[0m\u001b[0;34m)\u001b[0m\u001b[0;34m\u001b[0m\u001b[0;34m\u001b[0m\u001b[0m\n\u001b[0m\u001b[1;32m    381\u001b[0m                 \u001b[0;32mexcept\u001b[0m \u001b[0mException\u001b[0m \u001b[0;32mas\u001b[0m \u001b[0me\u001b[0m\u001b[0;34m:\u001b[0m\u001b[0;34m\u001b[0m\u001b[0;34m\u001b[0m\u001b[0m\n\u001b[1;32m    382\u001b[0m                     \u001b[0;31m# Remove the TypeError from the exception chain in Python 3;\u001b[0m\u001b[0;34m\u001b[0m\u001b[0;34m\u001b[0m\u001b[0;34m\u001b[0m\u001b[0m\n",
            "\u001b[0;32m/usr/lib/python3.7/http/client.py\u001b[0m in \u001b[0;36mgetresponse\u001b[0;34m(self)\u001b[0m\n\u001b[1;32m   1367\u001b[0m         \u001b[0;32mtry\u001b[0m\u001b[0;34m:\u001b[0m\u001b[0;34m\u001b[0m\u001b[0;34m\u001b[0m\u001b[0m\n\u001b[1;32m   1368\u001b[0m             \u001b[0;32mtry\u001b[0m\u001b[0;34m:\u001b[0m\u001b[0;34m\u001b[0m\u001b[0;34m\u001b[0m\u001b[0m\n\u001b[0;32m-> 1369\u001b[0;31m                 \u001b[0mresponse\u001b[0m\u001b[0;34m.\u001b[0m\u001b[0mbegin\u001b[0m\u001b[0;34m(\u001b[0m\u001b[0;34m)\u001b[0m\u001b[0;34m\u001b[0m\u001b[0;34m\u001b[0m\u001b[0m\n\u001b[0m\u001b[1;32m   1370\u001b[0m             \u001b[0;32mexcept\u001b[0m \u001b[0mConnectionError\u001b[0m\u001b[0;34m:\u001b[0m\u001b[0;34m\u001b[0m\u001b[0;34m\u001b[0m\u001b[0m\n\u001b[1;32m   1371\u001b[0m                 \u001b[0mself\u001b[0m\u001b[0;34m.\u001b[0m\u001b[0mclose\u001b[0m\u001b[0;34m(\u001b[0m\u001b[0;34m)\u001b[0m\u001b[0;34m\u001b[0m\u001b[0;34m\u001b[0m\u001b[0m\n",
            "\u001b[0;32m/usr/lib/python3.7/http/client.py\u001b[0m in \u001b[0;36mbegin\u001b[0;34m(self)\u001b[0m\n\u001b[1;32m    308\u001b[0m         \u001b[0;31m# read until we get a non-100 response\u001b[0m\u001b[0;34m\u001b[0m\u001b[0;34m\u001b[0m\u001b[0;34m\u001b[0m\u001b[0m\n\u001b[1;32m    309\u001b[0m         \u001b[0;32mwhile\u001b[0m \u001b[0;32mTrue\u001b[0m\u001b[0;34m:\u001b[0m\u001b[0;34m\u001b[0m\u001b[0;34m\u001b[0m\u001b[0m\n\u001b[0;32m--> 310\u001b[0;31m             \u001b[0mversion\u001b[0m\u001b[0;34m,\u001b[0m \u001b[0mstatus\u001b[0m\u001b[0;34m,\u001b[0m \u001b[0mreason\u001b[0m \u001b[0;34m=\u001b[0m \u001b[0mself\u001b[0m\u001b[0;34m.\u001b[0m\u001b[0m_read_status\u001b[0m\u001b[0;34m(\u001b[0m\u001b[0;34m)\u001b[0m\u001b[0;34m\u001b[0m\u001b[0;34m\u001b[0m\u001b[0m\n\u001b[0m\u001b[1;32m    311\u001b[0m             \u001b[0;32mif\u001b[0m \u001b[0mstatus\u001b[0m \u001b[0;34m!=\u001b[0m \u001b[0mCONTINUE\u001b[0m\u001b[0;34m:\u001b[0m\u001b[0;34m\u001b[0m\u001b[0;34m\u001b[0m\u001b[0m\n\u001b[1;32m    312\u001b[0m                 \u001b[0;32mbreak\u001b[0m\u001b[0;34m\u001b[0m\u001b[0;34m\u001b[0m\u001b[0m\n",
            "\u001b[0;32m/usr/lib/python3.7/http/client.py\u001b[0m in \u001b[0;36m_read_status\u001b[0;34m(self)\u001b[0m\n\u001b[1;32m    269\u001b[0m \u001b[0;34m\u001b[0m\u001b[0m\n\u001b[1;32m    270\u001b[0m     \u001b[0;32mdef\u001b[0m \u001b[0m_read_status\u001b[0m\u001b[0;34m(\u001b[0m\u001b[0mself\u001b[0m\u001b[0;34m)\u001b[0m\u001b[0;34m:\u001b[0m\u001b[0;34m\u001b[0m\u001b[0;34m\u001b[0m\u001b[0m\n\u001b[0;32m--> 271\u001b[0;31m         \u001b[0mline\u001b[0m \u001b[0;34m=\u001b[0m \u001b[0mstr\u001b[0m\u001b[0;34m(\u001b[0m\u001b[0mself\u001b[0m\u001b[0;34m.\u001b[0m\u001b[0mfp\u001b[0m\u001b[0;34m.\u001b[0m\u001b[0mreadline\u001b[0m\u001b[0;34m(\u001b[0m\u001b[0m_MAXLINE\u001b[0m \u001b[0;34m+\u001b[0m \u001b[0;36m1\u001b[0m\u001b[0;34m)\u001b[0m\u001b[0;34m,\u001b[0m \u001b[0;34m\"iso-8859-1\"\u001b[0m\u001b[0;34m)\u001b[0m\u001b[0;34m\u001b[0m\u001b[0;34m\u001b[0m\u001b[0m\n\u001b[0m\u001b[1;32m    272\u001b[0m         \u001b[0;32mif\u001b[0m \u001b[0mlen\u001b[0m\u001b[0;34m(\u001b[0m\u001b[0mline\u001b[0m\u001b[0;34m)\u001b[0m \u001b[0;34m>\u001b[0m \u001b[0m_MAXLINE\u001b[0m\u001b[0;34m:\u001b[0m\u001b[0;34m\u001b[0m\u001b[0;34m\u001b[0m\u001b[0m\n\u001b[1;32m    273\u001b[0m             \u001b[0;32mraise\u001b[0m \u001b[0mLineTooLong\u001b[0m\u001b[0;34m(\u001b[0m\u001b[0;34m\"status line\"\u001b[0m\u001b[0;34m)\u001b[0m\u001b[0;34m\u001b[0m\u001b[0;34m\u001b[0m\u001b[0m\n",
            "\u001b[0;32m/usr/lib/python3.7/socket.py\u001b[0m in \u001b[0;36mreadinto\u001b[0;34m(self, b)\u001b[0m\n\u001b[1;32m    587\u001b[0m         \u001b[0;32mwhile\u001b[0m \u001b[0;32mTrue\u001b[0m\u001b[0;34m:\u001b[0m\u001b[0;34m\u001b[0m\u001b[0;34m\u001b[0m\u001b[0m\n\u001b[1;32m    588\u001b[0m             \u001b[0;32mtry\u001b[0m\u001b[0;34m:\u001b[0m\u001b[0;34m\u001b[0m\u001b[0;34m\u001b[0m\u001b[0m\n\u001b[0;32m--> 589\u001b[0;31m                 \u001b[0;32mreturn\u001b[0m \u001b[0mself\u001b[0m\u001b[0;34m.\u001b[0m\u001b[0m_sock\u001b[0m\u001b[0;34m.\u001b[0m\u001b[0mrecv_into\u001b[0m\u001b[0;34m(\u001b[0m\u001b[0mb\u001b[0m\u001b[0;34m)\u001b[0m\u001b[0;34m\u001b[0m\u001b[0;34m\u001b[0m\u001b[0m\n\u001b[0m\u001b[1;32m    590\u001b[0m             \u001b[0;32mexcept\u001b[0m \u001b[0mtimeout\u001b[0m\u001b[0;34m:\u001b[0m\u001b[0;34m\u001b[0m\u001b[0;34m\u001b[0m\u001b[0m\n\u001b[1;32m    591\u001b[0m                 \u001b[0mself\u001b[0m\u001b[0;34m.\u001b[0m\u001b[0m_timeout_occurred\u001b[0m \u001b[0;34m=\u001b[0m \u001b[0;32mTrue\u001b[0m\u001b[0;34m\u001b[0m\u001b[0;34m\u001b[0m\u001b[0m\n",
            "\u001b[0;31mKeyboardInterrupt\u001b[0m: "
          ]
        }
      ]
    },
    {
      "cell_type": "code",
      "metadata": {
        "id": "Py5VFbeTZRBe"
      },
      "source": [
        "# Cria Dataframe com as colunas concatenadas\n",
        "df_eco = pd.concat([df1[i] for i in range(len(series_eco))], axis =1)\n",
        "df_eco.head(3)"
      ],
      "execution_count": null,
      "outputs": []
    },
    {
      "cell_type": "code",
      "metadata": {
        "id": "uIhCJ7g8ZRBf"
      },
      "source": [
        "df_eco.shape"
      ],
      "execution_count": null,
      "outputs": []
    },
    {
      "cell_type": "code",
      "metadata": {
        "id": "n9utHPXAZRBf"
      },
      "source": [
        "#df_eco.columns.to_list()"
      ],
      "execution_count": null,
      "outputs": []
    },
    {
      "cell_type": "code",
      "metadata": {
        "id": "p_cS_e6tZRBf"
      },
      "source": [
        "df_eco = df_eco.iloc[:,np.r_[1:4, 7, 11, 15, 19, 23, 27, 31, 35, 39, 43, 47, 51, 55, 59, 63, 67, 71]]"
      ],
      "execution_count": null,
      "outputs": []
    },
    {
      "cell_type": "code",
      "metadata": {
        "id": "7xWL-2fpZRBg"
      },
      "source": [
        "cols_dataframe = [str(i) for i in series_eco]\n",
        "df_eco.columns = ['YEAR', 'MONTH'] + cols_dataframe"
      ],
      "execution_count": null,
      "outputs": []
    },
    {
      "cell_type": "code",
      "metadata": {
        "id": "4fbnqGL_ZRBg"
      },
      "source": [
        "## Renomeando o índice de df_eco (dados do Ipeadata) - CUIDADO - substitui o Dataframe original!\n",
        "df_eco_back = df_eco.copy()  # por via das dúvidas\n",
        "df_eco.rename_axis(index={'DATE': 'Date'}, inplace = True)\n",
        "df_eco.head(3)"
      ],
      "execution_count": null,
      "outputs": []
    },
    {
      "cell_type": "code",
      "metadata": {
        "id": "2919ucK9ZRBg"
      },
      "source": [
        "df_eco.tail(3)"
      ],
      "execution_count": null,
      "outputs": []
    },
    {
      "cell_type": "code",
      "metadata": {
        "id": "SmFi0G_qZRBh"
      },
      "source": [
        "# Volatilidades do Futuro 3 meses Dólar e Dólar Spot\n",
        "df_eco[['BMF366_FUT3DOLV366', 'GM366_ERVV366']].plot();"
      ],
      "execution_count": null,
      "outputs": []
    },
    {
      "cell_type": "code",
      "metadata": {
        "id": "SKrHPnTzZRBh"
      },
      "source": [
        "#df_eco[['BMF366_FUT1DOL366', 'BMF366_FUT3DOL366', 'GM366_ERV366']].plot();"
      ],
      "execution_count": null,
      "outputs": []
    },
    {
      "cell_type": "code",
      "metadata": {
        "id": "wviRys4pZRBh"
      },
      "source": [
        "#df_eco[['ANBIMA366_TJTLN1366', 'ANBIMA366_TJTLN12366']].plot();"
      ],
      "execution_count": null,
      "outputs": []
    },
    {
      "cell_type": "code",
      "metadata": {
        "id": "-UvPNQ4fZRBh"
      },
      "source": [
        ""
      ],
      "execution_count": null,
      "outputs": []
    },
    {
      "cell_type": "markdown",
      "metadata": {
        "id": "UIkTdyMwZRBi"
      },
      "source": [
        "## Selecionando séries diárias no Banco Central"
      ]
    },
    {
      "cell_type": "markdown",
      "metadata": {
        "id": "pZvgJmy1ZRBi"
      },
      "source": [
        "- 12461 = IRF-M (ANBIMA Indice Renda Fixa (pré))\n",
        "- 12462 = IMA-S (Selic)\n",
        "- 12463 = IMA-C (IGP-M - será descontinuado em 04/2021)\n",
        "- 12466 = IMA-B (NTN-B, IPCA)\n",
        "- 12467 = IMA-B 5 (NTN-B < 5 anos)\n",
        "- 12468 = IMA-B 5+ \n",
        "- 12469 = IMA-Geral\n",
        "- 17626 = IRF - M1 (pré < 1 ano)\n",
        "- 17627 = IRF - M1+ (pré > 1 ano)\n",
        "- 17628 = IMA Geral ex C\n",
        "Fontes: Abecip e BCB-Depec"
      ]
    },
    {
      "cell_type": "markdown",
      "metadata": {
        "id": "Shh-K7bEZRBi"
      },
      "source": [
        "for i in lista\n",
        "df_bacen = sgs.time_serie(CDI_CODE, start='02/01/2018', end='31/12/2018')"
      ]
    },
    {
      "cell_type": "markdown",
      "metadata": {
        "id": "jMgQ_5v9ZRBi"
      },
      "source": [
        "from datetime import datetime\n",
        "agora = datetime.now(pytz.timezone('America/Sao_Paulo'))\n",
        "agora = agora.date()\n",
        "agora = str(agora)\n",
        "agora"
      ]
    },
    {
      "cell_type": "code",
      "metadata": {
        "id": "6Itd5J_yZRBi"
      },
      "source": [
        "lista_codigos = [12461, 12462, 12463, 12466, 12467, 12468, 12469, 17626, 17627, 17628]"
      ],
      "execution_count": null,
      "outputs": []
    },
    {
      "cell_type": "code",
      "metadata": {
        "id": "abzdfPDiZRBi"
      },
      "source": [
        "def importa_bacen(codigo, start_date = '01/01/2017', end_date = '31/12/2020'):\n",
        "    '''usa o módulo sgs para importar dados do Bacen\n",
        "    input é o código da série no Bacen''' \n",
        "    tt1 = datetime.datetime.strptime(start_date, '%d/%m/%Y')#'%Y-%m-%d')\n",
        "    tt2 = datetime.datetime.strptime(end_date, '%d/%m/%Y')\n",
        "    result = sgs.time_serie(codigo, start= tt1, end= tt2)\n",
        "    return result"
      ],
      "execution_count": null,
      "outputs": []
    },
    {
      "cell_type": "markdown",
      "metadata": {
        "id": "GK43RJxnZRBj"
      },
      "source": [
        "importa_bacen(12462)   ---- Não funciona"
      ]
    },
    {
      "cell_type": "code",
      "metadata": {
        "id": "ffWdlEzwZRBj"
      },
      "source": [
        "start_date = '2017-01-01'\n",
        "end_date = '2021-12-31'"
      ],
      "execution_count": null,
      "outputs": []
    },
    {
      "cell_type": "code",
      "metadata": {
        "id": "1fJmN7T1ZRBj"
      },
      "source": [
        "codigo_bc = 17628"
      ],
      "execution_count": null,
      "outputs": []
    },
    {
      "cell_type": "code",
      "metadata": {
        "id": "JWFatCRDZRBj"
      },
      "source": [
        "def consulta_bc2(codigo_bcb):\n",
        "    #url = 'http://api.bcb.gov.br/dados/serie/bcdata.sgs.{}/dados?formato=json'.format(codigo_bcb)\n",
        "    url = 'http://api.bcb.gov.br/dados/serie/bcdata.sgs.'+str(codigo_bc)+'/dados?formato=json&dataInicial='+\\\n",
        "    str(start_date)+'&dataFinal='+str(end_date)\n",
        "    \n",
        "    df = pd.read_json(url)\n",
        "    df['data'] = pd.to_datetime(df['data'], dayfirst=False) #dayfirst=True\n",
        "    df.set_index('data', inplace=True)\n",
        "    uu1 = datetime.datetime.strptime(start_date, '%Y-%m-%d')\n",
        "    uu2 = datetime.datetime.strptime(end_date, '%Y-%m-%d')\n",
        "    #df = df.loc[uu1:uu2]\n",
        "    print(df.head())\n",
        "    return df"
      ],
      "execution_count": null,
      "outputs": []
    },
    {
      "cell_type": "markdown",
      "metadata": {
        "id": "lMtJNiDFZRBj"
      },
      "source": [
        "consulta_bc2(12463)  #consulta_bc(12461, '2021-01-04', '2021-01-31')"
      ]
    },
    {
      "cell_type": "code",
      "metadata": {
        "id": "MSkfc2MtZRBk"
      },
      "source": [
        "def consulta_bc3(codigo_bc, start_date = '02/01/2017', end_date = '12/02/2021' ):   #'2017-01-02'  '2021-02-12'\n",
        "    import requests\n",
        "    #url = 'http://api.bcb.gov.br/dados/serie/bcdata.sgs.{}/dados?formato=json'.format(codigo_bc)\n",
        "    \n",
        "    #url = ('http://api.bcb.gov.br/dados/serie/bcdata.sgs.{}/dados?formato=json&dataInicial={}&dataFinal={}')\n",
        "    url = 'http://api.bcb.gov.br/dados/serie/bcdata.sgs.'+str(codigo_bc)+'/dados?formato=json&dataInicial='+\\\n",
        "    str(start_date)+'&dataFinal='+str(end_date)\n",
        "\n",
        "    request_url = url.format(codigo_bc, start_date, end_date)\n",
        "    r = requests.get(request_url)\n",
        "    if r.status_code != 200:\n",
        "        print('Request para API deu erro')  \n",
        "    try:\n",
        "        if r.json() != {}:\n",
        "            print(r)\n",
        "            print('')\n",
        "            print(r.json())\n",
        "            df = pd.DataFrame.from_dict(r.json())\n",
        "            \n",
        "            print(df.info())\n",
        "            df['data'] = pd.to_datetime(df['data'], dayfirst = False, format = '%Y-%m-%d')#format = '%d/%m%Y') #dayfirst = True\n",
        "            df.reset_index(drop=True)\n",
        "            df.set_index('data', inplace = True)\n",
        "            ##index = pd.date_range(start = '2015-01-01', end = '2020-09-01', freq = \"M\") \n",
        "            df.index = pd.to_datetime(df.index)\n",
        "            df = df.loc[start_date : end_date]\n",
        "            \n",
        "        else:\n",
        "            df = pd.DataFrame()\n",
        "            print('')\n",
        "            print(\"Resposta Inválida\")\n",
        "            time.sleep(1)\n",
        "    except ValueError:\n",
        "            print(\"Resposta Inválida\")\n",
        "            time.sleep(1)\n",
        "    \n",
        "    return url, r.json, df \n",
        "    "
      ],
      "execution_count": null,
      "outputs": []
    },
    {
      "cell_type": "markdown",
      "metadata": {
        "id": "ZuaxnnCyZRBk"
      },
      "source": [
        "### A consulta a seguir funciona às vezes - API do Bacen não é 100% confiável para mim"
      ]
    },
    {
      "cell_type": "code",
      "metadata": {
        "id": "AScgnaawZRBk"
      },
      "source": [
        "[nome_url, conteudo_json , df_bcb] = consulta_bc3(12461, start_date = '15/01/2021', end_date = '13/02/2021') #'2021-01-04', '2021-01-31')"
      ],
      "execution_count": null,
      "outputs": []
    },
    {
      "cell_type": "code",
      "metadata": {
        "id": "cRI6_0YZZRBl"
      },
      "source": [
        "#df_bcb.set_index('data', inplace = True)\n",
        "#df_bcb.info()\n",
        "#df_bcb.index = pd.to_datetime(df_bcb.index)\n",
        "#df_bcb.head()"
      ],
      "execution_count": null,
      "outputs": []
    },
    {
      "cell_type": "code",
      "metadata": {
        "id": "jcvMNosXZRBl"
      },
      "source": [
        "lista_codigos"
      ],
      "execution_count": null,
      "outputs": []
    },
    {
      "cell_type": "code",
      "metadata": {
        "id": "xKVgQdNRZRBl"
      },
      "source": [
        "url = 'http://api.bcb.gov.br/dados/serie/bcdata.sgs.'+str(codigo_bc)+'/dados?formato=json&dataInicial='+\\\n",
        "str(start_date)+'&dataFinal='+str(end_date)\n",
        "print(url)"
      ],
      "execution_count": null,
      "outputs": []
    },
    {
      "cell_type": "markdown",
      "metadata": {
        "id": "l779jzD8ZRBm"
      },
      "source": [
        "## Usando o Quandl"
      ]
    },
    {
      "cell_type": "markdown",
      "metadata": {
        "id": "xV-AEFIxZRBm"
      },
      "source": [
        "- 12461 = IRF-M (ANBIMA Indice Renda Fixa (pré))\n",
        "- 12462 = IMA-S (Selic)\n",
        "- 12463 = IMA-C (IGP-M - será descontinuado em 04/2021)\n",
        "- 12466 = IMA-B (NTN-B, IPCA)\n",
        "- 12467 = IMA-B 5 (NTN-B < 5 anos)\n",
        "- 12468 = IMA-B 5+ \n",
        "- 12469 = IMA-Geral\n",
        "- 17626 = IRF - M1 (pré < 1 ano)\n",
        "- 17627 = IRF - M1+ (pré > 1 ano)\n",
        "- 17628 = IMA Geral ex C\n",
        "Fontes: Abecip e BCB-Depec"
      ]
    },
    {
      "cell_type": "code",
      "metadata": {
        "id": "0Wq-lHDsZRBm"
      },
      "source": [
        "series_bcb = ['IRF-M', 'IMA-S', 'IMA-C', 'IMA-B', 'IMA-B5', 'IMA-B5plus', 'IMA-Geral','IRF-M1', 'IRF-M1plus', 'IMA-Geral_exC']"
      ],
      "execution_count": null,
      "outputs": []
    },
    {
      "cell_type": "code",
      "metadata": {
        "id": "eG0uEjUkZRBn"
      },
      "source": [
        "time_start = time.time()\n",
        "time_start;\n",
        "\n",
        "inicio = '2017-01-01'\n",
        "fim = '2021-02-11'\n",
        "\n",
        "bcb_out = [quandl.get('BCB/'+str(serie), start_date = inicio, end_date = fim) for serie in lista_codigos] \n",
        "\n",
        "\n",
        "df_bcb = pd.concat(bcb_out, axis = 1)\n",
        "df_bcb.columns = series_bcb\n",
        "\n",
        "time_end = time.time();\n",
        "elapsed_time = time_end - time_start;\n",
        "print('')\n",
        "print('*********************************************************************')\n",
        "print('Demorou:',round(elapsed_time,2),' segundos')\n",
        "print('*********************************************************************')"
      ],
      "execution_count": null,
      "outputs": []
    },
    {
      "cell_type": "code",
      "metadata": {
        "id": "jGKhEKzLZRBn"
      },
      "source": [
        "df_bcb.head(3)"
      ],
      "execution_count": null,
      "outputs": []
    },
    {
      "cell_type": "code",
      "metadata": {
        "id": "z_H0C0WqZRBn"
      },
      "source": [
        "df_bcb.tail(3)"
      ],
      "execution_count": null,
      "outputs": []
    },
    {
      "cell_type": "code",
      "metadata": {
        "id": "l9mIseO0ZRBo"
      },
      "source": [
        "df_eco.info()"
      ],
      "execution_count": null,
      "outputs": []
    },
    {
      "cell_type": "code",
      "metadata": {
        "id": "xYh-FLmaZRBo"
      },
      "source": [
        "df_bcb.info()"
      ],
      "execution_count": null,
      "outputs": []
    },
    {
      "cell_type": "code",
      "metadata": {
        "id": "jzltq326ZRBp"
      },
      "source": [
        "df_all =pd.merge(df_eco,df_bcb, how='outer', left_index=True, right_index=True)"
      ],
      "execution_count": null,
      "outputs": []
    },
    {
      "cell_type": "code",
      "metadata": {
        "id": "UqjarPU2ZRBp"
      },
      "source": [
        "df_all.info()"
      ],
      "execution_count": null,
      "outputs": []
    },
    {
      "cell_type": "code",
      "metadata": {
        "id": "oHXLNPfvZRBp"
      },
      "source": [
        "df_all.tail(30)"
      ],
      "execution_count": null,
      "outputs": []
    },
    {
      "cell_type": "markdown",
      "metadata": {
        "id": "-OMB-2qnZRBq"
      },
      "source": [
        "### Cria indicadores de mês e ano para todas as linhas (mesmo onde havia NaN após o merge)"
      ]
    },
    {
      "cell_type": "code",
      "metadata": {
        "id": "_RMzFrDsZRBq"
      },
      "source": [
        "df_all['MONTH'] = df_all.index.month.astype('int')\n",
        "df_all['YEAR'] = df_all.index.year.astype('int')"
      ],
      "execution_count": null,
      "outputs": []
    },
    {
      "cell_type": "code",
      "metadata": {
        "id": "6Kdu53-4ZRBq"
      },
      "source": [
        "df_all.info()"
      ],
      "execution_count": null,
      "outputs": []
    },
    {
      "cell_type": "code",
      "metadata": {
        "id": "AOqDIM9ZZRBq"
      },
      "source": [
        "# Define data de hoje (para incluir nos arquivos de saida)\n",
        "data_hoje = datetime.datetime.now(tz = local_tz)\n",
        "# Converte para string (incluindo hora e minuto - útil se for rodar várias vezes no mesmo dia para testes)\n",
        "data_hoje = data_hoje.strftime(\"%Y_%m_%d_%H%M\")"
      ],
      "execution_count": null,
      "outputs": []
    },
    {
      "cell_type": "code",
      "metadata": {
        "id": "u_ehX8LMZRBq"
      },
      "source": [
        "time_start = perf_counter()\n",
        "df_all.to_csv(path_result+'fat_risco_'+str(data_hoje)+'.csv',sep = ';' ,encoding='utf-8')\n",
        "\n",
        "time_end = perf_counter()\n",
        "elapsed_time = time_end - time_start\n",
        "print(' ****salvar df em .csv demorou ', round(elapsed_time,2) , ' segundos *****')\n"
      ],
      "execution_count": null,
      "outputs": []
    },
    {
      "cell_type": "code",
      "metadata": {
        "id": "JtmOpLY1ZRBr"
      },
      "source": [
        "time_start = perf_counter()\n",
        "df_all.to_pickle(path_result+'fat_risco_'+str(data_hoje)+'.pkl')\n",
        "\n",
        "time_end = perf_counter()\n",
        "elapsed_time = time_end - time_start\n",
        "print(' ****salvar df em .pkl demorou ', round(elapsed_time,2) , ' segundos *****')"
      ],
      "execution_count": null,
      "outputs": []
    },
    {
      "cell_type": "code",
      "metadata": {
        "id": "6Pdd9FZPZRBr"
      },
      "source": [
        ""
      ],
      "execution_count": null,
      "outputs": []
    },
    {
      "cell_type": "code",
      "metadata": {
        "id": "h4AUp4P7ZRBr"
      },
      "source": [
        ""
      ],
      "execution_count": null,
      "outputs": []
    }
  ]
}