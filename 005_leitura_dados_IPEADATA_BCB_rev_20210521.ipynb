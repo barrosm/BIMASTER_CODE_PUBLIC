{
 "cells": [
  {
   "cell_type": "markdown",
   "metadata": {
    "id": "BqKnIeALZRBQ"
   },
   "source": [
    "# Leitura dados IPEADATA e Banco Central"
   ]
  },
  {
   "cell_type": "markdown",
   "metadata": {
    "id": "kKQsH5YHZRBX"
   },
   "source": [
    "## Monica Barros - 25/02/2021 - atualização em 21/05/2021"
   ]
  },
  {
   "cell_type": "code",
   "execution_count": 1,
   "metadata": {
    "colab": {
     "base_uri": "https://localhost:8080/"
    },
    "id": "XyTp0xn2ZRBY",
    "outputId": "4e3e7608-6f49-4446-f37f-5069e8f73e47"
   },
   "outputs": [
    {
     "name": "stdout",
     "output_type": "stream",
     "text": [
      "Requirement already satisfied: ipeadatapy in /opt/conda/lib/python3.9/site-packages (0.1.7)\r\n"
     ]
    }
   ],
   "source": [
    "# para baixar os dados do ipeadata\n",
    "#====================================================\n",
    "#https://github.com/luanborelli/ipeadatapy\n",
    "#!pip install ipeadatapy\n",
    "!pip install --upgrade ipeadatapy\n",
    "import ipeadatapy as idpy"
   ]
  },
  {
   "cell_type": "markdown",
   "metadata": {
    "id": "9H-qP0IiZRBZ"
   },
   "source": [
    "* ### Tive que usar o Quandl para baixar os dados - o módulo sgs não funcionava por causa do locale\n",
    "* ### Também não funcionou ao tentar fazer a request direto e ler o json (às vezes ia, às vezes não ia)"
   ]
  },
  {
   "cell_type": "code",
   "execution_count": 121,
   "metadata": {
    "colab": {
     "base_uri": "https://localhost:8080/"
    },
    "id": "EjqYVKfCZRBZ",
    "outputId": "efccc104-b01c-4c15-9daf-f39f1367445b"
   },
   "outputs": [
    {
     "name": "stdout",
     "output_type": "stream",
     "text": [
      "Requirement already satisfied: quandl in /opt/conda/lib/python3.9/site-packages (3.6.1)\n",
      "Requirement already satisfied: requests>=2.7.0 in /opt/conda/lib/python3.9/site-packages (from quandl) (2.25.1)\n",
      "Requirement already satisfied: python-dateutil in /opt/conda/lib/python3.9/site-packages (from quandl) (2.8.1)\n",
      "Requirement already satisfied: six in /opt/conda/lib/python3.9/site-packages (from quandl) (1.16.0)\n",
      "Requirement already satisfied: more-itertools in /opt/conda/lib/python3.9/site-packages (from quandl) (8.7.0)\n",
      "Requirement already satisfied: inflection>=0.3.1 in /opt/conda/lib/python3.9/site-packages (from quandl) (0.5.1)\n",
      "Requirement already satisfied: numpy>=1.8 in /opt/conda/lib/python3.9/site-packages (from quandl) (1.20.2)\n",
      "Requirement already satisfied: pandas>=0.14 in /opt/conda/lib/python3.9/site-packages (from quandl) (1.2.4)\n",
      "Requirement already satisfied: pytz>=2017.3 in /opt/conda/lib/python3.9/site-packages (from pandas>=0.14->quandl) (2021.1)\n",
      "Requirement already satisfied: idna<3,>=2.5 in /opt/conda/lib/python3.9/site-packages (from requests>=2.7.0->quandl) (2.10)\n",
      "Requirement already satisfied: certifi>=2017.4.17 in /opt/conda/lib/python3.9/site-packages (from requests>=2.7.0->quandl) (2020.12.5)\n",
      "Requirement already satisfied: urllib3<1.27,>=1.21.1 in /opt/conda/lib/python3.9/site-packages (from requests>=2.7.0->quandl) (1.26.4)\n",
      "Requirement already satisfied: chardet<5,>=3.0.2 in /opt/conda/lib/python3.9/site-packages (from requests>=2.7.0->quandl) (4.0.0)\n"
     ]
    }
   ],
   "source": [
    "# Alternativa para baixar os dados do Banco Central\n",
    "#====================================================\n",
    "!pip install quandl\n",
    "import quandl\n",
    "quandl.ApiConfig.api_key = '***** Obtenha sua própria chave de acesso *****'   "
   ]
  },
  {
   "cell_type": "code",
   "execution_count": 3,
   "metadata": {
    "colab": {
     "base_uri": "https://localhost:8080/"
    },
    "id": "O2XLoBosZRBZ",
    "outputId": "1cccd301-d73e-4096-9c59-69b04b1c78a4"
   },
   "outputs": [
    {
     "name": "stdout",
     "output_type": "stream",
     "text": [
      "Requirement already satisfied: sgs in /opt/conda/lib/python3.9/site-packages (2.1.0)\n",
      "Requirement already satisfied: requests>=2.22.0 in /opt/conda/lib/python3.9/site-packages (from sgs) (2.25.1)\n",
      "Requirement already satisfied: html5lib>=1.0.1 in /opt/conda/lib/python3.9/site-packages (from sgs) (1.1)\n",
      "Requirement already satisfied: pandas>=0.24.2 in /opt/conda/lib/python3.9/site-packages (from sgs) (1.2.4)\n",
      "Requirement already satisfied: retrying>=1.3.3 in /opt/conda/lib/python3.9/site-packages (from sgs) (1.3.3)\n",
      "Requirement already satisfied: beautifulsoup4>=4.7.1 in /opt/conda/lib/python3.9/site-packages (from sgs) (4.9.3)\n",
      "Requirement already satisfied: soupsieve>1.2 in /opt/conda/lib/python3.9/site-packages (from beautifulsoup4>=4.7.1->sgs) (2.0.1)\n",
      "Requirement already satisfied: six>=1.9 in /opt/conda/lib/python3.9/site-packages (from html5lib>=1.0.1->sgs) (1.16.0)\n",
      "Requirement already satisfied: webencodings in /opt/conda/lib/python3.9/site-packages (from html5lib>=1.0.1->sgs) (0.5.1)\n",
      "Requirement already satisfied: python-dateutil>=2.7.3 in /opt/conda/lib/python3.9/site-packages (from pandas>=0.24.2->sgs) (2.8.1)\n",
      "Requirement already satisfied: pytz>=2017.3 in /opt/conda/lib/python3.9/site-packages (from pandas>=0.24.2->sgs) (2021.1)\n",
      "Requirement already satisfied: numpy>=1.16.5 in /opt/conda/lib/python3.9/site-packages (from pandas>=0.24.2->sgs) (1.20.2)\n",
      "Requirement already satisfied: urllib3<1.27,>=1.21.1 in /opt/conda/lib/python3.9/site-packages (from requests>=2.22.0->sgs) (1.26.4)\n",
      "Requirement already satisfied: chardet<5,>=3.0.2 in /opt/conda/lib/python3.9/site-packages (from requests>=2.22.0->sgs) (4.0.0)\n",
      "Requirement already satisfied: idna<3,>=2.5 in /opt/conda/lib/python3.9/site-packages (from requests>=2.22.0->sgs) (2.10)\n",
      "Requirement already satisfied: certifi>=2017.4.17 in /opt/conda/lib/python3.9/site-packages (from requests>=2.22.0->sgs) (2020.12.5)\n"
     ]
    }
   ],
   "source": [
    "# para baixar os dados diretamente do Banco Central\n",
    "#===================================================\n",
    "!pip install sgs\n",
    "import sgs"
   ]
  },
  {
   "cell_type": "code",
   "execution_count": 4,
   "metadata": {
    "id": "zqBLqJLxZRBa"
   },
   "outputs": [],
   "source": [
    "import pandas as pd\n",
    "import matplotlib.pyplot as plt\n",
    "import numpy as np\n",
    "\n",
    "plt.style.use('fivethirtyeight')\n",
    "pd.set_option('max_colwidth', 200)  # Altera largura máxima das colunas\n",
    "pd.set_option('display.max_colwidth', None)\n",
    "\n",
    "import seaborn as sns; \n",
    "sns.set(rc={'figure.figsize':(17,6)})\n",
    "\n",
    "plt.rcParams['axes.labelsize'] = 16\n",
    "plt.rcParams['xtick.labelsize'] = 14\n",
    "plt.rcParams['ytick.labelsize'] = 14\n",
    "\n",
    "import os\n",
    "import datetime\n",
    "from dateutil.relativedelta import relativedelta\n",
    "import time\n",
    "from time import perf_counter\n",
    "\n",
    "import glob\n",
    "import pickle\n",
    "\n",
    "#!pip install openpyxl\n",
    "from openpyxl import Workbook\n",
    "\n",
    "#!pip install pytz\n",
    "import pytz\n",
    "local_tz = pytz.timezone('America/Sao_Paulo')"
   ]
  },
  {
   "cell_type": "code",
   "execution_count": 5,
   "metadata": {
    "id": "9sX-nBaGZRBa"
   },
   "outputs": [],
   "source": [
    "import urllib3\n",
    "import json\n",
    "import urllib.request\n",
    "\n",
    "from pandas.io.json import json_normalize"
   ]
  },
  {
   "cell_type": "code",
   "execution_count": 6,
   "metadata": {
    "id": "He5_IamWZRBb"
   },
   "outputs": [],
   "source": [
    "path_result = '/home/jovyan/work/@Fund_Eval/@fatores_risco/'\n",
    "os.makedirs(path_result, exist_ok = 'TRUE')\n",
    "\n",
    "path_data = '/home/jovyan/work/@Fund_Eval/@dados_acoes/'\n",
    "os.makedirs(path_data, exist_ok = 'TRUE')\n",
    "\n",
    "path_code = '/home/jovyan/work/@Fund_Eval/PROGRAMAS/'\n",
    "os.makedirs(path_code, exist_ok = 'TRUE')"
   ]
  },
  {
   "cell_type": "code",
   "execution_count": 7,
   "metadata": {
    "id": "suXv3ZW_ZRBb"
   },
   "outputs": [],
   "source": [
    "def restringe_periodo(serie, ano_inicio):\n",
    "    import time\n",
    "    import random\n",
    "    result = (idpy.timeseries(serie))\n",
    "    print(\"*** A série buscada no IPEADATA é: \", serie)\n",
    "    if 'YEAR' in result:\n",
    "        result = result.loc[result['YEAR'] >= ano_inicio]  # em outras séries a coluna é 'ANO'\n",
    "    if 'ANO'  in result:\n",
    "        result = result.loc[result['ANO'] >= ano_inicio]\n",
    "    time.sleep(random.uniform(0.5,3))  \n",
    "    # insere delay aleatório entre 0.5 e 3 segundos para tentar evitar problemas com o servidor\n",
    "    # Se não dá o erro: ConnectionError: \n",
    "    # ('Connection aborted.', RemoteDisconnected('Remote end closed connection without response'))\n",
    "    return result"
   ]
  },
  {
   "cell_type": "markdown",
   "metadata": {
    "id": "BbPOWywaZRBb"
   },
   "source": [
    "## Selecionando séries diárias no IPEADATA"
   ]
  },
  {
   "cell_type": "markdown",
   "metadata": {
    "id": "zSwpEv90ZRBc"
   },
   "source": [
    "- ANBIMA366_TJTLN são as taxas de juros pré de 1, 3, 6 e 12 meses\n",
    "- BMF_366FUTXDOL = dolar futuro 1 e 3 meses\n",
    "- BMF366_FUT3DOLV366 = volatilidade do dólar futuro, Calculada pelo Ipeadata com base nas taxas diárias de retorno entre as cotações de fechamento observadas nos 21 últimos dias de negociação\n",
    "- GM366_ERC366 = Taxa de câmbio R /𝑈𝑆  comercial (valor de compra)\n",
    "- GM366_ERTUR366 = Taxa de câmbio - R /𝑈𝑆  - turismo - venda - média\n",
    "- GM366_ERV366 = Taxa de câmbio - R /𝑈𝑆  - comercial - venda - média\n",
    "- GM366_ERVV366\t= Taxa de câmbio - R /𝑈𝑆  - comercial - venda - média - volatilidade\n",
    "- GM366_EUROV366 = Zona do Euro - taxa de câmbio - R$ / euro - venda - média\n",
    "- EIA366_PBRENT366\twww.eia.doe.gov\tPreço - pétroleo bruto - Brent (FOB)\n",
    "- EIA366_PWTI366\twww.eia.doe.gov\tPreço - pétroleo bruto - WTI (FOB)\n",
    "- GM366_DOW366\twww.valor.com.br\tÍndice de ações - Dow Jones - fechamento\n",
    "- SGS366_NASDAQ366\twww.nasdaq.com\tÍndice de ações - NASDAQ - fechamento\n",
    "- VALOR366_FEDFUND366\twww.valor.com.br\tTaxa de juros básica - Federal Funds - fixada pelo FOMC\n",
    "- GM366_IBVSP366\twww.bmfbovespa.com.br\tÍndice de ações - Ibovespa - fechamento\n",
    "- GM366_IBVSPV366\twww.ipea.gov.br\tÍndice de ações - Ibovespa - fechamento - volatilidade\n"
   ]
  },
  {
   "cell_type": "code",
   "execution_count": 8,
   "metadata": {
    "id": "1s8w3Rt1ZRBc"
   },
   "outputs": [],
   "source": [
    "series_eco = ['ANBIMA366_TJTLN1366', 'ANBIMA366_TJTLN3366', 'ANBIMA366_TJTLN6366', 'ANBIMA366_TJTLN12366', \n",
    "             'BMF366_FUT1DOL366', 'BMF366_FUT3DOL366', 'BMF366_FUT3DOLV366', \n",
    "             'GM366_ERTUR366', 'GM366_ERV366', 'GM366_ERVV366', 'GM366_EUROV366', \n",
    "              'EIA366_PBRENT366', 'EIA366_PWTI366', 'GM366_DOW366', 'SGS366_NASDAQ366', 'VALOR366_FEDFUND366',\n",
    "              'GM366_IBVSP366', 'GM366_IBVSPV366']"
   ]
  },
  {
   "cell_type": "code",
   "execution_count": 9,
   "metadata": {
    "colab": {
     "base_uri": "https://localhost:8080/"
    },
    "id": "elQEfUNCZRBc",
    "outputId": "e1d84d0a-cf2d-4aa0-c925-9212c08f0359"
   },
   "outputs": [
    {
     "data": {
      "text/plain": [
       "18"
      ]
     },
     "execution_count": 9,
     "metadata": {},
     "output_type": "execute_result"
    }
   ],
   "source": [
    "len(series_eco)"
   ]
  },
  {
   "cell_type": "markdown",
   "metadata": {
    "id": "kZ7HMLjXZRBd"
   },
   "source": [
    "### Capturando os dados através do Ipeadata"
   ]
  },
  {
   "cell_type": "markdown",
   "metadata": {},
   "source": [
    "### Dividi a consulta em pedaços - está dando time out "
   ]
  },
  {
   "cell_type": "code",
   "execution_count": 10,
   "metadata": {},
   "outputs": [
    {
     "name": "stdout",
     "output_type": "stream",
     "text": [
      "*** A série buscada no IPEADATA é:  ANBIMA366_TJTLN1366\n",
      "*** A série buscada no IPEADATA é:  ANBIMA366_TJTLN3366\n",
      "*** A série buscada no IPEADATA é:  ANBIMA366_TJTLN6366\n",
      "*** A série buscada no IPEADATA é:  ANBIMA366_TJTLN12366\n",
      "Demorou: 17.81  segundos\n"
     ]
    }
   ],
   "source": [
    "time_start = time.time()\n",
    "time_start;\n",
    "\n",
    "#df1 = [restringe_periodo(serie, 2017) for serie in series_eco] \n",
    "\n",
    "df_pt1 = [restringe_periodo(serie, 2017) for serie in series_eco[0:4]] \n",
    "time_end = time.time();\n",
    "elapsed_time1 = time_end - time_start;\n",
    "print('Demorou:',round(elapsed_time1,2),' segundos')"
   ]
  },
  {
   "cell_type": "code",
   "execution_count": 11,
   "metadata": {},
   "outputs": [
    {
     "name": "stdout",
     "output_type": "stream",
     "text": [
      "*** A série buscada no IPEADATA é:  BMF366_FUT1DOL366\n",
      "*** A série buscada no IPEADATA é:  BMF366_FUT3DOL366\n",
      "*** A série buscada no IPEADATA é:  BMF366_FUT3DOLV366\n",
      "*** A série buscada no IPEADATA é:  GM366_ERTUR366\n",
      "*** A série buscada no IPEADATA é:  GM366_ERV366\n",
      "Demorou: 34.1  segundos\n"
     ]
    }
   ],
   "source": [
    "df_pt2 = [restringe_periodo(serie, 2017) for serie in series_eco[4:9]] \n",
    "time.sleep(1)\n",
    "time_end = time.time();\n",
    "elapsed_time2 = time_end - time_start;\n",
    "print('Demorou:',round(elapsed_time2,2),' segundos')"
   ]
  },
  {
   "cell_type": "code",
   "execution_count": 12,
   "metadata": {},
   "outputs": [
    {
     "name": "stdout",
     "output_type": "stream",
     "text": [
      "*** A série buscada no IPEADATA é:  GM366_ERVV366\n",
      "*** A série buscada no IPEADATA é:  GM366_EUROV366\n",
      "*** A série buscada no IPEADATA é:  EIA366_PBRENT366\n",
      "*** A série buscada no IPEADATA é:  EIA366_PWTI366\n",
      "*** A série buscada no IPEADATA é:  GM366_DOW366\n",
      "Demorou: 54.65  segundos\n"
     ]
    }
   ],
   "source": [
    "df_pt3 = [restringe_periodo(serie, 2017) for serie in series_eco[9:14]] \n",
    "time.sleep(1)\n",
    "time_end = time.time();\n",
    "elapsed_time3 = time_end - time_start;\n",
    "print('Demorou:',round(elapsed_time3,2),' segundos')"
   ]
  },
  {
   "cell_type": "code",
   "execution_count": 15,
   "metadata": {},
   "outputs": [
    {
     "name": "stdout",
     "output_type": "stream",
     "text": [
      "*** A série buscada no IPEADATA é:  SGS366_NASDAQ366\n",
      "*** A série buscada no IPEADATA é:  VALOR366_FEDFUND366\n",
      "*** A série buscada no IPEADATA é:  GM366_IBVSP366\n",
      "*** A série buscada no IPEADATA é:  GM366_IBVSPV366\n",
      "Demorou: 359.81  segundos\n"
     ]
    }
   ],
   "source": [
    "df_pt4 = [restringe_periodo(serie, 2017) for serie in series_eco[14:len(series_eco) + 1]] \n",
    "time_end = time.time();\n",
    "elapsed_time4 = time_end - time_start;\n",
    "print('Demorou:',round(elapsed_time4,2),' segundos')"
   ]
  },
  {
   "cell_type": "code",
   "execution_count": 16,
   "metadata": {},
   "outputs": [
    {
     "name": "stdout",
     "output_type": "stream",
     "text": [
      "(21849, 4)\n"
     ]
    },
    {
     "data": {
      "text/html": [
       "<div>\n",
       "<style scoped>\n",
       "    .dataframe tbody tr th:only-of-type {\n",
       "        vertical-align: middle;\n",
       "    }\n",
       "\n",
       "    .dataframe tbody tr th {\n",
       "        vertical-align: top;\n",
       "    }\n",
       "\n",
       "    .dataframe thead th {\n",
       "        text-align: right;\n",
       "    }\n",
       "</style>\n",
       "<table border=\"1\" class=\"dataframe\">\n",
       "  <thead>\n",
       "    <tr style=\"text-align: right;\">\n",
       "      <th></th>\n",
       "      <th>CODE</th>\n",
       "      <th>YEAR</th>\n",
       "      <th>MONTH</th>\n",
       "      <th>VALUE</th>\n",
       "    </tr>\n",
       "    <tr>\n",
       "      <th>DATE</th>\n",
       "      <th></th>\n",
       "      <th></th>\n",
       "      <th></th>\n",
       "      <th></th>\n",
       "    </tr>\n",
       "  </thead>\n",
       "  <tbody>\n",
       "    <tr>\n",
       "      <th>2017-01-01</th>\n",
       "      <td>ANBIMA366_TJTLN1366</td>\n",
       "      <td>2017</td>\n",
       "      <td>1</td>\n",
       "      <td>13.3029</td>\n",
       "    </tr>\n",
       "    <tr>\n",
       "      <th>2017-01-02</th>\n",
       "      <td>ANBIMA366_TJTLN1366</td>\n",
       "      <td>2017</td>\n",
       "      <td>1</td>\n",
       "      <td>13.2233</td>\n",
       "    </tr>\n",
       "    <tr>\n",
       "      <th>2017-01-03</th>\n",
       "      <td>ANBIMA366_TJTLN1366</td>\n",
       "      <td>2017</td>\n",
       "      <td>1</td>\n",
       "      <td>13.0480</td>\n",
       "    </tr>\n",
       "  </tbody>\n",
       "</table>\n",
       "</div>"
      ],
      "text/plain": [
       "                           CODE  YEAR  MONTH    VALUE\n",
       "DATE                                                 \n",
       "2017-01-01  ANBIMA366_TJTLN1366  2017      1  13.3029\n",
       "2017-01-02  ANBIMA366_TJTLN1366  2017      1  13.2233\n",
       "2017-01-03  ANBIMA366_TJTLN1366  2017      1  13.0480"
      ]
     },
     "metadata": {},
     "output_type": "display_data"
    },
    {
     "data": {
      "text/html": [
       "<div>\n",
       "<style scoped>\n",
       "    .dataframe tbody tr th:only-of-type {\n",
       "        vertical-align: middle;\n",
       "    }\n",
       "\n",
       "    .dataframe tbody tr th {\n",
       "        vertical-align: top;\n",
       "    }\n",
       "\n",
       "    .dataframe thead th {\n",
       "        text-align: right;\n",
       "    }\n",
       "</style>\n",
       "<table border=\"1\" class=\"dataframe\">\n",
       "  <thead>\n",
       "    <tr style=\"text-align: right;\">\n",
       "      <th></th>\n",
       "      <th>CODE</th>\n",
       "      <th>YEAR</th>\n",
       "      <th>MONTH</th>\n",
       "      <th>VALUE</th>\n",
       "    </tr>\n",
       "    <tr>\n",
       "      <th>DATE</th>\n",
       "      <th></th>\n",
       "      <th></th>\n",
       "      <th></th>\n",
       "      <th></th>\n",
       "    </tr>\n",
       "  </thead>\n",
       "  <tbody>\n",
       "    <tr>\n",
       "      <th>2021-05-13</th>\n",
       "      <td>GM366_IBVSPV366</td>\n",
       "      <td>2021</td>\n",
       "      <td>5</td>\n",
       "      <td>1.075285</td>\n",
       "    </tr>\n",
       "    <tr>\n",
       "      <th>2021-05-14</th>\n",
       "      <td>GM366_IBVSPV366</td>\n",
       "      <td>2021</td>\n",
       "      <td>5</td>\n",
       "      <td>1.080581</td>\n",
       "    </tr>\n",
       "    <tr>\n",
       "      <th>2021-05-17</th>\n",
       "      <td>GM366_IBVSPV366</td>\n",
       "      <td>2021</td>\n",
       "      <td>5</td>\n",
       "      <td>1.093305</td>\n",
       "    </tr>\n",
       "  </tbody>\n",
       "</table>\n",
       "</div>"
      ],
      "text/plain": [
       "                       CODE  YEAR  MONTH     VALUE\n",
       "DATE                                              \n",
       "2021-05-13  GM366_IBVSPV366  2021      5  1.075285\n",
       "2021-05-14  GM366_IBVSPV366  2021      5  1.080581\n",
       "2021-05-17  GM366_IBVSPV366  2021      5  1.093305"
      ]
     },
     "metadata": {},
     "output_type": "display_data"
    }
   ],
   "source": [
    "# Concatena os diversos pedaços\n",
    "xx1 = pd.concat([df_pt1[i] for i in range(4)])\n",
    "ncol = xx1.shape[1]\n",
    "ncol\n",
    "xx1['VALUE'] = xx1.iloc[:,ncol - 1].fillna(0) # + xx1.iloc[:,ncol - 2].fillna(0) \n",
    "#display(xx1.head(3))\n",
    "\n",
    "xx2 = pd.concat([df_pt2[i] for i in range(5)]) \n",
    "ncol = xx2.shape[1]\n",
    "ncol\n",
    "xx2['VALUE'] = xx2.iloc[:,ncol - 2].fillna(0) + xx2.iloc[:,ncol - 1].fillna(0)\n",
    "#display(xx2.head(3))\n",
    "\n",
    "xx3 = pd.concat([df_pt3[i] for i in range(5)]) \n",
    "ncol = xx3.shape[1]\n",
    "ncol\n",
    "xx3['VALUE'] = xx3.iloc[:,ncol - 3].fillna(0) + xx3.iloc[:,ncol - 2].fillna(0) + xx3.iloc[:,ncol - 1].fillna(0)\n",
    "#display(xx3.head(3))\n",
    "\n",
    "xx4 = pd.concat([df_pt4[i] for i in range(4)]) \n",
    "ncol = xx4.shape[1]\n",
    "ncol\n",
    "xx4['VALUE'] = xx4.iloc[:,ncol - 2].fillna(0) + xx4.iloc[:,ncol - 1].fillna(0)\n",
    "#display(xx4.head(3))\n",
    "\n",
    "# Seleciona apenas as colunas que interessam\n",
    "xx1 = xx1[['CODE','YEAR', 'MONTH', 'VALUE']]\n",
    "xx2 = xx2[['CODE','YEAR', 'MONTH', 'VALUE']]\n",
    "xx3 = xx3[['CODE','YEAR', 'MONTH', 'VALUE']]\n",
    "xx4 = xx4[['CODE','YEAR', 'MONTH', 'VALUE']]\n",
    "\n",
    "xx_all = pd.concat([xx1, xx2, xx3, xx4])\n",
    "print(xx_all.shape)\n",
    "display(xx_all.head(3))\n",
    "display(xx_all.tail(3))\n"
   ]
  },
  {
   "cell_type": "code",
   "execution_count": 18,
   "metadata": {},
   "outputs": [
    {
     "data": {
      "text/html": [
       "<div>\n",
       "<style scoped>\n",
       "    .dataframe tbody tr th:only-of-type {\n",
       "        vertical-align: middle;\n",
       "    }\n",
       "\n",
       "    .dataframe tbody tr th {\n",
       "        vertical-align: top;\n",
       "    }\n",
       "\n",
       "    .dataframe thead th {\n",
       "        text-align: right;\n",
       "    }\n",
       "</style>\n",
       "<table border=\"1\" class=\"dataframe\">\n",
       "  <thead>\n",
       "    <tr style=\"text-align: right;\">\n",
       "      <th></th>\n",
       "      <th>CODE</th>\n",
       "      <th>YEAR</th>\n",
       "      <th>MONTH</th>\n",
       "      <th>VALUE</th>\n",
       "    </tr>\n",
       "    <tr>\n",
       "      <th>DATE</th>\n",
       "      <th></th>\n",
       "      <th></th>\n",
       "      <th></th>\n",
       "      <th></th>\n",
       "    </tr>\n",
       "  </thead>\n",
       "  <tbody>\n",
       "    <tr>\n",
       "      <th>2017-01-01</th>\n",
       "      <td>ANBIMA366_TJTLN1366</td>\n",
       "      <td>2017</td>\n",
       "      <td>1</td>\n",
       "      <td>13.302900</td>\n",
       "    </tr>\n",
       "    <tr>\n",
       "      <th>2017-01-02</th>\n",
       "      <td>ANBIMA366_TJTLN1366</td>\n",
       "      <td>2017</td>\n",
       "      <td>1</td>\n",
       "      <td>13.223300</td>\n",
       "    </tr>\n",
       "    <tr>\n",
       "      <th>2017-01-03</th>\n",
       "      <td>ANBIMA366_TJTLN1366</td>\n",
       "      <td>2017</td>\n",
       "      <td>1</td>\n",
       "      <td>13.048000</td>\n",
       "    </tr>\n",
       "    <tr>\n",
       "      <th>2017-01-04</th>\n",
       "      <td>ANBIMA366_TJTLN1366</td>\n",
       "      <td>2017</td>\n",
       "      <td>1</td>\n",
       "      <td>12.950200</td>\n",
       "    </tr>\n",
       "    <tr>\n",
       "      <th>2017-01-05</th>\n",
       "      <td>ANBIMA366_TJTLN1366</td>\n",
       "      <td>2017</td>\n",
       "      <td>1</td>\n",
       "      <td>13.122100</td>\n",
       "    </tr>\n",
       "    <tr>\n",
       "      <th>...</th>\n",
       "      <td>...</td>\n",
       "      <td>...</td>\n",
       "      <td>...</td>\n",
       "      <td>...</td>\n",
       "    </tr>\n",
       "    <tr>\n",
       "      <th>2021-05-11</th>\n",
       "      <td>GM366_IBVSPV366</td>\n",
       "      <td>2021</td>\n",
       "      <td>5</td>\n",
       "      <td>0.879989</td>\n",
       "    </tr>\n",
       "    <tr>\n",
       "      <th>2021-05-12</th>\n",
       "      <td>GM366_IBVSPV366</td>\n",
       "      <td>2021</td>\n",
       "      <td>5</td>\n",
       "      <td>1.064021</td>\n",
       "    </tr>\n",
       "    <tr>\n",
       "      <th>2021-05-13</th>\n",
       "      <td>GM366_IBVSPV366</td>\n",
       "      <td>2021</td>\n",
       "      <td>5</td>\n",
       "      <td>1.075285</td>\n",
       "    </tr>\n",
       "    <tr>\n",
       "      <th>2021-05-14</th>\n",
       "      <td>GM366_IBVSPV366</td>\n",
       "      <td>2021</td>\n",
       "      <td>5</td>\n",
       "      <td>1.080581</td>\n",
       "    </tr>\n",
       "    <tr>\n",
       "      <th>2021-05-17</th>\n",
       "      <td>GM366_IBVSPV366</td>\n",
       "      <td>2021</td>\n",
       "      <td>5</td>\n",
       "      <td>1.093305</td>\n",
       "    </tr>\n",
       "  </tbody>\n",
       "</table>\n",
       "<p>21849 rows × 4 columns</p>\n",
       "</div>"
      ],
      "text/plain": [
       "                           CODE  YEAR  MONTH      VALUE\n",
       "DATE                                                   \n",
       "2017-01-01  ANBIMA366_TJTLN1366  2017      1  13.302900\n",
       "2017-01-02  ANBIMA366_TJTLN1366  2017      1  13.223300\n",
       "2017-01-03  ANBIMA366_TJTLN1366  2017      1  13.048000\n",
       "2017-01-04  ANBIMA366_TJTLN1366  2017      1  12.950200\n",
       "2017-01-05  ANBIMA366_TJTLN1366  2017      1  13.122100\n",
       "...                         ...   ...    ...        ...\n",
       "2021-05-11      GM366_IBVSPV366  2021      5   0.879989\n",
       "2021-05-12      GM366_IBVSPV366  2021      5   1.064021\n",
       "2021-05-13      GM366_IBVSPV366  2021      5   1.075285\n",
       "2021-05-14      GM366_IBVSPV366  2021      5   1.080581\n",
       "2021-05-17      GM366_IBVSPV366  2021      5   1.093305\n",
       "\n",
       "[21849 rows x 4 columns]"
      ]
     },
     "execution_count": 18,
     "metadata": {},
     "output_type": "execute_result"
    }
   ],
   "source": [
    "xx_all"
   ]
  },
  {
   "cell_type": "code",
   "execution_count": 20,
   "metadata": {},
   "outputs": [
    {
     "data": {
      "text/plain": [
       "(1599, 54)"
      ]
     },
     "execution_count": 20,
     "metadata": {},
     "output_type": "execute_result"
    }
   ],
   "source": [
    "df_eco2 = xx_all.pivot_table(index = ['DATE'], columns = 'CODE', values = ['YEAR', 'MONTH', 'VALUE'])\n",
    "df_eco2.shape"
   ]
  },
  {
   "cell_type": "code",
   "execution_count": 22,
   "metadata": {},
   "outputs": [
    {
     "name": "stdout",
     "output_type": "stream",
     "text": [
      "<class 'pandas.core.frame.DataFrame'>\n",
      "DatetimeIndex: 1599 entries, 2017-01-01 to 2021-05-18\n",
      "Data columns (total 54 columns):\n",
      " #   Column                      Non-Null Count  Dtype  \n",
      "---  ------                      --------------  -----  \n",
      " 0   MONTH_ANBIMA366_TJTLN12366  1350 non-null   float64\n",
      " 1   MONTH_ANBIMA366_TJTLN1366   1349 non-null   float64\n",
      " 2   MONTH_ANBIMA366_TJTLN3366   1350 non-null   float64\n",
      " 3   MONTH_ANBIMA366_TJTLN6366   1350 non-null   float64\n",
      " 4   MONTH_BMF366_FUT1DOL366     1329 non-null   float64\n",
      " 5   MONTH_BMF366_FUT3DOL366     1054 non-null   float64\n",
      " 6   MONTH_BMF366_FUT3DOLV366    799 non-null    float64\n",
      " 7   MONTH_EIA366_PBRENT366      1356 non-null   float64\n",
      " 8   MONTH_EIA366_PWTI366        1347 non-null   float64\n",
      " 9   MONTH_GM366_DOW366          1087 non-null   float64\n",
      " 10  MONTH_GM366_ERTUR366        1344 non-null   float64\n",
      " 11  MONTH_GM366_ERV366          1096 non-null   float64\n",
      " 12  MONTH_GM366_ERVV366         1096 non-null   float64\n",
      " 13  MONTH_GM366_EUROV366        1093 non-null   float64\n",
      " 14  MONTH_GM366_IBVSP366        1076 non-null   float64\n",
      " 15  MONTH_GM366_IBVSPV366       1091 non-null   float64\n",
      " 16  MONTH_SGS366_NASDAQ366      1084 non-null   float64\n",
      " 17  MONTH_VALOR366_FEDFUND366   1598 non-null   float64\n",
      " 18  VALUE_ANBIMA366_TJTLN12366  1350 non-null   float64\n",
      " 19  VALUE_ANBIMA366_TJTLN1366   1349 non-null   float64\n",
      " 20  VALUE_ANBIMA366_TJTLN3366   1350 non-null   float64\n",
      " 21  VALUE_ANBIMA366_TJTLN6366   1350 non-null   float64\n",
      " 22  VALUE_BMF366_FUT1DOL366     1329 non-null   float64\n",
      " 23  VALUE_BMF366_FUT3DOL366     1054 non-null   float64\n",
      " 24  VALUE_BMF366_FUT3DOLV366    799 non-null    float64\n",
      " 25  VALUE_EIA366_PBRENT366      1356 non-null   float64\n",
      " 26  VALUE_EIA366_PWTI366        1347 non-null   float64\n",
      " 27  VALUE_GM366_DOW366          1087 non-null   float64\n",
      " 28  VALUE_GM366_ERTUR366        1344 non-null   float64\n",
      " 29  VALUE_GM366_ERV366          1096 non-null   float64\n",
      " 30  VALUE_GM366_ERVV366         1096 non-null   float64\n",
      " 31  VALUE_GM366_EUROV366        1093 non-null   float64\n",
      " 32  VALUE_GM366_IBVSP366        1076 non-null   float64\n",
      " 33  VALUE_GM366_IBVSPV366       1091 non-null   float64\n",
      " 34  VALUE_SGS366_NASDAQ366      1084 non-null   float64\n",
      " 35  VALUE_VALOR366_FEDFUND366   1598 non-null   float64\n",
      " 36  YEAR_ANBIMA366_TJTLN12366   1350 non-null   float64\n",
      " 37  YEAR_ANBIMA366_TJTLN1366    1349 non-null   float64\n",
      " 38  YEAR_ANBIMA366_TJTLN3366    1350 non-null   float64\n",
      " 39  YEAR_ANBIMA366_TJTLN6366    1350 non-null   float64\n",
      " 40  YEAR_BMF366_FUT1DOL366      1329 non-null   float64\n",
      " 41  YEAR_BMF366_FUT3DOL366      1054 non-null   float64\n",
      " 42  YEAR_BMF366_FUT3DOLV366     799 non-null    float64\n",
      " 43  YEAR_EIA366_PBRENT366       1356 non-null   float64\n",
      " 44  YEAR_EIA366_PWTI366         1347 non-null   float64\n",
      " 45  YEAR_GM366_DOW366           1087 non-null   float64\n",
      " 46  YEAR_GM366_ERTUR366         1344 non-null   float64\n",
      " 47  YEAR_GM366_ERV366           1096 non-null   float64\n",
      " 48  YEAR_GM366_ERVV366          1096 non-null   float64\n",
      " 49  YEAR_GM366_EUROV366         1093 non-null   float64\n",
      " 50  YEAR_GM366_IBVSP366         1076 non-null   float64\n",
      " 51  YEAR_GM366_IBVSPV366        1091 non-null   float64\n",
      " 52  YEAR_SGS366_NASDAQ366       1084 non-null   float64\n",
      " 53  YEAR_VALOR366_FEDFUND366    1598 non-null   float64\n",
      "dtypes: float64(54)\n",
      "memory usage: 687.1 KB\n"
     ]
    }
   ],
   "source": [
    "# Transformando estes nomes de colunas que são tuplas em única coluna\n",
    "df_eco2.columns = ['{}_{}'.format(x[0], x[1]) for x in df_eco2.columns]\n",
    "df_eco2.info()"
   ]
  },
  {
   "cell_type": "code",
   "execution_count": 27,
   "metadata": {},
   "outputs": [],
   "source": [
    "pd.set_option('display.max_row', None)\n",
    "df_eco2.iloc[:, 30:35].tail(150)\n",
    "pd.set_option('display.max_row', 20)"
   ]
  },
  {
   "cell_type": "code",
   "execution_count": 28,
   "metadata": {},
   "outputs": [],
   "source": [
    "df_eco2['MONTH'] = df_eco2.index.month.astype('int')\n",
    "df_eco2['YEAR'] = df_eco2.index.year.astype('int')"
   ]
  },
  {
   "cell_type": "code",
   "execution_count": 29,
   "metadata": {},
   "outputs": [
    {
     "name": "stdout",
     "output_type": "stream",
     "text": [
      "<class 'pandas.core.frame.DataFrame'>\n",
      "DatetimeIndex: 1599 entries, 2017-01-01 to 2021-05-18\n",
      "Data columns (total 56 columns):\n",
      " #   Column                      Non-Null Count  Dtype  \n",
      "---  ------                      --------------  -----  \n",
      " 0   MONTH_ANBIMA366_TJTLN12366  1350 non-null   float64\n",
      " 1   MONTH_ANBIMA366_TJTLN1366   1349 non-null   float64\n",
      " 2   MONTH_ANBIMA366_TJTLN3366   1350 non-null   float64\n",
      " 3   MONTH_ANBIMA366_TJTLN6366   1350 non-null   float64\n",
      " 4   MONTH_BMF366_FUT1DOL366     1329 non-null   float64\n",
      " 5   MONTH_BMF366_FUT3DOL366     1054 non-null   float64\n",
      " 6   MONTH_BMF366_FUT3DOLV366    799 non-null    float64\n",
      " 7   MONTH_EIA366_PBRENT366      1356 non-null   float64\n",
      " 8   MONTH_EIA366_PWTI366        1347 non-null   float64\n",
      " 9   MONTH_GM366_DOW366          1087 non-null   float64\n",
      " 10  MONTH_GM366_ERTUR366        1344 non-null   float64\n",
      " 11  MONTH_GM366_ERV366          1096 non-null   float64\n",
      " 12  MONTH_GM366_ERVV366         1096 non-null   float64\n",
      " 13  MONTH_GM366_EUROV366        1093 non-null   float64\n",
      " 14  MONTH_GM366_IBVSP366        1076 non-null   float64\n",
      " 15  MONTH_GM366_IBVSPV366       1091 non-null   float64\n",
      " 16  MONTH_SGS366_NASDAQ366      1084 non-null   float64\n",
      " 17  MONTH_VALOR366_FEDFUND366   1598 non-null   float64\n",
      " 18  VALUE_ANBIMA366_TJTLN12366  1350 non-null   float64\n",
      " 19  VALUE_ANBIMA366_TJTLN1366   1349 non-null   float64\n",
      " 20  VALUE_ANBIMA366_TJTLN3366   1350 non-null   float64\n",
      " 21  VALUE_ANBIMA366_TJTLN6366   1350 non-null   float64\n",
      " 22  VALUE_BMF366_FUT1DOL366     1329 non-null   float64\n",
      " 23  VALUE_BMF366_FUT3DOL366     1054 non-null   float64\n",
      " 24  VALUE_BMF366_FUT3DOLV366    799 non-null    float64\n",
      " 25  VALUE_EIA366_PBRENT366      1356 non-null   float64\n",
      " 26  VALUE_EIA366_PWTI366        1347 non-null   float64\n",
      " 27  VALUE_GM366_DOW366          1087 non-null   float64\n",
      " 28  VALUE_GM366_ERTUR366        1344 non-null   float64\n",
      " 29  VALUE_GM366_ERV366          1096 non-null   float64\n",
      " 30  VALUE_GM366_ERVV366         1096 non-null   float64\n",
      " 31  VALUE_GM366_EUROV366        1093 non-null   float64\n",
      " 32  VALUE_GM366_IBVSP366        1076 non-null   float64\n",
      " 33  VALUE_GM366_IBVSPV366       1091 non-null   float64\n",
      " 34  VALUE_SGS366_NASDAQ366      1084 non-null   float64\n",
      " 35  VALUE_VALOR366_FEDFUND366   1598 non-null   float64\n",
      " 36  YEAR_ANBIMA366_TJTLN12366   1350 non-null   float64\n",
      " 37  YEAR_ANBIMA366_TJTLN1366    1349 non-null   float64\n",
      " 38  YEAR_ANBIMA366_TJTLN3366    1350 non-null   float64\n",
      " 39  YEAR_ANBIMA366_TJTLN6366    1350 non-null   float64\n",
      " 40  YEAR_BMF366_FUT1DOL366      1329 non-null   float64\n",
      " 41  YEAR_BMF366_FUT3DOL366      1054 non-null   float64\n",
      " 42  YEAR_BMF366_FUT3DOLV366     799 non-null    float64\n",
      " 43  YEAR_EIA366_PBRENT366       1356 non-null   float64\n",
      " 44  YEAR_EIA366_PWTI366         1347 non-null   float64\n",
      " 45  YEAR_GM366_DOW366           1087 non-null   float64\n",
      " 46  YEAR_GM366_ERTUR366         1344 non-null   float64\n",
      " 47  YEAR_GM366_ERV366           1096 non-null   float64\n",
      " 48  YEAR_GM366_ERVV366          1096 non-null   float64\n",
      " 49  YEAR_GM366_EUROV366         1093 non-null   float64\n",
      " 50  YEAR_GM366_IBVSP366         1076 non-null   float64\n",
      " 51  YEAR_GM366_IBVSPV366        1091 non-null   float64\n",
      " 52  YEAR_SGS366_NASDAQ366       1084 non-null   float64\n",
      " 53  YEAR_VALOR366_FEDFUND366    1598 non-null   float64\n",
      " 54  MONTH                       1599 non-null   int64  \n",
      " 55  YEAR                        1599 non-null   int64  \n",
      "dtypes: float64(54), int64(2)\n",
      "memory usage: 712.1 KB\n"
     ]
    }
   ],
   "source": [
    "df_eco2.info()"
   ]
  },
  {
   "cell_type": "code",
   "execution_count": 35,
   "metadata": {},
   "outputs": [],
   "source": [
    "# Exclui colunas de mês e ano referentes a cada variável, criadas pela pivot_table\n",
    "cols_to_keep = ['YEAR', 'MONTH', 'VALUE_ANBIMA366_TJTLN12366', 'VALUE_ANBIMA366_TJTLN1366',\n",
    "       'VALUE_ANBIMA366_TJTLN3366', 'VALUE_ANBIMA366_TJTLN6366',\n",
    "       'VALUE_BMF366_FUT1DOL366', 'VALUE_BMF366_FUT3DOL366',\n",
    "       'VALUE_BMF366_FUT3DOLV366', 'VALUE_EIA366_PBRENT366',\n",
    "       'VALUE_EIA366_PWTI366', 'VALUE_GM366_DOW366', 'VALUE_GM366_ERTUR366',\n",
    "       'VALUE_GM366_ERV366', 'VALUE_GM366_ERVV366', 'VALUE_GM366_EUROV366',\n",
    "       'VALUE_GM366_IBVSP366', 'VALUE_GM366_IBVSPV366',\n",
    "       'VALUE_SGS366_NASDAQ366', 'VALUE_VALOR366_FEDFUND366']"
   ]
  },
  {
   "cell_type": "code",
   "execution_count": 39,
   "metadata": {},
   "outputs": [
    {
     "name": "stdout",
     "output_type": "stream",
     "text": [
      "<class 'pandas.core.frame.DataFrame'>\n",
      "DatetimeIndex: 1599 entries, 2017-01-01 to 2021-05-18\n",
      "Data columns (total 20 columns):\n",
      " #   Column                Non-Null Count  Dtype  \n",
      "---  ------                --------------  -----  \n",
      " 0   YEAR                  1599 non-null   int64  \n",
      " 1   MONTH                 1599 non-null   int64  \n",
      " 2   ANBIMA366_TJTLN12366  1350 non-null   float64\n",
      " 3   ANBIMA366_TJTLN1366   1349 non-null   float64\n",
      " 4   ANBIMA366_TJTLN3366   1350 non-null   float64\n",
      " 5   ANBIMA366_TJTLN6366   1350 non-null   float64\n",
      " 6   BMF366_FUT1DOL366     1329 non-null   float64\n",
      " 7   BMF366_FUT3DOL366     1054 non-null   float64\n",
      " 8   BMF366_FUT3DOLV366    799 non-null    float64\n",
      " 9   EIA366_PBRENT366      1356 non-null   float64\n",
      " 10  EIA366_PWTI366        1347 non-null   float64\n",
      " 11  GM366_DOW366          1087 non-null   float64\n",
      " 12  GM366_ERTUR366        1344 non-null   float64\n",
      " 13  GM366_ERV366          1096 non-null   float64\n",
      " 14  GM366_ERVV366         1096 non-null   float64\n",
      " 15  GM366_EUROV366        1093 non-null   float64\n",
      " 16  GM366_IBVSP366        1076 non-null   float64\n",
      " 17  GM366_IBVSPV366       1091 non-null   float64\n",
      " 18  SGS366_NASDAQ366      1084 non-null   float64\n",
      " 19  VALOR366_FEDFUND366   1598 non-null   float64\n",
      "dtypes: float64(18), int64(2)\n",
      "memory usage: 262.3 KB\n"
     ]
    }
   ],
   "source": [
    "# Cria nova dataframe só com as colunas que interessa renomeadas\n",
    "df_eco = df_eco2[cols_to_keep]\n",
    "df_eco.columns = df_eco.columns.str.replace('VALUE_', '')\n",
    "df_eco.info()"
   ]
  },
  {
   "cell_type": "code",
   "execution_count": 41,
   "metadata": {},
   "outputs": [
    {
     "data": {
      "text/html": [
       "<div>\n",
       "<style scoped>\n",
       "    .dataframe tbody tr th:only-of-type {\n",
       "        vertical-align: middle;\n",
       "    }\n",
       "\n",
       "    .dataframe tbody tr th {\n",
       "        vertical-align: top;\n",
       "    }\n",
       "\n",
       "    .dataframe thead th {\n",
       "        text-align: right;\n",
       "    }\n",
       "</style>\n",
       "<table border=\"1\" class=\"dataframe\">\n",
       "  <thead>\n",
       "    <tr style=\"text-align: right;\">\n",
       "      <th></th>\n",
       "      <th>YEAR</th>\n",
       "      <th>MONTH</th>\n",
       "      <th>ANBIMA366_TJTLN12366</th>\n",
       "      <th>ANBIMA366_TJTLN1366</th>\n",
       "      <th>ANBIMA366_TJTLN3366</th>\n",
       "      <th>ANBIMA366_TJTLN6366</th>\n",
       "      <th>BMF366_FUT1DOL366</th>\n",
       "      <th>BMF366_FUT3DOL366</th>\n",
       "      <th>BMF366_FUT3DOLV366</th>\n",
       "      <th>EIA366_PBRENT366</th>\n",
       "      <th>EIA366_PWTI366</th>\n",
       "      <th>GM366_DOW366</th>\n",
       "      <th>GM366_ERTUR366</th>\n",
       "      <th>GM366_ERV366</th>\n",
       "      <th>GM366_ERVV366</th>\n",
       "      <th>GM366_EUROV366</th>\n",
       "      <th>GM366_IBVSP366</th>\n",
       "      <th>GM366_IBVSPV366</th>\n",
       "      <th>SGS366_NASDAQ366</th>\n",
       "      <th>VALOR366_FEDFUND366</th>\n",
       "    </tr>\n",
       "    <tr>\n",
       "      <th>Date</th>\n",
       "      <th></th>\n",
       "      <th></th>\n",
       "      <th></th>\n",
       "      <th></th>\n",
       "      <th></th>\n",
       "      <th></th>\n",
       "      <th></th>\n",
       "      <th></th>\n",
       "      <th></th>\n",
       "      <th></th>\n",
       "      <th></th>\n",
       "      <th></th>\n",
       "      <th></th>\n",
       "      <th></th>\n",
       "      <th></th>\n",
       "      <th></th>\n",
       "      <th></th>\n",
       "      <th></th>\n",
       "      <th></th>\n",
       "      <th></th>\n",
       "    </tr>\n",
       "  </thead>\n",
       "  <tbody>\n",
       "    <tr>\n",
       "      <th>2017-01-01</th>\n",
       "      <td>2017</td>\n",
       "      <td>1</td>\n",
       "      <td>11.5018</td>\n",
       "      <td>13.3029</td>\n",
       "      <td>12.9943</td>\n",
       "      <td>12.3876</td>\n",
       "      <td>3.260000</td>\n",
       "      <td>3.306</td>\n",
       "      <td>0.943711</td>\n",
       "      <td>54.95</td>\n",
       "      <td>53.80</td>\n",
       "      <td>NaN</td>\n",
       "      <td>0.00</td>\n",
       "      <td>NaN</td>\n",
       "      <td>NaN</td>\n",
       "      <td>NaN</td>\n",
       "      <td>NaN</td>\n",
       "      <td>NaN</td>\n",
       "      <td>NaN</td>\n",
       "      <td>0.625</td>\n",
       "    </tr>\n",
       "    <tr>\n",
       "      <th>2017-01-02</th>\n",
       "      <td>2017</td>\n",
       "      <td>1</td>\n",
       "      <td>11.5016</td>\n",
       "      <td>13.2233</td>\n",
       "      <td>12.9560</td>\n",
       "      <td>12.3768</td>\n",
       "      <td>3.302217</td>\n",
       "      <td>3.344</td>\n",
       "      <td>0.937533</td>\n",
       "      <td>54.96</td>\n",
       "      <td>53.75</td>\n",
       "      <td>NaN</td>\n",
       "      <td>3.38</td>\n",
       "      <td>3.2729</td>\n",
       "      <td>0.800922</td>\n",
       "      <td>3.4280</td>\n",
       "      <td>59588.0</td>\n",
       "      <td>1.241832</td>\n",
       "      <td>NaN</td>\n",
       "      <td>0.625</td>\n",
       "    </tr>\n",
       "    <tr>\n",
       "      <th>2017-01-03</th>\n",
       "      <td>2017</td>\n",
       "      <td>1</td>\n",
       "      <td>11.3985</td>\n",
       "      <td>13.0480</td>\n",
       "      <td>12.8894</td>\n",
       "      <td>12.3164</td>\n",
       "      <td>3.289000</td>\n",
       "      <td>0.000</td>\n",
       "      <td>NaN</td>\n",
       "      <td>55.05</td>\n",
       "      <td>52.36</td>\n",
       "      <td>19882.0</td>\n",
       "      <td>3.39</td>\n",
       "      <td>3.2632</td>\n",
       "      <td>0.800449</td>\n",
       "      <td>3.3908</td>\n",
       "      <td>61813.0</td>\n",
       "      <td>1.452047</td>\n",
       "      <td>5429.0</td>\n",
       "      <td>0.625</td>\n",
       "    </tr>\n",
       "  </tbody>\n",
       "</table>\n",
       "</div>"
      ],
      "text/plain": [
       "            YEAR  MONTH  ANBIMA366_TJTLN12366  ANBIMA366_TJTLN1366  \\\n",
       "Date                                                                 \n",
       "2017-01-01  2017      1               11.5018              13.3029   \n",
       "2017-01-02  2017      1               11.5016              13.2233   \n",
       "2017-01-03  2017      1               11.3985              13.0480   \n",
       "\n",
       "            ANBIMA366_TJTLN3366  ANBIMA366_TJTLN6366  BMF366_FUT1DOL366  \\\n",
       "Date                                                                      \n",
       "2017-01-01              12.9943              12.3876           3.260000   \n",
       "2017-01-02              12.9560              12.3768           3.302217   \n",
       "2017-01-03              12.8894              12.3164           3.289000   \n",
       "\n",
       "            BMF366_FUT3DOL366  BMF366_FUT3DOLV366  EIA366_PBRENT366  \\\n",
       "Date                                                                  \n",
       "2017-01-01              3.306            0.943711             54.95   \n",
       "2017-01-02              3.344            0.937533             54.96   \n",
       "2017-01-03              0.000                 NaN             55.05   \n",
       "\n",
       "            EIA366_PWTI366  GM366_DOW366  GM366_ERTUR366  GM366_ERV366  \\\n",
       "Date                                                                     \n",
       "2017-01-01           53.80           NaN            0.00           NaN   \n",
       "2017-01-02           53.75           NaN            3.38        3.2729   \n",
       "2017-01-03           52.36       19882.0            3.39        3.2632   \n",
       "\n",
       "            GM366_ERVV366  GM366_EUROV366  GM366_IBVSP366  GM366_IBVSPV366  \\\n",
       "Date                                                                         \n",
       "2017-01-01            NaN             NaN             NaN              NaN   \n",
       "2017-01-02       0.800922          3.4280         59588.0         1.241832   \n",
       "2017-01-03       0.800449          3.3908         61813.0         1.452047   \n",
       "\n",
       "            SGS366_NASDAQ366  VALOR366_FEDFUND366  \n",
       "Date                                               \n",
       "2017-01-01               NaN                0.625  \n",
       "2017-01-02               NaN                0.625  \n",
       "2017-01-03            5429.0                0.625  "
      ]
     },
     "execution_count": 41,
     "metadata": {},
     "output_type": "execute_result"
    }
   ],
   "source": [
    "## Renomeando o índice de df_eco (dados do Ipeadata) - CUIDADO - substitui o Dataframe original!\n",
    "df_eco.rename_axis(index={'DATE': 'Date'}, inplace = True)\n",
    "df_eco.head(3)"
   ]
  },
  {
   "cell_type": "code",
   "execution_count": 42,
   "metadata": {},
   "outputs": [
    {
     "data": {
      "text/html": [
       "<div>\n",
       "<style scoped>\n",
       "    .dataframe tbody tr th:only-of-type {\n",
       "        vertical-align: middle;\n",
       "    }\n",
       "\n",
       "    .dataframe tbody tr th {\n",
       "        vertical-align: top;\n",
       "    }\n",
       "\n",
       "    .dataframe thead th {\n",
       "        text-align: right;\n",
       "    }\n",
       "</style>\n",
       "<table border=\"1\" class=\"dataframe\">\n",
       "  <thead>\n",
       "    <tr style=\"text-align: right;\">\n",
       "      <th></th>\n",
       "      <th>YEAR</th>\n",
       "      <th>MONTH</th>\n",
       "      <th>ANBIMA366_TJTLN12366</th>\n",
       "      <th>ANBIMA366_TJTLN1366</th>\n",
       "      <th>ANBIMA366_TJTLN3366</th>\n",
       "      <th>ANBIMA366_TJTLN6366</th>\n",
       "      <th>BMF366_FUT1DOL366</th>\n",
       "      <th>BMF366_FUT3DOL366</th>\n",
       "      <th>BMF366_FUT3DOLV366</th>\n",
       "      <th>EIA366_PBRENT366</th>\n",
       "      <th>EIA366_PWTI366</th>\n",
       "      <th>GM366_DOW366</th>\n",
       "      <th>GM366_ERTUR366</th>\n",
       "      <th>GM366_ERV366</th>\n",
       "      <th>GM366_ERVV366</th>\n",
       "      <th>GM366_EUROV366</th>\n",
       "      <th>GM366_IBVSP366</th>\n",
       "      <th>GM366_IBVSPV366</th>\n",
       "      <th>SGS366_NASDAQ366</th>\n",
       "      <th>VALOR366_FEDFUND366</th>\n",
       "    </tr>\n",
       "    <tr>\n",
       "      <th>Date</th>\n",
       "      <th></th>\n",
       "      <th></th>\n",
       "      <th></th>\n",
       "      <th></th>\n",
       "      <th></th>\n",
       "      <th></th>\n",
       "      <th></th>\n",
       "      <th></th>\n",
       "      <th></th>\n",
       "      <th></th>\n",
       "      <th></th>\n",
       "      <th></th>\n",
       "      <th></th>\n",
       "      <th></th>\n",
       "      <th></th>\n",
       "      <th></th>\n",
       "      <th></th>\n",
       "      <th></th>\n",
       "      <th></th>\n",
       "      <th></th>\n",
       "    </tr>\n",
       "  </thead>\n",
       "  <tbody>\n",
       "    <tr>\n",
       "      <th>2021-05-16</th>\n",
       "      <td>2021</td>\n",
       "      <td>5</td>\n",
       "      <td>NaN</td>\n",
       "      <td>NaN</td>\n",
       "      <td>NaN</td>\n",
       "      <td>NaN</td>\n",
       "      <td>NaN</td>\n",
       "      <td>NaN</td>\n",
       "      <td>NaN</td>\n",
       "      <td>NaN</td>\n",
       "      <td>NaN</td>\n",
       "      <td>NaN</td>\n",
       "      <td>NaN</td>\n",
       "      <td>NaN</td>\n",
       "      <td>NaN</td>\n",
       "      <td>NaN</td>\n",
       "      <td>NaN</td>\n",
       "      <td>NaN</td>\n",
       "      <td>NaN</td>\n",
       "      <td>0.125</td>\n",
       "    </tr>\n",
       "    <tr>\n",
       "      <th>2021-05-17</th>\n",
       "      <td>2021</td>\n",
       "      <td>5</td>\n",
       "      <td>5.8536</td>\n",
       "      <td>3.6533</td>\n",
       "      <td>4.016</td>\n",
       "      <td>4.6522</td>\n",
       "      <td>5.283204</td>\n",
       "      <td>NaN</td>\n",
       "      <td>NaN</td>\n",
       "      <td>NaN</td>\n",
       "      <td>NaN</td>\n",
       "      <td>34327.79</td>\n",
       "      <td>5.4645</td>\n",
       "      <td>5.2755</td>\n",
       "      <td>0.705488</td>\n",
       "      <td>6.4134</td>\n",
       "      <td>122938.0</td>\n",
       "      <td>1.093305</td>\n",
       "      <td>13379.05</td>\n",
       "      <td>0.125</td>\n",
       "    </tr>\n",
       "    <tr>\n",
       "      <th>2021-05-18</th>\n",
       "      <td>2021</td>\n",
       "      <td>5</td>\n",
       "      <td>NaN</td>\n",
       "      <td>NaN</td>\n",
       "      <td>NaN</td>\n",
       "      <td>NaN</td>\n",
       "      <td>NaN</td>\n",
       "      <td>NaN</td>\n",
       "      <td>NaN</td>\n",
       "      <td>NaN</td>\n",
       "      <td>NaN</td>\n",
       "      <td>NaN</td>\n",
       "      <td>NaN</td>\n",
       "      <td>5.2588</td>\n",
       "      <td>0.697184</td>\n",
       "      <td>6.4173</td>\n",
       "      <td>NaN</td>\n",
       "      <td>NaN</td>\n",
       "      <td>NaN</td>\n",
       "      <td>NaN</td>\n",
       "    </tr>\n",
       "  </tbody>\n",
       "</table>\n",
       "</div>"
      ],
      "text/plain": [
       "            YEAR  MONTH  ANBIMA366_TJTLN12366  ANBIMA366_TJTLN1366  \\\n",
       "Date                                                                 \n",
       "2021-05-16  2021      5                   NaN                  NaN   \n",
       "2021-05-17  2021      5                5.8536               3.6533   \n",
       "2021-05-18  2021      5                   NaN                  NaN   \n",
       "\n",
       "            ANBIMA366_TJTLN3366  ANBIMA366_TJTLN6366  BMF366_FUT1DOL366  \\\n",
       "Date                                                                      \n",
       "2021-05-16                  NaN                  NaN                NaN   \n",
       "2021-05-17                4.016               4.6522           5.283204   \n",
       "2021-05-18                  NaN                  NaN                NaN   \n",
       "\n",
       "            BMF366_FUT3DOL366  BMF366_FUT3DOLV366  EIA366_PBRENT366  \\\n",
       "Date                                                                  \n",
       "2021-05-16                NaN                 NaN               NaN   \n",
       "2021-05-17                NaN                 NaN               NaN   \n",
       "2021-05-18                NaN                 NaN               NaN   \n",
       "\n",
       "            EIA366_PWTI366  GM366_DOW366  GM366_ERTUR366  GM366_ERV366  \\\n",
       "Date                                                                     \n",
       "2021-05-16             NaN           NaN             NaN           NaN   \n",
       "2021-05-17             NaN      34327.79          5.4645        5.2755   \n",
       "2021-05-18             NaN           NaN             NaN        5.2588   \n",
       "\n",
       "            GM366_ERVV366  GM366_EUROV366  GM366_IBVSP366  GM366_IBVSPV366  \\\n",
       "Date                                                                         \n",
       "2021-05-16            NaN             NaN             NaN              NaN   \n",
       "2021-05-17       0.705488          6.4134        122938.0         1.093305   \n",
       "2021-05-18       0.697184          6.4173             NaN              NaN   \n",
       "\n",
       "            SGS366_NASDAQ366  VALOR366_FEDFUND366  \n",
       "Date                                               \n",
       "2021-05-16               NaN                0.125  \n",
       "2021-05-17          13379.05                0.125  \n",
       "2021-05-18               NaN                  NaN  "
      ]
     },
     "execution_count": 42,
     "metadata": {},
     "output_type": "execute_result"
    }
   ],
   "source": [
    "df_eco.tail(3)"
   ]
  },
  {
   "cell_type": "code",
   "execution_count": 43,
   "metadata": {},
   "outputs": [
    {
     "data": {
      "image/png": "[encoded data removed]",
      "text/plain": [
       "<Figure size 1224x432 with 1 Axes>"
      ]
     },
     "metadata": {},
     "output_type": "display_data"
    }
   ],
   "source": [
    "# Volatilidades do Futuro 3 meses Dólar e Dólar Spot\n",
    "df_eco[['BMF366_FUT3DOLV366', 'GM366_ERVV366']].plot();"
   ]
  },
  {
   "cell_type": "code",
   "execution_count": null,
   "metadata": {
    "id": "-UvPNQ4fZRBh"
   },
   "outputs": [],
   "source": []
  },
  {
   "cell_type": "markdown",
   "metadata": {
    "id": "UIkTdyMwZRBi"
   },
   "source": [
    "## Selecionando séries diárias no Banco Central"
   ]
  },
  {
   "cell_type": "markdown",
   "metadata": {
    "id": "pZvgJmy1ZRBi"
   },
   "source": [
    "- 12461 = IRF-M (ANBIMA Indice Renda Fixa (pré))\n",
    "- 12462 = IMA-S (Selic)\n",
    "- 12463 = IMA-C (IGP-M - será descontinuado em 04/2021)\n",
    "- 12466 = IMA-B (NTN-B, IPCA)\n",
    "- 12467 = IMA-B 5 (NTN-B < 5 anos)\n",
    "- 12468 = IMA-B 5+ \n",
    "- 12469 = IMA-Geral\n",
    "- 17626 = IRF - M1 (pré < 1 ano)\n",
    "- 17627 = IRF - M1+ (pré > 1 ano)\n",
    "- 17628 = IMA Geral ex C\n",
    "Fontes: Abecip e BCB-Depec"
   ]
  },
  {
   "cell_type": "markdown",
   "metadata": {
    "id": "Shh-K7bEZRBi"
   },
   "source": [
    "for i in lista\n",
    "df_bacen = sgs.time_serie(CDI_CODE, start='02/01/2018', end='31/12/2018')"
   ]
  },
  {
   "cell_type": "code",
   "execution_count": 49,
   "metadata": {
    "id": "jMgQ_5v9ZRBi"
   },
   "outputs": [
    {
     "data": {
      "text/plain": [
       "'2021-05-21'"
      ]
     },
     "execution_count": 49,
     "metadata": {},
     "output_type": "execute_result"
    }
   ],
   "source": [
    "from datetime import datetime\n",
    "agora = datetime.now(pytz.timezone('America/Sao_Paulo'))\n",
    "agora = agora.date()\n",
    "agora = str(agora)\n",
    "agora"
   ]
  },
  {
   "cell_type": "code",
   "execution_count": 47,
   "metadata": {
    "id": "6Itd5J_yZRBi"
   },
   "outputs": [],
   "source": [
    "lista_codigos = [12461, 12462, 12463, 12466, 12467, 12468, 12469, 17626, 17627, 17628]"
   ]
  },
  {
   "cell_type": "code",
   "execution_count": 90,
   "metadata": {
    "id": "abzdfPDiZRBi"
   },
   "outputs": [],
   "source": [
    "def importa_bacen(codigo, start_date = '01/01/2017', end_date = '18/05/2021'):\n",
    "    '''usa o módulo sgs para importar dados do Bacen\n",
    "    input é o código da série no Bacen''' \n",
    "    tt1 = datetime.strptime(start_date, '%d/%m/%Y')#'%Y-%m-%d')\n",
    "    tt2 = datetime.strptime(end_date, '%d/%m/%Y')\n",
    "    result = sgs.time_serie(codigo, start= tt1, end= tt2)\n",
    "    return result"
   ]
  },
  {
   "cell_type": "markdown",
   "metadata": {
    "id": "GK43RJxnZRBj"
   },
   "source": [
    "importa_bacen(12462)   ## ---- Não funciona  Error: unsupported locale setting"
   ]
  },
  {
   "cell_type": "code",
   "execution_count": 50,
   "metadata": {
    "id": "ffWdlEzwZRBj"
   },
   "outputs": [],
   "source": [
    "start_date = '2017-01-01'\n",
    "end_date = '2021-05-18'"
   ]
  },
  {
   "cell_type": "code",
   "execution_count": 51,
   "metadata": {
    "id": "1fJmN7T1ZRBj"
   },
   "outputs": [],
   "source": [
    "codigo_bc = 17628"
   ]
  },
  {
   "cell_type": "code",
   "execution_count": 92,
   "metadata": {
    "id": "JWFatCRDZRBj"
   },
   "outputs": [],
   "source": [
    "def consulta_bc2(codigo_bcb, start_date =  '2017-01-02' , end_date =  '2021-02-12'):\n",
    "    #start_date = '2017/01/01', end_date = '2021/05/18'):\n",
    "    #url = 'http://api.bcb.gov.br/dados/serie/bcdata.sgs.{}/dados?formato=json'.format(codigo_bcb)\n",
    "    url = 'http://api.bcb.gov.br/dados/serie/bcdata.sgs.'+str(codigo_bc)+'/dados?formato=json&dataInicial='+\\\n",
    "    str(start_date)+'&dataFinal='+str(end_date)\n",
    "    \n",
    "    df = pd.read_json(url);\n",
    "    df['data'] = pd.to_datetime(df['data'], dayfirst=False) #dayfirst=True;\n",
    "    df.set_index('data', inplace=True);\n",
    "    uu1 = datetime.strptime(start_date, '%Y-%m-%d')\n",
    "    uu2 = datetime.strptime(end_date, '%Y-%m-%d')\n",
    "    #df = df.loc[uu1:uu2]\n",
    "    print(df.head())\n",
    "    return df"
   ]
  },
  {
   "cell_type": "code",
   "execution_count": 66,
   "metadata": {},
   "outputs": [
    {
     "data": {
      "text/plain": [
       "'2021-05-21'"
      ]
     },
     "execution_count": 66,
     "metadata": {},
     "output_type": "execute_result"
    }
   ],
   "source": [
    "agora"
   ]
  },
  {
   "cell_type": "code",
   "execution_count": 79,
   "metadata": {
    "id": "MSkfc2MtZRBk"
   },
   "outputs": [],
   "source": [
    "def consulta_bc3(codigo_bc, start_date =  '2017-01-02' , end_date =  '2021-02-12'): \n",
    "    import requests\n",
    "    #url = 'http://api.bcb.gov.br/dados/serie/bcdata.sgs.{}/dados?formato=json'.format(codigo_bc)\n",
    "    #url = ('http://api.bcb.gov.br/dados/serie/bcdata.sgs.{}/dados?formato=json&dataInicial={}&dataFinal={}')\n",
    "    url = 'http://api.bcb.gov.br/dados/serie/bcdata.sgs.'+str(codigo_bc)+'/dados?formato=json&dataInicial='+\\\n",
    "    str(start_date)+'&dataFinal='+str(end_date)\n",
    "\n",
    "    request_url = url.format(codigo_bc, start_date, end_date)\n",
    "    r = requests.get(request_url);\n",
    "    if r.status_code != 200:\n",
    "        print('Request para API deu erro')  \n",
    "    try:\n",
    "        if r.json() != {}:\n",
    "            print(r)\n",
    "            print('')\n",
    "            print(r.json())\n",
    "            df = pd.DataFrame.from_dict(r.json())\n",
    "            \n",
    "            print(df.info())\n",
    "            df['data'] = pd.to_datetime(df['data'], dayfirst = False, format = '%Y-%m-%d')#format = '%d/%m%Y') #dayfirst = True\n",
    "            df.reset_index(drop=True)\n",
    "            df.set_index('data', inplace = True)\n",
    "            ##index = pd.date_range(start = '2015-01-01', end = '2020-09-01', freq = \"M\") \n",
    "            df.index = pd.to_datetime(df.index)\n",
    "            df = df.loc[start_date : end_date]\n",
    "            \n",
    "        else:\n",
    "            df = pd.DataFrame()\n",
    "            print('')\n",
    "            print(\"Resposta Inválida\")\n",
    "            time.sleep(1)\n",
    "    except ValueError:\n",
    "            print(\"Resposta Inválida\")\n",
    "            time.sleep(1)\n",
    "    \n",
    "    return df #url, r.json, \n",
    "    "
   ]
  },
  {
   "cell_type": "code",
   "execution_count": 93,
   "metadata": {},
   "outputs": [
    {
     "name": "stdout",
     "output_type": "stream",
     "text": [
      "                  valor\n",
      "data                   \n",
      "2005-03-31  1000.000000\n",
      "2005-01-04  1000.669206\n",
      "2005-04-04  1001.317489\n",
      "2005-05-04  1001.884543\n",
      "2005-06-04  1002.749507\n"
     ]
    },
    {
     "data": {
      "text/html": [
       "<div>\n",
       "<style scoped>\n",
       "    .dataframe tbody tr th:only-of-type {\n",
       "        vertical-align: middle;\n",
       "    }\n",
       "\n",
       "    .dataframe tbody tr th {\n",
       "        vertical-align: top;\n",
       "    }\n",
       "\n",
       "    .dataframe thead th {\n",
       "        text-align: right;\n",
       "    }\n",
       "</style>\n",
       "<table border=\"1\" class=\"dataframe\">\n",
       "  <thead>\n",
       "    <tr style=\"text-align: right;\">\n",
       "      <th></th>\n",
       "      <th>valor</th>\n",
       "    </tr>\n",
       "    <tr>\n",
       "      <th>data</th>\n",
       "      <th></th>\n",
       "    </tr>\n",
       "  </thead>\n",
       "  <tbody>\n",
       "    <tr>\n",
       "      <th>2005-03-31</th>\n",
       "      <td>1000.000000</td>\n",
       "    </tr>\n",
       "    <tr>\n",
       "      <th>2005-01-04</th>\n",
       "      <td>1000.669206</td>\n",
       "    </tr>\n",
       "    <tr>\n",
       "      <th>2005-04-04</th>\n",
       "      <td>1001.317489</td>\n",
       "    </tr>\n",
       "    <tr>\n",
       "      <th>2005-05-04</th>\n",
       "      <td>1001.884543</td>\n",
       "    </tr>\n",
       "    <tr>\n",
       "      <th>2005-06-04</th>\n",
       "      <td>1002.749507</td>\n",
       "    </tr>\n",
       "    <tr>\n",
       "      <th>...</th>\n",
       "      <td>...</td>\n",
       "    </tr>\n",
       "    <tr>\n",
       "      <th>2021-04-26</th>\n",
       "      <td>6099.006638</td>\n",
       "    </tr>\n",
       "    <tr>\n",
       "      <th>2021-04-27</th>\n",
       "      <td>6096.690796</td>\n",
       "    </tr>\n",
       "    <tr>\n",
       "      <th>2021-04-28</th>\n",
       "      <td>6101.681099</td>\n",
       "    </tr>\n",
       "    <tr>\n",
       "      <th>2021-04-29</th>\n",
       "      <td>6103.367309</td>\n",
       "    </tr>\n",
       "    <tr>\n",
       "      <th>2021-04-30</th>\n",
       "      <td>6093.677449</td>\n",
       "    </tr>\n",
       "  </tbody>\n",
       "</table>\n",
       "<p>4031 rows × 1 columns</p>\n",
       "</div>"
      ],
      "text/plain": [
       "                  valor\n",
       "data                   \n",
       "2005-03-31  1000.000000\n",
       "2005-01-04  1000.669206\n",
       "2005-04-04  1001.317489\n",
       "2005-05-04  1001.884543\n",
       "2005-06-04  1002.749507\n",
       "...                 ...\n",
       "2021-04-26  6099.006638\n",
       "2021-04-27  6096.690796\n",
       "2021-04-28  6101.681099\n",
       "2021-04-29  6103.367309\n",
       "2021-04-30  6093.677449\n",
       "\n",
       "[4031 rows x 1 columns]"
      ]
     },
     "execution_count": 93,
     "metadata": {},
     "output_type": "execute_result"
    }
   ],
   "source": [
    "consulta_bc2(12461, start_date = '2021-02-01', end_date = '2021-03-31')"
   ]
  },
  {
   "cell_type": "code",
   "execution_count": 97,
   "metadata": {},
   "outputs": [
    {
     "name": "stdout",
     "output_type": "stream",
     "text": [
      "<Response [200]>\n",
      "\n",
      "[{'data': '31/12/2020', 'valor': '14439.402355'}, {'data': '04/01/2021', 'valor': '14443.838080'}, {'data': '05/01/2021', 'valor': '14420.075198'}, {'data': '06/01/2021', 'valor': '14385.406370'}, {'data': '07/01/2021', 'valor': '14329.924830'}, {'data': '08/01/2021', 'valor': '14314.816014'}, {'data': '11/01/2021', 'valor': '14264.253505'}, {'data': '12/01/2021', 'valor': '14293.583059'}, {'data': '13/01/2021', 'valor': '14247.732228'}, {'data': '14/01/2021', 'valor': '14277.884754'}, {'data': '15/01/2021', 'valor': '14274.018302'}, {'data': '18/01/2021', 'valor': '14286.715786'}, {'data': '19/01/2021', 'valor': '14282.833493'}, {'data': '20/01/2021', 'valor': '14283.734268'}, {'data': '21/01/2021', 'valor': '14248.771193'}, {'data': '22/01/2021', 'valor': '14219.937140'}, {'data': '25/01/2021', 'valor': '14222.452711'}, {'data': '26/01/2021', 'valor': '14257.029153'}, {'data': '27/01/2021', 'valor': '14266.147798'}, {'data': '28/01/2021', 'valor': '14292.716684'}, {'data': '29/01/2021', 'valor': '14323.517244'}, {'data': '01/02/2021', 'valor': '14320.131449'}, {'data': '02/02/2021', 'valor': '14341.109545'}, {'data': '03/02/2021', 'valor': '14345.637764'}, {'data': '04/02/2021', 'valor': '14321.625396'}, {'data': '05/02/2021', 'valor': '14314.775540'}, {'data': '08/02/2021', 'valor': '14310.080457'}, {'data': '09/02/2021', 'valor': '14297.057301'}, {'data': '10/02/2021', 'valor': '14312.458976'}, {'data': '11/02/2021', 'valor': '14310.873096'}, {'data': '12/02/2021', 'valor': '14293.309778'}, {'data': '17/02/2021', 'valor': '14270.711950'}, {'data': '18/02/2021', 'valor': '14276.398638'}, {'data': '19/02/2021', 'valor': '14255.775324'}, {'data': '22/02/2021', 'valor': '14214.731524'}, {'data': '23/02/2021', 'valor': '14239.969900'}, {'data': '24/02/2021', 'valor': '14202.262955'}, {'data': '25/02/2021', 'valor': '14169.520463'}, {'data': '26/02/2021', 'valor': '14154.661882'}, {'data': '01/03/2021', 'valor': '14124.842034'}, {'data': '02/03/2021', 'valor': '14102.298373'}, {'data': '03/03/2021', 'valor': '14066.376416'}, {'data': '04/03/2021', 'valor': '14163.123428'}, {'data': '05/03/2021', 'valor': '14213.390883'}, {'data': '08/03/2021', 'valor': '14149.123200'}, {'data': '09/03/2021', 'valor': '14123.972148'}, {'data': '10/03/2021', 'valor': '14118.413717'}, {'data': '11/03/2021', 'valor': '14129.324596'}, {'data': '12/03/2021', 'valor': '14105.116431'}, {'data': '15/03/2021', 'valor': '14105.888323'}, {'data': '16/03/2021', 'valor': '14121.088074'}, {'data': '17/03/2021', 'valor': '14121.549977'}, {'data': '18/03/2021', 'valor': '14115.422868'}, {'data': '19/03/2021', 'valor': '14083.402567'}, {'data': '22/03/2021', 'valor': '14059.309710'}, {'data': '23/03/2021', 'valor': '14025.301853'}, {'data': '24/03/2021', 'valor': '13989.890887'}, {'data': '25/03/2021', 'valor': '14010.746886'}, {'data': '26/03/2021', 'valor': '14009.262514'}, {'data': '29/03/2021', 'valor': '13985.295819'}, {'data': '30/03/2021', 'valor': '14028.215795'}, {'data': '31/03/2021', 'valor': '14035.332799'}, {'data': '01/04/2021', 'valor': '14018.847596'}, {'data': '05/04/2021', 'valor': '14026.050104'}, {'data': '06/04/2021', 'valor': '14010.302623'}, {'data': '07/04/2021', 'valor': '13978.679590'}, {'data': '08/04/2021', 'valor': '14041.047570'}, {'data': '09/04/2021', 'valor': '14007.621937'}, {'data': '12/04/2021', 'valor': '14012.715765'}, {'data': '13/04/2021', 'valor': '13984.515339'}, {'data': '14/04/2021', 'valor': '14012.144812'}, {'data': '15/04/2021', 'valor': '14042.979866'}, {'data': '16/04/2021', 'valor': '14092.010172'}, {'data': '19/04/2021', 'valor': '14117.483133'}, {'data': '20/04/2021', 'valor': '14087.465378'}, {'data': '22/04/2021', 'valor': '14136.559172'}, {'data': '23/04/2021', 'valor': '14157.141847'}, {'data': '26/04/2021', 'valor': '14163.257726'}, {'data': '27/04/2021', 'valor': '14150.745876'}, {'data': '28/04/2021', 'valor': '14161.830531'}, {'data': '29/04/2021', 'valor': '14169.244128'}, {'data': '30/04/2021', 'valor': '14153.351102'}]\n",
      "<class 'pandas.core.frame.DataFrame'>\n",
      "RangeIndex: 82 entries, 0 to 81\n",
      "Data columns (total 2 columns):\n",
      " #   Column  Non-Null Count  Dtype \n",
      "---  ------  --------------  ----- \n",
      " 0   data    82 non-null     object\n",
      " 1   valor   82 non-null     object\n",
      "dtypes: object(2)\n",
      "memory usage: 1.4+ KB\n",
      "None\n",
      "Resposta Inválida\n"
     ]
    },
    {
     "data": {
      "text/html": [
       "<div>\n",
       "<style scoped>\n",
       "    .dataframe tbody tr th:only-of-type {\n",
       "        vertical-align: middle;\n",
       "    }\n",
       "\n",
       "    .dataframe tbody tr th {\n",
       "        vertical-align: top;\n",
       "    }\n",
       "\n",
       "    .dataframe thead th {\n",
       "        text-align: right;\n",
       "    }\n",
       "</style>\n",
       "<table border=\"1\" class=\"dataframe\">\n",
       "  <thead>\n",
       "    <tr style=\"text-align: right;\">\n",
       "      <th></th>\n",
       "      <th>data</th>\n",
       "      <th>valor</th>\n",
       "    </tr>\n",
       "  </thead>\n",
       "  <tbody>\n",
       "    <tr>\n",
       "      <th>0</th>\n",
       "      <td>31/12/2020</td>\n",
       "      <td>14439.402355</td>\n",
       "    </tr>\n",
       "    <tr>\n",
       "      <th>1</th>\n",
       "      <td>04/01/2021</td>\n",
       "      <td>14443.838080</td>\n",
       "    </tr>\n",
       "    <tr>\n",
       "      <th>2</th>\n",
       "      <td>05/01/2021</td>\n",
       "      <td>14420.075198</td>\n",
       "    </tr>\n",
       "    <tr>\n",
       "      <th>3</th>\n",
       "      <td>06/01/2021</td>\n",
       "      <td>14385.406370</td>\n",
       "    </tr>\n",
       "    <tr>\n",
       "      <th>4</th>\n",
       "      <td>07/01/2021</td>\n",
       "      <td>14329.924830</td>\n",
       "    </tr>\n",
       "    <tr>\n",
       "      <th>...</th>\n",
       "      <td>...</td>\n",
       "      <td>...</td>\n",
       "    </tr>\n",
       "    <tr>\n",
       "      <th>77</th>\n",
       "      <td>26/04/2021</td>\n",
       "      <td>14163.257726</td>\n",
       "    </tr>\n",
       "    <tr>\n",
       "      <th>78</th>\n",
       "      <td>27/04/2021</td>\n",
       "      <td>14150.745876</td>\n",
       "    </tr>\n",
       "    <tr>\n",
       "      <th>79</th>\n",
       "      <td>28/04/2021</td>\n",
       "      <td>14161.830531</td>\n",
       "    </tr>\n",
       "    <tr>\n",
       "      <th>80</th>\n",
       "      <td>29/04/2021</td>\n",
       "      <td>14169.244128</td>\n",
       "    </tr>\n",
       "    <tr>\n",
       "      <th>81</th>\n",
       "      <td>30/04/2021</td>\n",
       "      <td>14153.351102</td>\n",
       "    </tr>\n",
       "  </tbody>\n",
       "</table>\n",
       "<p>82 rows × 2 columns</p>\n",
       "</div>"
      ],
      "text/plain": [
       "          data         valor\n",
       "0   31/12/2020  14439.402355\n",
       "1   04/01/2021  14443.838080\n",
       "2   05/01/2021  14420.075198\n",
       "3   06/01/2021  14385.406370\n",
       "4   07/01/2021  14329.924830\n",
       "..         ...           ...\n",
       "77  26/04/2021  14163.257726\n",
       "78  27/04/2021  14150.745876\n",
       "79  28/04/2021  14161.830531\n",
       "80  29/04/2021  14169.244128\n",
       "81  30/04/2021  14153.351102\n",
       "\n",
       "[82 rows x 2 columns]"
      ]
     },
     "execution_count": 97,
     "metadata": {},
     "output_type": "execute_result"
    }
   ],
   "source": [
    "consulta_bc3(12461, start_date = '02/01/2021', end_date = '18/05/2021' )   # '2021-02-01', end_date = '2021-03-31')"
   ]
  },
  {
   "cell_type": "markdown",
   "metadata": {
    "id": "ZuaxnnCyZRBk"
   },
   "source": [
    "### A consulta a seguir funciona às vezes - API do Bacen não é 100% confiável para mim"
   ]
  },
  {
   "cell_type": "code",
   "execution_count": 101,
   "metadata": {
    "id": "AScgnaawZRBk"
   },
   "outputs": [
    {
     "name": "stdout",
     "output_type": "stream",
     "text": [
      "<Response [200]>\n",
      "\n",
      "[{'data': '31/12/2019', 'valor': '13533.391484'}, {'data': '02/01/2020', 'valor': '13545.670599'}, {'data': '03/01/2020', 'valor': '13544.165832'}, {'data': '06/01/2020', 'valor': '13537.095325'}, {'data': '07/01/2020', 'valor': '13547.127241'}, {'data': '08/01/2020', 'valor': '13562.570608'}, {'data': '09/01/2020', 'valor': '13574.876195'}, {'data': '10/01/2020', 'valor': '13574.189949'}, {'data': '13/01/2020', 'valor': '13561.872648'}, {'data': '14/01/2020', 'valor': '13582.405968'}, {'data': '15/01/2020', 'valor': '13604.532109'}, {'data': '16/01/2020', 'valor': '13578.600214'}, {'data': '17/01/2020', 'valor': '13593.334139'}, {'data': '20/01/2020', 'valor': '13593.314007'}, {'data': '21/01/2020', 'valor': '13609.008510'}, {'data': '22/01/2020', 'valor': '13626.027867'}, {'data': '23/01/2020', 'valor': '13622.814730'}, {'data': '24/01/2020', 'valor': '13630.002639'}, {'data': '27/01/2020', 'valor': '13643.161715'}, {'data': '28/01/2020', 'valor': '13652.329996'}, {'data': '29/01/2020', 'valor': '13656.047659'}, {'data': '30/01/2020', 'valor': '13653.071557'}, {'data': '31/01/2020', 'valor': '13652.091251'}, {'data': '03/02/2020', 'valor': '13672.374141'}, {'data': '04/02/2020', 'valor': '13681.370993'}, {'data': '05/02/2020', 'valor': '13698.470860'}, {'data': '06/02/2020', 'valor': '13675.358402'}, {'data': '07/02/2020', 'valor': '13669.380422'}, {'data': '10/02/2020', 'valor': '13685.611399'}, {'data': '11/02/2020', 'valor': '13708.210147'}, {'data': '12/02/2020', 'valor': '13721.381796'}, {'data': '13/02/2020', 'valor': '13712.396899'}, {'data': '14/02/2020', 'valor': '13745.605142'}, {'data': '17/02/2020', 'valor': '13744.317219'}, {'data': '18/02/2020', 'valor': '13743.460176'}, {'data': '19/02/2020', 'valor': '13756.914890'}, {'data': '20/02/2020', 'valor': '13752.096336'}, {'data': '21/02/2020', 'valor': '13741.062429'}, {'data': '26/02/2020', 'valor': '13712.629161'}, {'data': '27/02/2020', 'valor': '13736.519607'}, {'data': '28/02/2020', 'valor': '13740.913517'}, {'data': '02/03/2020', 'valor': '13806.037945'}, {'data': '03/03/2020', 'valor': '13826.962218'}, {'data': '04/03/2020', 'valor': '13841.414876'}, {'data': '05/03/2020', 'valor': '13790.657945'}, {'data': '06/03/2020', 'valor': '13792.341677'}, {'data': '09/03/2020', 'valor': '13713.850461'}, {'data': '10/03/2020', 'valor': '13749.716277'}, {'data': '11/03/2020', 'valor': '13580.373346'}, {'data': '12/03/2020', 'valor': '13278.183490'}, {'data': '13/03/2020', 'valor': '13531.871563'}, {'data': '16/03/2020', 'valor': '13585.945432'}, {'data': '17/03/2020', 'valor': '13697.456872'}, {'data': '18/03/2020', 'valor': '13357.559849'}, {'data': '19/03/2020', 'valor': '13354.292168'}, {'data': '20/03/2020', 'valor': '13328.143323'}, {'data': '23/03/2020', 'valor': '13252.105785'}, {'data': '24/03/2020', 'valor': '13362.486682'}, {'data': '25/03/2020', 'valor': '13556.897854'}, {'data': '26/03/2020', 'valor': '13643.943412'}, {'data': '27/03/2020', 'valor': '13658.500302'}, {'data': '30/03/2020', 'valor': '13705.948500'}, {'data': '31/03/2020', 'valor': '13726.242001'}, {'data': '01/04/2020', 'valor': '13685.934886'}, {'data': '02/04/2020', 'valor': '13698.610264'}, {'data': '03/04/2020', 'valor': '13654.823431'}, {'data': '06/04/2020', 'valor': '13677.102631'}, {'data': '07/04/2020', 'valor': '13708.731346'}, {'data': '08/04/2020', 'valor': '13743.320247'}, {'data': '09/04/2020', 'valor': '13791.923900'}, {'data': '13/04/2020', 'valor': '13817.466635'}, {'data': '14/04/2020', 'valor': '13856.009991'}, {'data': '15/04/2020', 'valor': '13882.364675'}, {'data': '16/04/2020', 'valor': '13920.238571'}, {'data': '17/04/2020', 'valor': '13931.990451'}, {'data': '20/04/2020', 'valor': '13981.766348'}, {'data': '22/04/2020', 'valor': '14015.630155'}, {'data': '23/04/2020', 'valor': '13927.946948'}, {'data': '24/04/2020', 'valor': '13631.864104'}, {'data': '27/04/2020', 'valor': '13628.945585'}, {'data': '28/04/2020', 'valor': '13843.522916'}, {'data': '29/04/2020', 'valor': '13881.092165'}, {'data': '30/04/2020', 'valor': '13883.983861'}, {'data': '04/05/2020', 'valor': '13863.220871'}, {'data': '05/05/2020', 'valor': '13895.268041'}, {'data': '06/05/2020', 'valor': '13915.316312'}, {'data': '07/05/2020', 'valor': '13911.053108'}, {'data': '08/05/2020', 'valor': '13948.931183'}, {'data': '11/05/2020', 'valor': '13941.823913'}, {'data': '12/05/2020', 'valor': '13872.799193'}, {'data': '13/05/2020', 'valor': '13835.135445'}, {'data': '14/05/2020', 'valor': '13858.767289'}, {'data': '15/05/2020', 'valor': '13886.683103'}, {'data': '18/05/2020', 'valor': '13922.849086'}, {'data': '19/05/2020', 'valor': '13938.724112'}, {'data': '20/05/2020', 'valor': '13939.769822'}, {'data': '21/05/2020', 'valor': '13971.923672'}, {'data': '22/05/2020', 'valor': '13961.891686'}, {'data': '25/05/2020', 'valor': '14045.367017'}, {'data': '26/05/2020', 'valor': '14053.089846'}, {'data': '27/05/2020', 'valor': '14062.354652'}, {'data': '28/05/2020', 'valor': '14062.204482'}, {'data': '29/05/2020', 'valor': '14080.914898'}, {'data': '01/06/2020', 'valor': '14084.604694'}, {'data': '02/06/2020', 'valor': '14128.129116'}, {'data': '03/06/2020', 'valor': '14151.905192'}, {'data': '04/06/2020', 'valor': '14139.105904'}, {'data': '05/06/2020', 'valor': '14119.883688'}, {'data': '08/06/2020', 'valor': '14123.831809'}, {'data': '09/06/2020', 'valor': '14123.475655'}, {'data': '10/06/2020', 'valor': '14151.879203'}, {'data': '12/06/2020', 'valor': '14150.515932'}, {'data': '15/06/2020', 'valor': '14149.427398'}, {'data': '16/06/2020', 'valor': '14134.698721'}, {'data': '17/06/2020', 'valor': '14160.258227'}, {'data': '18/06/2020', 'valor': '14125.733259'}, {'data': '19/06/2020', 'valor': '14143.883400'}, {'data': '22/06/2020', 'valor': '14126.460528'}, {'data': '23/06/2020', 'valor': '14146.994552'}, {'data': '24/06/2020', 'valor': '14120.673865'}, {'data': '25/06/2020', 'valor': '14162.291053'}, {'data': '26/06/2020', 'valor': '14151.513176'}, {'data': '29/06/2020', 'valor': '14169.872617'}, {'data': '30/06/2020', 'valor': '14191.543610'}, {'data': '01/07/2020', 'valor': '14210.385875'}, {'data': '02/07/2020', 'valor': '14203.210356'}, {'data': '03/07/2020', 'valor': '14228.027933'}, {'data': '06/07/2020', 'valor': '14234.439036'}, {'data': '07/07/2020', 'valor': '14207.550690'}, {'data': '08/07/2020', 'valor': '14193.098856'}, {'data': '09/07/2020', 'valor': '14200.502203'}, {'data': '10/07/2020', 'valor': '14225.981500'}, {'data': '13/07/2020', 'valor': '14219.901184'}, {'data': '14/07/2020', 'valor': '14222.130501'}, {'data': '15/07/2020', 'valor': '14215.137105'}, {'data': '16/07/2020', 'valor': '14219.199634'}, {'data': '17/07/2020', 'valor': '14252.437033'}, {'data': '20/07/2020', 'valor': '14253.930720'}, {'data': '21/07/2020', 'valor': '14239.422823'}, {'data': '22/07/2020', 'valor': '14228.535027'}, {'data': '23/07/2020', 'valor': '14219.954050'}, {'data': '24/07/2020', 'valor': '14266.142897'}, {'data': '27/07/2020', 'valor': '14289.375621'}, {'data': '28/07/2020', 'valor': '14286.938252'}, {'data': '29/07/2020', 'valor': '14285.705227'}, {'data': '30/07/2020', 'valor': '14336.263359'}, {'data': '31/07/2020', 'valor': '14345.347717'}, {'data': '03/08/2020', 'valor': '14347.586539'}, {'data': '04/08/2020', 'valor': '14321.285745'}, {'data': '05/08/2020', 'valor': '14301.226129'}, {'data': '06/08/2020', 'valor': '14342.837076'}, {'data': '07/08/2020', 'valor': '14312.300064'}, {'data': '10/08/2020', 'valor': '14295.858339'}, {'data': '11/08/2020', 'valor': '14283.877773'}, {'data': '12/08/2020', 'valor': '14242.837325'}, {'data': '13/08/2020', 'valor': '14216.517933'}, {'data': '14/08/2020', 'valor': '14219.960764'}, {'data': '17/08/2020', 'valor': '14194.114533'}, {'data': '18/08/2020', 'valor': '14261.493906'}, {'data': '19/08/2020', 'valor': '14226.560514'}, {'data': '20/08/2020', 'valor': '14236.527940'}, {'data': '21/08/2020', 'valor': '14246.054634'}, {'data': '24/08/2020', 'valor': '14266.353432'}, {'data': '25/08/2020', 'valor': '14257.753281'}, {'data': '26/08/2020', 'valor': '14211.099288'}, {'data': '27/08/2020', 'valor': '14209.358699'}, {'data': '28/08/2020', 'valor': '14248.913330'}, {'data': '31/08/2020', 'valor': '14237.747004'}, {'data': '01/09/2020', 'valor': '14264.568458'}, {'data': '02/09/2020', 'valor': '14253.045386'}, {'data': '03/09/2020', 'valor': '14269.120915'}, {'data': '04/09/2020', 'valor': '14289.373314'}, {'data': '08/09/2020', 'valor': '14254.593264'}, {'data': '09/09/2020', 'valor': '14268.376624'}, {'data': '10/09/2020', 'valor': '14227.033562'}, {'data': '11/09/2020', 'valor': '14224.338853'}, {'data': '14/09/2020', 'valor': '14242.345148'}, {'data': '15/09/2020', 'valor': '14221.467183'}, {'data': '16/09/2020', 'valor': '14202.256517'}, {'data': '17/09/2020', 'valor': '14232.471625'}, {'data': '18/09/2020', 'valor': '14170.844743'}, {'data': '21/09/2020', 'valor': '14162.456926'}, {'data': '22/09/2020', 'valor': '14189.668370'}, {'data': '23/09/2020', 'valor': '14162.261682'}, {'data': '24/09/2020', 'valor': '14215.467653'}, {'data': '25/09/2020', 'valor': '14215.612293'}, {'data': '28/09/2020', 'valor': '14133.197812'}, {'data': '29/09/2020', 'valor': '14122.408866'}, {'data': '30/09/2020', 'valor': '14157.972421'}, {'data': '01/10/2020', 'valor': '14145.262607'}, {'data': '02/10/2020', 'valor': '14094.759024'}, {'data': '05/10/2020', 'valor': '14139.191701'}, {'data': '06/10/2020', 'valor': '14098.002363'}, {'data': '07/10/2020', 'valor': '14098.715992'}, {'data': '08/10/2020', 'valor': '14119.513307'}, {'data': '09/10/2020', 'valor': '14122.514034'}, {'data': '13/10/2020', 'valor': '14150.510457'}, {'data': '14/10/2020', 'valor': '14159.738392'}, {'data': '15/10/2020', 'valor': '14122.849113'}, {'data': '16/10/2020', 'valor': '14109.100065'}, {'data': '19/10/2020', 'valor': '14147.763565'}, {'data': '20/10/2020', 'valor': '14184.086660'}, {'data': '21/10/2020', 'valor': '14175.308129'}, {'data': '22/10/2020', 'valor': '14160.977505'}, {'data': '23/10/2020', 'valor': '14120.256407'}, {'data': '26/10/2020', 'valor': '14131.965955'}, {'data': '27/10/2020', 'valor': '14123.550891'}, {'data': '28/10/2020', 'valor': '14115.782210'}, {'data': '29/10/2020', 'valor': '14125.908256'}, {'data': '30/10/2020', 'valor': '14111.512266'}, {'data': '03/11/2020', 'valor': '14084.300361'}, {'data': '04/11/2020', 'valor': '14116.963206'}, {'data': '05/11/2020', 'valor': '14136.843489'}, {'data': '06/11/2020', 'valor': '14172.240895'}, {'data': '09/11/2020', 'valor': '14200.282060'}, {'data': '10/11/2020', 'valor': '14189.128146'}, {'data': '11/11/2020', 'valor': '14146.990445'}, {'data': '12/11/2020', 'valor': '14135.911478'}, {'data': '13/11/2020', 'valor': '14152.301432'}, {'data': '16/11/2020', 'valor': '14160.014913'}, {'data': '17/11/2020', 'valor': '14171.453555'}, {'data': '18/11/2020', 'valor': '14141.655920'}, {'data': '19/11/2020', 'valor': '14142.857878'}, {'data': '20/11/2020', 'valor': '14113.177523'}, {'data': '23/11/2020', 'valor': '14092.738141'}, {'data': '24/11/2020', 'valor': '14106.327706'}, {'data': '25/11/2020', 'valor': '14123.324460'}, {'data': '26/11/2020', 'valor': '14149.661910'}, {'data': '27/11/2020', 'valor': '14173.711462'}, {'data': '30/11/2020', 'valor': '14162.593182'}, {'data': '01/12/2020', 'valor': '14211.964845'}, {'data': '02/12/2020', 'valor': '14247.260705'}, {'data': '03/12/2020', 'valor': '14305.846115'}, {'data': '04/12/2020', 'valor': '14303.451482'}, {'data': '07/12/2020', 'valor': '14311.376207'}, {'data': '08/12/2020', 'valor': '14315.984281'}, {'data': '09/12/2020', 'valor': '14308.995324'}, {'data': '10/12/2020', 'valor': '14322.517761'}, {'data': '11/12/2020', 'valor': '14352.238441'}, {'data': '14/12/2020', 'valor': '14343.143154'}, {'data': '15/12/2020', 'valor': '14370.100495'}, {'data': '16/12/2020', 'valor': '14353.764989'}, {'data': '17/12/2020', 'valor': '14353.281496'}, {'data': '18/12/2020', 'valor': '14358.755649'}, {'data': '21/12/2020', 'valor': '14362.212241'}, {'data': '22/12/2020', 'valor': '14382.543370'}, {'data': '23/12/2020', 'valor': '14405.920714'}, {'data': '24/12/2020', 'valor': '14408.076460'}, {'data': '28/12/2020', 'valor': '14395.113947'}, {'data': '29/12/2020', 'valor': '14427.068963'}, {'data': '30/12/2020', 'valor': '14437.261477'}, {'data': '31/12/2020', 'valor': '14439.402355'}, {'data': '04/01/2021', 'valor': '14443.838080'}, {'data': '05/01/2021', 'valor': '14420.075198'}, {'data': '06/01/2021', 'valor': '14385.406370'}, {'data': '07/01/2021', 'valor': '14329.924830'}, {'data': '08/01/2021', 'valor': '14314.816014'}, {'data': '11/01/2021', 'valor': '14264.253505'}, {'data': '12/01/2021', 'valor': '14293.583059'}, {'data': '13/01/2021', 'valor': '14247.732228'}, {'data': '14/01/2021', 'valor': '14277.884754'}, {'data': '15/01/2021', 'valor': '14274.018302'}, {'data': '18/01/2021', 'valor': '14286.715786'}, {'data': '19/01/2021', 'valor': '14282.833493'}, {'data': '20/01/2021', 'valor': '14283.734268'}, {'data': '21/01/2021', 'valor': '14248.771193'}, {'data': '22/01/2021', 'valor': '14219.937140'}, {'data': '25/01/2021', 'valor': '14222.452711'}, {'data': '26/01/2021', 'valor': '14257.029153'}, {'data': '27/01/2021', 'valor': '14266.147798'}, {'data': '28/01/2021', 'valor': '14292.716684'}, {'data': '29/01/2021', 'valor': '14323.517244'}, {'data': '01/02/2021', 'valor': '14320.131449'}, {'data': '02/02/2021', 'valor': '14341.109545'}, {'data': '03/02/2021', 'valor': '14345.637764'}, {'data': '04/02/2021', 'valor': '14321.625396'}, {'data': '05/02/2021', 'valor': '14314.775540'}, {'data': '08/02/2021', 'valor': '14310.080457'}, {'data': '09/02/2021', 'valor': '14297.057301'}, {'data': '10/02/2021', 'valor': '14312.458976'}, {'data': '11/02/2021', 'valor': '14310.873096'}, {'data': '12/02/2021', 'valor': '14293.309778'}, {'data': '17/02/2021', 'valor': '14270.711950'}, {'data': '18/02/2021', 'valor': '14276.398638'}, {'data': '19/02/2021', 'valor': '14255.775324'}, {'data': '22/02/2021', 'valor': '14214.731524'}, {'data': '23/02/2021', 'valor': '14239.969900'}, {'data': '24/02/2021', 'valor': '14202.262955'}, {'data': '25/02/2021', 'valor': '14169.520463'}, {'data': '26/02/2021', 'valor': '14154.661882'}, {'data': '01/03/2021', 'valor': '14124.842034'}, {'data': '02/03/2021', 'valor': '14102.298373'}, {'data': '03/03/2021', 'valor': '14066.376416'}, {'data': '04/03/2021', 'valor': '14163.123428'}, {'data': '05/03/2021', 'valor': '14213.390883'}, {'data': '08/03/2021', 'valor': '14149.123200'}, {'data': '09/03/2021', 'valor': '14123.972148'}, {'data': '10/03/2021', 'valor': '14118.413717'}, {'data': '11/03/2021', 'valor': '14129.324596'}, {'data': '12/03/2021', 'valor': '14105.116431'}, {'data': '15/03/2021', 'valor': '14105.888323'}, {'data': '16/03/2021', 'valor': '14121.088074'}, {'data': '17/03/2021', 'valor': '14121.549977'}, {'data': '18/03/2021', 'valor': '14115.422868'}, {'data': '19/03/2021', 'valor': '14083.402567'}, {'data': '22/03/2021', 'valor': '14059.309710'}, {'data': '23/03/2021', 'valor': '14025.301853'}, {'data': '24/03/2021', 'valor': '13989.890887'}, {'data': '25/03/2021', 'valor': '14010.746886'}, {'data': '26/03/2021', 'valor': '14009.262514'}, {'data': '29/03/2021', 'valor': '13985.295819'}, {'data': '30/03/2021', 'valor': '14028.215795'}, {'data': '31/03/2021', 'valor': '14035.332799'}, {'data': '01/04/2021', 'valor': '14018.847596'}, {'data': '05/04/2021', 'valor': '14026.050104'}, {'data': '06/04/2021', 'valor': '14010.302623'}, {'data': '07/04/2021', 'valor': '13978.679590'}, {'data': '08/04/2021', 'valor': '14041.047570'}, {'data': '09/04/2021', 'valor': '14007.621937'}, {'data': '12/04/2021', 'valor': '14012.715765'}, {'data': '13/04/2021', 'valor': '13984.515339'}, {'data': '14/04/2021', 'valor': '14012.144812'}, {'data': '15/04/2021', 'valor': '14042.979866'}, {'data': '16/04/2021', 'valor': '14092.010172'}, {'data': '19/04/2021', 'valor': '14117.483133'}, {'data': '20/04/2021', 'valor': '14087.465378'}, {'data': '22/04/2021', 'valor': '14136.559172'}, {'data': '23/04/2021', 'valor': '14157.141847'}, {'data': '26/04/2021', 'valor': '14163.257726'}, {'data': '27/04/2021', 'valor': '14150.745876'}, {'data': '28/04/2021', 'valor': '14161.830531'}, {'data': '29/04/2021', 'valor': '14169.244128'}, {'data': '30/04/2021', 'valor': '14153.351102'}]\n",
      "<class 'pandas.core.frame.DataFrame'>\n",
      "RangeIndex: 333 entries, 0 to 332\n",
      "Data columns (total 2 columns):\n",
      " #   Column  Non-Null Count  Dtype \n",
      "---  ------  --------------  ----- \n",
      " 0   data    333 non-null    object\n",
      " 1   valor   333 non-null    object\n",
      "dtypes: object(2)\n",
      "memory usage: 5.3+ KB\n",
      "None\n",
      "Resposta Inválida\n"
     ]
    }
   ],
   "source": [
    "df_bcb = consulta_bc3(12461, start_date = '01/01/2020', end_date = '11/05/2021') #'2021-01-04', '2021-01-31') #[nome_url, conteudo_json ,"
   ]
  },
  {
   "cell_type": "code",
   "execution_count": 102,
   "metadata": {},
   "outputs": [
    {
     "data": {
      "text/html": [
       "<div>\n",
       "<style scoped>\n",
       "    .dataframe tbody tr th:only-of-type {\n",
       "        vertical-align: middle;\n",
       "    }\n",
       "\n",
       "    .dataframe tbody tr th {\n",
       "        vertical-align: top;\n",
       "    }\n",
       "\n",
       "    .dataframe thead th {\n",
       "        text-align: right;\n",
       "    }\n",
       "</style>\n",
       "<table border=\"1\" class=\"dataframe\">\n",
       "  <thead>\n",
       "    <tr style=\"text-align: right;\">\n",
       "      <th></th>\n",
       "      <th>data</th>\n",
       "      <th>valor</th>\n",
       "    </tr>\n",
       "  </thead>\n",
       "  <tbody>\n",
       "    <tr>\n",
       "      <th>0</th>\n",
       "      <td>31/12/2019</td>\n",
       "      <td>13533.391484</td>\n",
       "    </tr>\n",
       "    <tr>\n",
       "      <th>1</th>\n",
       "      <td>02/01/2020</td>\n",
       "      <td>13545.670599</td>\n",
       "    </tr>\n",
       "    <tr>\n",
       "      <th>2</th>\n",
       "      <td>03/01/2020</td>\n",
       "      <td>13544.165832</td>\n",
       "    </tr>\n",
       "    <tr>\n",
       "      <th>3</th>\n",
       "      <td>06/01/2020</td>\n",
       "      <td>13537.095325</td>\n",
       "    </tr>\n",
       "    <tr>\n",
       "      <th>4</th>\n",
       "      <td>07/01/2020</td>\n",
       "      <td>13547.127241</td>\n",
       "    </tr>\n",
       "    <tr>\n",
       "      <th>...</th>\n",
       "      <td>...</td>\n",
       "      <td>...</td>\n",
       "    </tr>\n",
       "    <tr>\n",
       "      <th>328</th>\n",
       "      <td>26/04/2021</td>\n",
       "      <td>14163.257726</td>\n",
       "    </tr>\n",
       "    <tr>\n",
       "      <th>329</th>\n",
       "      <td>27/04/2021</td>\n",
       "      <td>14150.745876</td>\n",
       "    </tr>\n",
       "    <tr>\n",
       "      <th>330</th>\n",
       "      <td>28/04/2021</td>\n",
       "      <td>14161.830531</td>\n",
       "    </tr>\n",
       "    <tr>\n",
       "      <th>331</th>\n",
       "      <td>29/04/2021</td>\n",
       "      <td>14169.244128</td>\n",
       "    </tr>\n",
       "    <tr>\n",
       "      <th>332</th>\n",
       "      <td>30/04/2021</td>\n",
       "      <td>14153.351102</td>\n",
       "    </tr>\n",
       "  </tbody>\n",
       "</table>\n",
       "<p>333 rows × 2 columns</p>\n",
       "</div>"
      ],
      "text/plain": [
       "           data         valor\n",
       "0    31/12/2019  13533.391484\n",
       "1    02/01/2020  13545.670599\n",
       "2    03/01/2020  13544.165832\n",
       "3    06/01/2020  13537.095325\n",
       "4    07/01/2020  13547.127241\n",
       "..          ...           ...\n",
       "328  26/04/2021  14163.257726\n",
       "329  27/04/2021  14150.745876\n",
       "330  28/04/2021  14161.830531\n",
       "331  29/04/2021  14169.244128\n",
       "332  30/04/2021  14153.351102\n",
       "\n",
       "[333 rows x 2 columns]"
      ]
     },
     "execution_count": 102,
     "metadata": {},
     "output_type": "execute_result"
    }
   ],
   "source": [
    "df_bcb"
   ]
  },
  {
   "cell_type": "code",
   "execution_count": 103,
   "metadata": {
    "id": "jcvMNosXZRBl"
   },
   "outputs": [
    {
     "data": {
      "text/plain": [
       "[12461, 12462, 12463, 12466, 12467, 12468, 12469, 17626, 17627, 17628]"
      ]
     },
     "execution_count": 103,
     "metadata": {},
     "output_type": "execute_result"
    }
   ],
   "source": [
    "lista_codigos"
   ]
  },
  {
   "cell_type": "code",
   "execution_count": 104,
   "metadata": {
    "id": "xKVgQdNRZRBl"
   },
   "outputs": [
    {
     "name": "stdout",
     "output_type": "stream",
     "text": [
      "http://api.bcb.gov.br/dados/serie/bcdata.sgs.17628/dados?formato=json&dataInicial=2017-01-01&dataFinal=2021-05-18\n"
     ]
    }
   ],
   "source": [
    "url = 'http://api.bcb.gov.br/dados/serie/bcdata.sgs.'+str(codigo_bc)+'/dados?formato=json&dataInicial='+\\\n",
    "str(start_date)+'&dataFinal='+str(end_date)\n",
    "print(url)"
   ]
  },
  {
   "cell_type": "markdown",
   "metadata": {
    "id": "l779jzD8ZRBm"
   },
   "source": [
    "## Usando o Quandl"
   ]
  },
  {
   "cell_type": "markdown",
   "metadata": {
    "id": "xV-AEFIxZRBm"
   },
   "source": [
    "- 12461 = IRF-M (ANBIMA Indice Renda Fixa (pré))\n",
    "- 12462 = IMA-S (Selic)\n",
    "- 12463 = IMA-C (IGP-M - será descontinuado em 04/2021)\n",
    "- 12466 = IMA-B (NTN-B, IPCA)\n",
    "- 12467 = IMA-B 5 (NTN-B < 5 anos)\n",
    "- 12468 = IMA-B 5+ \n",
    "- 12469 = IMA-Geral\n",
    "- 17626 = IRF - M1 (pré < 1 ano)\n",
    "- 17627 = IRF - M1+ (pré > 1 ano)\n",
    "- 17628 = IMA Geral ex C\n",
    "Fontes: Abecip e BCB-Depec"
   ]
  },
  {
   "cell_type": "code",
   "execution_count": 105,
   "metadata": {
    "id": "0Wq-lHDsZRBm"
   },
   "outputs": [],
   "source": [
    "series_bcb = ['IRF-M', 'IMA-S', 'IMA-C', 'IMA-B', 'IMA-B5', 'IMA-B5plus', 'IMA-Geral','IRF-M1', 'IRF-M1plus', 'IMA-Geral_exC']"
   ]
  },
  {
   "cell_type": "code",
   "execution_count": 106,
   "metadata": {
    "id": "eG0uEjUkZRBn"
   },
   "outputs": [
    {
     "name": "stdout",
     "output_type": "stream",
     "text": [
      "\n",
      "*********************************************************************\n",
      "Demorou: 8.03  segundos\n",
      "*********************************************************************\n"
     ]
    }
   ],
   "source": [
    "time_start = time.time()\n",
    "time_start;\n",
    "\n",
    "inicio = '2017-01-01'\n",
    "fim = '2021-05-20'\n",
    "\n",
    "bcb_out = [quandl.get('BCB/'+str(serie), start_date = inicio, end_date = fim) for serie in lista_codigos] \n",
    "\n",
    "\n",
    "df_bcb = pd.concat(bcb_out, axis = 1)\n",
    "df_bcb.columns = series_bcb\n",
    "\n",
    "time_end = time.time();\n",
    "elapsed_time = time_end - time_start;\n",
    "print('')\n",
    "print('*********************************************************************')\n",
    "print('Demorou:',round(elapsed_time,2),' segundos')\n",
    "print('*********************************************************************')"
   ]
  },
  {
   "cell_type": "code",
   "execution_count": 107,
   "metadata": {
    "id": "jGKhEKzLZRBn"
   },
   "outputs": [
    {
     "data": {
      "text/html": [
       "<div>\n",
       "<style scoped>\n",
       "    .dataframe tbody tr th:only-of-type {\n",
       "        vertical-align: middle;\n",
       "    }\n",
       "\n",
       "    .dataframe tbody tr th {\n",
       "        vertical-align: top;\n",
       "    }\n",
       "\n",
       "    .dataframe thead th {\n",
       "        text-align: right;\n",
       "    }\n",
       "</style>\n",
       "<table border=\"1\" class=\"dataframe\">\n",
       "  <thead>\n",
       "    <tr style=\"text-align: right;\">\n",
       "      <th></th>\n",
       "      <th>IRF-M</th>\n",
       "      <th>IMA-S</th>\n",
       "      <th>IMA-C</th>\n",
       "      <th>IMA-B</th>\n",
       "      <th>IMA-B5</th>\n",
       "      <th>IMA-B5plus</th>\n",
       "      <th>IMA-Geral</th>\n",
       "      <th>IRF-M1</th>\n",
       "      <th>IRF-M1plus</th>\n",
       "      <th>IMA-Geral_exC</th>\n",
       "    </tr>\n",
       "    <tr>\n",
       "      <th>Date</th>\n",
       "      <th></th>\n",
       "      <th></th>\n",
       "      <th></th>\n",
       "      <th></th>\n",
       "      <th></th>\n",
       "      <th></th>\n",
       "      <th></th>\n",
       "      <th></th>\n",
       "      <th></th>\n",
       "      <th></th>\n",
       "    </tr>\n",
       "  </thead>\n",
       "  <tbody>\n",
       "    <tr>\n",
       "      <th>2017-01-02</th>\n",
       "      <td>9501.331889</td>\n",
       "      <td>3760.541892</td>\n",
       "      <td>4906.898353</td>\n",
       "      <td>4902.949637</td>\n",
       "      <td>4622.754114</td>\n",
       "      <td>5679.794042</td>\n",
       "      <td>4254.332032</td>\n",
       "      <td>8842.393924</td>\n",
       "      <td>10204.266145</td>\n",
       "      <td>4226.385910</td>\n",
       "    </tr>\n",
       "    <tr>\n",
       "      <th>2017-01-03</th>\n",
       "      <td>9504.091195</td>\n",
       "      <td>3762.429860</td>\n",
       "      <td>4918.839196</td>\n",
       "      <td>4893.287993</td>\n",
       "      <td>4627.293595</td>\n",
       "      <td>5659.921372</td>\n",
       "      <td>4253.183605</td>\n",
       "      <td>8846.737017</td>\n",
       "      <td>10206.475503</td>\n",
       "      <td>4224.808119</td>\n",
       "    </tr>\n",
       "    <tr>\n",
       "      <th>2017-01-04</th>\n",
       "      <td>9484.045729</td>\n",
       "      <td>3764.353437</td>\n",
       "      <td>4925.708808</td>\n",
       "      <td>4878.090298</td>\n",
       "      <td>4628.690202</td>\n",
       "      <td>5632.314735</td>\n",
       "      <td>4246.846807</td>\n",
       "      <td>8849.799390</td>\n",
       "      <td>10175.721295</td>\n",
       "      <td>4218.045970</td>\n",
       "    </tr>\n",
       "  </tbody>\n",
       "</table>\n",
       "</div>"
      ],
      "text/plain": [
       "                  IRF-M        IMA-S        IMA-C        IMA-B       IMA-B5  \\\n",
       "Date                                                                          \n",
       "2017-01-02  9501.331889  3760.541892  4906.898353  4902.949637  4622.754114   \n",
       "2017-01-03  9504.091195  3762.429860  4918.839196  4893.287993  4627.293595   \n",
       "2017-01-04  9484.045729  3764.353437  4925.708808  4878.090298  4628.690202   \n",
       "\n",
       "             IMA-B5plus    IMA-Geral       IRF-M1    IRF-M1plus  IMA-Geral_exC  \n",
       "Date                                                                            \n",
       "2017-01-02  5679.794042  4254.332032  8842.393924  10204.266145    4226.385910  \n",
       "2017-01-03  5659.921372  4253.183605  8846.737017  10206.475503    4224.808119  \n",
       "2017-01-04  5632.314735  4246.846807  8849.799390  10175.721295    4218.045970  "
      ]
     },
     "execution_count": 107,
     "metadata": {},
     "output_type": "execute_result"
    }
   ],
   "source": [
    "df_bcb.head(3)"
   ]
  },
  {
   "cell_type": "code",
   "execution_count": 108,
   "metadata": {
    "id": "z_H0C0WqZRBn"
   },
   "outputs": [
    {
     "data": {
      "text/html": [
       "<div>\n",
       "<style scoped>\n",
       "    .dataframe tbody tr th:only-of-type {\n",
       "        vertical-align: middle;\n",
       "    }\n",
       "\n",
       "    .dataframe tbody tr th {\n",
       "        vertical-align: top;\n",
       "    }\n",
       "\n",
       "    .dataframe thead th {\n",
       "        text-align: right;\n",
       "    }\n",
       "</style>\n",
       "<table border=\"1\" class=\"dataframe\">\n",
       "  <thead>\n",
       "    <tr style=\"text-align: right;\">\n",
       "      <th></th>\n",
       "      <th>IRF-M</th>\n",
       "      <th>IMA-S</th>\n",
       "      <th>IMA-C</th>\n",
       "      <th>IMA-B</th>\n",
       "      <th>IMA-B5</th>\n",
       "      <th>IMA-B5plus</th>\n",
       "      <th>IMA-Geral</th>\n",
       "      <th>IRF-M1</th>\n",
       "      <th>IRF-M1plus</th>\n",
       "      <th>IMA-Geral_exC</th>\n",
       "    </tr>\n",
       "    <tr>\n",
       "      <th>Date</th>\n",
       "      <th></th>\n",
       "      <th></th>\n",
       "      <th></th>\n",
       "      <th></th>\n",
       "      <th></th>\n",
       "      <th></th>\n",
       "      <th></th>\n",
       "      <th></th>\n",
       "      <th></th>\n",
       "      <th></th>\n",
       "    </tr>\n",
       "  </thead>\n",
       "  <tbody>\n",
       "    <tr>\n",
       "      <th>2021-04-28</th>\n",
       "      <td>14161.830531</td>\n",
       "      <td>4805.879816</td>\n",
       "      <td>0.0</td>\n",
       "      <td>7983.726406</td>\n",
       "      <td>7028.738648</td>\n",
       "      <td>9676.421304</td>\n",
       "      <td>6208.912128</td>\n",
       "      <td>11689.741138</td>\n",
       "      <td>15892.829622</td>\n",
       "      <td>6101.681099</td>\n",
       "    </tr>\n",
       "    <tr>\n",
       "      <th>2021-04-29</th>\n",
       "      <td>14169.244128</td>\n",
       "      <td>4806.246416</td>\n",
       "      <td>0.0</td>\n",
       "      <td>7985.768769</td>\n",
       "      <td>7031.292744</td>\n",
       "      <td>9677.990020</td>\n",
       "      <td>6212.491163</td>\n",
       "      <td>11692.197637</td>\n",
       "      <td>15903.791056</td>\n",
       "      <td>6103.367309</td>\n",
       "    </tr>\n",
       "    <tr>\n",
       "      <th>2021-04-30</th>\n",
       "      <td>14153.351102</td>\n",
       "      <td>4806.638180</td>\n",
       "      <td>0.0</td>\n",
       "      <td>7951.603647</td>\n",
       "      <td>7024.654499</td>\n",
       "      <td>9608.471001</td>\n",
       "      <td>6203.387523</td>\n",
       "      <td>11692.269991</td>\n",
       "      <td>15876.442255</td>\n",
       "      <td>6093.677449</td>\n",
       "    </tr>\n",
       "  </tbody>\n",
       "</table>\n",
       "</div>"
      ],
      "text/plain": [
       "                   IRF-M        IMA-S  IMA-C        IMA-B       IMA-B5  \\\n",
       "Date                                                                     \n",
       "2021-04-28  14161.830531  4805.879816    0.0  7983.726406  7028.738648   \n",
       "2021-04-29  14169.244128  4806.246416    0.0  7985.768769  7031.292744   \n",
       "2021-04-30  14153.351102  4806.638180    0.0  7951.603647  7024.654499   \n",
       "\n",
       "             IMA-B5plus    IMA-Geral        IRF-M1    IRF-M1plus  \\\n",
       "Date                                                               \n",
       "2021-04-28  9676.421304  6208.912128  11689.741138  15892.829622   \n",
       "2021-04-29  9677.990020  6212.491163  11692.197637  15903.791056   \n",
       "2021-04-30  9608.471001  6203.387523  11692.269991  15876.442255   \n",
       "\n",
       "            IMA-Geral_exC  \n",
       "Date                       \n",
       "2021-04-28    6101.681099  \n",
       "2021-04-29    6103.367309  \n",
       "2021-04-30    6093.677449  "
      ]
     },
     "execution_count": 108,
     "metadata": {},
     "output_type": "execute_result"
    }
   ],
   "source": [
    "df_bcb.tail(3)"
   ]
  },
  {
   "cell_type": "code",
   "execution_count": 109,
   "metadata": {
    "id": "l9mIseO0ZRBo"
   },
   "outputs": [
    {
     "name": "stdout",
     "output_type": "stream",
     "text": [
      "<class 'pandas.core.frame.DataFrame'>\n",
      "DatetimeIndex: 1599 entries, 2017-01-01 to 2021-05-18\n",
      "Data columns (total 20 columns):\n",
      " #   Column                Non-Null Count  Dtype  \n",
      "---  ------                --------------  -----  \n",
      " 0   YEAR                  1599 non-null   int64  \n",
      " 1   MONTH                 1599 non-null   int64  \n",
      " 2   ANBIMA366_TJTLN12366  1350 non-null   float64\n",
      " 3   ANBIMA366_TJTLN1366   1349 non-null   float64\n",
      " 4   ANBIMA366_TJTLN3366   1350 non-null   float64\n",
      " 5   ANBIMA366_TJTLN6366   1350 non-null   float64\n",
      " 6   BMF366_FUT1DOL366     1329 non-null   float64\n",
      " 7   BMF366_FUT3DOL366     1054 non-null   float64\n",
      " 8   BMF366_FUT3DOLV366    799 non-null    float64\n",
      " 9   EIA366_PBRENT366      1356 non-null   float64\n",
      " 10  EIA366_PWTI366        1347 non-null   float64\n",
      " 11  GM366_DOW366          1087 non-null   float64\n",
      " 12  GM366_ERTUR366        1344 non-null   float64\n",
      " 13  GM366_ERV366          1096 non-null   float64\n",
      " 14  GM366_ERVV366         1096 non-null   float64\n",
      " 15  GM366_EUROV366        1093 non-null   float64\n",
      " 16  GM366_IBVSP366        1076 non-null   float64\n",
      " 17  GM366_IBVSPV366       1091 non-null   float64\n",
      " 18  SGS366_NASDAQ366      1084 non-null   float64\n",
      " 19  VALOR366_FEDFUND366   1598 non-null   float64\n",
      "dtypes: float64(18), int64(2)\n",
      "memory usage: 262.3 KB\n"
     ]
    }
   ],
   "source": [
    "df_eco.info()"
   ]
  },
  {
   "cell_type": "code",
   "execution_count": 110,
   "metadata": {
    "id": "xYh-FLmaZRBo"
   },
   "outputs": [
    {
     "name": "stdout",
     "output_type": "stream",
     "text": [
      "<class 'pandas.core.frame.DataFrame'>\n",
      "DatetimeIndex: 1084 entries, 2017-01-02 to 2021-04-30\n",
      "Data columns (total 10 columns):\n",
      " #   Column         Non-Null Count  Dtype  \n",
      "---  ------         --------------  -----  \n",
      " 0   IRF-M          1084 non-null   float64\n",
      " 1   IMA-S          1084 non-null   float64\n",
      " 2   IMA-C          1084 non-null   float64\n",
      " 3   IMA-B          1084 non-null   float64\n",
      " 4   IMA-B5         1084 non-null   float64\n",
      " 5   IMA-B5plus     1084 non-null   float64\n",
      " 6   IMA-Geral      1084 non-null   float64\n",
      " 7   IRF-M1         1084 non-null   float64\n",
      " 8   IRF-M1plus     1084 non-null   float64\n",
      " 9   IMA-Geral_exC  1084 non-null   float64\n",
      "dtypes: float64(10)\n",
      "memory usage: 93.2 KB\n"
     ]
    }
   ],
   "source": [
    "df_bcb.info()"
   ]
  },
  {
   "cell_type": "code",
   "execution_count": 111,
   "metadata": {
    "id": "jzltq326ZRBp"
   },
   "outputs": [],
   "source": [
    "df_all =pd.merge(df_eco,df_bcb, how='outer', left_index=True, right_index=True)"
   ]
  },
  {
   "cell_type": "code",
   "execution_count": 112,
   "metadata": {
    "id": "UqjarPU2ZRBp"
   },
   "outputs": [
    {
     "name": "stdout",
     "output_type": "stream",
     "text": [
      "<class 'pandas.core.frame.DataFrame'>\n",
      "DatetimeIndex: 1599 entries, 2017-01-01 to 2021-05-18\n",
      "Data columns (total 30 columns):\n",
      " #   Column                Non-Null Count  Dtype  \n",
      "---  ------                --------------  -----  \n",
      " 0   YEAR                  1599 non-null   int64  \n",
      " 1   MONTH                 1599 non-null   int64  \n",
      " 2   ANBIMA366_TJTLN12366  1350 non-null   float64\n",
      " 3   ANBIMA366_TJTLN1366   1349 non-null   float64\n",
      " 4   ANBIMA366_TJTLN3366   1350 non-null   float64\n",
      " 5   ANBIMA366_TJTLN6366   1350 non-null   float64\n",
      " 6   BMF366_FUT1DOL366     1329 non-null   float64\n",
      " 7   BMF366_FUT3DOL366     1054 non-null   float64\n",
      " 8   BMF366_FUT3DOLV366    799 non-null    float64\n",
      " 9   EIA366_PBRENT366      1356 non-null   float64\n",
      " 10  EIA366_PWTI366        1347 non-null   float64\n",
      " 11  GM366_DOW366          1087 non-null   float64\n",
      " 12  GM366_ERTUR366        1344 non-null   float64\n",
      " 13  GM366_ERV366          1096 non-null   float64\n",
      " 14  GM366_ERVV366         1096 non-null   float64\n",
      " 15  GM366_EUROV366        1093 non-null   float64\n",
      " 16  GM366_IBVSP366        1076 non-null   float64\n",
      " 17  GM366_IBVSPV366       1091 non-null   float64\n",
      " 18  SGS366_NASDAQ366      1084 non-null   float64\n",
      " 19  VALOR366_FEDFUND366   1598 non-null   float64\n",
      " 20  IRF-M                 1084 non-null   float64\n",
      " 21  IMA-S                 1084 non-null   float64\n",
      " 22  IMA-C                 1084 non-null   float64\n",
      " 23  IMA-B                 1084 non-null   float64\n",
      " 24  IMA-B5                1084 non-null   float64\n",
      " 25  IMA-B5plus            1084 non-null   float64\n",
      " 26  IMA-Geral             1084 non-null   float64\n",
      " 27  IRF-M1                1084 non-null   float64\n",
      " 28  IRF-M1plus            1084 non-null   float64\n",
      " 29  IMA-Geral_exC         1084 non-null   float64\n",
      "dtypes: float64(28), int64(2)\n",
      "memory usage: 387.3 KB\n"
     ]
    }
   ],
   "source": [
    "df_all.info()"
   ]
  },
  {
   "cell_type": "code",
   "execution_count": 113,
   "metadata": {
    "id": "oHXLNPfvZRBp"
   },
   "outputs": [
    {
     "data": {
      "text/html": [
       "<div>\n",
       "<style scoped>\n",
       "    .dataframe tbody tr th:only-of-type {\n",
       "        vertical-align: middle;\n",
       "    }\n",
       "\n",
       "    .dataframe tbody tr th {\n",
       "        vertical-align: top;\n",
       "    }\n",
       "\n",
       "    .dataframe thead th {\n",
       "        text-align: right;\n",
       "    }\n",
       "</style>\n",
       "<table border=\"1\" class=\"dataframe\">\n",
       "  <thead>\n",
       "    <tr style=\"text-align: right;\">\n",
       "      <th></th>\n",
       "      <th>YEAR</th>\n",
       "      <th>MONTH</th>\n",
       "      <th>ANBIMA366_TJTLN12366</th>\n",
       "      <th>ANBIMA366_TJTLN1366</th>\n",
       "      <th>ANBIMA366_TJTLN3366</th>\n",
       "      <th>ANBIMA366_TJTLN6366</th>\n",
       "      <th>BMF366_FUT1DOL366</th>\n",
       "      <th>BMF366_FUT3DOL366</th>\n",
       "      <th>BMF366_FUT3DOLV366</th>\n",
       "      <th>EIA366_PBRENT366</th>\n",
       "      <th>...</th>\n",
       "      <th>IRF-M</th>\n",
       "      <th>IMA-S</th>\n",
       "      <th>IMA-C</th>\n",
       "      <th>IMA-B</th>\n",
       "      <th>IMA-B5</th>\n",
       "      <th>IMA-B5plus</th>\n",
       "      <th>IMA-Geral</th>\n",
       "      <th>IRF-M1</th>\n",
       "      <th>IRF-M1plus</th>\n",
       "      <th>IMA-Geral_exC</th>\n",
       "    </tr>\n",
       "    <tr>\n",
       "      <th>Date</th>\n",
       "      <th></th>\n",
       "      <th></th>\n",
       "      <th></th>\n",
       "      <th></th>\n",
       "      <th></th>\n",
       "      <th></th>\n",
       "      <th></th>\n",
       "      <th></th>\n",
       "      <th></th>\n",
       "      <th></th>\n",
       "      <th></th>\n",
       "      <th></th>\n",
       "      <th></th>\n",
       "      <th></th>\n",
       "      <th></th>\n",
       "      <th></th>\n",
       "      <th></th>\n",
       "      <th></th>\n",
       "      <th></th>\n",
       "      <th></th>\n",
       "      <th></th>\n",
       "    </tr>\n",
       "  </thead>\n",
       "  <tbody>\n",
       "    <tr>\n",
       "      <th>2021-04-19</th>\n",
       "      <td>2021</td>\n",
       "      <td>4</td>\n",
       "      <td>5.2695</td>\n",
       "      <td>3.2885</td>\n",
       "      <td>3.6240</td>\n",
       "      <td>4.1822</td>\n",
       "      <td>5.573941</td>\n",
       "      <td>NaN</td>\n",
       "      <td>NaN</td>\n",
       "      <td>66.54</td>\n",
       "      <td>...</td>\n",
       "      <td>14117.483133</td>\n",
       "      <td>4804.709495</td>\n",
       "      <td>0.0</td>\n",
       "      <td>7934.288970</td>\n",
       "      <td>6996.284499</td>\n",
       "      <td>9603.227006</td>\n",
       "      <td>6192.298779</td>\n",
       "      <td>11678.505282</td>\n",
       "      <td>15824.765087</td>\n",
       "      <td>6083.787816</td>\n",
       "    </tr>\n",
       "    <tr>\n",
       "      <th>2021-04-20</th>\n",
       "      <td>2021</td>\n",
       "      <td>4</td>\n",
       "      <td>5.3697</td>\n",
       "      <td>3.2439</td>\n",
       "      <td>3.6257</td>\n",
       "      <td>4.2321</td>\n",
       "      <td>5.541158</td>\n",
       "      <td>NaN</td>\n",
       "      <td>NaN</td>\n",
       "      <td>65.34</td>\n",
       "      <td>...</td>\n",
       "      <td>14087.465378</td>\n",
       "      <td>4804.903582</td>\n",
       "      <td>0.0</td>\n",
       "      <td>7897.548812</td>\n",
       "      <td>6983.470568</td>\n",
       "      <td>9535.274410</td>\n",
       "      <td>6180.359278</td>\n",
       "      <td>11677.560587</td>\n",
       "      <td>15773.890232</td>\n",
       "      <td>6071.419079</td>\n",
       "    </tr>\n",
       "    <tr>\n",
       "      <th>2021-04-21</th>\n",
       "      <td>2021</td>\n",
       "      <td>4</td>\n",
       "      <td>NaN</td>\n",
       "      <td>NaN</td>\n",
       "      <td>NaN</td>\n",
       "      <td>NaN</td>\n",
       "      <td>NaN</td>\n",
       "      <td>NaN</td>\n",
       "      <td>NaN</td>\n",
       "      <td>64.02</td>\n",
       "      <td>...</td>\n",
       "      <td>NaN</td>\n",
       "      <td>NaN</td>\n",
       "      <td>NaN</td>\n",
       "      <td>NaN</td>\n",
       "      <td>NaN</td>\n",
       "      <td>NaN</td>\n",
       "      <td>NaN</td>\n",
       "      <td>NaN</td>\n",
       "      <td>NaN</td>\n",
       "      <td>NaN</td>\n",
       "    </tr>\n",
       "    <tr>\n",
       "      <th>2021-04-22</th>\n",
       "      <td>2021</td>\n",
       "      <td>4</td>\n",
       "      <td>5.2825</td>\n",
       "      <td>3.2950</td>\n",
       "      <td>3.6468</td>\n",
       "      <td>4.2122</td>\n",
       "      <td>5.489333</td>\n",
       "      <td>NaN</td>\n",
       "      <td>NaN</td>\n",
       "      <td>65.07</td>\n",
       "      <td>...</td>\n",
       "      <td>14136.559172</td>\n",
       "      <td>4805.185695</td>\n",
       "      <td>0.0</td>\n",
       "      <td>7948.028506</td>\n",
       "      <td>7002.882537</td>\n",
       "      <td>9626.472994</td>\n",
       "      <td>6199.673652</td>\n",
       "      <td>11682.239117</td>\n",
       "      <td>15854.835827</td>\n",
       "      <td>6089.793812</td>\n",
       "    </tr>\n",
       "    <tr>\n",
       "      <th>2021-04-23</th>\n",
       "      <td>2021</td>\n",
       "      <td>4</td>\n",
       "      <td>5.2785</td>\n",
       "      <td>3.2751</td>\n",
       "      <td>3.6439</td>\n",
       "      <td>4.2185</td>\n",
       "      <td>5.481023</td>\n",
       "      <td>NaN</td>\n",
       "      <td>NaN</td>\n",
       "      <td>65.75</td>\n",
       "      <td>...</td>\n",
       "      <td>14157.141847</td>\n",
       "      <td>4805.183570</td>\n",
       "      <td>0.0</td>\n",
       "      <td>7963.129658</td>\n",
       "      <td>7013.876891</td>\n",
       "      <td>9647.534642</td>\n",
       "      <td>6203.697506</td>\n",
       "      <td>11685.091187</td>\n",
       "      <td>15888.130162</td>\n",
       "      <td>6096.088162</td>\n",
       "    </tr>\n",
       "    <tr>\n",
       "      <th>...</th>\n",
       "      <td>...</td>\n",
       "      <td>...</td>\n",
       "      <td>...</td>\n",
       "      <td>...</td>\n",
       "      <td>...</td>\n",
       "      <td>...</td>\n",
       "      <td>...</td>\n",
       "      <td>...</td>\n",
       "      <td>...</td>\n",
       "      <td>...</td>\n",
       "      <td>...</td>\n",
       "      <td>...</td>\n",
       "      <td>...</td>\n",
       "      <td>...</td>\n",
       "      <td>...</td>\n",
       "      <td>...</td>\n",
       "      <td>...</td>\n",
       "      <td>...</td>\n",
       "      <td>...</td>\n",
       "      <td>...</td>\n",
       "      <td>...</td>\n",
       "    </tr>\n",
       "    <tr>\n",
       "      <th>2021-05-14</th>\n",
       "      <td>2021</td>\n",
       "      <td>5</td>\n",
       "      <td>5.8755</td>\n",
       "      <td>3.6179</td>\n",
       "      <td>4.0027</td>\n",
       "      <td>4.6566</td>\n",
       "      <td>5.276801</td>\n",
       "      <td>NaN</td>\n",
       "      <td>NaN</td>\n",
       "      <td>NaN</td>\n",
       "      <td>...</td>\n",
       "      <td>NaN</td>\n",
       "      <td>NaN</td>\n",
       "      <td>NaN</td>\n",
       "      <td>NaN</td>\n",
       "      <td>NaN</td>\n",
       "      <td>NaN</td>\n",
       "      <td>NaN</td>\n",
       "      <td>NaN</td>\n",
       "      <td>NaN</td>\n",
       "      <td>NaN</td>\n",
       "    </tr>\n",
       "    <tr>\n",
       "      <th>2021-05-15</th>\n",
       "      <td>2021</td>\n",
       "      <td>5</td>\n",
       "      <td>NaN</td>\n",
       "      <td>NaN</td>\n",
       "      <td>NaN</td>\n",
       "      <td>NaN</td>\n",
       "      <td>NaN</td>\n",
       "      <td>NaN</td>\n",
       "      <td>NaN</td>\n",
       "      <td>NaN</td>\n",
       "      <td>...</td>\n",
       "      <td>NaN</td>\n",
       "      <td>NaN</td>\n",
       "      <td>NaN</td>\n",
       "      <td>NaN</td>\n",
       "      <td>NaN</td>\n",
       "      <td>NaN</td>\n",
       "      <td>NaN</td>\n",
       "      <td>NaN</td>\n",
       "      <td>NaN</td>\n",
       "      <td>NaN</td>\n",
       "    </tr>\n",
       "    <tr>\n",
       "      <th>2021-05-16</th>\n",
       "      <td>2021</td>\n",
       "      <td>5</td>\n",
       "      <td>NaN</td>\n",
       "      <td>NaN</td>\n",
       "      <td>NaN</td>\n",
       "      <td>NaN</td>\n",
       "      <td>NaN</td>\n",
       "      <td>NaN</td>\n",
       "      <td>NaN</td>\n",
       "      <td>NaN</td>\n",
       "      <td>...</td>\n",
       "      <td>NaN</td>\n",
       "      <td>NaN</td>\n",
       "      <td>NaN</td>\n",
       "      <td>NaN</td>\n",
       "      <td>NaN</td>\n",
       "      <td>NaN</td>\n",
       "      <td>NaN</td>\n",
       "      <td>NaN</td>\n",
       "      <td>NaN</td>\n",
       "      <td>NaN</td>\n",
       "    </tr>\n",
       "    <tr>\n",
       "      <th>2021-05-17</th>\n",
       "      <td>2021</td>\n",
       "      <td>5</td>\n",
       "      <td>5.8536</td>\n",
       "      <td>3.6533</td>\n",
       "      <td>4.0160</td>\n",
       "      <td>4.6522</td>\n",
       "      <td>5.283204</td>\n",
       "      <td>NaN</td>\n",
       "      <td>NaN</td>\n",
       "      <td>NaN</td>\n",
       "      <td>...</td>\n",
       "      <td>NaN</td>\n",
       "      <td>NaN</td>\n",
       "      <td>NaN</td>\n",
       "      <td>NaN</td>\n",
       "      <td>NaN</td>\n",
       "      <td>NaN</td>\n",
       "      <td>NaN</td>\n",
       "      <td>NaN</td>\n",
       "      <td>NaN</td>\n",
       "      <td>NaN</td>\n",
       "    </tr>\n",
       "    <tr>\n",
       "      <th>2021-05-18</th>\n",
       "      <td>2021</td>\n",
       "      <td>5</td>\n",
       "      <td>NaN</td>\n",
       "      <td>NaN</td>\n",
       "      <td>NaN</td>\n",
       "      <td>NaN</td>\n",
       "      <td>NaN</td>\n",
       "      <td>NaN</td>\n",
       "      <td>NaN</td>\n",
       "      <td>NaN</td>\n",
       "      <td>...</td>\n",
       "      <td>NaN</td>\n",
       "      <td>NaN</td>\n",
       "      <td>NaN</td>\n",
       "      <td>NaN</td>\n",
       "      <td>NaN</td>\n",
       "      <td>NaN</td>\n",
       "      <td>NaN</td>\n",
       "      <td>NaN</td>\n",
       "      <td>NaN</td>\n",
       "      <td>NaN</td>\n",
       "    </tr>\n",
       "  </tbody>\n",
       "</table>\n",
       "<p>30 rows × 30 columns</p>\n",
       "</div>"
      ],
      "text/plain": [
       "            YEAR  MONTH  ANBIMA366_TJTLN12366  ANBIMA366_TJTLN1366  \\\n",
       "Date                                                                 \n",
       "2021-04-19  2021      4                5.2695               3.2885   \n",
       "2021-04-20  2021      4                5.3697               3.2439   \n",
       "2021-04-21  2021      4                   NaN                  NaN   \n",
       "2021-04-22  2021      4                5.2825               3.2950   \n",
       "2021-04-23  2021      4                5.2785               3.2751   \n",
       "...          ...    ...                   ...                  ...   \n",
       "2021-05-14  2021      5                5.8755               3.6179   \n",
       "2021-05-15  2021      5                   NaN                  NaN   \n",
       "2021-05-16  2021      5                   NaN                  NaN   \n",
       "2021-05-17  2021      5                5.8536               3.6533   \n",
       "2021-05-18  2021      5                   NaN                  NaN   \n",
       "\n",
       "            ANBIMA366_TJTLN3366  ANBIMA366_TJTLN6366  BMF366_FUT1DOL366  \\\n",
       "Date                                                                      \n",
       "2021-04-19               3.6240               4.1822           5.573941   \n",
       "2021-04-20               3.6257               4.2321           5.541158   \n",
       "2021-04-21                  NaN                  NaN                NaN   \n",
       "2021-04-22               3.6468               4.2122           5.489333   \n",
       "2021-04-23               3.6439               4.2185           5.481023   \n",
       "...                         ...                  ...                ...   \n",
       "2021-05-14               4.0027               4.6566           5.276801   \n",
       "2021-05-15                  NaN                  NaN                NaN   \n",
       "2021-05-16                  NaN                  NaN                NaN   \n",
       "2021-05-17               4.0160               4.6522           5.283204   \n",
       "2021-05-18                  NaN                  NaN                NaN   \n",
       "\n",
       "            BMF366_FUT3DOL366  BMF366_FUT3DOLV366  EIA366_PBRENT366  ...  \\\n",
       "Date                                                                 ...   \n",
       "2021-04-19                NaN                 NaN             66.54  ...   \n",
       "2021-04-20                NaN                 NaN             65.34  ...   \n",
       "2021-04-21                NaN                 NaN             64.02  ...   \n",
       "2021-04-22                NaN                 NaN             65.07  ...   \n",
       "2021-04-23                NaN                 NaN             65.75  ...   \n",
       "...                       ...                 ...               ...  ...   \n",
       "2021-05-14                NaN                 NaN               NaN  ...   \n",
       "2021-05-15                NaN                 NaN               NaN  ...   \n",
       "2021-05-16                NaN                 NaN               NaN  ...   \n",
       "2021-05-17                NaN                 NaN               NaN  ...   \n",
       "2021-05-18                NaN                 NaN               NaN  ...   \n",
       "\n",
       "                   IRF-M        IMA-S  IMA-C        IMA-B       IMA-B5  \\\n",
       "Date                                                                     \n",
       "2021-04-19  14117.483133  4804.709495    0.0  7934.288970  6996.284499   \n",
       "2021-04-20  14087.465378  4804.903582    0.0  7897.548812  6983.470568   \n",
       "2021-04-21           NaN          NaN    NaN          NaN          NaN   \n",
       "2021-04-22  14136.559172  4805.185695    0.0  7948.028506  7002.882537   \n",
       "2021-04-23  14157.141847  4805.183570    0.0  7963.129658  7013.876891   \n",
       "...                  ...          ...    ...          ...          ...   \n",
       "2021-05-14           NaN          NaN    NaN          NaN          NaN   \n",
       "2021-05-15           NaN          NaN    NaN          NaN          NaN   \n",
       "2021-05-16           NaN          NaN    NaN          NaN          NaN   \n",
       "2021-05-17           NaN          NaN    NaN          NaN          NaN   \n",
       "2021-05-18           NaN          NaN    NaN          NaN          NaN   \n",
       "\n",
       "             IMA-B5plus    IMA-Geral        IRF-M1    IRF-M1plus  \\\n",
       "Date                                                               \n",
       "2021-04-19  9603.227006  6192.298779  11678.505282  15824.765087   \n",
       "2021-04-20  9535.274410  6180.359278  11677.560587  15773.890232   \n",
       "2021-04-21          NaN          NaN           NaN           NaN   \n",
       "2021-04-22  9626.472994  6199.673652  11682.239117  15854.835827   \n",
       "2021-04-23  9647.534642  6203.697506  11685.091187  15888.130162   \n",
       "...                 ...          ...           ...           ...   \n",
       "2021-05-14          NaN          NaN           NaN           NaN   \n",
       "2021-05-15          NaN          NaN           NaN           NaN   \n",
       "2021-05-16          NaN          NaN           NaN           NaN   \n",
       "2021-05-17          NaN          NaN           NaN           NaN   \n",
       "2021-05-18          NaN          NaN           NaN           NaN   \n",
       "\n",
       "            IMA-Geral_exC  \n",
       "Date                       \n",
       "2021-04-19    6083.787816  \n",
       "2021-04-20    6071.419079  \n",
       "2021-04-21            NaN  \n",
       "2021-04-22    6089.793812  \n",
       "2021-04-23    6096.088162  \n",
       "...                   ...  \n",
       "2021-05-14            NaN  \n",
       "2021-05-15            NaN  \n",
       "2021-05-16            NaN  \n",
       "2021-05-17            NaN  \n",
       "2021-05-18            NaN  \n",
       "\n",
       "[30 rows x 30 columns]"
      ]
     },
     "execution_count": 113,
     "metadata": {},
     "output_type": "execute_result"
    }
   ],
   "source": [
    "df_all.tail(30)"
   ]
  },
  {
   "cell_type": "markdown",
   "metadata": {
    "id": "-OMB-2qnZRBq"
   },
   "source": [
    "### Cria indicadores de mês e ano para todas as linhas (mesmo onde havia NaN após o merge)"
   ]
  },
  {
   "cell_type": "code",
   "execution_count": 114,
   "metadata": {
    "id": "_RMzFrDsZRBq"
   },
   "outputs": [],
   "source": [
    "df_all['MONTH'] = df_all.index.month.astype('int')\n",
    "df_all['YEAR'] = df_all.index.year.astype('int')"
   ]
  },
  {
   "cell_type": "code",
   "execution_count": 115,
   "metadata": {
    "id": "6Kdu53-4ZRBq"
   },
   "outputs": [
    {
     "name": "stdout",
     "output_type": "stream",
     "text": [
      "<class 'pandas.core.frame.DataFrame'>\n",
      "DatetimeIndex: 1599 entries, 2017-01-01 to 2021-05-18\n",
      "Data columns (total 30 columns):\n",
      " #   Column                Non-Null Count  Dtype  \n",
      "---  ------                --------------  -----  \n",
      " 0   YEAR                  1599 non-null   int64  \n",
      " 1   MONTH                 1599 non-null   int64  \n",
      " 2   ANBIMA366_TJTLN12366  1350 non-null   float64\n",
      " 3   ANBIMA366_TJTLN1366   1349 non-null   float64\n",
      " 4   ANBIMA366_TJTLN3366   1350 non-null   float64\n",
      " 5   ANBIMA366_TJTLN6366   1350 non-null   float64\n",
      " 6   BMF366_FUT1DOL366     1329 non-null   float64\n",
      " 7   BMF366_FUT3DOL366     1054 non-null   float64\n",
      " 8   BMF366_FUT3DOLV366    799 non-null    float64\n",
      " 9   EIA366_PBRENT366      1356 non-null   float64\n",
      " 10  EIA366_PWTI366        1347 non-null   float64\n",
      " 11  GM366_DOW366          1087 non-null   float64\n",
      " 12  GM366_ERTUR366        1344 non-null   float64\n",
      " 13  GM366_ERV366          1096 non-null   float64\n",
      " 14  GM366_ERVV366         1096 non-null   float64\n",
      " 15  GM366_EUROV366        1093 non-null   float64\n",
      " 16  GM366_IBVSP366        1076 non-null   float64\n",
      " 17  GM366_IBVSPV366       1091 non-null   float64\n",
      " 18  SGS366_NASDAQ366      1084 non-null   float64\n",
      " 19  VALOR366_FEDFUND366   1598 non-null   float64\n",
      " 20  IRF-M                 1084 non-null   float64\n",
      " 21  IMA-S                 1084 non-null   float64\n",
      " 22  IMA-C                 1084 non-null   float64\n",
      " 23  IMA-B                 1084 non-null   float64\n",
      " 24  IMA-B5                1084 non-null   float64\n",
      " 25  IMA-B5plus            1084 non-null   float64\n",
      " 26  IMA-Geral             1084 non-null   float64\n",
      " 27  IRF-M1                1084 non-null   float64\n",
      " 28  IRF-M1plus            1084 non-null   float64\n",
      " 29  IMA-Geral_exC         1084 non-null   float64\n",
      "dtypes: float64(28), int64(2)\n",
      "memory usage: 387.3 KB\n"
     ]
    }
   ],
   "source": [
    "df_all.info()"
   ]
  },
  {
   "cell_type": "code",
   "execution_count": 117,
   "metadata": {
    "id": "AOqDIM9ZZRBq"
   },
   "outputs": [],
   "source": [
    "# Define data de hoje (para incluir nos arquivos de saida)\n",
    "data_hoje = datetime.now(tz = local_tz)\n",
    "# Converte para string (incluindo hora e minuto - útil se for rodar várias vezes no mesmo dia para testes)\n",
    "data_hoje = data_hoje.strftime(\"%Y_%m_%d_%H%M\")"
   ]
  },
  {
   "cell_type": "code",
   "execution_count": 118,
   "metadata": {
    "id": "u_ehX8LMZRBq"
   },
   "outputs": [
    {
     "name": "stdout",
     "output_type": "stream",
     "text": [
      " ****salvar df em .csv demorou  0.16  segundos *****\n"
     ]
    }
   ],
   "source": [
    "time_start = perf_counter()\n",
    "df_all.to_csv(path_result+'fat_risco_'+str(data_hoje)+'.csv',sep = ';' ,encoding='utf-8')\n",
    "\n",
    "time_end = perf_counter()\n",
    "elapsed_time = time_end - time_start\n",
    "print(' ****salvar df em .csv demorou ', round(elapsed_time,2) , ' segundos *****')"
   ]
  },
  {
   "cell_type": "code",
   "execution_count": 119,
   "metadata": {
    "id": "JtmOpLY1ZRBr"
   },
   "outputs": [
    {
     "name": "stdout",
     "output_type": "stream",
     "text": [
      " ****salvar df em .pkl demorou  0.04  segundos *****\n"
     ]
    }
   ],
   "source": [
    "time_start = perf_counter()\n",
    "df_all.to_pickle(path_result+'fat_risco_'+str(data_hoje)+'.pkl')\n",
    "\n",
    "time_end = perf_counter()\n",
    "elapsed_time = time_end - time_start\n",
    "print(' ****salvar df em .pkl demorou ', round(elapsed_time,2) , ' segundos *****')"
   ]
  },
  {
   "cell_type": "code",
   "execution_count": 120,
   "metadata": {
    "id": "6Pdd9FZPZRBr"
   },
   "outputs": [
    {
     "data": {
      "text/plain": [
       "'/home/jovyan/work/@Fund_Eval/@fatores_risco/'"
      ]
     },
     "execution_count": 120,
     "metadata": {},
     "output_type": "execute_result"
    }
   ],
   "source": [
    "path_result"
   ]
  },
  {
   "cell_type": "code",
   "execution_count": null,
   "metadata": {
    "id": "h4AUp4P7ZRBr"
   },
   "outputs": [],
   "source": []
  }
 ],
 "metadata": {
  "colab": {
   "collapsed_sections": [],
   "name": "005_leitura_dados_IPEADATA_BCB_rev_20210515.ipynb",
   "provenance": []
  },
  "kernelspec": {
   "display_name": "Python 3",
   "language": "python",
   "name": "python3"
  },
  "language_info": {
   "codemirror_mode": {
    "name": "ipython",
    "version": 3
   },
   "file_extension": ".py",
   "mimetype": "text/x-python",
   "name": "python",
   "nbconvert_exporter": "python",
   "pygments_lexer": "ipython3",
   "version": "3.9.2"
  }
 },
 "nbformat": 4,
 "nbformat_minor": 1
}
