{
  "nbformat": 4,
  "nbformat_minor": 0,
  "metadata": {
    "kernelspec": {
      "display_name": "Python 3",
      "language": "python",
      "name": "python3"
    },
    "language_info": {
      "codemirror_mode": {
        "name": "ipython",
        "version": 3
      },
      "file_extension": ".py",
      "mimetype": "text/x-python",
      "name": "python",
      "nbconvert_exporter": "python",
      "pygments_lexer": "ipython3",
      "version": "3.8.6"
    },
    "colab": {
      "name": "006_leitura_dados_FRED_rev_20210515.ipynb",
      "provenance": [],
      "collapsed_sections": [],
      "include_colab_link": true
    }
  },
  "cells": [
    {
      "cell_type": "markdown",
      "metadata": {
        "id": "view-in-github",
        "colab_type": "text"
      },
      "source": [
        "<a href=\"https://colab.research.google.com/github/barrosm/BIMASTER_CODE_PUBLIC/blob/main/006_leitura_dados_FRED_rev_20210515.ipynb\" target=\"_parent\"><img src=\"https://colab.research.google.com/assets/colab-badge.svg\" alt=\"Open In Colab\"/></a>"
      ]
    },
    {
      "cell_type": "markdown",
      "metadata": {
        "id": "PO9o14yuz8jx"
      },
      "source": [
        "## Leitura dados FRED (Federal Reserve Bank of St. Louis)"
      ]
    },
    {
      "cell_type": "markdown",
      "metadata": {
        "id": "nzrGqIFAz8j5"
      },
      "source": [
        "Leitura de dados diários macroeconômicos do FRED (Federal Reserve Bank of St. Louis)\n",
        "\n",
        "Monica Barros\n",
        "\n",
        "Data: 25/02/2021 - atualizado em 15/05/2021"
      ]
    },
    {
      "cell_type": "code",
      "metadata": {
        "colab": {
          "base_uri": "https://localhost:8080/"
        },
        "id": "5Rl0rsfLz8j6",
        "outputId": "2e263915-1376-47f0-92aa-7a614fcdfee9"
      },
      "source": [
        "import pandas as pd\n",
        "import matplotlib.pyplot as plt\n",
        "import numpy as np\n",
        "import os\n",
        "plt.style.use('fivethirtyeight')\n",
        "\n",
        "import seaborn as sns; \n",
        "sns.set(rc={'figure.figsize':(17,6)})\n",
        "\n",
        "plt.rcParams['axes.labelsize'] = 16\n",
        "plt.rcParams['xtick.labelsize'] = 14\n",
        "plt.rcParams['ytick.labelsize'] = 14\n",
        "\n",
        "pd.set_option('display.max_colwidth', None)\n",
        "\n",
        "from time import perf_counter\n",
        "\n",
        "import pickle\n",
        "import datetime\n",
        "\n",
        "!pip install pytz\n",
        "import pytz\n",
        "local_tz = pytz.timezone('America/Sao_Paulo')\n"
      ],
      "execution_count": 1,
      "outputs": [
        {
          "output_type": "stream",
          "text": [
            "Requirement already satisfied: pytz in /usr/local/lib/python3.7/dist-packages (2018.9)\n"
          ],
          "name": "stdout"
        }
      ]
    },
    {
      "cell_type": "code",
      "metadata": {
        "id": "qtsbpQIyz8j9"
      },
      "source": [
        "# Define data de hoje (para incluir nos arquivos de saida)\n",
        "data_hoje = datetime.datetime.now(tz = local_tz)\n",
        "# Converte para string (incluindo hora e minuto - útil se for rodar várias vezes no mesmo dia para testes)\n",
        "data_hoje = data_hoje.strftime(\"%Y_%m_%d_%H%M\")"
      ],
      "execution_count": 2,
      "outputs": []
    },
    {
      "cell_type": "code",
      "metadata": {
        "id": "h2w5eSxmz8j-"
      },
      "source": [
        "path_result = '/home/jovyan/work/@Fund_Eval/@fatores_risco/'\n",
        "os.makedirs(path_result, exist_ok = 'TRUE')\n",
        "\n",
        "#path_result = '/home/jovyan/work/@Fund_Eval/CVM/Diario/'\n",
        "#os.makedirs(path_result, exist_ok = 'TRUE')\n",
        "\n",
        "path_data = '/home/jovyan/work/@Fund_Eval/@dados_acoes/'\n",
        "os.makedirs(path_data, exist_ok = 'TRUE')\n",
        "\n",
        "path_code = '/home/jovyan/work/@Fund_Eval/PROGRAMAS/'\n",
        "os.makedirs(path_code, exist_ok = 'TRUE')"
      ],
      "execution_count": 3,
      "outputs": []
    },
    {
      "cell_type": "code",
      "metadata": {
        "id": "BVWLdxCaz8j_"
      },
      "source": [
        "import urllib3\n",
        "import json\n",
        "import urllib.request\n",
        "import pandas as pd\n",
        "import numpy as np\n",
        "from pandas.io.json import json_normalize"
      ],
      "execution_count": 5,
      "outputs": []
    },
    {
      "cell_type": "markdown",
      "metadata": {
        "id": "gNH14Rn_z8j_"
      },
      "source": [
        "### Pegando dados do FRED"
      ]
    },
    {
      "cell_type": "code",
      "metadata": {
        "colab": {
          "base_uri": "https://localhost:8080/"
        },
        "id": "rbpT_g1Ez8kA",
        "outputId": "9fcff9ea-440d-4760-ce16-c3552aee5bce"
      },
      "source": [
        "!pip install fredapi\n",
        "from fredapi import Fred\n",
        "\n",
        "fred = Fred(api_key='entre com sua api')  # Obtenha a key em https://fred.stlouisfed.org/docs/api/api_key.html\n",
        "\n",
        "list_series = ['SP500', 'NASDAQCOM', 'DJCA', 'DJIA', 'DJTA', 'WILL5000PR','VIXCLS', 'DCOILBRENTEU', 'DCOILWTICO','DGS10', 'DGS5', 'DGS1', 'DGS3MO'] #'WILL5000IND'"
      ],
      "execution_count": 6,
      "outputs": [
        {
          "output_type": "stream",
          "text": [
            "Collecting fredapi\n",
            "  Downloading https://files.pythonhosted.org/packages/db/82/9ca1e4a7f1b2ae057e8352cc46d016866c067a12d013fc05af0670f4291a/fredapi-0.4.3-py3-none-any.whl\n",
            "Requirement already satisfied: pandas in /usr/local/lib/python3.7/dist-packages (from fredapi) (1.1.5)\n",
            "Requirement already satisfied: pytz>=2017.2 in /usr/local/lib/python3.7/dist-packages (from pandas->fredapi) (2018.9)\n",
            "Requirement already satisfied: python-dateutil>=2.7.3 in /usr/local/lib/python3.7/dist-packages (from pandas->fredapi) (2.8.1)\n",
            "Requirement already satisfied: numpy>=1.15.4 in /usr/local/lib/python3.7/dist-packages (from pandas->fredapi) (1.19.5)\n",
            "Requirement already satisfied: six>=1.5 in /usr/local/lib/python3.7/dist-packages (from python-dateutil>=2.7.3->pandas->fredapi) (1.15.0)\n",
            "Installing collected packages: fredapi\n",
            "Successfully installed fredapi-0.4.3\n"
          ],
          "name": "stdout"
        }
      ]
    },
    {
      "cell_type": "code",
      "metadata": {
        "id": "ipvL6HfAz8kA"
      },
      "source": [
        "df = pd.DataFrame(columns = list_series)"
      ],
      "execution_count": 7,
      "outputs": []
    },
    {
      "cell_type": "code",
      "metadata": {
        "colab": {
          "base_uri": "https://localhost:8080/",
          "height": 168
        },
        "id": "EtDWpa_Pz8kB",
        "outputId": "0c9d9afe-3323-492e-dfb6-3d1247b7ef72"
      },
      "source": [
        "for i in range(len(list_series)):\n",
        "    df.iloc[:,i] = fred.get_series(list_series[i], observation_start = '2017-01-01')\n",
        "\n",
        "df.columns = ['SP500', 'NASDAQ', 'Dow_Jones_Comp_Avg', 'Dow_Jones_Ind_Avg', 'Dow_Jones_Transp_Avg','Wilshire5000',\n",
        "              'VIX', 'OIL_Brent', 'OIL_WTI','10yr_Treasury', '5yr_Treasury', '1yr_Treasury', '3mo_Treasury' ]\n",
        "\n",
        "df.index.name = 'Date'\n",
        "df.head(3)\n"
      ],
      "execution_count": 8,
      "outputs": [
        {
          "output_type": "execute_result",
          "data": {
            "text/html": [
              "<div>\n",
              "<style scoped>\n",
              "    .dataframe tbody tr th:only-of-type {\n",
              "        vertical-align: middle;\n",
              "    }\n",
              "\n",
              "    .dataframe tbody tr th {\n",
              "        vertical-align: top;\n",
              "    }\n",
              "\n",
              "    .dataframe thead th {\n",
              "        text-align: right;\n",
              "    }\n",
              "</style>\n",
              "<table border=\"1\" class=\"dataframe\">\n",
              "  <thead>\n",
              "    <tr style=\"text-align: right;\">\n",
              "      <th></th>\n",
              "      <th>SP500</th>\n",
              "      <th>NASDAQ</th>\n",
              "      <th>Dow_Jones_Comp_Avg</th>\n",
              "      <th>Dow_Jones_Ind_Avg</th>\n",
              "      <th>Dow_Jones_Transp_Avg</th>\n",
              "      <th>Wilshire5000</th>\n",
              "      <th>VIX</th>\n",
              "      <th>OIL_Brent</th>\n",
              "      <th>OIL_WTI</th>\n",
              "      <th>10yr_Treasury</th>\n",
              "      <th>5yr_Treasury</th>\n",
              "      <th>1yr_Treasury</th>\n",
              "      <th>3mo_Treasury</th>\n",
              "    </tr>\n",
              "    <tr>\n",
              "      <th>Date</th>\n",
              "      <th></th>\n",
              "      <th></th>\n",
              "      <th></th>\n",
              "      <th></th>\n",
              "      <th></th>\n",
              "      <th></th>\n",
              "      <th></th>\n",
              "      <th></th>\n",
              "      <th></th>\n",
              "      <th></th>\n",
              "      <th></th>\n",
              "      <th></th>\n",
              "      <th></th>\n",
              "    </tr>\n",
              "  </thead>\n",
              "  <tbody>\n",
              "    <tr>\n",
              "      <th>2017-01-02</th>\n",
              "      <td>NaN</td>\n",
              "      <td>NaN</td>\n",
              "      <td>NaN</td>\n",
              "      <td>NaN</td>\n",
              "      <td>NaN</td>\n",
              "      <td>NaN</td>\n",
              "      <td>NaN</td>\n",
              "      <td>NaN</td>\n",
              "      <td>NaN</td>\n",
              "      <td>NaN</td>\n",
              "      <td>NaN</td>\n",
              "      <td>NaN</td>\n",
              "      <td>NaN</td>\n",
              "    </tr>\n",
              "    <tr>\n",
              "      <th>2017-01-03</th>\n",
              "      <td>2257.83</td>\n",
              "      <td>5429.08</td>\n",
              "      <td>6917.33</td>\n",
              "      <td>19881.76</td>\n",
              "      <td>9023.86</td>\n",
              "      <td>23465.37</td>\n",
              "      <td>12.85</td>\n",
              "      <td>55.05</td>\n",
              "      <td>52.36</td>\n",
              "      <td>2.45</td>\n",
              "      <td>1.94</td>\n",
              "      <td>0.89</td>\n",
              "      <td>0.53</td>\n",
              "    </tr>\n",
              "    <tr>\n",
              "      <th>2017-01-04</th>\n",
              "      <td>2270.75</td>\n",
              "      <td>5477.00</td>\n",
              "      <td>6952.31</td>\n",
              "      <td>19942.16</td>\n",
              "      <td>9115.72</td>\n",
              "      <td>23639.16</td>\n",
              "      <td>11.85</td>\n",
              "      <td>54.57</td>\n",
              "      <td>53.26</td>\n",
              "      <td>2.46</td>\n",
              "      <td>1.94</td>\n",
              "      <td>0.87</td>\n",
              "      <td>0.53</td>\n",
              "    </tr>\n",
              "  </tbody>\n",
              "</table>\n",
              "</div>"
            ],
            "text/plain": [
              "              SP500   NASDAQ  ...  1yr_Treasury  3mo_Treasury\n",
              "Date                          ...                            \n",
              "2017-01-02      NaN      NaN  ...           NaN           NaN\n",
              "2017-01-03  2257.83  5429.08  ...          0.89          0.53\n",
              "2017-01-04  2270.75  5477.00  ...          0.87          0.53\n",
              "\n",
              "[3 rows x 13 columns]"
            ]
          },
          "metadata": {
            "tags": []
          },
          "execution_count": 8
        }
      ]
    },
    {
      "cell_type": "code",
      "metadata": {
        "colab": {
          "base_uri": "https://localhost:8080/"
        },
        "id": "f9LIdgriz8kC",
        "outputId": "1377fca6-c285-45ec-ea8b-1c9041fde5b1"
      },
      "source": [
        "df.info()"
      ],
      "execution_count": 9,
      "outputs": [
        {
          "output_type": "stream",
          "text": [
            "<class 'pandas.core.frame.DataFrame'>\n",
            "DatetimeIndex: 1140 entries, 2017-01-02 to 2021-05-14\n",
            "Data columns (total 13 columns):\n",
            " #   Column                Non-Null Count  Dtype  \n",
            "---  ------                --------------  -----  \n",
            " 0   SP500                 1099 non-null   float64\n",
            " 1   NASDAQ                1100 non-null   float64\n",
            " 2   Dow_Jones_Comp_Avg    1099 non-null   float64\n",
            " 3   Dow_Jones_Ind_Avg     1099 non-null   float64\n",
            " 4   Dow_Jones_Transp_Avg  1099 non-null   float64\n",
            " 5   Wilshire5000          1098 non-null   float64\n",
            " 6   VIX                   1097 non-null   float64\n",
            " 7   OIL_Brent             1108 non-null   float64\n",
            " 8   OIL_WTI               1089 non-null   float64\n",
            " 9   10yr_Treasury         1092 non-null   float64\n",
            " 10  5yr_Treasury          1092 non-null   float64\n",
            " 11  1yr_Treasury          1092 non-null   float64\n",
            " 12  3mo_Treasury          1092 non-null   float64\n",
            "dtypes: float64(13)\n",
            "memory usage: 124.7 KB\n"
          ],
          "name": "stdout"
        }
      ]
    },
    {
      "cell_type": "markdown",
      "metadata": {
        "id": "xW1Xto52z8kC"
      },
      "source": [
        "## Salva em csv e pkl"
      ]
    },
    {
      "cell_type": "code",
      "metadata": {
        "colab": {
          "base_uri": "https://localhost:8080/"
        },
        "id": "dOLHpNrBz8kC",
        "outputId": "21cbfc1e-2341-4f8d-a25e-3b7059869119"
      },
      "source": [
        "time_start = perf_counter()\n",
        "df.to_csv(path_result+'indices_internacionais_'+str(data_hoje)+'.csv',sep = ';' ,encoding='utf-8')\n",
        "time_end = perf_counter()\n",
        "elapsed_time = time_end - time_start\n",
        "print(' ****salvar df em .csv demorou ', round(elapsed_time,2) , ' segundos *****')"
      ],
      "execution_count": 10,
      "outputs": [
        {
          "output_type": "stream",
          "text": [
            " ****salvar df em .csv demorou  0.04  segundos *****\n"
          ],
          "name": "stdout"
        }
      ]
    },
    {
      "cell_type": "code",
      "metadata": {
        "colab": {
          "base_uri": "https://localhost:8080/"
        },
        "id": "L2B72n9gz8kD",
        "outputId": "3baa43ac-4ded-4a43-ac6c-82fbf6853e6a"
      },
      "source": [
        "time_start = perf_counter()\n",
        "df.to_pickle(path_result+'indices_internacionais_'+str(data_hoje)+'.pkl')\n",
        "time_end = perf_counter()\n",
        "elapsed_time = time_end - time_start\n",
        "print(' ****salvar df em .pkl demorou ', round(elapsed_time,2) , ' segundos *****')"
      ],
      "execution_count": 11,
      "outputs": [
        {
          "output_type": "stream",
          "text": [
            " ****salvar df em .pkl demorou  0.0  segundos *****\n"
          ],
          "name": "stdout"
        }
      ]
    },
    {
      "cell_type": "code",
      "metadata": {
        "id": "DGH5y--Nz8kE"
      },
      "source": [
        ""
      ],
      "execution_count": null,
      "outputs": []
    }
  ]
}