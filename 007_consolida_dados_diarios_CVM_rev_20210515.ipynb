{
  "nbformat": 4,
  "nbformat_minor": 0,
  "metadata": {
    "kernelspec": {
      "display_name": "Python 3",
      "language": "python",
      "name": "python3"
    },
    "language_info": {
      "codemirror_mode": {
        "name": "ipython",
        "version": 3
      },
      "file_extension": ".py",
      "mimetype": "text/x-python",
      "name": "python",
      "nbconvert_exporter": "python",
      "pygments_lexer": "ipython3",
      "version": "3.8.6"
    },
    "colab": {
      "name": "007_consolida_dados_diarios_CVM_rev_20210515.ipynb",
      "provenance": [],
      "collapsed_sections": [],
      "include_colab_link": true
    }
  },
  "cells": [
    {
      "cell_type": "markdown",
      "metadata": {
        "id": "view-in-github",
        "colab_type": "text"
      },
      "source": [
        "<a href=\"https://colab.research.google.com/github/barrosm/BIMASTER_CODE_PUBLIC/blob/main/007_consolida_dados_diarios_CVM_rev_20210515.ipynb\" target=\"_parent\"><img src=\"https://colab.research.google.com/assets/colab-badge.svg\" alt=\"Open In Colab\"/></a>"
      ]
    },
    {
      "cell_type": "markdown",
      "metadata": {
        "id": "bfLans-Y2a5s"
      },
      "source": [
        "## Consolida dados diários já coletados e salvos em csv e pkl"
      ]
    },
    {
      "cell_type": "markdown",
      "metadata": {
        "id": "qsqZet2l2a52"
      },
      "source": [
        "### Data: 19/02/2021  atualização em 15/05/2021"
      ]
    },
    {
      "cell_type": "code",
      "metadata": {
        "id": "bcG31WZM2a54"
      },
      "source": [
        "import pandas as pd\n",
        "import matplotlib.pyplot as plt\n",
        "import numpy as np\n",
        "\n",
        "plt.style.use('fivethirtyeight')\n",
        "pd.set_option('max_colwidth', 200)  # Altera largura máxima das colunas\n",
        "pd.set_option('display.max_colwidth', None)\n",
        "\n",
        "import seaborn as sns; \n",
        "sns.set(rc={'figure.figsize':(17,6)})\n",
        "\n",
        "plt.rcParams['axes.labelsize'] = 16\n",
        "plt.rcParams['xtick.labelsize'] = 14\n",
        "plt.rcParams['ytick.labelsize'] = 14\n",
        "\n",
        "import os\n",
        "import datetime\n",
        "from dateutil.relativedelta import relativedelta\n",
        "import time\n",
        "from time import perf_counter\n",
        "\n",
        "import glob\n",
        "import pickle\n",
        "\n",
        "#!pip install openpyxl\n",
        "from openpyxl import Workbook\n",
        "\n",
        "#!pip install pytz\n",
        "import pytz\n",
        "local_tz = pytz.timezone('America/Sao_Paulo')"
      ],
      "execution_count": 1,
      "outputs": []
    },
    {
      "cell_type": "code",
      "metadata": {
        "id": "Xr0_oCyh2a55"
      },
      "source": [
        "path = '/home/jovyan/work/@Fund_Eval/CVM/Diario/'\n",
        "os.makedirs(path, exist_ok = 'TRUE')\n",
        "\n",
        "current_dir = path\n",
        "\n",
        "os.chdir(current_dir)"
      ],
      "execution_count": 2,
      "outputs": []
    },
    {
      "cell_type": "code",
      "metadata": {
        "colab": {
          "base_uri": "https://localhost:8080/"
        },
        "id": "x4fXOOqH2a55",
        "outputId": "d4fe5715-e001-41a4-8408-edc406b9dfb4"
      },
      "source": [
        "os.listdir()"
      ],
      "execution_count": 3,
      "outputs": [
        {
          "output_type": "execute_result",
          "data": {
            "text/plain": [
              "[]"
            ]
          },
          "metadata": {
            "tags": []
          },
          "execution_count": 3
        }
      ]
    },
    {
      "cell_type": "markdown",
      "metadata": {
        "id": "b6aC45ku2a56"
      },
      "source": [
        "### Leitura dos dados ano a ano"
      ]
    },
    {
      "cell_type": "markdown",
      "metadata": {
        "id": "sgBXU26W2a57"
      },
      "source": [
        "# 2017"
      ]
    },
    {
      "cell_type": "code",
      "metadata": {
        "id": "DOmMri_c2a58"
      },
      "source": [
        "df1 = pd.read_pickle(current_dir + 'df_diario_201701_201712.pkl')"
      ],
      "execution_count": null,
      "outputs": []
    },
    {
      "cell_type": "code",
      "metadata": {
        "id": "mDPWF5Nv2a58",
        "outputId": "24e7d688-a7b3-460a-9ae3-6a9bb322e3b0"
      },
      "source": [
        "df1.head(3)   # Aqui CNPJ fundo é índice - alterar com reset_index para ficar igual aos outros"
      ],
      "execution_count": null,
      "outputs": [
        {
          "output_type": "execute_result",
          "data": {
            "text/html": [
              "<div>\n",
              "<style scoped>\n",
              "    .dataframe tbody tr th:only-of-type {\n",
              "        vertical-align: middle;\n",
              "    }\n",
              "\n",
              "    .dataframe tbody tr th {\n",
              "        vertical-align: top;\n",
              "    }\n",
              "\n",
              "    .dataframe thead th {\n",
              "        text-align: right;\n",
              "    }\n",
              "</style>\n",
              "<table border=\"1\" class=\"dataframe\">\n",
              "  <thead>\n",
              "    <tr style=\"text-align: right;\">\n",
              "      <th></th>\n",
              "      <th>DT_COMPTC</th>\n",
              "      <th>VL_TOTAL</th>\n",
              "      <th>VL_QUOTA</th>\n",
              "      <th>VL_PATRIM_LIQ</th>\n",
              "      <th>CAPTC_DIA</th>\n",
              "      <th>RESG_DIA</th>\n",
              "      <th>NR_COTST</th>\n",
              "    </tr>\n",
              "    <tr>\n",
              "      <th>CNPJ_FUNDO</th>\n",
              "      <th></th>\n",
              "      <th></th>\n",
              "      <th></th>\n",
              "      <th></th>\n",
              "      <th></th>\n",
              "      <th></th>\n",
              "      <th></th>\n",
              "    </tr>\n",
              "  </thead>\n",
              "  <tbody>\n",
              "    <tr>\n",
              "      <th>00.017.024/0001-53</th>\n",
              "      <td>2017-01-02</td>\n",
              "      <td>1082310.35</td>\n",
              "      <td>24.264751</td>\n",
              "      <td>1080998.58</td>\n",
              "      <td>0.0</td>\n",
              "      <td>0.0</td>\n",
              "      <td>1</td>\n",
              "    </tr>\n",
              "    <tr>\n",
              "      <th>00.017.024/0001-53</th>\n",
              "      <td>2017-01-03</td>\n",
              "      <td>1082843.72</td>\n",
              "      <td>24.274863</td>\n",
              "      <td>1081449.09</td>\n",
              "      <td>0.0</td>\n",
              "      <td>0.0</td>\n",
              "      <td>1</td>\n",
              "    </tr>\n",
              "    <tr>\n",
              "      <th>00.017.024/0001-53</th>\n",
              "      <td>2017-01-04</td>\n",
              "      <td>1083398.28</td>\n",
              "      <td>24.284681</td>\n",
              "      <td>1081886.49</td>\n",
              "      <td>0.0</td>\n",
              "      <td>0.0</td>\n",
              "      <td>1</td>\n",
              "    </tr>\n",
              "  </tbody>\n",
              "</table>\n",
              "</div>"
            ],
            "text/plain": [
              "                     DT_COMPTC    VL_TOTAL   VL_QUOTA  VL_PATRIM_LIQ  \\\n",
              "CNPJ_FUNDO                                                             \n",
              "00.017.024/0001-53  2017-01-02  1082310.35  24.264751     1080998.58   \n",
              "00.017.024/0001-53  2017-01-03  1082843.72  24.274863     1081449.09   \n",
              "00.017.024/0001-53  2017-01-04  1083398.28  24.284681     1081886.49   \n",
              "\n",
              "                    CAPTC_DIA  RESG_DIA  NR_COTST  \n",
              "CNPJ_FUNDO                                         \n",
              "00.017.024/0001-53        0.0       0.0         1  \n",
              "00.017.024/0001-53        0.0       0.0         1  \n",
              "00.017.024/0001-53        0.0       0.0         1  "
            ]
          },
          "metadata": {
            "tags": []
          },
          "execution_count": 6
        }
      ]
    },
    {
      "cell_type": "code",
      "metadata": {
        "id": "OUQN3e362a59"
      },
      "source": [
        "df1 = df1.reset_index()"
      ],
      "execution_count": null,
      "outputs": []
    },
    {
      "cell_type": "code",
      "metadata": {
        "id": "x0tp6mc82a59",
        "outputId": "8506a27a-f001-4ae1-9542-d7d0e04ae4ea"
      },
      "source": [
        "df1.head(3)"
      ],
      "execution_count": null,
      "outputs": [
        {
          "output_type": "execute_result",
          "data": {
            "text/html": [
              "<div>\n",
              "<style scoped>\n",
              "    .dataframe tbody tr th:only-of-type {\n",
              "        vertical-align: middle;\n",
              "    }\n",
              "\n",
              "    .dataframe tbody tr th {\n",
              "        vertical-align: top;\n",
              "    }\n",
              "\n",
              "    .dataframe thead th {\n",
              "        text-align: right;\n",
              "    }\n",
              "</style>\n",
              "<table border=\"1\" class=\"dataframe\">\n",
              "  <thead>\n",
              "    <tr style=\"text-align: right;\">\n",
              "      <th></th>\n",
              "      <th>CNPJ_FUNDO</th>\n",
              "      <th>DT_COMPTC</th>\n",
              "      <th>VL_TOTAL</th>\n",
              "      <th>VL_QUOTA</th>\n",
              "      <th>VL_PATRIM_LIQ</th>\n",
              "      <th>CAPTC_DIA</th>\n",
              "      <th>RESG_DIA</th>\n",
              "      <th>NR_COTST</th>\n",
              "    </tr>\n",
              "  </thead>\n",
              "  <tbody>\n",
              "    <tr>\n",
              "      <th>0</th>\n",
              "      <td>00.017.024/0001-53</td>\n",
              "      <td>2017-01-02</td>\n",
              "      <td>1082310.35</td>\n",
              "      <td>24.264751</td>\n",
              "      <td>1080998.58</td>\n",
              "      <td>0.0</td>\n",
              "      <td>0.0</td>\n",
              "      <td>1</td>\n",
              "    </tr>\n",
              "    <tr>\n",
              "      <th>1</th>\n",
              "      <td>00.017.024/0001-53</td>\n",
              "      <td>2017-01-03</td>\n",
              "      <td>1082843.72</td>\n",
              "      <td>24.274863</td>\n",
              "      <td>1081449.09</td>\n",
              "      <td>0.0</td>\n",
              "      <td>0.0</td>\n",
              "      <td>1</td>\n",
              "    </tr>\n",
              "    <tr>\n",
              "      <th>2</th>\n",
              "      <td>00.017.024/0001-53</td>\n",
              "      <td>2017-01-04</td>\n",
              "      <td>1083398.28</td>\n",
              "      <td>24.284681</td>\n",
              "      <td>1081886.49</td>\n",
              "      <td>0.0</td>\n",
              "      <td>0.0</td>\n",
              "      <td>1</td>\n",
              "    </tr>\n",
              "  </tbody>\n",
              "</table>\n",
              "</div>"
            ],
            "text/plain": [
              "           CNPJ_FUNDO   DT_COMPTC    VL_TOTAL   VL_QUOTA  VL_PATRIM_LIQ  \\\n",
              "0  00.017.024/0001-53  2017-01-02  1082310.35  24.264751     1080998.58   \n",
              "1  00.017.024/0001-53  2017-01-03  1082843.72  24.274863     1081449.09   \n",
              "2  00.017.024/0001-53  2017-01-04  1083398.28  24.284681     1081886.49   \n",
              "\n",
              "   CAPTC_DIA  RESG_DIA  NR_COTST  \n",
              "0        0.0       0.0         1  \n",
              "1        0.0       0.0         1  \n",
              "2        0.0       0.0         1  "
            ]
          },
          "metadata": {
            "tags": []
          },
          "execution_count": 8
        }
      ]
    },
    {
      "cell_type": "markdown",
      "metadata": {
        "id": "uZmyDPcg2a5-"
      },
      "source": [
        "# 2018"
      ]
    },
    {
      "cell_type": "code",
      "metadata": {
        "id": "JlLx30U32a5-",
        "outputId": "d8f8daea-3042-4ef7-d1cb-dd90137c9d64"
      },
      "source": [
        "df2 = pd.read_pickle(current_dir + 'df_diario_201801_201812.pkl')\n",
        "df2.head(3)"
      ],
      "execution_count": null,
      "outputs": [
        {
          "output_type": "execute_result",
          "data": {
            "text/html": [
              "<div>\n",
              "<style scoped>\n",
              "    .dataframe tbody tr th:only-of-type {\n",
              "        vertical-align: middle;\n",
              "    }\n",
              "\n",
              "    .dataframe tbody tr th {\n",
              "        vertical-align: top;\n",
              "    }\n",
              "\n",
              "    .dataframe thead th {\n",
              "        text-align: right;\n",
              "    }\n",
              "</style>\n",
              "<table border=\"1\" class=\"dataframe\">\n",
              "  <thead>\n",
              "    <tr style=\"text-align: right;\">\n",
              "      <th></th>\n",
              "      <th>CNPJ_FUNDO</th>\n",
              "      <th>DT_COMPTC</th>\n",
              "      <th>VL_TOTAL</th>\n",
              "      <th>VL_QUOTA</th>\n",
              "      <th>VL_PATRIM_LIQ</th>\n",
              "      <th>CAPTC_DIA</th>\n",
              "      <th>RESG_DIA</th>\n",
              "      <th>NR_COTST</th>\n",
              "    </tr>\n",
              "  </thead>\n",
              "  <tbody>\n",
              "    <tr>\n",
              "      <th>0</th>\n",
              "      <td>00.017.024/0001-53</td>\n",
              "      <td>2018-01-02</td>\n",
              "      <td>1130197.89</td>\n",
              "      <td>25.968274</td>\n",
              "      <td>1130221.60</td>\n",
              "      <td>0.0</td>\n",
              "      <td>0.0</td>\n",
              "      <td>1</td>\n",
              "    </tr>\n",
              "    <tr>\n",
              "      <th>1</th>\n",
              "      <td>00.017.024/0001-53</td>\n",
              "      <td>2018-01-03</td>\n",
              "      <td>1130497.24</td>\n",
              "      <td>25.972772</td>\n",
              "      <td>1130417.38</td>\n",
              "      <td>0.0</td>\n",
              "      <td>0.0</td>\n",
              "      <td>1</td>\n",
              "    </tr>\n",
              "    <tr>\n",
              "      <th>2</th>\n",
              "      <td>00.017.024/0001-53</td>\n",
              "      <td>2018-01-04</td>\n",
              "      <td>1130796.56</td>\n",
              "      <td>25.977238</td>\n",
              "      <td>1130611.74</td>\n",
              "      <td>0.0</td>\n",
              "      <td>0.0</td>\n",
              "      <td>1</td>\n",
              "    </tr>\n",
              "  </tbody>\n",
              "</table>\n",
              "</div>"
            ],
            "text/plain": [
              "           CNPJ_FUNDO   DT_COMPTC    VL_TOTAL   VL_QUOTA  VL_PATRIM_LIQ  \\\n",
              "0  00.017.024/0001-53  2018-01-02  1130197.89  25.968274     1130221.60   \n",
              "1  00.017.024/0001-53  2018-01-03  1130497.24  25.972772     1130417.38   \n",
              "2  00.017.024/0001-53  2018-01-04  1130796.56  25.977238     1130611.74   \n",
              "\n",
              "   CAPTC_DIA  RESG_DIA  NR_COTST  \n",
              "0        0.0       0.0         1  \n",
              "1        0.0       0.0         1  \n",
              "2        0.0       0.0         1  "
            ]
          },
          "metadata": {
            "tags": []
          },
          "execution_count": 9
        }
      ]
    },
    {
      "cell_type": "markdown",
      "metadata": {
        "id": "1XDFcPpt2a6B"
      },
      "source": [
        "# 2019"
      ]
    },
    {
      "cell_type": "code",
      "metadata": {
        "id": "_QMQIGfg2a6B",
        "outputId": "e22d9220-b83a-4af2-ddba-f2490f722a0b"
      },
      "source": [
        "df3 = pd.read_pickle(current_dir + 'df_diario_201901_201912.pkl')\n",
        "df3.head(3)"
      ],
      "execution_count": null,
      "outputs": [
        {
          "output_type": "execute_result",
          "data": {
            "text/html": [
              "<div>\n",
              "<style scoped>\n",
              "    .dataframe tbody tr th:only-of-type {\n",
              "        vertical-align: middle;\n",
              "    }\n",
              "\n",
              "    .dataframe tbody tr th {\n",
              "        vertical-align: top;\n",
              "    }\n",
              "\n",
              "    .dataframe thead th {\n",
              "        text-align: right;\n",
              "    }\n",
              "</style>\n",
              "<table border=\"1\" class=\"dataframe\">\n",
              "  <thead>\n",
              "    <tr style=\"text-align: right;\">\n",
              "      <th></th>\n",
              "      <th>CNPJ_FUNDO</th>\n",
              "      <th>DT_COMPTC</th>\n",
              "      <th>VL_TOTAL</th>\n",
              "      <th>VL_QUOTA</th>\n",
              "      <th>VL_PATRIM_LIQ</th>\n",
              "      <th>CAPTC_DIA</th>\n",
              "      <th>RESG_DIA</th>\n",
              "      <th>NR_COTST</th>\n",
              "    </tr>\n",
              "  </thead>\n",
              "  <tbody>\n",
              "    <tr>\n",
              "      <th>0</th>\n",
              "      <td>00.017.024/0001-53</td>\n",
              "      <td>2019-01-02</td>\n",
              "      <td>1134502.30</td>\n",
              "      <td>26.653280</td>\n",
              "      <td>1130684.21</td>\n",
              "      <td>0.0</td>\n",
              "      <td>0.0</td>\n",
              "      <td>1</td>\n",
              "    </tr>\n",
              "    <tr>\n",
              "      <th>1</th>\n",
              "      <td>00.017.024/0001-53</td>\n",
              "      <td>2019-01-03</td>\n",
              "      <td>1134781.90</td>\n",
              "      <td>26.655665</td>\n",
              "      <td>1130785.41</td>\n",
              "      <td>0.0</td>\n",
              "      <td>0.0</td>\n",
              "      <td>1</td>\n",
              "    </tr>\n",
              "    <tr>\n",
              "      <th>2</th>\n",
              "      <td>00.017.024/0001-53</td>\n",
              "      <td>2019-01-04</td>\n",
              "      <td>1135061.25</td>\n",
              "      <td>26.658060</td>\n",
              "      <td>1130887.00</td>\n",
              "      <td>0.0</td>\n",
              "      <td>0.0</td>\n",
              "      <td>1</td>\n",
              "    </tr>\n",
              "  </tbody>\n",
              "</table>\n",
              "</div>"
            ],
            "text/plain": [
              "           CNPJ_FUNDO   DT_COMPTC    VL_TOTAL   VL_QUOTA  VL_PATRIM_LIQ  \\\n",
              "0  00.017.024/0001-53  2019-01-02  1134502.30  26.653280     1130684.21   \n",
              "1  00.017.024/0001-53  2019-01-03  1134781.90  26.655665     1130785.41   \n",
              "2  00.017.024/0001-53  2019-01-04  1135061.25  26.658060     1130887.00   \n",
              "\n",
              "   CAPTC_DIA  RESG_DIA  NR_COTST  \n",
              "0        0.0       0.0         1  \n",
              "1        0.0       0.0         1  \n",
              "2        0.0       0.0         1  "
            ]
          },
          "metadata": {
            "tags": []
          },
          "execution_count": 10
        }
      ]
    },
    {
      "cell_type": "markdown",
      "metadata": {
        "id": "bHbkYpuW2a6B"
      },
      "source": [
        "# 2020 até agosto"
      ]
    },
    {
      "cell_type": "code",
      "metadata": {
        "id": "JGlMRXaR2a6C",
        "outputId": "5c65a88e-80cf-4206-d83d-750ae04b28e0"
      },
      "source": [
        "df4 = pd.read_pickle(current_dir + 'df_diario_202001_202008.pkl')\n",
        "df4.head(3)"
      ],
      "execution_count": null,
      "outputs": [
        {
          "output_type": "execute_result",
          "data": {
            "text/html": [
              "<div>\n",
              "<style scoped>\n",
              "    .dataframe tbody tr th:only-of-type {\n",
              "        vertical-align: middle;\n",
              "    }\n",
              "\n",
              "    .dataframe tbody tr th {\n",
              "        vertical-align: top;\n",
              "    }\n",
              "\n",
              "    .dataframe thead th {\n",
              "        text-align: right;\n",
              "    }\n",
              "</style>\n",
              "<table border=\"1\" class=\"dataframe\">\n",
              "  <thead>\n",
              "    <tr style=\"text-align: right;\">\n",
              "      <th></th>\n",
              "      <th>CNPJ_FUNDO</th>\n",
              "      <th>DT_COMPTC</th>\n",
              "      <th>VL_TOTAL</th>\n",
              "      <th>VL_QUOTA</th>\n",
              "      <th>VL_PATRIM_LIQ</th>\n",
              "      <th>CAPTC_DIA</th>\n",
              "      <th>RESG_DIA</th>\n",
              "      <th>NR_COTST</th>\n",
              "    </tr>\n",
              "  </thead>\n",
              "  <tbody>\n",
              "    <tr>\n",
              "      <th>0</th>\n",
              "      <td>00.017.024/0001-53</td>\n",
              "      <td>2020-01-02</td>\n",
              "      <td>1132491.66</td>\n",
              "      <td>27.225023</td>\n",
              "      <td>1123583.00</td>\n",
              "      <td>0.0</td>\n",
              "      <td>0.0</td>\n",
              "      <td>1</td>\n",
              "    </tr>\n",
              "    <tr>\n",
              "      <th>1</th>\n",
              "      <td>00.017.024/0001-53</td>\n",
              "      <td>2020-01-03</td>\n",
              "      <td>1132685.12</td>\n",
              "      <td>27.224496</td>\n",
              "      <td>1123561.25</td>\n",
              "      <td>0.0</td>\n",
              "      <td>0.0</td>\n",
              "      <td>1</td>\n",
              "    </tr>\n",
              "    <tr>\n",
              "      <th>2</th>\n",
              "      <td>00.017.024/0001-53</td>\n",
              "      <td>2020-01-06</td>\n",
              "      <td>1132881.43</td>\n",
              "      <td>27.225564</td>\n",
              "      <td>1123605.31</td>\n",
              "      <td>0.0</td>\n",
              "      <td>0.0</td>\n",
              "      <td>1</td>\n",
              "    </tr>\n",
              "  </tbody>\n",
              "</table>\n",
              "</div>"
            ],
            "text/plain": [
              "           CNPJ_FUNDO   DT_COMPTC    VL_TOTAL   VL_QUOTA  VL_PATRIM_LIQ  \\\n",
              "0  00.017.024/0001-53  2020-01-02  1132491.66  27.225023     1123583.00   \n",
              "1  00.017.024/0001-53  2020-01-03  1132685.12  27.224496     1123561.25   \n",
              "2  00.017.024/0001-53  2020-01-06  1132881.43  27.225564     1123605.31   \n",
              "\n",
              "   CAPTC_DIA  RESG_DIA  NR_COTST  \n",
              "0        0.0       0.0         1  \n",
              "1        0.0       0.0         1  \n",
              "2        0.0       0.0         1  "
            ]
          },
          "metadata": {
            "tags": []
          },
          "execution_count": 11
        }
      ]
    },
    {
      "cell_type": "code",
      "metadata": {
        "id": "l5HiN5Is2a6C",
        "outputId": "730b886e-6018-4c98-bed8-7db8290003b0"
      },
      "source": [
        "df4.tail()"
      ],
      "execution_count": null,
      "outputs": [
        {
          "output_type": "execute_result",
          "data": {
            "text/html": [
              "<div>\n",
              "<style scoped>\n",
              "    .dataframe tbody tr th:only-of-type {\n",
              "        vertical-align: middle;\n",
              "    }\n",
              "\n",
              "    .dataframe tbody tr th {\n",
              "        vertical-align: top;\n",
              "    }\n",
              "\n",
              "    .dataframe thead th {\n",
              "        text-align: right;\n",
              "    }\n",
              "</style>\n",
              "<table border=\"1\" class=\"dataframe\">\n",
              "  <thead>\n",
              "    <tr style=\"text-align: right;\">\n",
              "      <th></th>\n",
              "      <th>CNPJ_FUNDO</th>\n",
              "      <th>DT_COMPTC</th>\n",
              "      <th>VL_TOTAL</th>\n",
              "      <th>VL_QUOTA</th>\n",
              "      <th>VL_PATRIM_LIQ</th>\n",
              "      <th>CAPTC_DIA</th>\n",
              "      <th>RESG_DIA</th>\n",
              "      <th>NR_COTST</th>\n",
              "    </tr>\n",
              "  </thead>\n",
              "  <tbody>\n",
              "    <tr>\n",
              "      <th>2914520</th>\n",
              "      <td>97.929.213/0001-34</td>\n",
              "      <td>2020-08-25</td>\n",
              "      <td>65907693.19</td>\n",
              "      <td>9.018819</td>\n",
              "      <td>68536905.75</td>\n",
              "      <td>0.0</td>\n",
              "      <td>0.0</td>\n",
              "      <td>2</td>\n",
              "    </tr>\n",
              "    <tr>\n",
              "      <th>2914521</th>\n",
              "      <td>97.929.213/0001-34</td>\n",
              "      <td>2020-08-26</td>\n",
              "      <td>68637458.33</td>\n",
              "      <td>9.030580</td>\n",
              "      <td>68626282.69</td>\n",
              "      <td>0.0</td>\n",
              "      <td>0.0</td>\n",
              "      <td>2</td>\n",
              "    </tr>\n",
              "    <tr>\n",
              "      <th>2914522</th>\n",
              "      <td>97.929.213/0001-34</td>\n",
              "      <td>2020-08-27</td>\n",
              "      <td>68599377.49</td>\n",
              "      <td>9.025518</td>\n",
              "      <td>68587813.81</td>\n",
              "      <td>0.0</td>\n",
              "      <td>0.0</td>\n",
              "      <td>2</td>\n",
              "    </tr>\n",
              "    <tr>\n",
              "      <th>2914523</th>\n",
              "      <td>97.929.213/0001-34</td>\n",
              "      <td>2020-08-28</td>\n",
              "      <td>68744083.07</td>\n",
              "      <td>9.044509</td>\n",
              "      <td>68732130.76</td>\n",
              "      <td>0.0</td>\n",
              "      <td>0.0</td>\n",
              "      <td>2</td>\n",
              "    </tr>\n",
              "    <tr>\n",
              "      <th>2914524</th>\n",
              "      <td>97.929.213/0001-34</td>\n",
              "      <td>2020-08-31</td>\n",
              "      <td>68498999.92</td>\n",
              "      <td>9.012207</td>\n",
              "      <td>68486659.95</td>\n",
              "      <td>0.0</td>\n",
              "      <td>0.0</td>\n",
              "      <td>2</td>\n",
              "    </tr>\n",
              "  </tbody>\n",
              "</table>\n",
              "</div>"
            ],
            "text/plain": [
              "                 CNPJ_FUNDO   DT_COMPTC     VL_TOTAL  VL_QUOTA  VL_PATRIM_LIQ  \\\n",
              "2914520  97.929.213/0001-34  2020-08-25  65907693.19  9.018819    68536905.75   \n",
              "2914521  97.929.213/0001-34  2020-08-26  68637458.33  9.030580    68626282.69   \n",
              "2914522  97.929.213/0001-34  2020-08-27  68599377.49  9.025518    68587813.81   \n",
              "2914523  97.929.213/0001-34  2020-08-28  68744083.07  9.044509    68732130.76   \n",
              "2914524  97.929.213/0001-34  2020-08-31  68498999.92  9.012207    68486659.95   \n",
              "\n",
              "         CAPTC_DIA  RESG_DIA  NR_COTST  \n",
              "2914520        0.0       0.0         2  \n",
              "2914521        0.0       0.0         2  \n",
              "2914522        0.0       0.0         2  \n",
              "2914523        0.0       0.0         2  \n",
              "2914524        0.0       0.0         2  "
            ]
          },
          "metadata": {
            "tags": []
          },
          "execution_count": 12
        }
      ]
    },
    {
      "cell_type": "code",
      "metadata": {
        "id": "M53uX7gG2a6C"
      },
      "source": [
        "###df1.to_csv(path+'df_diario_201701_201712.csv', sep = ',', index = False) \n",
        "### df4.to_csv(path+'df_diario_202001_202008.csv', sep = ',', index = False)"
      ],
      "execution_count": null,
      "outputs": []
    },
    {
      "cell_type": "markdown",
      "metadata": {
        "id": "6QrpPPHl2a6C"
      },
      "source": [
        "# 09/2020 a 02/2021 (parte)"
      ]
    },
    {
      "cell_type": "code",
      "metadata": {
        "id": "IyHJQoGE2a6D",
        "outputId": "cdf3402c-c38c-45a6-b949-0d645e1b5b66"
      },
      "source": [
        "df5 = pd.read_pickle(current_dir + 'df_diario_202009_202102.pkl')\n",
        "df5.head(3)"
      ],
      "execution_count": null,
      "outputs": [
        {
          "output_type": "execute_result",
          "data": {
            "text/html": [
              "<div>\n",
              "<style scoped>\n",
              "    .dataframe tbody tr th:only-of-type {\n",
              "        vertical-align: middle;\n",
              "    }\n",
              "\n",
              "    .dataframe tbody tr th {\n",
              "        vertical-align: top;\n",
              "    }\n",
              "\n",
              "    .dataframe thead th {\n",
              "        text-align: right;\n",
              "    }\n",
              "</style>\n",
              "<table border=\"1\" class=\"dataframe\">\n",
              "  <thead>\n",
              "    <tr style=\"text-align: right;\">\n",
              "      <th></th>\n",
              "      <th>CNPJ_FUNDO</th>\n",
              "      <th>DT_COMPTC</th>\n",
              "      <th>VL_TOTAL</th>\n",
              "      <th>VL_QUOTA</th>\n",
              "      <th>VL_PATRIM_LIQ</th>\n",
              "      <th>CAPTC_DIA</th>\n",
              "      <th>RESG_DIA</th>\n",
              "      <th>NR_COTST</th>\n",
              "      <th>Return</th>\n",
              "    </tr>\n",
              "  </thead>\n",
              "  <tbody>\n",
              "    <tr>\n",
              "      <th>0</th>\n",
              "      <td>00.017.024/0001-53</td>\n",
              "      <td>2020-09-01</td>\n",
              "      <td>1109980.23</td>\n",
              "      <td>27.529846</td>\n",
              "      <td>1110436.09</td>\n",
              "      <td>0.0</td>\n",
              "      <td>0.0</td>\n",
              "      <td>1</td>\n",
              "      <td>NaN</td>\n",
              "    </tr>\n",
              "    <tr>\n",
              "      <th>1</th>\n",
              "      <td>00.017.024/0001-53</td>\n",
              "      <td>2020-09-02</td>\n",
              "      <td>1110061.15</td>\n",
              "      <td>27.530474</td>\n",
              "      <td>1110461.43</td>\n",
              "      <td>0.0</td>\n",
              "      <td>0.0</td>\n",
              "      <td>1</td>\n",
              "      <td>0.002282</td>\n",
              "    </tr>\n",
              "    <tr>\n",
              "      <th>2</th>\n",
              "      <td>00.017.024/0001-53</td>\n",
              "      <td>2020-09-03</td>\n",
              "      <td>1110144.96</td>\n",
              "      <td>27.531079</td>\n",
              "      <td>1110485.83</td>\n",
              "      <td>0.0</td>\n",
              "      <td>0.0</td>\n",
              "      <td>1</td>\n",
              "      <td>0.002197</td>\n",
              "    </tr>\n",
              "  </tbody>\n",
              "</table>\n",
              "</div>"
            ],
            "text/plain": [
              "           CNPJ_FUNDO   DT_COMPTC    VL_TOTAL   VL_QUOTA  VL_PATRIM_LIQ  \\\n",
              "0  00.017.024/0001-53  2020-09-01  1109980.23  27.529846     1110436.09   \n",
              "1  00.017.024/0001-53  2020-09-02  1110061.15  27.530474     1110461.43   \n",
              "2  00.017.024/0001-53  2020-09-03  1110144.96  27.531079     1110485.83   \n",
              "\n",
              "   CAPTC_DIA  RESG_DIA  NR_COTST    Return  \n",
              "0        0.0       0.0         1       NaN  \n",
              "1        0.0       0.0         1  0.002282  \n",
              "2        0.0       0.0         1  0.002197  "
            ]
          },
          "metadata": {
            "tags": []
          },
          "execution_count": 15
        }
      ]
    },
    {
      "cell_type": "code",
      "metadata": {
        "id": "xqRanws_2a6D",
        "outputId": "ab7ba7ae-9ec7-4130-9173-2437da853bea"
      },
      "source": [
        "df5.tail(3)"
      ],
      "execution_count": null,
      "outputs": [
        {
          "output_type": "execute_result",
          "data": {
            "text/html": [
              "<div>\n",
              "<style scoped>\n",
              "    .dataframe tbody tr th:only-of-type {\n",
              "        vertical-align: middle;\n",
              "    }\n",
              "\n",
              "    .dataframe tbody tr th {\n",
              "        vertical-align: top;\n",
              "    }\n",
              "\n",
              "    .dataframe thead th {\n",
              "        text-align: right;\n",
              "    }\n",
              "</style>\n",
              "<table border=\"1\" class=\"dataframe\">\n",
              "  <thead>\n",
              "    <tr style=\"text-align: right;\">\n",
              "      <th></th>\n",
              "      <th>CNPJ_FUNDO</th>\n",
              "      <th>DT_COMPTC</th>\n",
              "      <th>VL_TOTAL</th>\n",
              "      <th>VL_QUOTA</th>\n",
              "      <th>VL_PATRIM_LIQ</th>\n",
              "      <th>CAPTC_DIA</th>\n",
              "      <th>RESG_DIA</th>\n",
              "      <th>NR_COTST</th>\n",
              "      <th>Return</th>\n",
              "    </tr>\n",
              "  </thead>\n",
              "  <tbody>\n",
              "    <tr>\n",
              "      <th>2160652</th>\n",
              "      <td>97.929.213/0001-34</td>\n",
              "      <td>2021-02-10</td>\n",
              "      <td>72470446.18</td>\n",
              "      <td>9.535098</td>\n",
              "      <td>72460275.70</td>\n",
              "      <td>0.0</td>\n",
              "      <td>0.0</td>\n",
              "      <td>2</td>\n",
              "      <td>-0.270881</td>\n",
              "    </tr>\n",
              "    <tr>\n",
              "      <th>2160653</th>\n",
              "      <td>97.929.213/0001-34</td>\n",
              "      <td>2021-02-11</td>\n",
              "      <td>72711380.86</td>\n",
              "      <td>9.566748</td>\n",
              "      <td>72700790.24</td>\n",
              "      <td>0.0</td>\n",
              "      <td>0.0</td>\n",
              "      <td>2</td>\n",
              "      <td>0.331926</td>\n",
              "    </tr>\n",
              "    <tr>\n",
              "      <th>2160654</th>\n",
              "      <td>97.929.213/0001-34</td>\n",
              "      <td>2021-02-12</td>\n",
              "      <td>72853179.33</td>\n",
              "      <td>9.585352</td>\n",
              "      <td>72842168.03</td>\n",
              "      <td>0.0</td>\n",
              "      <td>0.0</td>\n",
              "      <td>2</td>\n",
              "      <td>0.194465</td>\n",
              "    </tr>\n",
              "  </tbody>\n",
              "</table>\n",
              "</div>"
            ],
            "text/plain": [
              "                 CNPJ_FUNDO   DT_COMPTC     VL_TOTAL  VL_QUOTA  VL_PATRIM_LIQ  \\\n",
              "2160652  97.929.213/0001-34  2021-02-10  72470446.18  9.535098    72460275.70   \n",
              "2160653  97.929.213/0001-34  2021-02-11  72711380.86  9.566748    72700790.24   \n",
              "2160654  97.929.213/0001-34  2021-02-12  72853179.33  9.585352    72842168.03   \n",
              "\n",
              "         CAPTC_DIA  RESG_DIA  NR_COTST    Return  \n",
              "2160652        0.0       0.0         2 -0.270881  \n",
              "2160653        0.0       0.0         2  0.331926  \n",
              "2160654        0.0       0.0         2  0.194465  "
            ]
          },
          "metadata": {
            "tags": []
          },
          "execution_count": 16
        }
      ]
    },
    {
      "cell_type": "code",
      "metadata": {
        "id": "zVCWD9Xn2a6D",
        "outputId": "93435851-dadf-4a2c-bbb8-d88a68173b25"
      },
      "source": [
        "print(df1.shape)\n",
        "print(df2.shape)\n",
        "print(df3.shape)\n",
        "print(df4.shape)\n",
        "print(df5.shape)"
      ],
      "execution_count": null,
      "outputs": [
        {
          "output_type": "stream",
          "text": [
            "(3382186, 8)\n",
            "(3589065, 8)\n",
            "(3936018, 8)\n",
            "(2914525, 8)\n",
            "(2160655, 9)\n"
          ],
          "name": "stdout"
        }
      ]
    },
    {
      "cell_type": "markdown",
      "metadata": {
        "id": "F_bBxJav2a6E"
      },
      "source": [
        "## Vou deletar a coluna de retornos de df5 pois não existe nas outras dataframes "
      ]
    },
    {
      "cell_type": "code",
      "metadata": {
        "id": "qtR4aFAW2a6E"
      },
      "source": [
        "df5 = df5.drop('Return', axis = 1)"
      ],
      "execution_count": null,
      "outputs": []
    },
    {
      "cell_type": "code",
      "metadata": {
        "id": "NLUoAh2l2a6E",
        "outputId": "825fd51e-524c-4164-8083-8b52759c6135"
      },
      "source": [
        "df5.shape"
      ],
      "execution_count": null,
      "outputs": [
        {
          "output_type": "execute_result",
          "data": {
            "text/plain": [
              "(2160655, 8)"
            ]
          },
          "metadata": {
            "tags": []
          },
          "execution_count": 19
        }
      ]
    },
    {
      "cell_type": "code",
      "metadata": {
        "id": "IvKfcT8T2a6E"
      },
      "source": [
        "#df2 = df2.set_index('CNPJ_FUNDO') # Do not do it until you want to group by cnpj\n",
        "#df2.head(3)"
      ],
      "execution_count": null,
      "outputs": []
    },
    {
      "cell_type": "markdown",
      "metadata": {
        "id": "zDoSJIiA2a6E"
      },
      "source": [
        "# Criando dataframe com dados consolidados de 2017 a 02/2021"
      ]
    },
    {
      "cell_type": "code",
      "metadata": {
        "id": "IO40ej3I2a6F"
      },
      "source": [
        "df = pd.concat([df1, df2])"
      ],
      "execution_count": null,
      "outputs": []
    },
    {
      "cell_type": "code",
      "metadata": {
        "id": "smGrwR1v2a6F",
        "outputId": "a44dec1e-d9c9-4aa2-c883-227dd1f9307e"
      },
      "source": [
        "print(df.shape)"
      ],
      "execution_count": null,
      "outputs": [
        {
          "output_type": "stream",
          "text": [
            "(6971251, 8)\n"
          ],
          "name": "stdout"
        }
      ]
    },
    {
      "cell_type": "code",
      "metadata": {
        "id": "yzmwNdN22a6F"
      },
      "source": [
        "df.to_pickle(current_dir + 'df_diario_2017_2018.pkl')"
      ],
      "execution_count": null,
      "outputs": []
    },
    {
      "cell_type": "code",
      "metadata": {
        "id": "CXyR-Tyq2a6F",
        "outputId": "c82c003c-2308-4d8a-c4f4-d6183c807326"
      },
      "source": [
        "df = pd.concat([df, df3])   # 2017, 2018 e 2019\n",
        "print(df.shape)"
      ],
      "execution_count": null,
      "outputs": [
        {
          "output_type": "stream",
          "text": [
            "(10907269, 8)\n"
          ],
          "name": "stdout"
        }
      ]
    },
    {
      "cell_type": "code",
      "metadata": {
        "id": "kjw6r9e82a6F"
      },
      "source": [
        "df.to_pickle(current_dir + 'df_diario_2017_2019.pkl')"
      ],
      "execution_count": null,
      "outputs": []
    },
    {
      "cell_type": "code",
      "metadata": {
        "id": "a1PjGiA22a6G",
        "outputId": "c129cc77-f62c-438a-d936-7d7eeb599a3b"
      },
      "source": [
        "time_start = perf_counter()\n",
        "\n",
        "df = pd.concat([df, df4])  # 2017 a 09/2020\n",
        "\n",
        "df.to_pickle(current_dir + 'df_diario_2017_202009.pkl') \n",
        "time_end = perf_counter()\n",
        "elapsed_time = time_end - time_start\n",
        "print(' ****salvar df demorou ', round(elapsed_time,2) , ' segundos *****')"
      ],
      "execution_count": null,
      "outputs": [
        {
          "output_type": "stream",
          "text": [
            " ****salvar df demorou  24.08  segundos *****\n"
          ],
          "name": "stdout"
        }
      ]
    },
    {
      "cell_type": "code",
      "metadata": {
        "id": "DGuzoWJv2a6G",
        "outputId": "8a3e3166-a595-4d57-dfbf-b1e9b30cb5ba"
      },
      "source": [
        "print(df.shape)"
      ],
      "execution_count": null,
      "outputs": [
        {
          "output_type": "stream",
          "text": [
            "(13821794, 8)\n"
          ],
          "name": "stdout"
        }
      ]
    },
    {
      "cell_type": "code",
      "metadata": {
        "id": "2iouFUEk2a6H",
        "outputId": "efbf7ee3-5f8a-4045-99d5-ddc8259c09d0"
      },
      "source": [
        "time_start = perf_counter()\n",
        "\n",
        "df = pd.concat([df, df5])  # 2017 a 02/2021\n",
        "\n",
        "df.to_pickle(current_dir + 'df_diario_2017_202102.pkl') \n",
        "time_end = perf_counter()\n",
        "elapsed_time = time_end - time_start\n",
        "print(' ****salvar df demorou ', round(elapsed_time,2) , ' segundos *****')"
      ],
      "execution_count": null,
      "outputs": [
        {
          "output_type": "stream",
          "text": [
            " ****salvar df demorou  26.36  segundos *****\n"
          ],
          "name": "stdout"
        }
      ]
    },
    {
      "cell_type": "code",
      "metadata": {
        "id": "lOIMC4FE2a6H",
        "outputId": "19a58612-7130-43ca-fb1a-f11c38183ee9"
      },
      "source": [
        "print(df.shape)"
      ],
      "execution_count": null,
      "outputs": [
        {
          "output_type": "stream",
          "text": [
            "(15982449, 8)\n"
          ],
          "name": "stdout"
        }
      ]
    },
    {
      "cell_type": "code",
      "metadata": {
        "id": "rzvXYHWO2a6H",
        "outputId": "a1377e95-fc91-4b71-b393-c3d75caa7f01"
      },
      "source": [
        "current_dir"
      ],
      "execution_count": null,
      "outputs": [
        {
          "output_type": "execute_result",
          "data": {
            "text/plain": [
              "'/home/jovyan/work/@Fund_Eval/CVM/Diario/'"
            ]
          },
          "metadata": {
            "tags": []
          },
          "execution_count": 29
        }
      ]
    },
    {
      "cell_type": "code",
      "metadata": {
        "id": "umB_D-GS2a6I"
      },
      "source": [
        ""
      ],
      "execution_count": null,
      "outputs": []
    },
    {
      "cell_type": "code",
      "metadata": {
        "id": "ElQXQrgm2a6I"
      },
      "source": [
        ""
      ],
      "execution_count": null,
      "outputs": []
    },
    {
      "cell_type": "code",
      "metadata": {
        "id": "yYJEgGrb2a6I"
      },
      "source": [
        ""
      ],
      "execution_count": null,
      "outputs": []
    }
  ]
}