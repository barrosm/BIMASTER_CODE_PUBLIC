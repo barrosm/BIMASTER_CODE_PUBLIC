{
 "cells": [
  {
   "cell_type": "markdown",
   "metadata": {},
   "source": [
    "## Filtra fundos a partir do cadastro da CVM importado através do notebook 001_leitura_cadastro_fundos_20210219"
   ]
  },
  {
   "cell_type": "markdown",
   "metadata": {},
   "source": [
    "## Data: 19/02/2021"
   ]
  },
  {
   "cell_type": "code",
   "execution_count": 2,
   "metadata": {},
   "outputs": [],
   "source": [
    "import pandas as pd\n",
    "import matplotlib.pyplot as plt\n",
    "import numpy as np\n",
    "\n",
    "plt.style.use('fivethirtyeight')\n",
    "pd.set_option('max_colwidth', 200)  # Altera largura máxima das colunas\n",
    "pd.set_option('display.max_colwidth', None)\n",
    "\n",
    "import seaborn as sns; \n",
    "sns.set(rc={'figure.figsize':(17,6)})\n",
    "\n",
    "plt.rcParams['axes.labelsize'] = 16\n",
    "plt.rcParams['xtick.labelsize'] = 14\n",
    "plt.rcParams['ytick.labelsize'] = 14\n",
    "\n",
    "import os\n",
    "import datetime\n",
    "from dateutil.relativedelta import relativedelta\n",
    "import time\n",
    "from time import perf_counter\n",
    "\n",
    "import glob\n",
    "import pickle\n",
    "\n",
    "#!pip install openpyxl\n",
    "from openpyxl import Workbook\n",
    "\n",
    "#!pip install pytz\n",
    "import pytz\n",
    "local_tz = pytz.timezone('America/Sao_Paulo')"
   ]
  },
  {
   "cell_type": "code",
   "execution_count": 5,
   "metadata": {},
   "outputs": [],
   "source": [
    "current_dir =  '/home/jovyan/work/@Fund_Eval/CVM/Cadastro/'"
   ]
  },
  {
   "cell_type": "code",
   "execution_count": 10,
   "metadata": {},
   "outputs": [],
   "source": [
    "cadastro = pd.read_pickle(current_dir+'df_cadastro_ate_20201221.pkl')"
   ]
  },
  {
   "cell_type": "code",
   "execution_count": 12,
   "metadata": {},
   "outputs": [
    {
     "data": {
      "text/plain": [
       "(258156, 36)"
      ]
     },
     "execution_count": 12,
     "metadata": {},
     "output_type": "execute_result"
    }
   ],
   "source": [
    "cadastro.shape"
   ]
  },
  {
   "cell_type": "markdown",
   "metadata": {},
   "source": [
    "## Estatísticas descritivas sobre o cadastro dos fundos"
   ]
  },
  {
   "cell_type": "code",
   "execution_count": 15,
   "metadata": {},
   "outputs": [
    {
     "data": {
      "text/plain": [
       "Index(['CNPJ_FUNDO', 'DENOM_SOCIAL', 'DT_REG', 'DT_CONST', 'DT_CANCEL', 'SIT',\n",
       "       'DT_INI_SIT', 'DT_INI_ATIV', 'DT_INI_EXERC', 'DT_FIM_EXERC', 'CLASSE',\n",
       "       'DT_INI_CLASSE', 'RENTAB_FUNDO', 'CONDOM', 'FUNDO_COTAS',\n",
       "       'FUNDO_EXCLUSIVO', 'TRIB_LPRAZO', 'INVEST_QUALIF', 'TAXA_PERFM',\n",
       "       'VL_PATRIM_LIQ', 'DT_PATRIM_LIQ', 'DIRETOR', 'CNPJ_ADMIN', 'ADMIN',\n",
       "       'PF_PJ_GESTOR', 'CPF_CNPJ_GESTOR', 'GESTOR', 'CNPJ_AUDITOR', 'AUDITOR',\n",
       "       'INF_TAXA_PERFM', 'CNPJ_CUSTODIANTE', 'CUSTODIANTE', 'CNPJ_CONTROLADOR',\n",
       "       'CONTROLADOR', 'TAXA_ADM', 'INF_TAXA_ADM'],\n",
       "      dtype='object')"
      ]
     },
     "execution_count": 15,
     "metadata": {},
     "output_type": "execute_result"
    }
   ],
   "source": [
    "cadastro.columns\n"
   ]
  },
  {
   "cell_type": "code",
   "execution_count": 14,
   "metadata": {},
   "outputs": [
    {
     "data": {
      "text/plain": [
       "EM FUNCIONAMENTO NORMAL    125836\n",
       "CANCELADA                  123377\n",
       "FASE PRÉ-OPERACIONAL         8925\n",
       "LIQUIDAÇÃO                      8\n",
       "INCORPORAÇÃO                    1\n",
       "EM LIQUIDAÇÃO ORDINÁRIA         1\n",
       "Name: SIT, dtype: int64"
      ]
     },
     "execution_count": 14,
     "metadata": {},
     "output_type": "execute_result"
    }
   ],
   "source": [
    "cadastro.SIT.value_counts()"
   ]
  },
  {
   "cell_type": "code",
   "execution_count": 16,
   "metadata": {},
   "outputs": [
    {
     "data": {
      "text/plain": [
       "N    134186\n",
       "S    123970\n",
       "Name: FUNDO_COTAS, dtype: int64"
      ]
     },
     "execution_count": 16,
     "metadata": {},
     "output_type": "execute_result"
    }
   ],
   "source": [
    "cadastro.FUNDO_COTAS.value_counts()"
   ]
  },
  {
   "cell_type": "code",
   "execution_count": 17,
   "metadata": {},
   "outputs": [
    {
     "data": {
      "text/plain": [
       "N    203097\n",
       "S     55045\n",
       "Name: FUNDO_EXCLUSIVO, dtype: int64"
      ]
     },
     "execution_count": 17,
     "metadata": {},
     "output_type": "execute_result"
    }
   ],
   "source": [
    "cadastro.FUNDO_EXCLUSIVO.value_counts()"
   ]
  },
  {
   "cell_type": "markdown",
   "metadata": {},
   "source": [
    "## Exclui fundos que não estão em funcionamento normal e fundos Exclusivos"
   ]
  },
  {
   "cell_type": "code",
   "execution_count": 18,
   "metadata": {},
   "outputs": [],
   "source": [
    "cadastro = cadastro[(cadastro['SIT'] == 'EM FUNCIONAMENTO NORMAL') & (cadastro['FUNDO_EXCLUSIVO'] == 'N')]"
   ]
  },
  {
   "cell_type": "code",
   "execution_count": 21,
   "metadata": {},
   "outputs": [
    {
     "data": {
      "text/plain": [
       "N    50133\n",
       "S    46784\n",
       "Name: FUNDO_COTAS, dtype: int64"
      ]
     },
     "execution_count": 21,
     "metadata": {},
     "output_type": "execute_result"
    }
   ],
   "source": [
    "cadastro.FUNDO_COTAS.value_counts()"
   ]
  },
  {
   "cell_type": "code",
   "execution_count": 19,
   "metadata": {},
   "outputs": [
    {
     "data": {
      "text/plain": [
       "N    96917\n",
       "Name: FUNDO_EXCLUSIVO, dtype: int64"
      ]
     },
     "execution_count": 19,
     "metadata": {},
     "output_type": "execute_result"
    }
   ],
   "source": [
    "cadastro.FUNDO_EXCLUSIVO.value_counts()   # Saniy check!"
   ]
  },
  {
   "cell_type": "code",
   "execution_count": 20,
   "metadata": {},
   "outputs": [
    {
     "data": {
      "text/plain": [
       "S    68327\n",
       "N    28590\n",
       "Name: INVEST_QUALIF, dtype: int64"
      ]
     },
     "execution_count": 20,
     "metadata": {},
     "output_type": "execute_result"
    }
   ],
   "source": [
    "cadastro.INVEST_QUALIF.value_counts()"
   ]
  },
  {
   "cell_type": "markdown",
   "metadata": {},
   "source": [
    "## Filtra os multimercados "
   ]
  },
  {
   "cell_type": "code",
   "execution_count": 22,
   "metadata": {},
   "outputs": [],
   "source": [
    "multimerc = cadastro[cadastro['CLASSE'] == 'Fundo Multimercado']"
   ]
  },
  {
   "cell_type": "code",
   "execution_count": 23,
   "metadata": {},
   "outputs": [
    {
     "data": {
      "text/plain": [
       "S    31706\n",
       "N    30983\n",
       "Name: FUNDO_COTAS, dtype: int64"
      ]
     },
     "execution_count": 23,
     "metadata": {},
     "output_type": "execute_result"
    }
   ],
   "source": [
    "multimerc.FUNDO_COTAS.value_counts()"
   ]
  },
  {
   "cell_type": "code",
   "execution_count": 24,
   "metadata": {},
   "outputs": [
    {
     "data": {
      "text/plain": [
       "S    50568\n",
       "N    12121\n",
       "Name: INVEST_QUALIF, dtype: int64"
      ]
     },
     "execution_count": 24,
     "metadata": {},
     "output_type": "execute_result"
    }
   ],
   "source": [
    "multimerc.INVEST_QUALIF.value_counts()"
   ]
  },
  {
   "cell_type": "markdown",
   "metadata": {},
   "source": [
    "## Filtra os fundos de ações "
   ]
  },
  {
   "cell_type": "code",
   "execution_count": 25,
   "metadata": {},
   "outputs": [],
   "source": [
    "stocks = cadastro[cadastro['CLASSE'] == 'Fundo de Ações']"
   ]
  },
  {
   "cell_type": "code",
   "execution_count": 26,
   "metadata": {},
   "outputs": [
    {
     "data": {
      "text/plain": [
       "N    8737\n",
       "S    7809\n",
       "Name: FUNDO_COTAS, dtype: int64"
      ]
     },
     "execution_count": 26,
     "metadata": {},
     "output_type": "execute_result"
    }
   ],
   "source": [
    "stocks.FUNDO_COTAS.value_counts()"
   ]
  },
  {
   "cell_type": "code",
   "execution_count": 27,
   "metadata": {},
   "outputs": [
    {
     "data": {
      "text/plain": [
       "S    9788\n",
       "N    6758\n",
       "Name: INVEST_QUALIF, dtype: int64"
      ]
     },
     "execution_count": 27,
     "metadata": {},
     "output_type": "execute_result"
    }
   ],
   "source": [
    "stocks.INVEST_QUALIF.value_counts()"
   ]
  },
  {
   "cell_type": "markdown",
   "metadata": {},
   "source": [
    "## Filtra os fundos cambiais"
   ]
  },
  {
   "cell_type": "code",
   "execution_count": 28,
   "metadata": {},
   "outputs": [],
   "source": [
    "cambial = cadastro[cadastro['CLASSE'] == 'Fundo Cambial']"
   ]
  },
  {
   "cell_type": "code",
   "execution_count": 29,
   "metadata": {},
   "outputs": [
    {
     "data": {
      "text/plain": [
       "N    208\n",
       "S    208\n",
       "Name: FUNDO_COTAS, dtype: int64"
      ]
     },
     "execution_count": 29,
     "metadata": {},
     "output_type": "execute_result"
    }
   ],
   "source": [
    "cambial.FUNDO_COTAS.value_counts()"
   ]
  },
  {
   "cell_type": "code",
   "execution_count": 30,
   "metadata": {},
   "outputs": [
    {
     "data": {
      "text/plain": [
       "N    345\n",
       "S     71\n",
       "Name: INVEST_QUALIF, dtype: int64"
      ]
     },
     "execution_count": 30,
     "metadata": {},
     "output_type": "execute_result"
    }
   ],
   "source": [
    "cambial.INVEST_QUALIF.value_counts()"
   ]
  },
  {
   "cell_type": "markdown",
   "metadata": {},
   "source": [
    "## Salva em csv e em pkl"
   ]
  },
  {
   "cell_type": "code",
   "execution_count": 31,
   "metadata": {},
   "outputs": [
    {
     "data": {
      "text/plain": [
       "'/home/jovyan/work/@Fund_Eval/CVM/Cadastro/'"
      ]
     },
     "execution_count": 31,
     "metadata": {},
     "output_type": "execute_result"
    }
   ],
   "source": [
    "current_dir"
   ]
  },
  {
   "cell_type": "code",
   "execution_count": 32,
   "metadata": {},
   "outputs": [
    {
     "name": "stdout",
     "output_type": "stream",
     "text": [
      " ****salvar cadastros FILTRADOS demorou  34.06  segundos *****\n"
     ]
    }
   ],
   "source": [
    "time_start = perf_counter()\n",
    "\n",
    "cadastro.to_pickle(current_dir + 'cadastro_fundos_ready_to_go_20210219.pkl') \n",
    "cadastro.to_csv(current_dir + 'cadastro_fundos_ready_to_go_20210219.csv',sep = ';' ,encoding='utf-8') \n",
    "\n",
    "time_end = perf_counter()\n",
    "elapsed_time = time_end - time_start\n",
    "print(' ****salvar cadastros FILTRADOS demorou ', round(elapsed_time,2) , ' segundos *****')"
   ]
  },
  {
   "cell_type": "code",
   "execution_count": 33,
   "metadata": {},
   "outputs": [
    {
     "name": "stdout",
     "output_type": "stream",
     "text": [
      " ****salvar cadastros FILTRADOS demorou  18.79  segundos *****\n"
     ]
    }
   ],
   "source": [
    "time_start = perf_counter()\n",
    "\n",
    "\n",
    "multimerc.to_pickle(current_dir + 'cadastro_fundos_multimercado_ready_to_go_20210219.pkl') \n",
    "multimerc.to_csv(current_dir + 'cadastro_fundos_multimercado_ready_to_go_20210219.csv',sep = ';' ,encoding='utf-8') \n",
    "\n",
    "time_end = perf_counter()\n",
    "elapsed_time = time_end - time_start\n",
    "print(' ****salvar cadastros FILTRADOS demorou ', round(elapsed_time,2) , ' segundos *****')"
   ]
  },
  {
   "cell_type": "code",
   "execution_count": null,
   "metadata": {},
   "outputs": [],
   "source": [
    "time_start = perf_counter()\n",
    "\n",
    "stocks.to_pickle(current_dir + 'cadastro_fundos_acoes_ready_to_go_20210219.pkl') \n",
    "stocks.to_csv(current_dir + 'cadastro_fundos_acoes_ready_to_go_20210219.csv',sep = ';' ,encoding='utf-8') \n",
    "\n",
    "time_end = perf_counter()\n",
    "elapsed_time = time_end - time_start\n",
    "print(' ****salvar cadastros FILTRADOS demorou ', round(elapsed_time,2) , ' segundos *****')"
   ]
  },
  {
   "cell_type": "code",
   "execution_count": null,
   "metadata": {},
   "outputs": [],
   "source": [
    "time_start = perf_counter()\n",
    "\n",
    "\n",
    "cambial.to_pickle(current_dir + 'cadastro_fundos_cambiais_ready_to_go_20210219.pkl') \n",
    "cambial.to_csv(current_dir + 'cadastro_fundos_cambiais_ready_to_go_20210219.csv',sep = ';' ,encoding='utf-8') \n",
    "\n",
    "time_end = perf_counter()\n",
    "elapsed_time = time_end - time_start\n",
    "print(' ****salvar cadastros FILTRADOS demorou ', round(elapsed_time,2) , ' segundos *****')"
   ]
  },
  {
   "cell_type": "code",
   "execution_count": null,
   "metadata": {},
   "outputs": [],
   "source": []
  },
  {
   "cell_type": "code",
   "execution_count": null,
   "metadata": {},
   "outputs": [],
   "source": []
  },
  {
   "cell_type": "code",
   "execution_count": null,
   "metadata": {},
   "outputs": [],
   "source": []
  }
 ],
 "metadata": {
  "kernelspec": {
   "display_name": "Python 3",
   "language": "python",
   "name": "python3"
  },
  "language_info": {
   "codemirror_mode": {
    "name": "ipython",
    "version": 3
   },
   "file_extension": ".py",
   "mimetype": "text/x-python",
   "name": "python",
   "nbconvert_exporter": "python",
   "pygments_lexer": "ipython3",
   "version": "3.8.6"
  }
 },
 "nbformat": 4,
 "nbformat_minor": 4
}
